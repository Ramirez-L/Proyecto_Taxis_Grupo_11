{
 "cells": [
  {
   "cell_type": "code",
   "execution_count": 1,
   "metadata": {},
   "outputs": [],
   "source": [
    "# pip install pyowm\n",
    "from pyowm import OWM\n",
    "from pyowm.utils import config\n",
    "from pyowm.utils import timestamps\n",
    "from datetime import datetime, timedelta, timezone\n",
    "import pytz\n",
    "import pandas as pd\n",
    "\n",
    "API_KEY=\"4abf61c7e1edec294994f251711b2a92\""
   ]
  },
  {
   "cell_type": "code",
   "execution_count": 4,
   "metadata": {},
   "outputs": [
    {
     "data": {
      "text/plain": [
       "{'reference_time': 1657205603,\n",
       " 'sunset_time': 1657240184,\n",
       " 'sunrise_time': 1657186289,\n",
       " 'clouds': 0,\n",
       " 'rain': {},\n",
       " 'snow': {},\n",
       " 'wind': {'speed': 4.12, 'deg': 30},\n",
       " 'humidity': 66,\n",
       " 'pressure': {'press': 1016, 'sea_level': None},\n",
       " 'temperature': {'temp': 298.17,\n",
       "  'temp_kf': None,\n",
       "  'temp_max': 300.57,\n",
       "  'temp_min': 295.82,\n",
       "  'feels_like': 298.45},\n",
       " 'status': 'Clear',\n",
       " 'detailed_status': 'clear sky',\n",
       " 'weather_code': 800,\n",
       " 'weather_icon_name': '01d',\n",
       " 'visibility_distance': 10000,\n",
       " 'dewpoint': None,\n",
       " 'humidex': None,\n",
       " 'heat_index': None,\n",
       " 'utc_offset': -14400,\n",
       " 'uvi': None,\n",
       " 'precipitation_probability': None}"
      ]
     },
     "execution_count": 4,
     "metadata": {},
     "output_type": "execute_result"
    }
   ],
   "source": [
    "owm = OWM(API_KEY)\n",
    "mgr = owm.weather_manager()\n",
    "\n",
    "\n",
    "# Search for current weather in London (Great Britain) and get details\n",
    "observation = mgr.weather_at_coords(lat=40.776676,lon=-73.971321)\n",
    "w = observation.weather\n",
    "\n",
    "# w.temperature('celsius') \n",
    "w.to_dict()\n"
   ]
  },
  {
   "cell_type": "code",
   "execution_count": 47,
   "metadata": {},
   "outputs": [
    {
     "data": {
      "text/plain": [
       "{'reference_time': 1657214697,\n",
       " 'sunset_time': 1657222179,\n",
       " 'sunrise_time': 1657162346,\n",
       " 'clouds': 75,\n",
       " 'rain': {'1h': 4.21},\n",
       " 'snow': {},\n",
       " 'wind': {'speed': 4.12, 'deg': 280},\n",
       " 'humidity': 87,\n",
       " 'pressure': {'press': 1007, 'sea_level': None},\n",
       " 'temperature': {'temp': 291.34, 'feels_like': 291.49},\n",
       " 'status': 'Rain',\n",
       " 'detailed_status': 'heavy intensity rain',\n",
       " 'weather_code': 502,\n",
       " 'weather_icon_name': '10d',\n",
       " 'visibility_distance': 10000,\n",
       " 'dewpoint': 289.14,\n",
       " 'humidex': None,\n",
       " 'heat_index': None,\n",
       " 'utc_offset': None,\n",
       " 'uvi': 0.47,\n",
       " 'precipitation_probability': None}"
      ]
     },
     "execution_count": 47,
     "metadata": {},
     "output_type": "execute_result"
    }
   ],
   "source": [
    "mgr = owm.weather_manager()\n",
    "\n",
    "especifict_time = int(datetime(2018, 12, 1, 12).replace(tzinfo=pytz.timezone(\"US/Eastern\")).timestamp())\n",
    "\n",
    "one_call_especifict_time = mgr.one_call(lat=52.5244, lon=13.4105, dt=especifict_time)\n",
    "one_call_especifict_time.current.to_dict()\n"
   ]
  },
  {
   "cell_type": "code",
   "execution_count": 46,
   "metadata": {},
   "outputs": [
    {
     "data": {
      "text/plain": [
       "<pyowm.weatherapi25.one_call.OneCall - lat=52.5244, lon=13.4105, retrieval_time=1657143884>"
      ]
     },
     "execution_count": 46,
     "metadata": {},
     "output_type": "execute_result"
    }
   ],
   "source": [
    "one_call_especifict_time"
   ]
  },
  {
   "cell_type": "code",
   "execution_count": 5,
   "metadata": {},
   "outputs": [
    {
     "data": {
      "text/plain": [
       "1656958020"
      ]
     },
     "execution_count": 5,
     "metadata": {},
     "output_type": "execute_result"
    }
   ],
   "source": [
    "especifict_time"
   ]
  },
  {
   "cell_type": "markdown",
   "metadata": {},
   "source": [
    "- Manhattan, New York City, NY, USA (40.776676, -73.971321)\n",
    "- Brooklyn, New York City, NY, USA (40.650002, -73.949997)\n",
    "- Bronx, New York City, NY, USA (40.837048, -73.865433)\n",
    "- Queens, New York City, NY, USA (40.742054, -73.769417)\n",
    "- Staten Island, New York City, NY, USA (40.579021, -74.151535)"
   ]
  },
  {
   "cell_type": "code",
   "execution_count": 6,
   "metadata": {},
   "outputs": [],
   "source": [
    "coords={\n",
    "    \"lat\":{\n",
    "        \"EWR\":40.6895314,\n",
    "        \"Manhattan\":40.776676,\n",
    "        \"Brooklyn\":40.650002,\n",
    "        \"Bronx\":40.837048,\n",
    "        \"Queens\":40.742054,\n",
    "        \"Staten Island\":40.579021,\n",
    "    },\n",
    "    \"lon\":{\n",
    "        \"EWR\": -74.17446239999998,\n",
    "        \"Manhattan\":-73.971321,\n",
    "        \"Brooklyn\": -73.949997,\n",
    "        \"Bronx\":-73.865433,\n",
    "        \"Queens\":-73.769417,\n",
    "        \"Staten Island\":-74.151535,\n",
    "    }\n",
    "    \n",
    "}"
   ]
  },
  {
   "cell_type": "code",
   "execution_count": 7,
   "metadata": {},
   "outputs": [],
   "source": [
    "data=pd.read_parquet(\"../Data/yellow_tripdata_2018-01.parquet\")"
   ]
  },
  {
   "cell_type": "code",
   "execution_count": 8,
   "metadata": {},
   "outputs": [],
   "source": [
    "taxi_zone = pd.read_csv('../taxi+_zone_lookup.csv')\n",
    "data_zone = data.merge(taxi_zone, left_on='PULocationID', right_on='LocationID')\n",
    "data_zone.drop(['LocationID','service_zone'], axis=1, inplace=True)\n",
    "data_zone.rename(columns={\"Borough\": \"PUBorough\", \"Zone\": \"PUZone\"}, inplace=True)"
   ]
  },
  {
   "cell_type": "code",
   "execution_count": 9,
   "metadata": {},
   "outputs": [],
   "source": [
    "data_zone[\"PULat\"]=data_zone[\"PUBorough\"].map(coords[\"lat\"])\n",
    "data_zone[\"PULon\"]=data_zone[\"PUBorough\"].map(coords[\"lon\"])\n",
    "\n"
   ]
  },
  {
   "cell_type": "code",
   "execution_count": 10,
   "metadata": {},
   "outputs": [
    {
     "data": {
      "text/html": [
       "<div>\n",
       "<style scoped>\n",
       "    .dataframe tbody tr th:only-of-type {\n",
       "        vertical-align: middle;\n",
       "    }\n",
       "\n",
       "    .dataframe tbody tr th {\n",
       "        vertical-align: top;\n",
       "    }\n",
       "\n",
       "    .dataframe thead th {\n",
       "        text-align: right;\n",
       "    }\n",
       "</style>\n",
       "<table border=\"1\" class=\"dataframe\">\n",
       "  <thead>\n",
       "    <tr style=\"text-align: right;\">\n",
       "      <th></th>\n",
       "      <th>VendorID</th>\n",
       "      <th>tpep_pickup_datetime</th>\n",
       "      <th>tpep_dropoff_datetime</th>\n",
       "      <th>passenger_count</th>\n",
       "      <th>trip_distance</th>\n",
       "      <th>RatecodeID</th>\n",
       "      <th>store_and_fwd_flag</th>\n",
       "      <th>PULocationID</th>\n",
       "      <th>DOLocationID</th>\n",
       "      <th>payment_type</th>\n",
       "      <th>...</th>\n",
       "      <th>tip_amount</th>\n",
       "      <th>tolls_amount</th>\n",
       "      <th>improvement_surcharge</th>\n",
       "      <th>total_amount</th>\n",
       "      <th>congestion_surcharge</th>\n",
       "      <th>airport_fee</th>\n",
       "      <th>PUBorough</th>\n",
       "      <th>PUZone</th>\n",
       "      <th>PULat</th>\n",
       "      <th>PULon</th>\n",
       "    </tr>\n",
       "  </thead>\n",
       "  <tbody>\n",
       "    <tr>\n",
       "      <th>0</th>\n",
       "      <td>1</td>\n",
       "      <td>2018-01-01 00:21:05</td>\n",
       "      <td>2018-01-01 00:24:23</td>\n",
       "      <td>1</td>\n",
       "      <td>0.50</td>\n",
       "      <td>1</td>\n",
       "      <td>N</td>\n",
       "      <td>41</td>\n",
       "      <td>24</td>\n",
       "      <td>2</td>\n",
       "      <td>...</td>\n",
       "      <td>0.00</td>\n",
       "      <td>0.00</td>\n",
       "      <td>0.3</td>\n",
       "      <td>5.80</td>\n",
       "      <td>NaN</td>\n",
       "      <td>NaN</td>\n",
       "      <td>Manhattan</td>\n",
       "      <td>Central Harlem</td>\n",
       "      <td>40.776676</td>\n",
       "      <td>-73.971321</td>\n",
       "    </tr>\n",
       "    <tr>\n",
       "      <th>1</th>\n",
       "      <td>2</td>\n",
       "      <td>2018-01-01 00:49:32</td>\n",
       "      <td>2018-01-01 00:59:52</td>\n",
       "      <td>1</td>\n",
       "      <td>1.36</td>\n",
       "      <td>1</td>\n",
       "      <td>N</td>\n",
       "      <td>41</td>\n",
       "      <td>74</td>\n",
       "      <td>2</td>\n",
       "      <td>...</td>\n",
       "      <td>0.00</td>\n",
       "      <td>0.00</td>\n",
       "      <td>0.3</td>\n",
       "      <td>9.80</td>\n",
       "      <td>NaN</td>\n",
       "      <td>NaN</td>\n",
       "      <td>Manhattan</td>\n",
       "      <td>Central Harlem</td>\n",
       "      <td>40.776676</td>\n",
       "      <td>-73.971321</td>\n",
       "    </tr>\n",
       "    <tr>\n",
       "      <th>2</th>\n",
       "      <td>1</td>\n",
       "      <td>2018-01-01 00:11:56</td>\n",
       "      <td>2018-01-01 00:14:35</td>\n",
       "      <td>2</td>\n",
       "      <td>0.30</td>\n",
       "      <td>1</td>\n",
       "      <td>N</td>\n",
       "      <td>41</td>\n",
       "      <td>41</td>\n",
       "      <td>2</td>\n",
       "      <td>...</td>\n",
       "      <td>0.00</td>\n",
       "      <td>0.00</td>\n",
       "      <td>0.3</td>\n",
       "      <td>5.30</td>\n",
       "      <td>NaN</td>\n",
       "      <td>NaN</td>\n",
       "      <td>Manhattan</td>\n",
       "      <td>Central Harlem</td>\n",
       "      <td>40.776676</td>\n",
       "      <td>-73.971321</td>\n",
       "    </tr>\n",
       "    <tr>\n",
       "      <th>3</th>\n",
       "      <td>1</td>\n",
       "      <td>2018-01-01 00:58:32</td>\n",
       "      <td>2018-01-01 01:43:45</td>\n",
       "      <td>1</td>\n",
       "      <td>14.10</td>\n",
       "      <td>1</td>\n",
       "      <td>N</td>\n",
       "      <td>41</td>\n",
       "      <td>112</td>\n",
       "      <td>1</td>\n",
       "      <td>...</td>\n",
       "      <td>12.10</td>\n",
       "      <td>5.76</td>\n",
       "      <td>0.3</td>\n",
       "      <td>60.66</td>\n",
       "      <td>NaN</td>\n",
       "      <td>NaN</td>\n",
       "      <td>Manhattan</td>\n",
       "      <td>Central Harlem</td>\n",
       "      <td>40.776676</td>\n",
       "      <td>-73.971321</td>\n",
       "    </tr>\n",
       "    <tr>\n",
       "      <th>4</th>\n",
       "      <td>2</td>\n",
       "      <td>2018-01-01 00:14:09</td>\n",
       "      <td>2018-01-01 00:44:06</td>\n",
       "      <td>1</td>\n",
       "      <td>8.77</td>\n",
       "      <td>1</td>\n",
       "      <td>N</td>\n",
       "      <td>41</td>\n",
       "      <td>223</td>\n",
       "      <td>1</td>\n",
       "      <td>...</td>\n",
       "      <td>6.06</td>\n",
       "      <td>0.00</td>\n",
       "      <td>0.3</td>\n",
       "      <td>36.36</td>\n",
       "      <td>NaN</td>\n",
       "      <td>NaN</td>\n",
       "      <td>Manhattan</td>\n",
       "      <td>Central Harlem</td>\n",
       "      <td>40.776676</td>\n",
       "      <td>-73.971321</td>\n",
       "    </tr>\n",
       "  </tbody>\n",
       "</table>\n",
       "<p>5 rows × 23 columns</p>\n",
       "</div>"
      ],
      "text/plain": [
       "   VendorID tpep_pickup_datetime tpep_dropoff_datetime  passenger_count  \\\n",
       "0         1  2018-01-01 00:21:05   2018-01-01 00:24:23                1   \n",
       "1         2  2018-01-01 00:49:32   2018-01-01 00:59:52                1   \n",
       "2         1  2018-01-01 00:11:56   2018-01-01 00:14:35                2   \n",
       "3         1  2018-01-01 00:58:32   2018-01-01 01:43:45                1   \n",
       "4         2  2018-01-01 00:14:09   2018-01-01 00:44:06                1   \n",
       "\n",
       "   trip_distance  RatecodeID store_and_fwd_flag  PULocationID  DOLocationID  \\\n",
       "0           0.50           1                  N            41            24   \n",
       "1           1.36           1                  N            41            74   \n",
       "2           0.30           1                  N            41            41   \n",
       "3          14.10           1                  N            41           112   \n",
       "4           8.77           1                  N            41           223   \n",
       "\n",
       "   payment_type  ...  tip_amount  tolls_amount  improvement_surcharge  \\\n",
       "0             2  ...        0.00          0.00                    0.3   \n",
       "1             2  ...        0.00          0.00                    0.3   \n",
       "2             2  ...        0.00          0.00                    0.3   \n",
       "3             1  ...       12.10          5.76                    0.3   \n",
       "4             1  ...        6.06          0.00                    0.3   \n",
       "\n",
       "   total_amount  congestion_surcharge  airport_fee  PUBorough          PUZone  \\\n",
       "0          5.80                   NaN          NaN  Manhattan  Central Harlem   \n",
       "1          9.80                   NaN          NaN  Manhattan  Central Harlem   \n",
       "2          5.30                   NaN          NaN  Manhattan  Central Harlem   \n",
       "3         60.66                   NaN          NaN  Manhattan  Central Harlem   \n",
       "4         36.36                   NaN          NaN  Manhattan  Central Harlem   \n",
       "\n",
       "       PULat      PULon  \n",
       "0  40.776676 -73.971321  \n",
       "1  40.776676 -73.971321  \n",
       "2  40.776676 -73.971321  \n",
       "3  40.776676 -73.971321  \n",
       "4  40.776676 -73.971321  \n",
       "\n",
       "[5 rows x 23 columns]"
      ]
     },
     "execution_count": 10,
     "metadata": {},
     "output_type": "execute_result"
    }
   ],
   "source": [
    "# data_zone_withoutNaNLatLon=data_zone[data_zone[[\"PULat\"]].notna()]\n",
    "data_zone_withoutNaNLatLon=data_zone.dropna(subset=['PULat'])\n",
    "data_zone_withoutNaNLatLon.head()"
   ]
  },
  {
   "cell_type": "code",
   "execution_count": 38,
   "metadata": {},
   "outputs": [
    {
     "data": {
      "text/html": [
       "<div>\n",
       "<style scoped>\n",
       "    .dataframe tbody tr th:only-of-type {\n",
       "        vertical-align: middle;\n",
       "    }\n",
       "\n",
       "    .dataframe tbody tr th {\n",
       "        vertical-align: top;\n",
       "    }\n",
       "\n",
       "    .dataframe thead th {\n",
       "        text-align: right;\n",
       "    }\n",
       "</style>\n",
       "<table border=\"1\" class=\"dataframe\">\n",
       "  <thead>\n",
       "    <tr style=\"text-align: right;\">\n",
       "      <th></th>\n",
       "      <th>PULat</th>\n",
       "      <th>PULon</th>\n",
       "      <th>tpep_pickup_datetime</th>\n",
       "    </tr>\n",
       "  </thead>\n",
       "  <tbody>\n",
       "    <tr>\n",
       "      <th>0</th>\n",
       "      <td>40.776676</td>\n",
       "      <td>-73.971321</td>\n",
       "      <td>2018-01-01 00:21:05</td>\n",
       "    </tr>\n",
       "    <tr>\n",
       "      <th>1</th>\n",
       "      <td>40.776676</td>\n",
       "      <td>-73.971321</td>\n",
       "      <td>2018-01-01 00:49:32</td>\n",
       "    </tr>\n",
       "    <tr>\n",
       "      <th>2</th>\n",
       "      <td>40.776676</td>\n",
       "      <td>-73.971321</td>\n",
       "      <td>2018-01-01 00:11:56</td>\n",
       "    </tr>\n",
       "    <tr>\n",
       "      <th>3</th>\n",
       "      <td>40.776676</td>\n",
       "      <td>-73.971321</td>\n",
       "      <td>2018-01-01 00:58:32</td>\n",
       "    </tr>\n",
       "    <tr>\n",
       "      <th>4</th>\n",
       "      <td>40.776676</td>\n",
       "      <td>-73.971321</td>\n",
       "      <td>2018-01-01 00:14:09</td>\n",
       "    </tr>\n",
       "    <tr>\n",
       "      <th>5</th>\n",
       "      <td>40.776676</td>\n",
       "      <td>-73.971321</td>\n",
       "      <td>2018-01-01 00:32:15</td>\n",
       "    </tr>\n",
       "  </tbody>\n",
       "</table>\n",
       "</div>"
      ],
      "text/plain": [
       "       PULat      PULon tpep_pickup_datetime\n",
       "0  40.776676 -73.971321  2018-01-01 00:21:05\n",
       "1  40.776676 -73.971321  2018-01-01 00:49:32\n",
       "2  40.776676 -73.971321  2018-01-01 00:11:56\n",
       "3  40.776676 -73.971321  2018-01-01 00:58:32\n",
       "4  40.776676 -73.971321  2018-01-01 00:14:09\n",
       "5  40.776676 -73.971321  2018-01-01 00:32:15"
      ]
     },
     "execution_count": 38,
     "metadata": {},
     "output_type": "execute_result"
    }
   ],
   "source": [
    "data_zone_withoutNaNLatLon.loc[0:5,[\"PULat\",\"PULon\",\"tpep_pickup_datetime\"]]"
   ]
  },
  {
   "cell_type": "code",
   "execution_count": 35,
   "metadata": {},
   "outputs": [
    {
     "data": {
      "text/plain": [
       "0      Clouds\n",
       "1      Clouds\n",
       "2      Clouds\n",
       "3      Clouds\n",
       "4      Clouds\n",
       "        ...  \n",
       "96     Clouds\n",
       "97     Clouds\n",
       "98     Clouds\n",
       "99     Clouds\n",
       "100    Clouds\n",
       "Length: 101, dtype: object"
      ]
     },
     "execution_count": 35,
     "metadata": {},
     "output_type": "execute_result"
    }
   ],
   "source": [
    "# weather=mgr.one_call_history(lat=data_zone_withoutNaNLatLon[\"PULat\"],lon=data_zone_withoutNaNLatLon[\"PULon\"],dt=data_zone_withoutNaNLatLon[\"tpep_pickup_datetime\"].astype('int64')// 10**9)\n",
    "\n",
    "data_zone_withoutNaNLatLon.loc[0:100,[\"PULat\",\"PULon\",\"tpep_pickup_datetime\"]].apply(lambda x: mgr.one_call(lat=x[\"PULat\"],lon=x[\"PULon\"],dt=int(x[\"tpep_pickup_datetime\"].timestamp())).current.status, axis=1)\n"
   ]
  },
  {
   "cell_type": "code",
   "execution_count": null,
   "metadata": {},
   "outputs": [],
   "source": []
  },
  {
   "cell_type": "code",
   "execution_count": 87,
   "metadata": {},
   "outputs": [
    {
     "data": {
      "text/plain": [
       "array(['2018-01-01T00:21:05.000000000', '2018-01-01T00:49:32.000000000',\n",
       "       '2018-01-01T00:11:56.000000000', ...,\n",
       "       '2018-01-07T04:41:08.000000000', '2018-01-06T03:50:28.000000000',\n",
       "       '2018-01-15T05:44:01.000000000'], dtype='datetime64[ns]')"
      ]
     },
     "execution_count": 87,
     "metadata": {},
     "output_type": "execute_result"
    }
   ],
   "source": [
    "data_zone[\"tpep_pickup_datetime\"].unique()\n",
    "# .astype('int64')// 10**9"
   ]
  },
  {
   "cell_type": "code",
   "execution_count": 108,
   "metadata": {},
   "outputs": [
    {
     "ename": "UnknownTimeZoneError",
     "evalue": "'US/Manhattan'",
     "output_type": "error",
     "traceback": [
      "\u001b[1;31m---------------------------------------------------------------------------\u001b[0m",
      "\u001b[1;31mUnknownTimeZoneError\u001b[0m                      Traceback (most recent call last)",
      "\u001b[1;32mc:\\Users\\walter\\pyprojects\\DataScientis\\Proyecto_Taxis_Grupo_11\\Exploracion\\weather.ipynb Cell 16'\u001b[0m in \u001b[0;36m<cell line: 6>\u001b[1;34m()\u001b[0m\n\u001b[0;32m      <a href='vscode-notebook-cell:/c%3A/Users/walter/pyprojects/DataScientis/Proyecto_Taxis_Grupo_11/Exploracion/weather.ipynb#ch0000019?line=0'>1</a>\u001b[0m mgr \u001b[39m=\u001b[39m owm\u001b[39m.\u001b[39mweather_manager()\n\u001b[0;32m      <a href='vscode-notebook-cell:/c%3A/Users/walter/pyprojects/DataScientis/Proyecto_Taxis_Grupo_11/Exploracion/weather.ipynb#ch0000019?line=2'>3</a>\u001b[0m \u001b[39m# what is the epoch for 3 days ago at this time?\u001b[39;00m\n\u001b[0;32m      <a href='vscode-notebook-cell:/c%3A/Users/walter/pyprojects/DataScientis/Proyecto_Taxis_Grupo_11/Exploracion/weather.ipynb#ch0000019?line=3'>4</a>\u001b[0m \u001b[39m# three_days_ago_epoch = int((datetime.now() - timedelta(days=3)).replace(tzinfo=timezone.utc).timestamp())\u001b[39;00m\n\u001b[1;32m----> <a href='vscode-notebook-cell:/c%3A/Users/walter/pyprojects/DataScientis/Proyecto_Taxis_Grupo_11/Exploracion/weather.ipynb#ch0000019?line=5'>6</a>\u001b[0m especifict_time \u001b[39m=\u001b[39m \u001b[39mint\u001b[39m(datetime(\u001b[39m2020\u001b[39m,\u001b[39m12\u001b[39m,\u001b[39m8\u001b[39m)\u001b[39m.\u001b[39mreplace(tzinfo\u001b[39m=\u001b[39mpytz\u001b[39m.\u001b[39;49mtimezone(\u001b[39m\"\u001b[39;49m\u001b[39mUS/Manhattan\u001b[39;49m\u001b[39m\"\u001b[39;49m))\u001b[39m.\u001b[39mtimestamp())\n\u001b[0;32m      <a href='vscode-notebook-cell:/c%3A/Users/walter/pyprojects/DataScientis/Proyecto_Taxis_Grupo_11/Exploracion/weather.ipynb#ch0000019?line=7'>8</a>\u001b[0m one_call_especifict_time \u001b[39m=\u001b[39m mgr\u001b[39m.\u001b[39mone_call(lat\u001b[39m=\u001b[39m\u001b[39m52.5244\u001b[39m, lon\u001b[39m=\u001b[39m\u001b[39m13.4105\u001b[39m, dt\u001b[39m=\u001b[39mespecifict_time)\n\u001b[0;32m      <a href='vscode-notebook-cell:/c%3A/Users/walter/pyprojects/DataScientis/Proyecto_Taxis_Grupo_11/Exploracion/weather.ipynb#ch0000019?line=8'>9</a>\u001b[0m one_call_especifict_time\u001b[39m.\u001b[39mcurrent\u001b[39m.\u001b[39mdetailed_status\n",
      "File \u001b[1;32mc:\\Users\\walter\\AppData\\Local\\Programs\\Python\\Python310\\lib\\site-packages\\pytz\\__init__.py:188\u001b[0m, in \u001b[0;36mtimezone\u001b[1;34m(zone)\u001b[0m\n\u001b[0;32m    186\u001b[0m             fp\u001b[39m.\u001b[39mclose()\n\u001b[0;32m    187\u001b[0m     \u001b[39melse\u001b[39;00m:\n\u001b[1;32m--> 188\u001b[0m         \u001b[39mraise\u001b[39;00m UnknownTimeZoneError(zone)\n\u001b[0;32m    190\u001b[0m \u001b[39mreturn\u001b[39;00m _tzinfo_cache[zone]\n",
      "\u001b[1;31mUnknownTimeZoneError\u001b[0m: 'US/Manhattan'"
     ]
    }
   ],
   "source": [
    "mgr = owm.weather_manager()\n",
    "\n",
    "# what is the epoch for 3 days ago at this time?\n",
    "# three_days_ago_epoch = int((datetime.now() - timedelta(days=3)).replace(tzinfo=timezone.utc).timestamp())\n",
    "\n",
    "especifict_time = int(datetime(2020,12,8).replace(tzinfo=pytz.timezone(\"US/Manhattan\")).timestamp())\n",
    "\n",
    "one_call_especifict_time = mgr.one_call(lat=52.5244, lon=13.4105, dt=especifict_time)\n",
    "one_call_especifict_time.current.detailed_status"
   ]
  },
  {
   "cell_type": "code",
   "execution_count": 20,
   "metadata": {},
   "outputs": [
    {
     "data": {
      "text/plain": [
       "[datetime.datetime(2018, 1, 1, 0, 0),\n",
       " datetime.datetime(2018, 1, 1, 1, 0),\n",
       " datetime.datetime(2018, 1, 1, 2, 0),\n",
       " datetime.datetime(2018, 1, 1, 3, 0),\n",
       " datetime.datetime(2018, 1, 1, 4, 0),\n",
       " datetime.datetime(2018, 1, 1, 5, 0),\n",
       " datetime.datetime(2018, 1, 1, 6, 0),\n",
       " datetime.datetime(2018, 1, 1, 7, 0),\n",
       " datetime.datetime(2018, 1, 1, 8, 0),\n",
       " datetime.datetime(2018, 1, 1, 9, 0),\n",
       " datetime.datetime(2018, 1, 1, 10, 0),\n",
       " datetime.datetime(2018, 1, 1, 11, 0),\n",
       " datetime.datetime(2018, 1, 1, 12, 0),\n",
       " datetime.datetime(2018, 1, 1, 13, 0),\n",
       " datetime.datetime(2018, 1, 1, 14, 0),\n",
       " datetime.datetime(2018, 1, 1, 15, 0),\n",
       " datetime.datetime(2018, 1, 1, 16, 0),\n",
       " datetime.datetime(2018, 1, 1, 17, 0),\n",
       " datetime.datetime(2018, 1, 1, 18, 0),\n",
       " datetime.datetime(2018, 1, 1, 19, 0),\n",
       " datetime.datetime(2018, 1, 1, 20, 0),\n",
       " datetime.datetime(2018, 1, 1, 21, 0),\n",
       " datetime.datetime(2018, 1, 1, 22, 0),\n",
       " datetime.datetime(2018, 1, 1, 23, 0),\n",
       " datetime.datetime(2018, 1, 2, 0, 0)]"
      ]
     },
     "execution_count": 20,
     "metadata": {},
     "output_type": "execute_result"
    }
   ],
   "source": [
    "from datetime import datetime, timedelta\n",
    "\n",
    "def date_range(start, end):\n",
    "    delta = end - start  # as timedelta\n",
    "    days = [start + timedelta(hours=i) for i in range(delta.days*24 + 1)]\n",
    "    return days\n",
    "\n",
    "start_date = datetime(2018, 1, 1)\n",
    "end_date = datetime(2018, 1, 2,)\n",
    "    \n",
    "dates=date_range(start_date, end_date)\n",
    "dates"
   ]
  },
  {
   "cell_type": "code",
   "execution_count": 28,
   "metadata": {},
   "outputs": [
    {
     "data": {
      "text/plain": [
       "<pyowm.weatherapi25.one_call.OneCall - lat=52.5244, lon=13.4105, retrieval_time=1657217710>"
      ]
     },
     "execution_count": 28,
     "metadata": {},
     "output_type": "execute_result"
    }
   ],
   "source": [
    "owm = OWM(API_KEY)\n",
    "mgr = owm.weather_manager()\n",
    "mgr.one_call(lat=52.5244, lon=13.4105, dt=1543690560)\n",
    "\n"
   ]
  },
  {
   "cell_type": "code",
   "execution_count": 14,
   "metadata": {},
   "outputs": [
    {
     "data": {
      "text/plain": [
       "{'reference_time': 1657216658,\n",
       " 'sunset_time': 1657222179,\n",
       " 'sunrise_time': 1657162346,\n",
       " 'clouds': 75,\n",
       " 'rain': {'1h': 1.32},\n",
       " 'snow': {},\n",
       " 'wind': {'speed': 4.92, 'deg': 268, 'gust': 6.71},\n",
       " 'humidity': 89,\n",
       " 'pressure': {'press': 1007, 'sea_level': None},\n",
       " 'temperature': {'temp': 290.5, 'feels_like': 290.61},\n",
       " 'status': 'Rain',\n",
       " 'detailed_status': 'moderate rain',\n",
       " 'weather_code': 501,\n",
       " 'weather_icon_name': '10d',\n",
       " 'visibility_distance': 10000,\n",
       " 'dewpoint': 288.67,\n",
       " 'humidex': None,\n",
       " 'heat_index': None,\n",
       " 'utc_offset': None,\n",
       " 'uvi': 0.13,\n",
       " 'precipitation_probability': None}"
      ]
     },
     "execution_count": 14,
     "metadata": {},
     "output_type": "execute_result"
    }
   ],
   "source": [
    "owm = OWM(API_KEY)\n",
    "mgr = owm.weather_manager()\n",
    "mgr.one_call(lat=52.5244, lon=13.4105, dt=1543672560).current.to_dict()"
   ]
  },
  {
   "cell_type": "code",
   "execution_count": 21,
   "metadata": {},
   "outputs": [
    {
     "name": "stdout",
     "output_type": "stream",
     "text": [
      "{'reference_time': 1657217315, 'sunset_time': 1657222179, 'sunrise_time': 1657162346, 'clouds': 75, 'rain': {'1h': 3.84}, 'snow': {}, 'wind': {'speed': 4.63, 'deg': 270}, 'humidity': 89, 'pressure': {'press': 1007, 'sea_level': None}, 'temperature': {'temp': 290.42, 'feels_like': 290.53}, 'status': 'Rain', 'detailed_status': 'light intensity shower rain', 'weather_code': 520, 'weather_icon_name': '09d', 'visibility_distance': 10000, 'dewpoint': 288.59, 'humidex': None, 'heat_index': None, 'utc_offset': None, 'uvi': 0.13, 'precipitation_probability': None}\n",
      "{'reference_time': 1657217315, 'sunset_time': 1657222179, 'sunrise_time': 1657162346, 'clouds': 75, 'rain': {'1h': 3.84}, 'snow': {}, 'wind': {'speed': 4.63, 'deg': 270}, 'humidity': 89, 'pressure': {'press': 1007, 'sea_level': None}, 'temperature': {'temp': 290.42, 'feels_like': 290.53}, 'status': 'Rain', 'detailed_status': 'light intensity shower rain', 'weather_code': 520, 'weather_icon_name': '09d', 'visibility_distance': 10000, 'dewpoint': 288.59, 'humidex': None, 'heat_index': None, 'utc_offset': None, 'uvi': 0.13, 'precipitation_probability': None}\n",
      "{'reference_time': 1657217315, 'sunset_time': 1657222179, 'sunrise_time': 1657162346, 'clouds': 75, 'rain': {'1h': 3.84}, 'snow': {}, 'wind': {'speed': 4.63, 'deg': 270}, 'humidity': 89, 'pressure': {'press': 1007, 'sea_level': None}, 'temperature': {'temp': 290.42, 'feels_like': 290.53}, 'status': 'Rain', 'detailed_status': 'light intensity shower rain', 'weather_code': 520, 'weather_icon_name': '09d', 'visibility_distance': 10000, 'dewpoint': 288.59, 'humidex': None, 'heat_index': None, 'utc_offset': None, 'uvi': 0.13, 'precipitation_probability': None}\n",
      "{'reference_time': 1657217315, 'sunset_time': 1657222179, 'sunrise_time': 1657162346, 'clouds': 75, 'rain': {'1h': 3.84}, 'snow': {}, 'wind': {'speed': 4.63, 'deg': 270}, 'humidity': 89, 'pressure': {'press': 1007, 'sea_level': None}, 'temperature': {'temp': 290.42, 'feels_like': 290.53}, 'status': 'Rain', 'detailed_status': 'light intensity shower rain', 'weather_code': 520, 'weather_icon_name': '09d', 'visibility_distance': 10000, 'dewpoint': 288.59, 'humidex': None, 'heat_index': None, 'utc_offset': None, 'uvi': 0.13, 'precipitation_probability': None}\n",
      "{'reference_time': 1657217315, 'sunset_time': 1657222179, 'sunrise_time': 1657162346, 'clouds': 75, 'rain': {'1h': 3.84}, 'snow': {}, 'wind': {'speed': 4.63, 'deg': 270}, 'humidity': 89, 'pressure': {'press': 1007, 'sea_level': None}, 'temperature': {'temp': 290.42, 'feels_like': 290.53}, 'status': 'Rain', 'detailed_status': 'light intensity shower rain', 'weather_code': 520, 'weather_icon_name': '09d', 'visibility_distance': 10000, 'dewpoint': 288.59, 'humidex': None, 'heat_index': None, 'utc_offset': None, 'uvi': 0.13, 'precipitation_probability': None}\n",
      "{'reference_time': 1657217315, 'sunset_time': 1657222179, 'sunrise_time': 1657162346, 'clouds': 75, 'rain': {'1h': 3.84}, 'snow': {}, 'wind': {'speed': 4.63, 'deg': 270}, 'humidity': 89, 'pressure': {'press': 1007, 'sea_level': None}, 'temperature': {'temp': 290.42, 'feels_like': 290.53}, 'status': 'Rain', 'detailed_status': 'light intensity shower rain', 'weather_code': 520, 'weather_icon_name': '09d', 'visibility_distance': 10000, 'dewpoint': 288.59, 'humidex': None, 'heat_index': None, 'utc_offset': None, 'uvi': 0.13, 'precipitation_probability': None}\n",
      "{'reference_time': 1657217315, 'sunset_time': 1657222179, 'sunrise_time': 1657162346, 'clouds': 75, 'rain': {'1h': 3.84}, 'snow': {}, 'wind': {'speed': 4.63, 'deg': 270}, 'humidity': 89, 'pressure': {'press': 1007, 'sea_level': None}, 'temperature': {'temp': 290.42, 'feels_like': 290.53}, 'status': 'Rain', 'detailed_status': 'light intensity shower rain', 'weather_code': 520, 'weather_icon_name': '09d', 'visibility_distance': 10000, 'dewpoint': 288.59, 'humidex': None, 'heat_index': None, 'utc_offset': None, 'uvi': 0.13, 'precipitation_probability': None}\n",
      "{'reference_time': 1657217315, 'sunset_time': 1657222179, 'sunrise_time': 1657162346, 'clouds': 75, 'rain': {'1h': 3.84}, 'snow': {}, 'wind': {'speed': 4.63, 'deg': 270}, 'humidity': 89, 'pressure': {'press': 1007, 'sea_level': None}, 'temperature': {'temp': 290.42, 'feels_like': 290.53}, 'status': 'Rain', 'detailed_status': 'light intensity shower rain', 'weather_code': 520, 'weather_icon_name': '09d', 'visibility_distance': 10000, 'dewpoint': 288.59, 'humidex': None, 'heat_index': None, 'utc_offset': None, 'uvi': 0.13, 'precipitation_probability': None}\n",
      "{'reference_time': 1657217315, 'sunset_time': 1657222179, 'sunrise_time': 1657162346, 'clouds': 75, 'rain': {'1h': 3.84}, 'snow': {}, 'wind': {'speed': 4.63, 'deg': 270}, 'humidity': 89, 'pressure': {'press': 1007, 'sea_level': None}, 'temperature': {'temp': 290.42, 'feels_like': 290.53}, 'status': 'Rain', 'detailed_status': 'light intensity shower rain', 'weather_code': 520, 'weather_icon_name': '09d', 'visibility_distance': 10000, 'dewpoint': 288.59, 'humidex': None, 'heat_index': None, 'utc_offset': None, 'uvi': 0.13, 'precipitation_probability': None}\n",
      "{'reference_time': 1657217315, 'sunset_time': 1657222179, 'sunrise_time': 1657162346, 'clouds': 75, 'rain': {'1h': 3.84}, 'snow': {}, 'wind': {'speed': 4.63, 'deg': 270}, 'humidity': 89, 'pressure': {'press': 1007, 'sea_level': None}, 'temperature': {'temp': 290.42, 'feels_like': 290.53}, 'status': 'Rain', 'detailed_status': 'light intensity shower rain', 'weather_code': 520, 'weather_icon_name': '09d', 'visibility_distance': 10000, 'dewpoint': 288.59, 'humidex': None, 'heat_index': None, 'utc_offset': None, 'uvi': 0.13, 'precipitation_probability': None}\n",
      "{'reference_time': 1657217315, 'sunset_time': 1657222179, 'sunrise_time': 1657162346, 'clouds': 75, 'rain': {'1h': 3.84}, 'snow': {}, 'wind': {'speed': 4.63, 'deg': 270}, 'humidity': 89, 'pressure': {'press': 1007, 'sea_level': None}, 'temperature': {'temp': 290.42, 'feels_like': 290.53}, 'status': 'Rain', 'detailed_status': 'light intensity shower rain', 'weather_code': 520, 'weather_icon_name': '09d', 'visibility_distance': 10000, 'dewpoint': 288.59, 'humidex': None, 'heat_index': None, 'utc_offset': None, 'uvi': 0.13, 'precipitation_probability': None}\n",
      "{'reference_time': 1657217315, 'sunset_time': 1657222179, 'sunrise_time': 1657162346, 'clouds': 75, 'rain': {'1h': 3.84}, 'snow': {}, 'wind': {'speed': 4.63, 'deg': 270}, 'humidity': 89, 'pressure': {'press': 1007, 'sea_level': None}, 'temperature': {'temp': 290.42, 'feels_like': 290.53}, 'status': 'Rain', 'detailed_status': 'light intensity shower rain', 'weather_code': 520, 'weather_icon_name': '09d', 'visibility_distance': 10000, 'dewpoint': 288.59, 'humidex': None, 'heat_index': None, 'utc_offset': None, 'uvi': 0.13, 'precipitation_probability': None}\n",
      "{'reference_time': 1657217376, 'sunset_time': 1657222179, 'sunrise_time': 1657162346, 'clouds': 75, 'rain': {'1h': 4.21}, 'snow': {}, 'wind': {'speed': 4.63, 'deg': 270}, 'humidity': 89, 'pressure': {'press': 1007, 'sea_level': None}, 'temperature': {'temp': 290.42, 'feels_like': 290.53}, 'status': 'Rain', 'detailed_status': 'light intensity shower rain', 'weather_code': 520, 'weather_icon_name': '09d', 'visibility_distance': 10000, 'dewpoint': 288.59, 'humidex': None, 'heat_index': None, 'utc_offset': None, 'uvi': 0.13, 'precipitation_probability': None}\n",
      "{'reference_time': 1657217376, 'sunset_time': 1657222179, 'sunrise_time': 1657162346, 'clouds': 75, 'rain': {'1h': 4.21}, 'snow': {}, 'wind': {'speed': 4.63, 'deg': 270}, 'humidity': 89, 'pressure': {'press': 1007, 'sea_level': None}, 'temperature': {'temp': 290.42, 'feels_like': 290.53}, 'status': 'Rain', 'detailed_status': 'light intensity shower rain', 'weather_code': 520, 'weather_icon_name': '09d', 'visibility_distance': 10000, 'dewpoint': 288.59, 'humidex': None, 'heat_index': None, 'utc_offset': None, 'uvi': 0.13, 'precipitation_probability': None}\n",
      "{'reference_time': 1657217376, 'sunset_time': 1657222179, 'sunrise_time': 1657162346, 'clouds': 75, 'rain': {'1h': 4.21}, 'snow': {}, 'wind': {'speed': 4.63, 'deg': 270}, 'humidity': 89, 'pressure': {'press': 1007, 'sea_level': None}, 'temperature': {'temp': 290.42, 'feels_like': 290.53}, 'status': 'Rain', 'detailed_status': 'light intensity shower rain', 'weather_code': 520, 'weather_icon_name': '09d', 'visibility_distance': 10000, 'dewpoint': 288.59, 'humidex': None, 'heat_index': None, 'utc_offset': None, 'uvi': 0.13, 'precipitation_probability': None}\n",
      "{'reference_time': 1657217376, 'sunset_time': 1657222179, 'sunrise_time': 1657162346, 'clouds': 75, 'rain': {'1h': 4.21}, 'snow': {}, 'wind': {'speed': 4.63, 'deg': 270}, 'humidity': 89, 'pressure': {'press': 1007, 'sea_level': None}, 'temperature': {'temp': 290.42, 'feels_like': 290.53}, 'status': 'Rain', 'detailed_status': 'light intensity shower rain', 'weather_code': 520, 'weather_icon_name': '09d', 'visibility_distance': 10000, 'dewpoint': 288.59, 'humidex': None, 'heat_index': None, 'utc_offset': None, 'uvi': 0.13, 'precipitation_probability': None}\n",
      "{'reference_time': 1657217376, 'sunset_time': 1657222179, 'sunrise_time': 1657162346, 'clouds': 75, 'rain': {'1h': 4.21}, 'snow': {}, 'wind': {'speed': 4.63, 'deg': 270}, 'humidity': 89, 'pressure': {'press': 1007, 'sea_level': None}, 'temperature': {'temp': 290.42, 'feels_like': 290.53}, 'status': 'Rain', 'detailed_status': 'light intensity shower rain', 'weather_code': 520, 'weather_icon_name': '09d', 'visibility_distance': 10000, 'dewpoint': 288.59, 'humidex': None, 'heat_index': None, 'utc_offset': None, 'uvi': 0.13, 'precipitation_probability': None}\n",
      "{'reference_time': 1657217376, 'sunset_time': 1657222179, 'sunrise_time': 1657162346, 'clouds': 75, 'rain': {'1h': 4.21}, 'snow': {}, 'wind': {'speed': 4.63, 'deg': 270}, 'humidity': 89, 'pressure': {'press': 1007, 'sea_level': None}, 'temperature': {'temp': 290.42, 'feels_like': 290.53}, 'status': 'Rain', 'detailed_status': 'light intensity shower rain', 'weather_code': 520, 'weather_icon_name': '09d', 'visibility_distance': 10000, 'dewpoint': 288.59, 'humidex': None, 'heat_index': None, 'utc_offset': None, 'uvi': 0.13, 'precipitation_probability': None}\n",
      "{'reference_time': 1657217376, 'sunset_time': 1657222179, 'sunrise_time': 1657162346, 'clouds': 75, 'rain': {'1h': 4.21}, 'snow': {}, 'wind': {'speed': 4.63, 'deg': 270}, 'humidity': 89, 'pressure': {'press': 1007, 'sea_level': None}, 'temperature': {'temp': 290.42, 'feels_like': 290.53}, 'status': 'Rain', 'detailed_status': 'light intensity shower rain', 'weather_code': 520, 'weather_icon_name': '09d', 'visibility_distance': 10000, 'dewpoint': 288.59, 'humidex': None, 'heat_index': None, 'utc_offset': None, 'uvi': 0.13, 'precipitation_probability': None}\n",
      "{'reference_time': 1657217376, 'sunset_time': 1657222179, 'sunrise_time': 1657162346, 'clouds': 75, 'rain': {'1h': 4.21}, 'snow': {}, 'wind': {'speed': 4.63, 'deg': 270}, 'humidity': 89, 'pressure': {'press': 1007, 'sea_level': None}, 'temperature': {'temp': 290.42, 'feels_like': 290.53}, 'status': 'Rain', 'detailed_status': 'light intensity shower rain', 'weather_code': 520, 'weather_icon_name': '09d', 'visibility_distance': 10000, 'dewpoint': 288.59, 'humidex': None, 'heat_index': None, 'utc_offset': None, 'uvi': 0.13, 'precipitation_probability': None}\n",
      "{'reference_time': 1657217376, 'sunset_time': 1657222179, 'sunrise_time': 1657162346, 'clouds': 75, 'rain': {'1h': 4.21}, 'snow': {}, 'wind': {'speed': 4.63, 'deg': 270}, 'humidity': 89, 'pressure': {'press': 1007, 'sea_level': None}, 'temperature': {'temp': 290.42, 'feels_like': 290.53}, 'status': 'Rain', 'detailed_status': 'light intensity shower rain', 'weather_code': 520, 'weather_icon_name': '09d', 'visibility_distance': 10000, 'dewpoint': 288.59, 'humidex': None, 'heat_index': None, 'utc_offset': None, 'uvi': 0.13, 'precipitation_probability': None}\n",
      "{'reference_time': 1657217376, 'sunset_time': 1657222179, 'sunrise_time': 1657162346, 'clouds': 75, 'rain': {'1h': 4.21}, 'snow': {}, 'wind': {'speed': 4.63, 'deg': 270}, 'humidity': 89, 'pressure': {'press': 1007, 'sea_level': None}, 'temperature': {'temp': 290.42, 'feels_like': 290.53}, 'status': 'Rain', 'detailed_status': 'light intensity shower rain', 'weather_code': 520, 'weather_icon_name': '09d', 'visibility_distance': 10000, 'dewpoint': 288.59, 'humidex': None, 'heat_index': None, 'utc_offset': None, 'uvi': 0.13, 'precipitation_probability': None}\n",
      "{'reference_time': 1657217376, 'sunset_time': 1657222179, 'sunrise_time': 1657162346, 'clouds': 75, 'rain': {'1h': 4.21}, 'snow': {}, 'wind': {'speed': 4.63, 'deg': 270}, 'humidity': 89, 'pressure': {'press': 1007, 'sea_level': None}, 'temperature': {'temp': 290.42, 'feels_like': 290.53}, 'status': 'Rain', 'detailed_status': 'light intensity shower rain', 'weather_code': 520, 'weather_icon_name': '09d', 'visibility_distance': 10000, 'dewpoint': 288.59, 'humidex': None, 'heat_index': None, 'utc_offset': None, 'uvi': 0.13, 'precipitation_probability': None}\n",
      "{'reference_time': 1657217376, 'sunset_time': 1657222179, 'sunrise_time': 1657162346, 'clouds': 75, 'rain': {'1h': 4.21}, 'snow': {}, 'wind': {'speed': 4.63, 'deg': 270}, 'humidity': 89, 'pressure': {'press': 1007, 'sea_level': None}, 'temperature': {'temp': 290.42, 'feels_like': 290.53}, 'status': 'Rain', 'detailed_status': 'light intensity shower rain', 'weather_code': 520, 'weather_icon_name': '09d', 'visibility_distance': 10000, 'dewpoint': 288.59, 'humidex': None, 'heat_index': None, 'utc_offset': None, 'uvi': 0.13, 'precipitation_probability': None}\n",
      "{'reference_time': 1657217376, 'sunset_time': 1657222179, 'sunrise_time': 1657162346, 'clouds': 75, 'rain': {'1h': 4.21}, 'snow': {}, 'wind': {'speed': 4.63, 'deg': 270}, 'humidity': 89, 'pressure': {'press': 1007, 'sea_level': None}, 'temperature': {'temp': 290.42, 'feels_like': 290.53}, 'status': 'Rain', 'detailed_status': 'light intensity shower rain', 'weather_code': 520, 'weather_icon_name': '09d', 'visibility_distance': 10000, 'dewpoint': 288.59, 'humidex': None, 'heat_index': None, 'utc_offset': None, 'uvi': 0.13, 'precipitation_probability': None}\n"
     ]
    }
   ],
   "source": [
    "weathers_Manhattan=[]\n",
    "for time in dates:\n",
    "\n",
    "    especifict_time = int(time.replace(tzinfo=pytz.timezone(\"US/Eastern\")).timestamp())\n",
    "    # # (40.776676, -73.971321)\n",
    "    # print(especifict_time)\n",
    "    # print(mgr.one_call(lat=52.5244, lon=13.4105, dt=especifict_time).current.to_dict())\n",
    "    one_call_especifict_time = mgr.one_call(lat=52.5244, lon=13.4105, dt=especifict_time)\n",
    "    print(one_call_especifict_time.current.to_dict())\n",
    "    # weathers_Manhattan.append(one_call_especifict_time.current.to_dict())"
   ]
  },
  {
   "cell_type": "code",
   "execution_count": 120,
   "metadata": {},
   "outputs": [
    {
     "data": {
      "text/plain": [
       "array(['broken clouds'], dtype=object)"
      ]
     },
     "execution_count": 120,
     "metadata": {},
     "output_type": "execute_result"
    }
   ],
   "source": [
    "pd.Series(weathers_Manhattan).unique()"
   ]
  },
  {
   "cell_type": "code",
   "execution_count": 51,
   "metadata": {},
   "outputs": [
    {
     "name": "stdout",
     "output_type": "stream",
     "text": [
      "1657214697\n",
      "1657214697\n",
      "1657214697\n",
      "1657214697\n",
      "1657214697\n",
      "1657214697\n",
      "1657214697\n",
      "1657214697\n",
      "1657214697\n",
      "1657214697\n",
      "1657214697\n",
      "1657214697\n",
      "1657214697\n",
      "1657214697\n",
      "1657214697\n",
      "1657214697\n",
      "1657214697\n",
      "1657214697\n",
      "1657214697\n",
      "1657214697\n",
      "1657214697\n",
      "1657214697\n",
      "1657214697\n",
      "1657214697\n",
      "1657214697\n"
     ]
    }
   ],
   "source": [
    "for wM in weathers_Manhattan:\n",
    "    print(wM[\"reference_time\"])"
   ]
  }
 ],
 "metadata": {
  "kernelspec": {
   "display_name": "Python 3.10.4 64-bit",
   "language": "python",
   "name": "python3"
  },
  "language_info": {
   "codemirror_mode": {
    "name": "ipython",
    "version": 3
   },
   "file_extension": ".py",
   "mimetype": "text/x-python",
   "name": "python",
   "nbconvert_exporter": "python",
   "pygments_lexer": "ipython3",
   "version": "3.10.4"
  },
  "orig_nbformat": 4,
  "vscode": {
   "interpreter": {
    "hash": "a9197545587db729f46378aaf4ee08b8f3f9d0165c4ababe51457b0741d18c07"
   }
  }
 },
 "nbformat": 4,
 "nbformat_minor": 2
}
