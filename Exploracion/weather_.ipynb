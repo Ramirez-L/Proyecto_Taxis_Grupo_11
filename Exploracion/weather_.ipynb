{
 "cells": [
  {
   "cell_type": "code",
   "execution_count": 42,
   "metadata": {},
   "outputs": [],
   "source": [
    "# pip install pyowm\n",
    "from pyowm import OWM\n",
    "from pyowm.utils import config\n",
    "from pyowm.utils import timestamps\n",
    "from datetime import datetime, timedelta, timezone\n",
    "\n",
    "API_KEY=\"4abf61c7e1edec294994f251711b2a92\""
   ]
  },
  {
   "cell_type": "code",
   "execution_count": 40,
   "metadata": {},
   "outputs": [
    {
     "data": {
      "text/plain": [
       "{'reference_time': 1657048341,\n",
       " 'sunset_time': 1657067415,\n",
       " 'sunrise_time': 1657013436,\n",
       " 'clouds': 0,\n",
       " 'rain': {},\n",
       " 'snow': {},\n",
       " 'wind': {'speed': 9.26, 'deg': 170},\n",
       " 'humidity': 55,\n",
       " 'pressure': {'press': 1014, 'sea_level': None},\n",
       " 'temperature': {'temp': 300.69,\n",
       "  'temp_kf': None,\n",
       "  'temp_max': 304.13,\n",
       "  'temp_min': 297.01,\n",
       "  'feels_like': 301.5},\n",
       " 'status': 'Clear',\n",
       " 'detailed_status': 'clear sky',\n",
       " 'weather_code': 800,\n",
       " 'weather_icon_name': '01d',\n",
       " 'visibility_distance': 10000,\n",
       " 'dewpoint': None,\n",
       " 'humidex': None,\n",
       " 'heat_index': None,\n",
       " 'utc_offset': -14400,\n",
       " 'uvi': None,\n",
       " 'precipitation_probability': None}"
      ]
     },
     "execution_count": 40,
     "metadata": {},
     "output_type": "execute_result"
    }
   ],
   "source": [
    "owm = OWM(API_KEY)\n",
    "mgr = owm.weather_manager()\n",
    "\n",
    "\n",
    "# Search for current weather in London (Great Britain) and get details\n",
    "observation = mgr.weather_at_place('New York')\n",
    "w = observation.weather\n",
    "\n",
    "# w.temperature('celsius') \n",
    "w.to_dict()\n"
   ]
  },
  {
   "cell_type": "code",
   "execution_count": 68,
   "metadata": {},
   "outputs": [
    {
     "data": {
      "text/plain": [
       "{'reference_time': 1657065600,\n",
       " 'sunset_time': 1657135816,\n",
       " 'sunrise_time': 1657075890,\n",
       " 'clouds': 0,\n",
       " 'rain': {},\n",
       " 'snow': {},\n",
       " 'wind': {'speed': 4.47, 'deg': 360, 'gust': 4.92},\n",
       " 'humidity': 57,\n",
       " 'pressure': {'press': 1009, 'sea_level': None},\n",
       " 'temperature': {'temp': 291.04, 'feels_like': 290.37},\n",
       " 'status': 'Clear',\n",
       " 'detailed_status': 'clear sky',\n",
       " 'weather_code': 800,\n",
       " 'weather_icon_name': '01n',\n",
       " 'visibility_distance': 10000,\n",
       " 'dewpoint': 282.41,\n",
       " 'humidex': None,\n",
       " 'heat_index': None,\n",
       " 'utc_offset': None,\n",
       " 'uvi': 0,\n",
       " 'precipitation_probability': None}"
      ]
     },
     "execution_count": 68,
     "metadata": {},
     "output_type": "execute_result"
    }
   ],
   "source": [
    "mgr = owm.weather_manager()\n",
    "\n",
    "# what is the epoch for 3 days ago at this time?\n",
    "three_days_ago_epoch = int((datetime.now() - timedelta(days=3)).replace(tzinfo=timezone.utc).timestamp())\n",
    "\n",
    "especifict_time = int(datetime(2022,7,6).replace(tzinfo=timezone.utc).timestamp())\n",
    "one_call_especifict_time = mgr.one_call_history(lat=52.5244, lon=13.4105, dt=especifict_time)\n",
    "\n",
    "list_of_forecasted_weathers = one_call_especifict_time.current\n",
    "list_of_forecasted_weathers.to_dict()"
   ]
  }
 ],
 "metadata": {
  "kernelspec": {
   "display_name": "Python 3.10.4 64-bit",
   "language": "python",
   "name": "python3"
  },
  "language_info": {
   "codemirror_mode": {
    "name": "ipython",
    "version": 3
   },
   "file_extension": ".py",
   "mimetype": "text/x-python",
   "name": "python",
   "nbconvert_exporter": "python",
   "pygments_lexer": "ipython3",
   "version": "3.10.4"
  },
  "orig_nbformat": 4,
  "vscode": {
   "interpreter": {
    "hash": "a9197545587db729f46378aaf4ee08b8f3f9d0165c4ababe51457b0741d18c07"
   }
  }
 },
 "nbformat": 4,
 "nbformat_minor": 2
}
