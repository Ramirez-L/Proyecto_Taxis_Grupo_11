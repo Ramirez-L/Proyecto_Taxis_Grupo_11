{
 "cells": [
  {
   "cell_type": "code",
   "execution_count": 223,
   "metadata": {},
   "outputs": [],
   "source": [
    "import pandas as pd\n",
    "import numpy as np\n",
    "from datetime import timedelta\n",
    "import seaborn as sns\n",
    "import matplotlib.pyplot as plt\n",
    "from datetime import timedelta\n",
    "import plotly.express as px\n",
    "sns.set()"
   ]
  },
  {
   "cell_type": "code",
   "execution_count": 224,
   "metadata": {},
   "outputs": [
    {
     "data": {
      "text/html": [
       "<div>\n",
       "<style scoped>\n",
       "    .dataframe tbody tr th:only-of-type {\n",
       "        vertical-align: middle;\n",
       "    }\n",
       "\n",
       "    .dataframe tbody tr th {\n",
       "        vertical-align: top;\n",
       "    }\n",
       "\n",
       "    .dataframe thead th {\n",
       "        text-align: right;\n",
       "    }\n",
       "</style>\n",
       "<table border=\"1\" class=\"dataframe\">\n",
       "  <thead>\n",
       "    <tr style=\"text-align: right;\">\n",
       "      <th></th>\n",
       "      <th>VendorID</th>\n",
       "      <th>tpep_pickup_datetime</th>\n",
       "      <th>tpep_dropoff_datetime</th>\n",
       "      <th>passenger_count</th>\n",
       "      <th>trip_distance</th>\n",
       "      <th>RatecodeID</th>\n",
       "      <th>store_and_fwd_flag</th>\n",
       "      <th>PULocationID</th>\n",
       "      <th>DOLocationID</th>\n",
       "      <th>payment_type</th>\n",
       "      <th>fare_amount</th>\n",
       "      <th>extra</th>\n",
       "      <th>mta_tax</th>\n",
       "      <th>tip_amount</th>\n",
       "      <th>tolls_amount</th>\n",
       "      <th>improvement_surcharge</th>\n",
       "      <th>total_amount</th>\n",
       "      <th>congestion_surcharge</th>\n",
       "      <th>airport_fee</th>\n",
       "    </tr>\n",
       "  </thead>\n",
       "  <tbody>\n",
       "    <tr>\n",
       "      <th>0</th>\n",
       "      <td>1</td>\n",
       "      <td>2018-01-01 00:21:05</td>\n",
       "      <td>2018-01-01 00:24:23</td>\n",
       "      <td>1</td>\n",
       "      <td>0.50</td>\n",
       "      <td>1</td>\n",
       "      <td>N</td>\n",
       "      <td>41</td>\n",
       "      <td>24</td>\n",
       "      <td>2</td>\n",
       "      <td>4.5</td>\n",
       "      <td>0.5</td>\n",
       "      <td>0.5</td>\n",
       "      <td>0.00</td>\n",
       "      <td>0.0</td>\n",
       "      <td>0.3</td>\n",
       "      <td>5.80</td>\n",
       "      <td>NaN</td>\n",
       "      <td>NaN</td>\n",
       "    </tr>\n",
       "    <tr>\n",
       "      <th>1</th>\n",
       "      <td>1</td>\n",
       "      <td>2018-01-01 00:44:55</td>\n",
       "      <td>2018-01-01 01:03:05</td>\n",
       "      <td>1</td>\n",
       "      <td>2.70</td>\n",
       "      <td>1</td>\n",
       "      <td>N</td>\n",
       "      <td>239</td>\n",
       "      <td>140</td>\n",
       "      <td>2</td>\n",
       "      <td>14.0</td>\n",
       "      <td>0.5</td>\n",
       "      <td>0.5</td>\n",
       "      <td>0.00</td>\n",
       "      <td>0.0</td>\n",
       "      <td>0.3</td>\n",
       "      <td>15.30</td>\n",
       "      <td>NaN</td>\n",
       "      <td>NaN</td>\n",
       "    </tr>\n",
       "    <tr>\n",
       "      <th>2</th>\n",
       "      <td>1</td>\n",
       "      <td>2018-01-01 00:08:26</td>\n",
       "      <td>2018-01-01 00:14:21</td>\n",
       "      <td>2</td>\n",
       "      <td>0.80</td>\n",
       "      <td>1</td>\n",
       "      <td>N</td>\n",
       "      <td>262</td>\n",
       "      <td>141</td>\n",
       "      <td>1</td>\n",
       "      <td>6.0</td>\n",
       "      <td>0.5</td>\n",
       "      <td>0.5</td>\n",
       "      <td>1.00</td>\n",
       "      <td>0.0</td>\n",
       "      <td>0.3</td>\n",
       "      <td>8.30</td>\n",
       "      <td>NaN</td>\n",
       "      <td>NaN</td>\n",
       "    </tr>\n",
       "    <tr>\n",
       "      <th>3</th>\n",
       "      <td>1</td>\n",
       "      <td>2018-01-01 00:20:22</td>\n",
       "      <td>2018-01-01 00:52:51</td>\n",
       "      <td>1</td>\n",
       "      <td>10.20</td>\n",
       "      <td>1</td>\n",
       "      <td>N</td>\n",
       "      <td>140</td>\n",
       "      <td>257</td>\n",
       "      <td>2</td>\n",
       "      <td>33.5</td>\n",
       "      <td>0.5</td>\n",
       "      <td>0.5</td>\n",
       "      <td>0.00</td>\n",
       "      <td>0.0</td>\n",
       "      <td>0.3</td>\n",
       "      <td>34.80</td>\n",
       "      <td>NaN</td>\n",
       "      <td>NaN</td>\n",
       "    </tr>\n",
       "    <tr>\n",
       "      <th>4</th>\n",
       "      <td>1</td>\n",
       "      <td>2018-01-01 00:09:18</td>\n",
       "      <td>2018-01-01 00:27:06</td>\n",
       "      <td>2</td>\n",
       "      <td>2.50</td>\n",
       "      <td>1</td>\n",
       "      <td>N</td>\n",
       "      <td>246</td>\n",
       "      <td>239</td>\n",
       "      <td>1</td>\n",
       "      <td>12.5</td>\n",
       "      <td>0.5</td>\n",
       "      <td>0.5</td>\n",
       "      <td>2.75</td>\n",
       "      <td>0.0</td>\n",
       "      <td>0.3</td>\n",
       "      <td>16.55</td>\n",
       "      <td>NaN</td>\n",
       "      <td>NaN</td>\n",
       "    </tr>\n",
       "    <tr>\n",
       "      <th>...</th>\n",
       "      <td>...</td>\n",
       "      <td>...</td>\n",
       "      <td>...</td>\n",
       "      <td>...</td>\n",
       "      <td>...</td>\n",
       "      <td>...</td>\n",
       "      <td>...</td>\n",
       "      <td>...</td>\n",
       "      <td>...</td>\n",
       "      <td>...</td>\n",
       "      <td>...</td>\n",
       "      <td>...</td>\n",
       "      <td>...</td>\n",
       "      <td>...</td>\n",
       "      <td>...</td>\n",
       "      <td>...</td>\n",
       "      <td>...</td>\n",
       "      <td>...</td>\n",
       "      <td>...</td>\n",
       "    </tr>\n",
       "    <tr>\n",
       "      <th>8760682</th>\n",
       "      <td>1</td>\n",
       "      <td>2018-01-31 23:21:35</td>\n",
       "      <td>2018-01-31 23:34:20</td>\n",
       "      <td>2</td>\n",
       "      <td>2.80</td>\n",
       "      <td>1</td>\n",
       "      <td>N</td>\n",
       "      <td>158</td>\n",
       "      <td>163</td>\n",
       "      <td>1</td>\n",
       "      <td>12.0</td>\n",
       "      <td>0.5</td>\n",
       "      <td>0.5</td>\n",
       "      <td>2.65</td>\n",
       "      <td>0.0</td>\n",
       "      <td>0.3</td>\n",
       "      <td>15.95</td>\n",
       "      <td>NaN</td>\n",
       "      <td>NaN</td>\n",
       "    </tr>\n",
       "    <tr>\n",
       "      <th>8760683</th>\n",
       "      <td>1</td>\n",
       "      <td>2018-01-31 23:35:51</td>\n",
       "      <td>2018-01-31 23:38:57</td>\n",
       "      <td>1</td>\n",
       "      <td>0.60</td>\n",
       "      <td>1</td>\n",
       "      <td>N</td>\n",
       "      <td>163</td>\n",
       "      <td>162</td>\n",
       "      <td>1</td>\n",
       "      <td>4.5</td>\n",
       "      <td>0.5</td>\n",
       "      <td>0.5</td>\n",
       "      <td>1.15</td>\n",
       "      <td>0.0</td>\n",
       "      <td>0.3</td>\n",
       "      <td>6.95</td>\n",
       "      <td>NaN</td>\n",
       "      <td>NaN</td>\n",
       "    </tr>\n",
       "    <tr>\n",
       "      <th>8760684</th>\n",
       "      <td>2</td>\n",
       "      <td>2018-01-31 23:28:00</td>\n",
       "      <td>2018-01-31 23:37:09</td>\n",
       "      <td>1</td>\n",
       "      <td>2.95</td>\n",
       "      <td>1</td>\n",
       "      <td>N</td>\n",
       "      <td>74</td>\n",
       "      <td>69</td>\n",
       "      <td>2</td>\n",
       "      <td>10.5</td>\n",
       "      <td>0.5</td>\n",
       "      <td>0.5</td>\n",
       "      <td>0.00</td>\n",
       "      <td>0.0</td>\n",
       "      <td>0.3</td>\n",
       "      <td>11.80</td>\n",
       "      <td>NaN</td>\n",
       "      <td>NaN</td>\n",
       "    </tr>\n",
       "    <tr>\n",
       "      <th>8760685</th>\n",
       "      <td>2</td>\n",
       "      <td>2018-01-31 23:24:40</td>\n",
       "      <td>2018-01-31 23:25:28</td>\n",
       "      <td>1</td>\n",
       "      <td>0.00</td>\n",
       "      <td>1</td>\n",
       "      <td>N</td>\n",
       "      <td>7</td>\n",
       "      <td>193</td>\n",
       "      <td>2</td>\n",
       "      <td>0.0</td>\n",
       "      <td>0.0</td>\n",
       "      <td>0.0</td>\n",
       "      <td>0.00</td>\n",
       "      <td>0.0</td>\n",
       "      <td>0.0</td>\n",
       "      <td>0.00</td>\n",
       "      <td>NaN</td>\n",
       "      <td>NaN</td>\n",
       "    </tr>\n",
       "    <tr>\n",
       "      <th>8760686</th>\n",
       "      <td>2</td>\n",
       "      <td>2018-01-31 23:28:16</td>\n",
       "      <td>2018-01-31 23:28:38</td>\n",
       "      <td>1</td>\n",
       "      <td>0.00</td>\n",
       "      <td>1</td>\n",
       "      <td>N</td>\n",
       "      <td>7</td>\n",
       "      <td>193</td>\n",
       "      <td>2</td>\n",
       "      <td>0.0</td>\n",
       "      <td>0.0</td>\n",
       "      <td>0.0</td>\n",
       "      <td>0.00</td>\n",
       "      <td>0.0</td>\n",
       "      <td>0.0</td>\n",
       "      <td>0.00</td>\n",
       "      <td>NaN</td>\n",
       "      <td>NaN</td>\n",
       "    </tr>\n",
       "  </tbody>\n",
       "</table>\n",
       "<p>8760687 rows × 19 columns</p>\n",
       "</div>"
      ],
      "text/plain": [
       "         VendorID tpep_pickup_datetime tpep_dropoff_datetime  passenger_count  \\\n",
       "0               1  2018-01-01 00:21:05   2018-01-01 00:24:23                1   \n",
       "1               1  2018-01-01 00:44:55   2018-01-01 01:03:05                1   \n",
       "2               1  2018-01-01 00:08:26   2018-01-01 00:14:21                2   \n",
       "3               1  2018-01-01 00:20:22   2018-01-01 00:52:51                1   \n",
       "4               1  2018-01-01 00:09:18   2018-01-01 00:27:06                2   \n",
       "...           ...                  ...                   ...              ...   \n",
       "8760682         1  2018-01-31 23:21:35   2018-01-31 23:34:20                2   \n",
       "8760683         1  2018-01-31 23:35:51   2018-01-31 23:38:57                1   \n",
       "8760684         2  2018-01-31 23:28:00   2018-01-31 23:37:09                1   \n",
       "8760685         2  2018-01-31 23:24:40   2018-01-31 23:25:28                1   \n",
       "8760686         2  2018-01-31 23:28:16   2018-01-31 23:28:38                1   \n",
       "\n",
       "         trip_distance  RatecodeID store_and_fwd_flag  PULocationID  \\\n",
       "0                 0.50           1                  N            41   \n",
       "1                 2.70           1                  N           239   \n",
       "2                 0.80           1                  N           262   \n",
       "3                10.20           1                  N           140   \n",
       "4                 2.50           1                  N           246   \n",
       "...                ...         ...                ...           ...   \n",
       "8760682           2.80           1                  N           158   \n",
       "8760683           0.60           1                  N           163   \n",
       "8760684           2.95           1                  N            74   \n",
       "8760685           0.00           1                  N             7   \n",
       "8760686           0.00           1                  N             7   \n",
       "\n",
       "         DOLocationID  payment_type  fare_amount  extra  mta_tax  tip_amount  \\\n",
       "0                  24             2          4.5    0.5      0.5        0.00   \n",
       "1                 140             2         14.0    0.5      0.5        0.00   \n",
       "2                 141             1          6.0    0.5      0.5        1.00   \n",
       "3                 257             2         33.5    0.5      0.5        0.00   \n",
       "4                 239             1         12.5    0.5      0.5        2.75   \n",
       "...               ...           ...          ...    ...      ...         ...   \n",
       "8760682           163             1         12.0    0.5      0.5        2.65   \n",
       "8760683           162             1          4.5    0.5      0.5        1.15   \n",
       "8760684            69             2         10.5    0.5      0.5        0.00   \n",
       "8760685           193             2          0.0    0.0      0.0        0.00   \n",
       "8760686           193             2          0.0    0.0      0.0        0.00   \n",
       "\n",
       "         tolls_amount  improvement_surcharge  total_amount  \\\n",
       "0                 0.0                    0.3          5.80   \n",
       "1                 0.0                    0.3         15.30   \n",
       "2                 0.0                    0.3          8.30   \n",
       "3                 0.0                    0.3         34.80   \n",
       "4                 0.0                    0.3         16.55   \n",
       "...               ...                    ...           ...   \n",
       "8760682           0.0                    0.3         15.95   \n",
       "8760683           0.0                    0.3          6.95   \n",
       "8760684           0.0                    0.3         11.80   \n",
       "8760685           0.0                    0.0          0.00   \n",
       "8760686           0.0                    0.0          0.00   \n",
       "\n",
       "         congestion_surcharge  airport_fee  \n",
       "0                         NaN          NaN  \n",
       "1                         NaN          NaN  \n",
       "2                         NaN          NaN  \n",
       "3                         NaN          NaN  \n",
       "4                         NaN          NaN  \n",
       "...                       ...          ...  \n",
       "8760682                   NaN          NaN  \n",
       "8760683                   NaN          NaN  \n",
       "8760684                   NaN          NaN  \n",
       "8760685                   NaN          NaN  \n",
       "8760686                   NaN          NaN  \n",
       "\n",
       "[8760687 rows x 19 columns]"
      ]
     },
     "execution_count": 224,
     "metadata": {},
     "output_type": "execute_result"
    }
   ],
   "source": [
    "data = pd.read_parquet('../Data/yellow_tripdata_2018-01.parquet')\n",
    "data"
   ]
  },
  {
   "cell_type": "markdown",
   "metadata": {},
   "source": [
    "## ANALIZAMOS LOS DATOS"
   ]
  },
  {
   "cell_type": "code",
   "execution_count": 225,
   "metadata": {},
   "outputs": [
    {
     "name": "stdout",
     "output_type": "stream",
     "text": [
      "<class 'pandas.core.frame.DataFrame'>\n",
      "RangeIndex: 8760687 entries, 0 to 8760686\n",
      "Data columns (total 19 columns):\n",
      " #   Column                 Dtype         \n",
      "---  ------                 -----         \n",
      " 0   VendorID               int64         \n",
      " 1   tpep_pickup_datetime   datetime64[ns]\n",
      " 2   tpep_dropoff_datetime  datetime64[ns]\n",
      " 3   passenger_count        int64         \n",
      " 4   trip_distance          float64       \n",
      " 5   RatecodeID             int64         \n",
      " 6   store_and_fwd_flag     object        \n",
      " 7   PULocationID           int64         \n",
      " 8   DOLocationID           int64         \n",
      " 9   payment_type           int64         \n",
      " 10  fare_amount            float64       \n",
      " 11  extra                  float64       \n",
      " 12  mta_tax                float64       \n",
      " 13  tip_amount             float64       \n",
      " 14  tolls_amount           float64       \n",
      " 15  improvement_surcharge  float64       \n",
      " 16  total_amount           float64       \n",
      " 17  congestion_surcharge   float64       \n",
      " 18  airport_fee            float64       \n",
      "dtypes: datetime64[ns](2), float64(10), int64(6), object(1)\n",
      "memory usage: 1.2+ GB\n"
     ]
    }
   ],
   "source": [
    "data.info()"
   ]
  },
  {
   "cell_type": "code",
   "execution_count": 226,
   "metadata": {},
   "outputs": [
    {
     "data": {
      "text/plain": [
       "VendorID                       0\n",
       "tpep_pickup_datetime           0\n",
       "tpep_dropoff_datetime          0\n",
       "passenger_count                0\n",
       "trip_distance                  0\n",
       "RatecodeID                     0\n",
       "store_and_fwd_flag             0\n",
       "PULocationID                   0\n",
       "DOLocationID                   0\n",
       "payment_type                   0\n",
       "fare_amount                    0\n",
       "extra                          0\n",
       "mta_tax                        0\n",
       "tip_amount                     0\n",
       "tolls_amount                   0\n",
       "improvement_surcharge          0\n",
       "total_amount                   0\n",
       "congestion_surcharge     8760675\n",
       "airport_fee              8760675\n",
       "dtype: int64"
      ]
     },
     "execution_count": 226,
     "metadata": {},
     "output_type": "execute_result"
    }
   ],
   "source": [
    "data.isna().sum()"
   ]
  },
  {
   "cell_type": "code",
   "execution_count": 227,
   "metadata": {},
   "outputs": [
    {
     "data": {
      "text/html": [
       "<div>\n",
       "<style scoped>\n",
       "    .dataframe tbody tr th:only-of-type {\n",
       "        vertical-align: middle;\n",
       "    }\n",
       "\n",
       "    .dataframe tbody tr th {\n",
       "        vertical-align: top;\n",
       "    }\n",
       "\n",
       "    .dataframe thead th {\n",
       "        text-align: right;\n",
       "    }\n",
       "</style>\n",
       "<table border=\"1\" class=\"dataframe\">\n",
       "  <thead>\n",
       "    <tr style=\"text-align: right;\">\n",
       "      <th></th>\n",
       "      <th>VendorID</th>\n",
       "      <th>passenger_count</th>\n",
       "      <th>trip_distance</th>\n",
       "      <th>RatecodeID</th>\n",
       "      <th>PULocationID</th>\n",
       "      <th>DOLocationID</th>\n",
       "      <th>payment_type</th>\n",
       "      <th>fare_amount</th>\n",
       "      <th>extra</th>\n",
       "      <th>mta_tax</th>\n",
       "      <th>tip_amount</th>\n",
       "      <th>tolls_amount</th>\n",
       "      <th>improvement_surcharge</th>\n",
       "      <th>total_amount</th>\n",
       "      <th>congestion_surcharge</th>\n",
       "      <th>airport_fee</th>\n",
       "    </tr>\n",
       "  </thead>\n",
       "  <tbody>\n",
       "    <tr>\n",
       "      <th>count</th>\n",
       "      <td>8.760687e+06</td>\n",
       "      <td>8.760687e+06</td>\n",
       "      <td>8.760687e+06</td>\n",
       "      <td>8.760687e+06</td>\n",
       "      <td>8.760687e+06</td>\n",
       "      <td>8.760687e+06</td>\n",
       "      <td>8.760687e+06</td>\n",
       "      <td>8.760687e+06</td>\n",
       "      <td>8.760687e+06</td>\n",
       "      <td>8.760687e+06</td>\n",
       "      <td>8.760687e+06</td>\n",
       "      <td>8.760687e+06</td>\n",
       "      <td>8.760687e+06</td>\n",
       "      <td>8.760687e+06</td>\n",
       "      <td>12.0</td>\n",
       "      <td>12.0</td>\n",
       "    </tr>\n",
       "    <tr>\n",
       "      <th>mean</th>\n",
       "      <td>1.560978e+00</td>\n",
       "      <td>1.606807e+00</td>\n",
       "      <td>2.804022e+00</td>\n",
       "      <td>1.039545e+00</td>\n",
       "      <td>1.644579e+02</td>\n",
       "      <td>1.627270e+02</td>\n",
       "      <td>1.310613e+00</td>\n",
       "      <td>1.224443e+01</td>\n",
       "      <td>3.246882e-01</td>\n",
       "      <td>4.975066e-01</td>\n",
       "      <td>1.818759e+00</td>\n",
       "      <td>3.026157e-01</td>\n",
       "      <td>2.996307e-01</td>\n",
       "      <td>1.549109e+01</td>\n",
       "      <td>2.5</td>\n",
       "      <td>0.0</td>\n",
       "    </tr>\n",
       "    <tr>\n",
       "      <th>std</th>\n",
       "      <td>4.962678e-01</td>\n",
       "      <td>1.258420e+00</td>\n",
       "      <td>6.412050e+01</td>\n",
       "      <td>4.450619e-01</td>\n",
       "      <td>6.635990e+01</td>\n",
       "      <td>7.031145e+01</td>\n",
       "      <td>4.817808e-01</td>\n",
       "      <td>1.168321e+01</td>\n",
       "      <td>4.502555e-01</td>\n",
       "      <td>4.333281e-02</td>\n",
       "      <td>2.486375e+00</td>\n",
       "      <td>1.738184e+00</td>\n",
       "      <td>1.442748e-02</td>\n",
       "      <td>1.419546e+01</td>\n",
       "      <td>0.0</td>\n",
       "      <td>0.0</td>\n",
       "    </tr>\n",
       "    <tr>\n",
       "      <th>min</th>\n",
       "      <td>1.000000e+00</td>\n",
       "      <td>0.000000e+00</td>\n",
       "      <td>0.000000e+00</td>\n",
       "      <td>1.000000e+00</td>\n",
       "      <td>1.000000e+00</td>\n",
       "      <td>1.000000e+00</td>\n",
       "      <td>1.000000e+00</td>\n",
       "      <td>-4.500000e+02</td>\n",
       "      <td>-4.469000e+01</td>\n",
       "      <td>-5.000000e-01</td>\n",
       "      <td>-8.880000e+01</td>\n",
       "      <td>-1.500000e+01</td>\n",
       "      <td>-3.000000e-01</td>\n",
       "      <td>-4.503000e+02</td>\n",
       "      <td>2.5</td>\n",
       "      <td>0.0</td>\n",
       "    </tr>\n",
       "    <tr>\n",
       "      <th>25%</th>\n",
       "      <td>1.000000e+00</td>\n",
       "      <td>1.000000e+00</td>\n",
       "      <td>9.100000e-01</td>\n",
       "      <td>1.000000e+00</td>\n",
       "      <td>1.160000e+02</td>\n",
       "      <td>1.130000e+02</td>\n",
       "      <td>1.000000e+00</td>\n",
       "      <td>6.000000e+00</td>\n",
       "      <td>0.000000e+00</td>\n",
       "      <td>5.000000e-01</td>\n",
       "      <td>0.000000e+00</td>\n",
       "      <td>0.000000e+00</td>\n",
       "      <td>3.000000e-01</td>\n",
       "      <td>8.300000e+00</td>\n",
       "      <td>2.5</td>\n",
       "      <td>0.0</td>\n",
       "    </tr>\n",
       "    <tr>\n",
       "      <th>50%</th>\n",
       "      <td>2.000000e+00</td>\n",
       "      <td>1.000000e+00</td>\n",
       "      <td>1.550000e+00</td>\n",
       "      <td>1.000000e+00</td>\n",
       "      <td>1.620000e+02</td>\n",
       "      <td>1.620000e+02</td>\n",
       "      <td>1.000000e+00</td>\n",
       "      <td>9.000000e+00</td>\n",
       "      <td>0.000000e+00</td>\n",
       "      <td>5.000000e-01</td>\n",
       "      <td>1.360000e+00</td>\n",
       "      <td>0.000000e+00</td>\n",
       "      <td>3.000000e-01</td>\n",
       "      <td>1.130000e+01</td>\n",
       "      <td>2.5</td>\n",
       "      <td>0.0</td>\n",
       "    </tr>\n",
       "    <tr>\n",
       "      <th>75%</th>\n",
       "      <td>2.000000e+00</td>\n",
       "      <td>2.000000e+00</td>\n",
       "      <td>2.840000e+00</td>\n",
       "      <td>1.000000e+00</td>\n",
       "      <td>2.340000e+02</td>\n",
       "      <td>2.340000e+02</td>\n",
       "      <td>2.000000e+00</td>\n",
       "      <td>1.350000e+01</td>\n",
       "      <td>5.000000e-01</td>\n",
       "      <td>5.000000e-01</td>\n",
       "      <td>2.350000e+00</td>\n",
       "      <td>0.000000e+00</td>\n",
       "      <td>3.000000e-01</td>\n",
       "      <td>1.662000e+01</td>\n",
       "      <td>2.5</td>\n",
       "      <td>0.0</td>\n",
       "    </tr>\n",
       "    <tr>\n",
       "      <th>max</th>\n",
       "      <td>2.000000e+00</td>\n",
       "      <td>9.000000e+00</td>\n",
       "      <td>1.894838e+05</td>\n",
       "      <td>9.900000e+01</td>\n",
       "      <td>2.650000e+02</td>\n",
       "      <td>2.650000e+02</td>\n",
       "      <td>4.000000e+00</td>\n",
       "      <td>8.016000e+03</td>\n",
       "      <td>6.000000e+01</td>\n",
       "      <td>4.549000e+01</td>\n",
       "      <td>4.417100e+02</td>\n",
       "      <td>9.507000e+02</td>\n",
       "      <td>1.000000e+00</td>\n",
       "      <td>8.016800e+03</td>\n",
       "      <td>2.5</td>\n",
       "      <td>0.0</td>\n",
       "    </tr>\n",
       "  </tbody>\n",
       "</table>\n",
       "</div>"
      ],
      "text/plain": [
       "           VendorID  passenger_count  trip_distance    RatecodeID  \\\n",
       "count  8.760687e+06     8.760687e+06   8.760687e+06  8.760687e+06   \n",
       "mean   1.560978e+00     1.606807e+00   2.804022e+00  1.039545e+00   \n",
       "std    4.962678e-01     1.258420e+00   6.412050e+01  4.450619e-01   \n",
       "min    1.000000e+00     0.000000e+00   0.000000e+00  1.000000e+00   \n",
       "25%    1.000000e+00     1.000000e+00   9.100000e-01  1.000000e+00   \n",
       "50%    2.000000e+00     1.000000e+00   1.550000e+00  1.000000e+00   \n",
       "75%    2.000000e+00     2.000000e+00   2.840000e+00  1.000000e+00   \n",
       "max    2.000000e+00     9.000000e+00   1.894838e+05  9.900000e+01   \n",
       "\n",
       "       PULocationID  DOLocationID  payment_type   fare_amount         extra  \\\n",
       "count  8.760687e+06  8.760687e+06  8.760687e+06  8.760687e+06  8.760687e+06   \n",
       "mean   1.644579e+02  1.627270e+02  1.310613e+00  1.224443e+01  3.246882e-01   \n",
       "std    6.635990e+01  7.031145e+01  4.817808e-01  1.168321e+01  4.502555e-01   \n",
       "min    1.000000e+00  1.000000e+00  1.000000e+00 -4.500000e+02 -4.469000e+01   \n",
       "25%    1.160000e+02  1.130000e+02  1.000000e+00  6.000000e+00  0.000000e+00   \n",
       "50%    1.620000e+02  1.620000e+02  1.000000e+00  9.000000e+00  0.000000e+00   \n",
       "75%    2.340000e+02  2.340000e+02  2.000000e+00  1.350000e+01  5.000000e-01   \n",
       "max    2.650000e+02  2.650000e+02  4.000000e+00  8.016000e+03  6.000000e+01   \n",
       "\n",
       "            mta_tax    tip_amount  tolls_amount  improvement_surcharge  \\\n",
       "count  8.760687e+06  8.760687e+06  8.760687e+06           8.760687e+06   \n",
       "mean   4.975066e-01  1.818759e+00  3.026157e-01           2.996307e-01   \n",
       "std    4.333281e-02  2.486375e+00  1.738184e+00           1.442748e-02   \n",
       "min   -5.000000e-01 -8.880000e+01 -1.500000e+01          -3.000000e-01   \n",
       "25%    5.000000e-01  0.000000e+00  0.000000e+00           3.000000e-01   \n",
       "50%    5.000000e-01  1.360000e+00  0.000000e+00           3.000000e-01   \n",
       "75%    5.000000e-01  2.350000e+00  0.000000e+00           3.000000e-01   \n",
       "max    4.549000e+01  4.417100e+02  9.507000e+02           1.000000e+00   \n",
       "\n",
       "       total_amount  congestion_surcharge  airport_fee  \n",
       "count  8.760687e+06                  12.0         12.0  \n",
       "mean   1.549109e+01                   2.5          0.0  \n",
       "std    1.419546e+01                   0.0          0.0  \n",
       "min   -4.503000e+02                   2.5          0.0  \n",
       "25%    8.300000e+00                   2.5          0.0  \n",
       "50%    1.130000e+01                   2.5          0.0  \n",
       "75%    1.662000e+01                   2.5          0.0  \n",
       "max    8.016800e+03                   2.5          0.0  "
      ]
     },
     "execution_count": 227,
     "metadata": {},
     "output_type": "execute_result"
    }
   ],
   "source": [
    "data.describe()"
   ]
  },
  {
   "cell_type": "code",
   "execution_count": 228,
   "metadata": {},
   "outputs": [
    {
     "name": "stdout",
     "output_type": "stream",
     "text": [
      "VendorID 1 3846134\n",
      "VendorID 2 4914553\n"
     ]
    }
   ],
   "source": [
    "def contar_valores(columna):\n",
    "    a=data[columna].unique()\n",
    "    for n,i in enumerate(a):\n",
    "        data[columna][data[columna]==a[n]].count()\n",
    "        print(columna, i ,data[columna][data[columna]==a[n]].count())\n",
    "\n",
    "contar_valores(\"VendorID\")"
   ]
  },
  {
   "cell_type": "code",
   "execution_count": 229,
   "metadata": {},
   "outputs": [
    {
     "name": "stdout",
     "output_type": "stream",
     "text": [
      "VendorID 1 3846134\n",
      "VendorID 2 4914553\n"
     ]
    }
   ],
   "source": [
    "contar_valores(\"VendorID\")"
   ]
  },
  {
   "cell_type": "code",
   "execution_count": 230,
   "metadata": {},
   "outputs": [
    {
     "name": "stdout",
     "output_type": "stream",
     "text": [
      "passenger_count 1 6249564\n",
      "passenger_count 2 1271678\n",
      "passenger_count 3 351928\n",
      "passenger_count 5 414473\n",
      "passenger_count 4 163572\n",
      "passenger_count 6 250115\n",
      "passenger_count 0 59269\n",
      "passenger_count 7 39\n",
      "passenger_count 8 24\n",
      "passenger_count 9 25\n"
     ]
    }
   ],
   "source": [
    "contar_valores(\"passenger_count\")"
   ]
  },
  {
   "cell_type": "code",
   "execution_count": 231,
   "metadata": {},
   "outputs": [
    {
     "name": "stdout",
     "output_type": "stream",
     "text": [
      "RatecodeID 1 8533295\n",
      "RatecodeID 2 179273\n",
      "RatecodeID 5 27735\n",
      "RatecodeID 4 5080\n",
      "RatecodeID 3 15129\n",
      "RatecodeID 6 69\n",
      "RatecodeID 99 106\n"
     ]
    }
   ],
   "source": [
    "contar_valores(\"RatecodeID\")"
   ]
  },
  {
   "cell_type": "code",
   "execution_count": 232,
   "metadata": {},
   "outputs": [
    {
     "name": "stdout",
     "output_type": "stream",
     "text": [
      "store_and_fwd_flag N 8729886\n",
      "store_and_fwd_flag Y 30801\n"
     ]
    }
   ],
   "source": [
    "contar_valores(\"store_and_fwd_flag\")"
   ]
  },
  {
   "cell_type": "code",
   "execution_count": 233,
   "metadata": {},
   "outputs": [
    {
     "name": "stdout",
     "output_type": "stream",
     "text": [
      "DOLocationID 24 28756\n",
      "DOLocationID 140 165473\n",
      "DOLocationID 141 218335\n",
      "DOLocationID 257 4209\n",
      "DOLocationID 239 222967\n",
      "DOLocationID 143 118340\n",
      "DOLocationID 238 191254\n",
      "DOLocationID 170 279155\n",
      "DOLocationID 229 161188\n",
      "DOLocationID 113 124474\n",
      "DOLocationID 224 37930\n",
      "DOLocationID 79 202942\n",
      "DOLocationID 100 134890\n",
      "DOLocationID 189 8690\n",
      "DOLocationID 236 360459\n",
      "DOLocationID 162 267091\n",
      "DOLocationID 61 13397\n",
      "DOLocationID 75 106024\n",
      "DOLocationID 233 124465\n",
      "DOLocationID 125 43995\n",
      "DOLocationID 146 10137\n",
      "DOLocationID 234 245764\n",
      "DOLocationID 263 173597\n",
      "DOLocationID 237 320277\n",
      "DOLocationID 166 65374\n",
      "DOLocationID 249 144374\n",
      "DOLocationID 151 73723\n",
      "DOLocationID 231 141564\n",
      "DOLocationID 116 23338\n",
      "DOLocationID 145 25513\n",
      "DOLocationID 82 7700\n",
      "DOLocationID 164 181006\n",
      "DOLocationID 68 194216\n",
      "DOLocationID 161 337453\n",
      "DOLocationID 48 234355\n",
      "DOLocationID 90 133698\n",
      "DOLocationID 13 76767\n",
      "DOLocationID 148 90336\n",
      "DOLocationID 88 33094\n",
      "DOLocationID 87 67871\n",
      "DOLocationID 213 1265\n",
      "DOLocationID 264 141297\n",
      "DOLocationID 74 65839\n",
      "DOLocationID 25 15953\n",
      "DOLocationID 158 82807\n",
      "DOLocationID 246 160993\n",
      "DOLocationID 12 4821\n",
      "DOLocationID 142 239840\n",
      "DOLocationID 66 12276\n",
      "DOLocationID 186 221490\n",
      "DOLocationID 232 41445\n",
      "DOLocationID 4 42568\n",
      "DOLocationID 262 118036\n",
      "DOLocationID 202 3795\n",
      "DOLocationID 107 186707\n",
      "DOLocationID 50 95432\n",
      "DOLocationID 265 19413\n",
      "DOLocationID 42 37122\n",
      "DOLocationID 205 1060\n",
      "DOLocationID 137 131027\n",
      "DOLocationID 80 13577\n",
      "DOLocationID 114 91360\n",
      "DOLocationID 43 103173\n",
      "DOLocationID 181 29313\n",
      "DOLocationID 255 22070\n",
      "DOLocationID 7 38223\n",
      "DOLocationID 126 1182\n",
      "DOLocationID 89 6662\n",
      "DOLocationID 220 3116\n",
      "DOLocationID 133 2528\n",
      "DOLocationID 209 20765\n",
      "DOLocationID 152 14211\n",
      "DOLocationID 160 2326\n",
      "DOLocationID 41 55747\n",
      "DOLocationID 144 75258\n",
      "DOLocationID 211 69452\n",
      "DOLocationID 203 708\n",
      "DOLocationID 65 15443\n",
      "DOLocationID 20 818\n",
      "DOLocationID 167 1301\n",
      "DOLocationID 168 6688\n",
      "DOLocationID 129 14743\n",
      "DOLocationID 139 606\n",
      "DOLocationID 223 16618\n",
      "DOLocationID 33 25154\n",
      "DOLocationID 227 1891\n",
      "DOLocationID 26 2040\n",
      "DOLocationID 36 6821\n",
      "DOLocationID 217 2930\n",
      "DOLocationID 226 21822\n",
      "DOLocationID 193 6348\n",
      "DOLocationID 3 515\n",
      "DOLocationID 112 19222\n",
      "DOLocationID 163 211992\n",
      "DOLocationID 62 3402\n",
      "DOLocationID 117 343\n",
      "DOLocationID 95 9966\n",
      "DOLocationID 21 903\n",
      "DOLocationID 261 40265\n",
      "DOLocationID 17 11554\n",
      "DOLocationID 127 6304\n",
      "DOLocationID 174 1100\n",
      "DOLocationID 198 4346\n",
      "DOLocationID 243 15180\n",
      "DOLocationID 256 20113\n",
      "DOLocationID 241 1342\n",
      "DOLocationID 70 3215\n",
      "DOLocationID 244 29395\n",
      "DOLocationID 108 470\n",
      "DOLocationID 173 2446\n",
      "DOLocationID 197 1930\n",
      "DOLocationID 260 9728\n",
      "DOLocationID 67 1255\n",
      "DOLocationID 259 846\n",
      "DOLocationID 208 1058\n",
      "DOLocationID 72 1252\n",
      "DOLocationID 52 7473\n",
      "DOLocationID 40 9774\n",
      "DOLocationID 230 270526\n",
      "DOLocationID 73 429\n",
      "DOLocationID 216 3168\n",
      "DOLocationID 37 10381\n",
      "DOLocationID 228 5257\n",
      "DOLocationID 10 3086\n",
      "DOLocationID 14 6237\n",
      "DOLocationID 225 8188\n",
      "DOLocationID 179 12551\n",
      "DOLocationID 83 3331\n",
      "DOLocationID 45 23149\n",
      "DOLocationID 11 619\n",
      "DOLocationID 49 15362\n",
      "DOLocationID 97 14203\n",
      "DOLocationID 200 2379\n",
      "DOLocationID 250 677\n",
      "DOLocationID 69 3621\n",
      "DOLocationID 196 2994\n",
      "DOLocationID 178 728\n",
      "DOLocationID 188 5831\n",
      "DOLocationID 138 83585\n",
      "DOLocationID 106 4238\n",
      "DOLocationID 18 1163\n",
      "DOLocationID 22 1453\n",
      "DOLocationID 77 539\n",
      "DOLocationID 169 1452\n",
      "DOLocationID 132 64539\n",
      "DOLocationID 182 996\n",
      "DOLocationID 1 14044\n",
      "DOLocationID 201 333\n",
      "DOLocationID 28 1929\n",
      "DOLocationID 159 2761\n",
      "DOLocationID 222 260\n",
      "DOLocationID 54 2466\n",
      "DOLocationID 32 578\n",
      "DOLocationID 78 834\n",
      "DOLocationID 51 659\n",
      "DOLocationID 149 956\n",
      "DOLocationID 218 1027\n",
      "DOLocationID 60 570\n",
      "DOLocationID 183 403\n",
      "DOLocationID 55 709\n",
      "DOLocationID 157 2711\n",
      "DOLocationID 212 1030\n",
      "DOLocationID 175 644\n",
      "DOLocationID 147 930\n",
      "DOLocationID 119 1744\n",
      "DOLocationID 235 1564\n",
      "DOLocationID 128 526\n",
      "DOLocationID 136 1075\n",
      "DOLocationID 16 1121\n",
      "DOLocationID 92 3130\n",
      "DOLocationID 247 3219\n",
      "DOLocationID 195 3091\n",
      "DOLocationID 57 384\n",
      "DOLocationID 121 1291\n",
      "DOLocationID 39 1519\n",
      "DOLocationID 9 450\n",
      "DOLocationID 35 991\n",
      "DOLocationID 56 2245\n",
      "DOLocationID 185 944\n",
      "DOLocationID 248 1017\n",
      "DOLocationID 251 85\n",
      "DOLocationID 58 146\n",
      "DOLocationID 190 1239\n",
      "DOLocationID 177 1554\n",
      "DOLocationID 86 474\n",
      "DOLocationID 171 1142\n",
      "DOLocationID 155 939\n",
      "DOLocationID 258 1400\n",
      "DOLocationID 153 306\n",
      "DOLocationID 192 600\n",
      "DOLocationID 47 722\n",
      "DOLocationID 91 1230\n",
      "DOLocationID 124 759\n",
      "DOLocationID 191 921\n",
      "DOLocationID 130 2122\n",
      "DOLocationID 240 202\n",
      "DOLocationID 94 608\n",
      "DOLocationID 122 357\n",
      "DOLocationID 98 795\n",
      "DOLocationID 206 154\n",
      "DOLocationID 102 991\n",
      "DOLocationID 165 1676\n",
      "DOLocationID 71 1282\n",
      "DOLocationID 76 1877\n",
      "DOLocationID 254 767\n",
      "DOLocationID 219 1636\n",
      "DOLocationID 215 858\n",
      "DOLocationID 118 171\n",
      "DOLocationID 134 1990\n",
      "DOLocationID 156 76\n",
      "DOLocationID 63 821\n",
      "DOLocationID 131 1126\n",
      "DOLocationID 135 1934\n",
      "DOLocationID 245 73\n",
      "DOLocationID 180 625\n",
      "DOLocationID 242 837\n",
      "DOLocationID 252 1090\n",
      "DOLocationID 93 814\n",
      "DOLocationID 64 654\n",
      "DOLocationID 85 1228\n",
      "DOLocationID 29 795\n",
      "DOLocationID 15 712\n",
      "DOLocationID 176 52\n",
      "DOLocationID 31 273\n",
      "DOLocationID 34 949\n",
      "DOLocationID 210 838\n",
      "DOLocationID 81 400\n",
      "DOLocationID 194 421\n",
      "DOLocationID 120 289\n",
      "DOLocationID 172 98\n",
      "DOLocationID 19 464\n",
      "DOLocationID 150 435\n",
      "DOLocationID 38 585\n",
      "DOLocationID 111 80\n",
      "DOLocationID 214 147\n",
      "DOLocationID 123 1196\n",
      "DOLocationID 46 100\n",
      "DOLocationID 101 431\n",
      "DOLocationID 204 35\n",
      "DOLocationID 27 64\n",
      "DOLocationID 115 126\n",
      "DOLocationID 53 798\n",
      "DOLocationID 44 26\n",
      "DOLocationID 8 130\n",
      "DOLocationID 5 55\n",
      "DOLocationID 109 72\n",
      "DOLocationID 23 164\n",
      "DOLocationID 59 42\n",
      "DOLocationID 221 150\n",
      "DOLocationID 6 167\n",
      "DOLocationID 253 38\n",
      "DOLocationID 96 139\n",
      "DOLocationID 84 53\n",
      "DOLocationID 207 398\n",
      "DOLocationID 154 43\n",
      "DOLocationID 187 41\n",
      "DOLocationID 184 54\n",
      "DOLocationID 30 32\n",
      "DOLocationID 105 10\n",
      "DOLocationID 2 5\n",
      "DOLocationID 199 2\n"
     ]
    }
   ],
   "source": [
    "contar_valores(\"DOLocationID\")"
   ]
  },
  {
   "cell_type": "code",
   "execution_count": 234,
   "metadata": {},
   "outputs": [
    {
     "name": "stdout",
     "output_type": "stream",
     "text": [
      "payment_type 2 2599215\n",
      "payment_type 1 6106416\n",
      "payment_type 4 11852\n",
      "payment_type 3 43204\n"
     ]
    }
   ],
   "source": [
    "contar_valores(\"payment_type\")"
   ]
  },
  {
   "cell_type": "code",
   "execution_count": 235,
   "metadata": {},
   "outputs": [
    {
     "name": "stdout",
     "output_type": "stream",
     "text": [
      "congestion_surcharge nan 0\n",
      "congestion_surcharge 2.5 12\n"
     ]
    }
   ],
   "source": [
    "contar_valores(\"congestion_surcharge\")"
   ]
  },
  {
   "cell_type": "code",
   "execution_count": 236,
   "metadata": {},
   "outputs": [
    {
     "name": "stdout",
     "output_type": "stream",
     "text": [
      "airport_fee nan 0\n",
      "airport_fee 0.0 12\n"
     ]
    }
   ],
   "source": [
    "contar_valores(\"airport_fee\")"
   ]
  },
  {
   "cell_type": "code",
   "execution_count": 237,
   "metadata": {},
   "outputs": [
    {
     "data": {
      "text/html": [
       "<div>\n",
       "<style scoped>\n",
       "    .dataframe tbody tr th:only-of-type {\n",
       "        vertical-align: middle;\n",
       "    }\n",
       "\n",
       "    .dataframe tbody tr th {\n",
       "        vertical-align: top;\n",
       "    }\n",
       "\n",
       "    .dataframe thead th {\n",
       "        text-align: right;\n",
       "    }\n",
       "</style>\n",
       "<table border=\"1\" class=\"dataframe\">\n",
       "  <thead>\n",
       "    <tr style=\"text-align: right;\">\n",
       "      <th></th>\n",
       "      <th>VendorID</th>\n",
       "      <th>tpep_pickup_datetime</th>\n",
       "      <th>tpep_dropoff_datetime</th>\n",
       "      <th>passenger_count</th>\n",
       "      <th>trip_distance</th>\n",
       "      <th>RatecodeID</th>\n",
       "      <th>store_and_fwd_flag</th>\n",
       "      <th>PULocationID</th>\n",
       "      <th>DOLocationID</th>\n",
       "      <th>payment_type</th>\n",
       "      <th>fare_amount</th>\n",
       "      <th>extra</th>\n",
       "      <th>mta_tax</th>\n",
       "      <th>tip_amount</th>\n",
       "      <th>tolls_amount</th>\n",
       "      <th>improvement_surcharge</th>\n",
       "      <th>total_amount</th>\n",
       "      <th>congestion_surcharge</th>\n",
       "      <th>airport_fee</th>\n",
       "    </tr>\n",
       "  </thead>\n",
       "  <tbody>\n",
       "    <tr>\n",
       "      <th>0</th>\n",
       "      <td>1</td>\n",
       "      <td>2018-01-01 00:21:05</td>\n",
       "      <td>2018-01-01 00:24:23</td>\n",
       "      <td>1</td>\n",
       "      <td>0.50</td>\n",
       "      <td>1</td>\n",
       "      <td>N</td>\n",
       "      <td>41</td>\n",
       "      <td>24</td>\n",
       "      <td>2</td>\n",
       "      <td>4.5</td>\n",
       "      <td>0.5</td>\n",
       "      <td>0.5</td>\n",
       "      <td>0.00</td>\n",
       "      <td>0.0</td>\n",
       "      <td>0.3</td>\n",
       "      <td>5.80</td>\n",
       "      <td>NaN</td>\n",
       "      <td>NaN</td>\n",
       "    </tr>\n",
       "    <tr>\n",
       "      <th>1</th>\n",
       "      <td>1</td>\n",
       "      <td>2018-01-01 00:44:55</td>\n",
       "      <td>2018-01-01 01:03:05</td>\n",
       "      <td>1</td>\n",
       "      <td>2.70</td>\n",
       "      <td>1</td>\n",
       "      <td>N</td>\n",
       "      <td>239</td>\n",
       "      <td>140</td>\n",
       "      <td>2</td>\n",
       "      <td>14.0</td>\n",
       "      <td>0.5</td>\n",
       "      <td>0.5</td>\n",
       "      <td>0.00</td>\n",
       "      <td>0.0</td>\n",
       "      <td>0.3</td>\n",
       "      <td>15.30</td>\n",
       "      <td>NaN</td>\n",
       "      <td>NaN</td>\n",
       "    </tr>\n",
       "    <tr>\n",
       "      <th>2</th>\n",
       "      <td>1</td>\n",
       "      <td>2018-01-01 00:08:26</td>\n",
       "      <td>2018-01-01 00:14:21</td>\n",
       "      <td>2</td>\n",
       "      <td>0.80</td>\n",
       "      <td>1</td>\n",
       "      <td>N</td>\n",
       "      <td>262</td>\n",
       "      <td>141</td>\n",
       "      <td>1</td>\n",
       "      <td>6.0</td>\n",
       "      <td>0.5</td>\n",
       "      <td>0.5</td>\n",
       "      <td>1.00</td>\n",
       "      <td>0.0</td>\n",
       "      <td>0.3</td>\n",
       "      <td>8.30</td>\n",
       "      <td>NaN</td>\n",
       "      <td>NaN</td>\n",
       "    </tr>\n",
       "    <tr>\n",
       "      <th>3</th>\n",
       "      <td>1</td>\n",
       "      <td>2018-01-01 00:20:22</td>\n",
       "      <td>2018-01-01 00:52:51</td>\n",
       "      <td>1</td>\n",
       "      <td>10.20</td>\n",
       "      <td>1</td>\n",
       "      <td>N</td>\n",
       "      <td>140</td>\n",
       "      <td>257</td>\n",
       "      <td>2</td>\n",
       "      <td>33.5</td>\n",
       "      <td>0.5</td>\n",
       "      <td>0.5</td>\n",
       "      <td>0.00</td>\n",
       "      <td>0.0</td>\n",
       "      <td>0.3</td>\n",
       "      <td>34.80</td>\n",
       "      <td>NaN</td>\n",
       "      <td>NaN</td>\n",
       "    </tr>\n",
       "    <tr>\n",
       "      <th>4</th>\n",
       "      <td>1</td>\n",
       "      <td>2018-01-01 00:09:18</td>\n",
       "      <td>2018-01-01 00:27:06</td>\n",
       "      <td>2</td>\n",
       "      <td>2.50</td>\n",
       "      <td>1</td>\n",
       "      <td>N</td>\n",
       "      <td>246</td>\n",
       "      <td>239</td>\n",
       "      <td>1</td>\n",
       "      <td>12.5</td>\n",
       "      <td>0.5</td>\n",
       "      <td>0.5</td>\n",
       "      <td>2.75</td>\n",
       "      <td>0.0</td>\n",
       "      <td>0.3</td>\n",
       "      <td>16.55</td>\n",
       "      <td>NaN</td>\n",
       "      <td>NaN</td>\n",
       "    </tr>\n",
       "    <tr>\n",
       "      <th>...</th>\n",
       "      <td>...</td>\n",
       "      <td>...</td>\n",
       "      <td>...</td>\n",
       "      <td>...</td>\n",
       "      <td>...</td>\n",
       "      <td>...</td>\n",
       "      <td>...</td>\n",
       "      <td>...</td>\n",
       "      <td>...</td>\n",
       "      <td>...</td>\n",
       "      <td>...</td>\n",
       "      <td>...</td>\n",
       "      <td>...</td>\n",
       "      <td>...</td>\n",
       "      <td>...</td>\n",
       "      <td>...</td>\n",
       "      <td>...</td>\n",
       "      <td>...</td>\n",
       "      <td>...</td>\n",
       "    </tr>\n",
       "    <tr>\n",
       "      <th>8760682</th>\n",
       "      <td>1</td>\n",
       "      <td>2018-01-31 23:21:35</td>\n",
       "      <td>2018-01-31 23:34:20</td>\n",
       "      <td>2</td>\n",
       "      <td>2.80</td>\n",
       "      <td>1</td>\n",
       "      <td>N</td>\n",
       "      <td>158</td>\n",
       "      <td>163</td>\n",
       "      <td>1</td>\n",
       "      <td>12.0</td>\n",
       "      <td>0.5</td>\n",
       "      <td>0.5</td>\n",
       "      <td>2.65</td>\n",
       "      <td>0.0</td>\n",
       "      <td>0.3</td>\n",
       "      <td>15.95</td>\n",
       "      <td>NaN</td>\n",
       "      <td>NaN</td>\n",
       "    </tr>\n",
       "    <tr>\n",
       "      <th>8760683</th>\n",
       "      <td>1</td>\n",
       "      <td>2018-01-31 23:35:51</td>\n",
       "      <td>2018-01-31 23:38:57</td>\n",
       "      <td>1</td>\n",
       "      <td>0.60</td>\n",
       "      <td>1</td>\n",
       "      <td>N</td>\n",
       "      <td>163</td>\n",
       "      <td>162</td>\n",
       "      <td>1</td>\n",
       "      <td>4.5</td>\n",
       "      <td>0.5</td>\n",
       "      <td>0.5</td>\n",
       "      <td>1.15</td>\n",
       "      <td>0.0</td>\n",
       "      <td>0.3</td>\n",
       "      <td>6.95</td>\n",
       "      <td>NaN</td>\n",
       "      <td>NaN</td>\n",
       "    </tr>\n",
       "    <tr>\n",
       "      <th>8760684</th>\n",
       "      <td>2</td>\n",
       "      <td>2018-01-31 23:28:00</td>\n",
       "      <td>2018-01-31 23:37:09</td>\n",
       "      <td>1</td>\n",
       "      <td>2.95</td>\n",
       "      <td>1</td>\n",
       "      <td>N</td>\n",
       "      <td>74</td>\n",
       "      <td>69</td>\n",
       "      <td>2</td>\n",
       "      <td>10.5</td>\n",
       "      <td>0.5</td>\n",
       "      <td>0.5</td>\n",
       "      <td>0.00</td>\n",
       "      <td>0.0</td>\n",
       "      <td>0.3</td>\n",
       "      <td>11.80</td>\n",
       "      <td>NaN</td>\n",
       "      <td>NaN</td>\n",
       "    </tr>\n",
       "    <tr>\n",
       "      <th>8760685</th>\n",
       "      <td>2</td>\n",
       "      <td>2018-01-31 23:24:40</td>\n",
       "      <td>2018-01-31 23:25:28</td>\n",
       "      <td>1</td>\n",
       "      <td>0.00</td>\n",
       "      <td>1</td>\n",
       "      <td>N</td>\n",
       "      <td>7</td>\n",
       "      <td>193</td>\n",
       "      <td>2</td>\n",
       "      <td>0.0</td>\n",
       "      <td>0.0</td>\n",
       "      <td>0.0</td>\n",
       "      <td>0.00</td>\n",
       "      <td>0.0</td>\n",
       "      <td>0.0</td>\n",
       "      <td>0.00</td>\n",
       "      <td>NaN</td>\n",
       "      <td>NaN</td>\n",
       "    </tr>\n",
       "    <tr>\n",
       "      <th>8760686</th>\n",
       "      <td>2</td>\n",
       "      <td>2018-01-31 23:28:16</td>\n",
       "      <td>2018-01-31 23:28:38</td>\n",
       "      <td>1</td>\n",
       "      <td>0.00</td>\n",
       "      <td>1</td>\n",
       "      <td>N</td>\n",
       "      <td>7</td>\n",
       "      <td>193</td>\n",
       "      <td>2</td>\n",
       "      <td>0.0</td>\n",
       "      <td>0.0</td>\n",
       "      <td>0.0</td>\n",
       "      <td>0.00</td>\n",
       "      <td>0.0</td>\n",
       "      <td>0.0</td>\n",
       "      <td>0.00</td>\n",
       "      <td>NaN</td>\n",
       "      <td>NaN</td>\n",
       "    </tr>\n",
       "  </tbody>\n",
       "</table>\n",
       "<p>8760687 rows × 19 columns</p>\n",
       "</div>"
      ],
      "text/plain": [
       "         VendorID tpep_pickup_datetime tpep_dropoff_datetime  passenger_count  \\\n",
       "0               1  2018-01-01 00:21:05   2018-01-01 00:24:23                1   \n",
       "1               1  2018-01-01 00:44:55   2018-01-01 01:03:05                1   \n",
       "2               1  2018-01-01 00:08:26   2018-01-01 00:14:21                2   \n",
       "3               1  2018-01-01 00:20:22   2018-01-01 00:52:51                1   \n",
       "4               1  2018-01-01 00:09:18   2018-01-01 00:27:06                2   \n",
       "...           ...                  ...                   ...              ...   \n",
       "8760682         1  2018-01-31 23:21:35   2018-01-31 23:34:20                2   \n",
       "8760683         1  2018-01-31 23:35:51   2018-01-31 23:38:57                1   \n",
       "8760684         2  2018-01-31 23:28:00   2018-01-31 23:37:09                1   \n",
       "8760685         2  2018-01-31 23:24:40   2018-01-31 23:25:28                1   \n",
       "8760686         2  2018-01-31 23:28:16   2018-01-31 23:28:38                1   \n",
       "\n",
       "         trip_distance  RatecodeID store_and_fwd_flag  PULocationID  \\\n",
       "0                 0.50           1                  N            41   \n",
       "1                 2.70           1                  N           239   \n",
       "2                 0.80           1                  N           262   \n",
       "3                10.20           1                  N           140   \n",
       "4                 2.50           1                  N           246   \n",
       "...                ...         ...                ...           ...   \n",
       "8760682           2.80           1                  N           158   \n",
       "8760683           0.60           1                  N           163   \n",
       "8760684           2.95           1                  N            74   \n",
       "8760685           0.00           1                  N             7   \n",
       "8760686           0.00           1                  N             7   \n",
       "\n",
       "         DOLocationID  payment_type  fare_amount  extra  mta_tax  tip_amount  \\\n",
       "0                  24             2          4.5    0.5      0.5        0.00   \n",
       "1                 140             2         14.0    0.5      0.5        0.00   \n",
       "2                 141             1          6.0    0.5      0.5        1.00   \n",
       "3                 257             2         33.5    0.5      0.5        0.00   \n",
       "4                 239             1         12.5    0.5      0.5        2.75   \n",
       "...               ...           ...          ...    ...      ...         ...   \n",
       "8760682           163             1         12.0    0.5      0.5        2.65   \n",
       "8760683           162             1          4.5    0.5      0.5        1.15   \n",
       "8760684            69             2         10.5    0.5      0.5        0.00   \n",
       "8760685           193             2          0.0    0.0      0.0        0.00   \n",
       "8760686           193             2          0.0    0.0      0.0        0.00   \n",
       "\n",
       "         tolls_amount  improvement_surcharge  total_amount  \\\n",
       "0                 0.0                    0.3          5.80   \n",
       "1                 0.0                    0.3         15.30   \n",
       "2                 0.0                    0.3          8.30   \n",
       "3                 0.0                    0.3         34.80   \n",
       "4                 0.0                    0.3         16.55   \n",
       "...               ...                    ...           ...   \n",
       "8760682           0.0                    0.3         15.95   \n",
       "8760683           0.0                    0.3          6.95   \n",
       "8760684           0.0                    0.3         11.80   \n",
       "8760685           0.0                    0.0          0.00   \n",
       "8760686           0.0                    0.0          0.00   \n",
       "\n",
       "         congestion_surcharge  airport_fee  \n",
       "0                         NaN          NaN  \n",
       "1                         NaN          NaN  \n",
       "2                         NaN          NaN  \n",
       "3                         NaN          NaN  \n",
       "4                         NaN          NaN  \n",
       "...                       ...          ...  \n",
       "8760682                   NaN          NaN  \n",
       "8760683                   NaN          NaN  \n",
       "8760684                   NaN          NaN  \n",
       "8760685                   NaN          NaN  \n",
       "8760686                   NaN          NaN  \n",
       "\n",
       "[8760687 rows x 19 columns]"
      ]
     },
     "execution_count": 237,
     "metadata": {},
     "output_type": "execute_result"
    }
   ],
   "source": [
    "data"
   ]
  },
  {
   "cell_type": "code",
   "execution_count": 238,
   "metadata": {},
   "outputs": [
    {
     "data": {
      "text/html": [
       "<div>\n",
       "<style scoped>\n",
       "    .dataframe tbody tr th:only-of-type {\n",
       "        vertical-align: middle;\n",
       "    }\n",
       "\n",
       "    .dataframe tbody tr th {\n",
       "        vertical-align: top;\n",
       "    }\n",
       "\n",
       "    .dataframe thead th {\n",
       "        text-align: right;\n",
       "    }\n",
       "</style>\n",
       "<table border=\"1\" class=\"dataframe\">\n",
       "  <thead>\n",
       "    <tr style=\"text-align: right;\">\n",
       "      <th></th>\n",
       "      <th>VendorID</th>\n",
       "      <th>tpep_pickup_datetime</th>\n",
       "      <th>tpep_dropoff_datetime</th>\n",
       "      <th>passenger_count</th>\n",
       "      <th>trip_distance</th>\n",
       "      <th>RatecodeID</th>\n",
       "      <th>store_and_fwd_flag</th>\n",
       "      <th>PULocationID</th>\n",
       "      <th>DOLocationID</th>\n",
       "      <th>payment_type</th>\n",
       "      <th>fare_amount</th>\n",
       "      <th>extra</th>\n",
       "      <th>mta_tax</th>\n",
       "      <th>tip_amount</th>\n",
       "      <th>tolls_amount</th>\n",
       "      <th>improvement_surcharge</th>\n",
       "      <th>total_amount</th>\n",
       "      <th>congestion_surcharge</th>\n",
       "      <th>airport_fee</th>\n",
       "      <th>Tiempo_Viaje</th>\n",
       "    </tr>\n",
       "  </thead>\n",
       "  <tbody>\n",
       "    <tr>\n",
       "      <th>0</th>\n",
       "      <td>1</td>\n",
       "      <td>2018-01-01 00:21:05</td>\n",
       "      <td>2018-01-01 00:24:23</td>\n",
       "      <td>1</td>\n",
       "      <td>0.50</td>\n",
       "      <td>1</td>\n",
       "      <td>N</td>\n",
       "      <td>41</td>\n",
       "      <td>24</td>\n",
       "      <td>2</td>\n",
       "      <td>4.5</td>\n",
       "      <td>0.5</td>\n",
       "      <td>0.5</td>\n",
       "      <td>0.00</td>\n",
       "      <td>0.0</td>\n",
       "      <td>0.3</td>\n",
       "      <td>5.80</td>\n",
       "      <td>NaN</td>\n",
       "      <td>NaN</td>\n",
       "      <td>0 days 00:03:18</td>\n",
       "    </tr>\n",
       "    <tr>\n",
       "      <th>1</th>\n",
       "      <td>1</td>\n",
       "      <td>2018-01-01 00:44:55</td>\n",
       "      <td>2018-01-01 01:03:05</td>\n",
       "      <td>1</td>\n",
       "      <td>2.70</td>\n",
       "      <td>1</td>\n",
       "      <td>N</td>\n",
       "      <td>239</td>\n",
       "      <td>140</td>\n",
       "      <td>2</td>\n",
       "      <td>14.0</td>\n",
       "      <td>0.5</td>\n",
       "      <td>0.5</td>\n",
       "      <td>0.00</td>\n",
       "      <td>0.0</td>\n",
       "      <td>0.3</td>\n",
       "      <td>15.30</td>\n",
       "      <td>NaN</td>\n",
       "      <td>NaN</td>\n",
       "      <td>0 days 00:18:10</td>\n",
       "    </tr>\n",
       "    <tr>\n",
       "      <th>2</th>\n",
       "      <td>1</td>\n",
       "      <td>2018-01-01 00:08:26</td>\n",
       "      <td>2018-01-01 00:14:21</td>\n",
       "      <td>2</td>\n",
       "      <td>0.80</td>\n",
       "      <td>1</td>\n",
       "      <td>N</td>\n",
       "      <td>262</td>\n",
       "      <td>141</td>\n",
       "      <td>1</td>\n",
       "      <td>6.0</td>\n",
       "      <td>0.5</td>\n",
       "      <td>0.5</td>\n",
       "      <td>1.00</td>\n",
       "      <td>0.0</td>\n",
       "      <td>0.3</td>\n",
       "      <td>8.30</td>\n",
       "      <td>NaN</td>\n",
       "      <td>NaN</td>\n",
       "      <td>0 days 00:05:55</td>\n",
       "    </tr>\n",
       "    <tr>\n",
       "      <th>3</th>\n",
       "      <td>1</td>\n",
       "      <td>2018-01-01 00:20:22</td>\n",
       "      <td>2018-01-01 00:52:51</td>\n",
       "      <td>1</td>\n",
       "      <td>10.20</td>\n",
       "      <td>1</td>\n",
       "      <td>N</td>\n",
       "      <td>140</td>\n",
       "      <td>257</td>\n",
       "      <td>2</td>\n",
       "      <td>33.5</td>\n",
       "      <td>0.5</td>\n",
       "      <td>0.5</td>\n",
       "      <td>0.00</td>\n",
       "      <td>0.0</td>\n",
       "      <td>0.3</td>\n",
       "      <td>34.80</td>\n",
       "      <td>NaN</td>\n",
       "      <td>NaN</td>\n",
       "      <td>0 days 00:32:29</td>\n",
       "    </tr>\n",
       "    <tr>\n",
       "      <th>4</th>\n",
       "      <td>1</td>\n",
       "      <td>2018-01-01 00:09:18</td>\n",
       "      <td>2018-01-01 00:27:06</td>\n",
       "      <td>2</td>\n",
       "      <td>2.50</td>\n",
       "      <td>1</td>\n",
       "      <td>N</td>\n",
       "      <td>246</td>\n",
       "      <td>239</td>\n",
       "      <td>1</td>\n",
       "      <td>12.5</td>\n",
       "      <td>0.5</td>\n",
       "      <td>0.5</td>\n",
       "      <td>2.75</td>\n",
       "      <td>0.0</td>\n",
       "      <td>0.3</td>\n",
       "      <td>16.55</td>\n",
       "      <td>NaN</td>\n",
       "      <td>NaN</td>\n",
       "      <td>0 days 00:17:48</td>\n",
       "    </tr>\n",
       "    <tr>\n",
       "      <th>...</th>\n",
       "      <td>...</td>\n",
       "      <td>...</td>\n",
       "      <td>...</td>\n",
       "      <td>...</td>\n",
       "      <td>...</td>\n",
       "      <td>...</td>\n",
       "      <td>...</td>\n",
       "      <td>...</td>\n",
       "      <td>...</td>\n",
       "      <td>...</td>\n",
       "      <td>...</td>\n",
       "      <td>...</td>\n",
       "      <td>...</td>\n",
       "      <td>...</td>\n",
       "      <td>...</td>\n",
       "      <td>...</td>\n",
       "      <td>...</td>\n",
       "      <td>...</td>\n",
       "      <td>...</td>\n",
       "      <td>...</td>\n",
       "    </tr>\n",
       "    <tr>\n",
       "      <th>8760682</th>\n",
       "      <td>1</td>\n",
       "      <td>2018-01-31 23:21:35</td>\n",
       "      <td>2018-01-31 23:34:20</td>\n",
       "      <td>2</td>\n",
       "      <td>2.80</td>\n",
       "      <td>1</td>\n",
       "      <td>N</td>\n",
       "      <td>158</td>\n",
       "      <td>163</td>\n",
       "      <td>1</td>\n",
       "      <td>12.0</td>\n",
       "      <td>0.5</td>\n",
       "      <td>0.5</td>\n",
       "      <td>2.65</td>\n",
       "      <td>0.0</td>\n",
       "      <td>0.3</td>\n",
       "      <td>15.95</td>\n",
       "      <td>NaN</td>\n",
       "      <td>NaN</td>\n",
       "      <td>0 days 00:12:45</td>\n",
       "    </tr>\n",
       "    <tr>\n",
       "      <th>8760683</th>\n",
       "      <td>1</td>\n",
       "      <td>2018-01-31 23:35:51</td>\n",
       "      <td>2018-01-31 23:38:57</td>\n",
       "      <td>1</td>\n",
       "      <td>0.60</td>\n",
       "      <td>1</td>\n",
       "      <td>N</td>\n",
       "      <td>163</td>\n",
       "      <td>162</td>\n",
       "      <td>1</td>\n",
       "      <td>4.5</td>\n",
       "      <td>0.5</td>\n",
       "      <td>0.5</td>\n",
       "      <td>1.15</td>\n",
       "      <td>0.0</td>\n",
       "      <td>0.3</td>\n",
       "      <td>6.95</td>\n",
       "      <td>NaN</td>\n",
       "      <td>NaN</td>\n",
       "      <td>0 days 00:03:06</td>\n",
       "    </tr>\n",
       "    <tr>\n",
       "      <th>8760684</th>\n",
       "      <td>2</td>\n",
       "      <td>2018-01-31 23:28:00</td>\n",
       "      <td>2018-01-31 23:37:09</td>\n",
       "      <td>1</td>\n",
       "      <td>2.95</td>\n",
       "      <td>1</td>\n",
       "      <td>N</td>\n",
       "      <td>74</td>\n",
       "      <td>69</td>\n",
       "      <td>2</td>\n",
       "      <td>10.5</td>\n",
       "      <td>0.5</td>\n",
       "      <td>0.5</td>\n",
       "      <td>0.00</td>\n",
       "      <td>0.0</td>\n",
       "      <td>0.3</td>\n",
       "      <td>11.80</td>\n",
       "      <td>NaN</td>\n",
       "      <td>NaN</td>\n",
       "      <td>0 days 00:09:09</td>\n",
       "    </tr>\n",
       "    <tr>\n",
       "      <th>8760685</th>\n",
       "      <td>2</td>\n",
       "      <td>2018-01-31 23:24:40</td>\n",
       "      <td>2018-01-31 23:25:28</td>\n",
       "      <td>1</td>\n",
       "      <td>0.00</td>\n",
       "      <td>1</td>\n",
       "      <td>N</td>\n",
       "      <td>7</td>\n",
       "      <td>193</td>\n",
       "      <td>2</td>\n",
       "      <td>0.0</td>\n",
       "      <td>0.0</td>\n",
       "      <td>0.0</td>\n",
       "      <td>0.00</td>\n",
       "      <td>0.0</td>\n",
       "      <td>0.0</td>\n",
       "      <td>0.00</td>\n",
       "      <td>NaN</td>\n",
       "      <td>NaN</td>\n",
       "      <td>0 days 00:00:48</td>\n",
       "    </tr>\n",
       "    <tr>\n",
       "      <th>8760686</th>\n",
       "      <td>2</td>\n",
       "      <td>2018-01-31 23:28:16</td>\n",
       "      <td>2018-01-31 23:28:38</td>\n",
       "      <td>1</td>\n",
       "      <td>0.00</td>\n",
       "      <td>1</td>\n",
       "      <td>N</td>\n",
       "      <td>7</td>\n",
       "      <td>193</td>\n",
       "      <td>2</td>\n",
       "      <td>0.0</td>\n",
       "      <td>0.0</td>\n",
       "      <td>0.0</td>\n",
       "      <td>0.00</td>\n",
       "      <td>0.0</td>\n",
       "      <td>0.0</td>\n",
       "      <td>0.00</td>\n",
       "      <td>NaN</td>\n",
       "      <td>NaN</td>\n",
       "      <td>0 days 00:00:22</td>\n",
       "    </tr>\n",
       "  </tbody>\n",
       "</table>\n",
       "<p>8760687 rows × 20 columns</p>\n",
       "</div>"
      ],
      "text/plain": [
       "         VendorID tpep_pickup_datetime tpep_dropoff_datetime  passenger_count  \\\n",
       "0               1  2018-01-01 00:21:05   2018-01-01 00:24:23                1   \n",
       "1               1  2018-01-01 00:44:55   2018-01-01 01:03:05                1   \n",
       "2               1  2018-01-01 00:08:26   2018-01-01 00:14:21                2   \n",
       "3               1  2018-01-01 00:20:22   2018-01-01 00:52:51                1   \n",
       "4               1  2018-01-01 00:09:18   2018-01-01 00:27:06                2   \n",
       "...           ...                  ...                   ...              ...   \n",
       "8760682         1  2018-01-31 23:21:35   2018-01-31 23:34:20                2   \n",
       "8760683         1  2018-01-31 23:35:51   2018-01-31 23:38:57                1   \n",
       "8760684         2  2018-01-31 23:28:00   2018-01-31 23:37:09                1   \n",
       "8760685         2  2018-01-31 23:24:40   2018-01-31 23:25:28                1   \n",
       "8760686         2  2018-01-31 23:28:16   2018-01-31 23:28:38                1   \n",
       "\n",
       "         trip_distance  RatecodeID store_and_fwd_flag  PULocationID  \\\n",
       "0                 0.50           1                  N            41   \n",
       "1                 2.70           1                  N           239   \n",
       "2                 0.80           1                  N           262   \n",
       "3                10.20           1                  N           140   \n",
       "4                 2.50           1                  N           246   \n",
       "...                ...         ...                ...           ...   \n",
       "8760682           2.80           1                  N           158   \n",
       "8760683           0.60           1                  N           163   \n",
       "8760684           2.95           1                  N            74   \n",
       "8760685           0.00           1                  N             7   \n",
       "8760686           0.00           1                  N             7   \n",
       "\n",
       "         DOLocationID  payment_type  fare_amount  extra  mta_tax  tip_amount  \\\n",
       "0                  24             2          4.5    0.5      0.5        0.00   \n",
       "1                 140             2         14.0    0.5      0.5        0.00   \n",
       "2                 141             1          6.0    0.5      0.5        1.00   \n",
       "3                 257             2         33.5    0.5      0.5        0.00   \n",
       "4                 239             1         12.5    0.5      0.5        2.75   \n",
       "...               ...           ...          ...    ...      ...         ...   \n",
       "8760682           163             1         12.0    0.5      0.5        2.65   \n",
       "8760683           162             1          4.5    0.5      0.5        1.15   \n",
       "8760684            69             2         10.5    0.5      0.5        0.00   \n",
       "8760685           193             2          0.0    0.0      0.0        0.00   \n",
       "8760686           193             2          0.0    0.0      0.0        0.00   \n",
       "\n",
       "         tolls_amount  improvement_surcharge  total_amount  \\\n",
       "0                 0.0                    0.3          5.80   \n",
       "1                 0.0                    0.3         15.30   \n",
       "2                 0.0                    0.3          8.30   \n",
       "3                 0.0                    0.3         34.80   \n",
       "4                 0.0                    0.3         16.55   \n",
       "...               ...                    ...           ...   \n",
       "8760682           0.0                    0.3         15.95   \n",
       "8760683           0.0                    0.3          6.95   \n",
       "8760684           0.0                    0.3         11.80   \n",
       "8760685           0.0                    0.0          0.00   \n",
       "8760686           0.0                    0.0          0.00   \n",
       "\n",
       "         congestion_surcharge  airport_fee    Tiempo_Viaje  \n",
       "0                         NaN          NaN 0 days 00:03:18  \n",
       "1                         NaN          NaN 0 days 00:18:10  \n",
       "2                         NaN          NaN 0 days 00:05:55  \n",
       "3                         NaN          NaN 0 days 00:32:29  \n",
       "4                         NaN          NaN 0 days 00:17:48  \n",
       "...                       ...          ...             ...  \n",
       "8760682                   NaN          NaN 0 days 00:12:45  \n",
       "8760683                   NaN          NaN 0 days 00:03:06  \n",
       "8760684                   NaN          NaN 0 days 00:09:09  \n",
       "8760685                   NaN          NaN 0 days 00:00:48  \n",
       "8760686                   NaN          NaN 0 days 00:00:22  \n",
       "\n",
       "[8760687 rows x 20 columns]"
      ]
     },
     "execution_count": 238,
     "metadata": {},
     "output_type": "execute_result"
    }
   ],
   "source": [
    "data[\"Tiempo_Viaje\"]=data[\"tpep_dropoff_datetime\"]-data[\"tpep_pickup_datetime\"]\n",
    "data"
   ]
  },
  {
   "cell_type": "code",
   "execution_count": 239,
   "metadata": {},
   "outputs": [
    {
     "name": "stdout",
     "output_type": "stream",
     "text": [
      "<class 'pandas.core.frame.DataFrame'>\n",
      "RangeIndex: 8760687 entries, 0 to 8760686\n",
      "Data columns (total 20 columns):\n",
      " #   Column                 Dtype          \n",
      "---  ------                 -----          \n",
      " 0   VendorID               int64          \n",
      " 1   tpep_pickup_datetime   datetime64[ns] \n",
      " 2   tpep_dropoff_datetime  datetime64[ns] \n",
      " 3   passenger_count        int64          \n",
      " 4   trip_distance          float64        \n",
      " 5   RatecodeID             int64          \n",
      " 6   store_and_fwd_flag     object         \n",
      " 7   PULocationID           int64          \n",
      " 8   DOLocationID           int64          \n",
      " 9   payment_type           int64          \n",
      " 10  fare_amount            float64        \n",
      " 11  extra                  float64        \n",
      " 12  mta_tax                float64        \n",
      " 13  tip_amount             float64        \n",
      " 14  tolls_amount           float64        \n",
      " 15  improvement_surcharge  float64        \n",
      " 16  total_amount           float64        \n",
      " 17  congestion_surcharge   float64        \n",
      " 18  airport_fee            float64        \n",
      " 19  Tiempo_Viaje           timedelta64[ns]\n",
      "dtypes: datetime64[ns](2), float64(10), int64(6), object(1), timedelta64[ns](1)\n",
      "memory usage: 1.3+ GB\n"
     ]
    }
   ],
   "source": [
    "data.info()"
   ]
  },
  {
   "cell_type": "markdown",
   "metadata": {},
   "source": [
    "### Valores extraños"
   ]
  },
  {
   "cell_type": "code",
   "execution_count": 240,
   "metadata": {},
   "outputs": [
    {
     "data": {
      "text/plain": [
       "<AxesSubplot:>"
      ]
     },
     "execution_count": 240,
     "metadata": {},
     "output_type": "execute_result"
    },
    {
     "data": {
      "image/png": "[encoded data removed]",
      "text/plain": [
       "<Figure size 576x576 with 1 Axes>"
      ]
     },
     "metadata": {},
     "output_type": "display_data"
    }
   ],
   "source": [
    "data[\"Tiempo_Viaje\"].plot()"
   ]
  },
  {
   "cell_type": "code",
   "execution_count": 241,
   "metadata": {},
   "outputs": [
    {
     "data": {
      "text/html": [
       "<div>\n",
       "<style scoped>\n",
       "    .dataframe tbody tr th:only-of-type {\n",
       "        vertical-align: middle;\n",
       "    }\n",
       "\n",
       "    .dataframe tbody tr th {\n",
       "        vertical-align: top;\n",
       "    }\n",
       "\n",
       "    .dataframe thead th {\n",
       "        text-align: right;\n",
       "    }\n",
       "</style>\n",
       "<table border=\"1\" class=\"dataframe\">\n",
       "  <thead>\n",
       "    <tr style=\"text-align: right;\">\n",
       "      <th></th>\n",
       "      <th>VendorID</th>\n",
       "      <th>tpep_pickup_datetime</th>\n",
       "      <th>tpep_dropoff_datetime</th>\n",
       "      <th>passenger_count</th>\n",
       "      <th>trip_distance</th>\n",
       "      <th>RatecodeID</th>\n",
       "      <th>store_and_fwd_flag</th>\n",
       "      <th>PULocationID</th>\n",
       "      <th>DOLocationID</th>\n",
       "      <th>payment_type</th>\n",
       "      <th>fare_amount</th>\n",
       "      <th>extra</th>\n",
       "      <th>mta_tax</th>\n",
       "      <th>tip_amount</th>\n",
       "      <th>tolls_amount</th>\n",
       "      <th>improvement_surcharge</th>\n",
       "      <th>total_amount</th>\n",
       "      <th>congestion_surcharge</th>\n",
       "      <th>airport_fee</th>\n",
       "      <th>Tiempo_Viaje</th>\n",
       "    </tr>\n",
       "  </thead>\n",
       "  <tbody>\n",
       "    <tr>\n",
       "      <th>158888</th>\n",
       "      <td>1</td>\n",
       "      <td>2018-01-01 15:15:13</td>\n",
       "      <td>2017-12-28 16:03:38</td>\n",
       "      <td>1</td>\n",
       "      <td>3.3</td>\n",
       "      <td>1</td>\n",
       "      <td>N</td>\n",
       "      <td>209</td>\n",
       "      <td>137</td>\n",
       "      <td>1</td>\n",
       "      <td>13.0</td>\n",
       "      <td>0.5</td>\n",
       "      <td>0.5</td>\n",
       "      <td>2.85</td>\n",
       "      <td>0.00</td>\n",
       "      <td>0.3</td>\n",
       "      <td>17.15</td>\n",
       "      <td>NaN</td>\n",
       "      <td>NaN</td>\n",
       "      <td>-4 days +00:48:25</td>\n",
       "    </tr>\n",
       "    <tr>\n",
       "      <th>6146145</th>\n",
       "      <td>1</td>\n",
       "      <td>2018-01-23 13:12:19</td>\n",
       "      <td>2018-01-23 00:28:25</td>\n",
       "      <td>2</td>\n",
       "      <td>20.9</td>\n",
       "      <td>2</td>\n",
       "      <td>N</td>\n",
       "      <td>132</td>\n",
       "      <td>244</td>\n",
       "      <td>2</td>\n",
       "      <td>52.0</td>\n",
       "      <td>0.0</td>\n",
       "      <td>0.5</td>\n",
       "      <td>0.00</td>\n",
       "      <td>5.76</td>\n",
       "      <td>0.3</td>\n",
       "      <td>58.56</td>\n",
       "      <td>NaN</td>\n",
       "      <td>NaN</td>\n",
       "      <td>-1 days +11:16:06</td>\n",
       "    </tr>\n",
       "  </tbody>\n",
       "</table>\n",
       "</div>"
      ],
      "text/plain": [
       "         VendorID tpep_pickup_datetime tpep_dropoff_datetime  passenger_count  \\\n",
       "158888          1  2018-01-01 15:15:13   2017-12-28 16:03:38                1   \n",
       "6146145         1  2018-01-23 13:12:19   2018-01-23 00:28:25                2   \n",
       "\n",
       "         trip_distance  RatecodeID store_and_fwd_flag  PULocationID  \\\n",
       "158888             3.3           1                  N           209   \n",
       "6146145           20.9           2                  N           132   \n",
       "\n",
       "         DOLocationID  payment_type  fare_amount  extra  mta_tax  tip_amount  \\\n",
       "158888            137             1         13.0    0.5      0.5        2.85   \n",
       "6146145           244             2         52.0    0.0      0.5        0.00   \n",
       "\n",
       "         tolls_amount  improvement_surcharge  total_amount  \\\n",
       "158888           0.00                    0.3         17.15   \n",
       "6146145          5.76                    0.3         58.56   \n",
       "\n",
       "         congestion_surcharge  airport_fee      Tiempo_Viaje  \n",
       "158888                    NaN          NaN -4 days +00:48:25  \n",
       "6146145                   NaN          NaN -1 days +11:16:06  "
      ]
     },
     "execution_count": 241,
     "metadata": {},
     "output_type": "execute_result"
    }
   ],
   "source": [
    "data[data[\"Tiempo_Viaje\"]<timedelta(0)]"
   ]
  },
  {
   "cell_type": "code",
   "execution_count": 242,
   "metadata": {},
   "outputs": [
    {
     "data": {
      "text/html": [
       "<div>\n",
       "<style scoped>\n",
       "    .dataframe tbody tr th:only-of-type {\n",
       "        vertical-align: middle;\n",
       "    }\n",
       "\n",
       "    .dataframe tbody tr th {\n",
       "        vertical-align: top;\n",
       "    }\n",
       "\n",
       "    .dataframe thead th {\n",
       "        text-align: right;\n",
       "    }\n",
       "</style>\n",
       "<table border=\"1\" class=\"dataframe\">\n",
       "  <thead>\n",
       "    <tr style=\"text-align: right;\">\n",
       "      <th></th>\n",
       "      <th>VendorID</th>\n",
       "      <th>tpep_pickup_datetime</th>\n",
       "      <th>tpep_dropoff_datetime</th>\n",
       "      <th>passenger_count</th>\n",
       "      <th>trip_distance</th>\n",
       "      <th>RatecodeID</th>\n",
       "      <th>store_and_fwd_flag</th>\n",
       "      <th>PULocationID</th>\n",
       "      <th>DOLocationID</th>\n",
       "      <th>payment_type</th>\n",
       "      <th>fare_amount</th>\n",
       "      <th>extra</th>\n",
       "      <th>mta_tax</th>\n",
       "      <th>tip_amount</th>\n",
       "      <th>tolls_amount</th>\n",
       "      <th>improvement_surcharge</th>\n",
       "      <th>total_amount</th>\n",
       "      <th>congestion_surcharge</th>\n",
       "      <th>airport_fee</th>\n",
       "      <th>Tiempo_Viaje</th>\n",
       "    </tr>\n",
       "  </thead>\n",
       "  <tbody>\n",
       "    <tr>\n",
       "      <th>58</th>\n",
       "      <td>2</td>\n",
       "      <td>2018-01-01 01:02:39</td>\n",
       "      <td>2018-01-01 01:04:02</td>\n",
       "      <td>2</td>\n",
       "      <td>0.09</td>\n",
       "      <td>1</td>\n",
       "      <td>N</td>\n",
       "      <td>87</td>\n",
       "      <td>87</td>\n",
       "      <td>4</td>\n",
       "      <td>-3.0</td>\n",
       "      <td>-0.5</td>\n",
       "      <td>-0.5</td>\n",
       "      <td>0.0</td>\n",
       "      <td>0.0</td>\n",
       "      <td>-0.3</td>\n",
       "      <td>-4.3</td>\n",
       "      <td>NaN</td>\n",
       "      <td>NaN</td>\n",
       "      <td>0 days 00:01:23</td>\n",
       "    </tr>\n",
       "    <tr>\n",
       "      <th>840</th>\n",
       "      <td>2</td>\n",
       "      <td>2018-01-01 00:38:19</td>\n",
       "      <td>2018-01-01 00:55:57</td>\n",
       "      <td>1</td>\n",
       "      <td>0.41</td>\n",
       "      <td>1</td>\n",
       "      <td>N</td>\n",
       "      <td>68</td>\n",
       "      <td>68</td>\n",
       "      <td>4</td>\n",
       "      <td>-11.0</td>\n",
       "      <td>-0.5</td>\n",
       "      <td>-0.5</td>\n",
       "      <td>0.0</td>\n",
       "      <td>0.0</td>\n",
       "      <td>-0.3</td>\n",
       "      <td>-12.3</td>\n",
       "      <td>NaN</td>\n",
       "      <td>NaN</td>\n",
       "      <td>0 days 00:17:38</td>\n",
       "    </tr>\n",
       "    <tr>\n",
       "      <th>3862</th>\n",
       "      <td>2</td>\n",
       "      <td>2018-01-01 00:46:31</td>\n",
       "      <td>2018-01-01 00:46:34</td>\n",
       "      <td>1</td>\n",
       "      <td>0.00</td>\n",
       "      <td>5</td>\n",
       "      <td>N</td>\n",
       "      <td>264</td>\n",
       "      <td>238</td>\n",
       "      <td>4</td>\n",
       "      <td>-13.8</td>\n",
       "      <td>0.0</td>\n",
       "      <td>0.0</td>\n",
       "      <td>0.0</td>\n",
       "      <td>0.0</td>\n",
       "      <td>-0.3</td>\n",
       "      <td>-14.1</td>\n",
       "      <td>NaN</td>\n",
       "      <td>NaN</td>\n",
       "      <td>0 days 00:00:03</td>\n",
       "    </tr>\n",
       "    <tr>\n",
       "      <th>4084</th>\n",
       "      <td>2</td>\n",
       "      <td>2018-01-01 00:47:40</td>\n",
       "      <td>2018-01-01 00:49:06</td>\n",
       "      <td>1</td>\n",
       "      <td>0.13</td>\n",
       "      <td>1</td>\n",
       "      <td>N</td>\n",
       "      <td>137</td>\n",
       "      <td>137</td>\n",
       "      <td>3</td>\n",
       "      <td>-3.0</td>\n",
       "      <td>-0.5</td>\n",
       "      <td>-0.5</td>\n",
       "      <td>0.0</td>\n",
       "      <td>0.0</td>\n",
       "      <td>-0.3</td>\n",
       "      <td>-4.3</td>\n",
       "      <td>NaN</td>\n",
       "      <td>NaN</td>\n",
       "      <td>0 days 00:01:26</td>\n",
       "    </tr>\n",
       "    <tr>\n",
       "      <th>4242</th>\n",
       "      <td>2</td>\n",
       "      <td>2018-01-01 00:11:10</td>\n",
       "      <td>2018-01-01 00:15:14</td>\n",
       "      <td>1</td>\n",
       "      <td>0.16</td>\n",
       "      <td>1</td>\n",
       "      <td>N</td>\n",
       "      <td>137</td>\n",
       "      <td>170</td>\n",
       "      <td>4</td>\n",
       "      <td>-4.5</td>\n",
       "      <td>-0.5</td>\n",
       "      <td>-0.5</td>\n",
       "      <td>0.0</td>\n",
       "      <td>0.0</td>\n",
       "      <td>-0.3</td>\n",
       "      <td>-5.8</td>\n",
       "      <td>NaN</td>\n",
       "      <td>NaN</td>\n",
       "      <td>0 days 00:04:04</td>\n",
       "    </tr>\n",
       "    <tr>\n",
       "      <th>...</th>\n",
       "      <td>...</td>\n",
       "      <td>...</td>\n",
       "      <td>...</td>\n",
       "      <td>...</td>\n",
       "      <td>...</td>\n",
       "      <td>...</td>\n",
       "      <td>...</td>\n",
       "      <td>...</td>\n",
       "      <td>...</td>\n",
       "      <td>...</td>\n",
       "      <td>...</td>\n",
       "      <td>...</td>\n",
       "      <td>...</td>\n",
       "      <td>...</td>\n",
       "      <td>...</td>\n",
       "      <td>...</td>\n",
       "      <td>...</td>\n",
       "      <td>...</td>\n",
       "      <td>...</td>\n",
       "      <td>...</td>\n",
       "    </tr>\n",
       "    <tr>\n",
       "      <th>8754678</th>\n",
       "      <td>2</td>\n",
       "      <td>2018-01-31 23:21:05</td>\n",
       "      <td>2018-01-31 23:24:44</td>\n",
       "      <td>1</td>\n",
       "      <td>0.69</td>\n",
       "      <td>1</td>\n",
       "      <td>N</td>\n",
       "      <td>164</td>\n",
       "      <td>234</td>\n",
       "      <td>3</td>\n",
       "      <td>-4.5</td>\n",
       "      <td>-0.5</td>\n",
       "      <td>-0.5</td>\n",
       "      <td>0.0</td>\n",
       "      <td>0.0</td>\n",
       "      <td>-0.3</td>\n",
       "      <td>-5.8</td>\n",
       "      <td>NaN</td>\n",
       "      <td>NaN</td>\n",
       "      <td>0 days 00:03:39</td>\n",
       "    </tr>\n",
       "    <tr>\n",
       "      <th>8754757</th>\n",
       "      <td>2</td>\n",
       "      <td>2018-01-31 23:26:11</td>\n",
       "      <td>2018-01-31 23:26:46</td>\n",
       "      <td>2</td>\n",
       "      <td>0.03</td>\n",
       "      <td>1</td>\n",
       "      <td>N</td>\n",
       "      <td>68</td>\n",
       "      <td>246</td>\n",
       "      <td>4</td>\n",
       "      <td>-2.5</td>\n",
       "      <td>-0.5</td>\n",
       "      <td>-0.5</td>\n",
       "      <td>0.0</td>\n",
       "      <td>0.0</td>\n",
       "      <td>-0.3</td>\n",
       "      <td>-3.8</td>\n",
       "      <td>NaN</td>\n",
       "      <td>NaN</td>\n",
       "      <td>0 days 00:00:35</td>\n",
       "    </tr>\n",
       "    <tr>\n",
       "      <th>8755958</th>\n",
       "      <td>2</td>\n",
       "      <td>2018-01-31 23:21:56</td>\n",
       "      <td>2018-01-31 23:21:59</td>\n",
       "      <td>1</td>\n",
       "      <td>0.00</td>\n",
       "      <td>1</td>\n",
       "      <td>N</td>\n",
       "      <td>264</td>\n",
       "      <td>112</td>\n",
       "      <td>4</td>\n",
       "      <td>-2.5</td>\n",
       "      <td>-0.5</td>\n",
       "      <td>-0.5</td>\n",
       "      <td>0.0</td>\n",
       "      <td>0.0</td>\n",
       "      <td>-0.3</td>\n",
       "      <td>-3.8</td>\n",
       "      <td>NaN</td>\n",
       "      <td>NaN</td>\n",
       "      <td>0 days 00:00:03</td>\n",
       "    </tr>\n",
       "    <tr>\n",
       "      <th>8756003</th>\n",
       "      <td>2</td>\n",
       "      <td>2018-01-31 23:56:06</td>\n",
       "      <td>2018-01-31 23:57:06</td>\n",
       "      <td>2</td>\n",
       "      <td>0.12</td>\n",
       "      <td>1</td>\n",
       "      <td>N</td>\n",
       "      <td>246</td>\n",
       "      <td>246</td>\n",
       "      <td>4</td>\n",
       "      <td>-2.5</td>\n",
       "      <td>-0.5</td>\n",
       "      <td>-0.5</td>\n",
       "      <td>0.0</td>\n",
       "      <td>0.0</td>\n",
       "      <td>-0.3</td>\n",
       "      <td>-3.8</td>\n",
       "      <td>NaN</td>\n",
       "      <td>NaN</td>\n",
       "      <td>0 days 00:01:00</td>\n",
       "    </tr>\n",
       "    <tr>\n",
       "      <th>8757703</th>\n",
       "      <td>2</td>\n",
       "      <td>2018-01-31 23:05:23</td>\n",
       "      <td>2018-01-31 23:05:32</td>\n",
       "      <td>1</td>\n",
       "      <td>0.00</td>\n",
       "      <td>1</td>\n",
       "      <td>N</td>\n",
       "      <td>193</td>\n",
       "      <td>193</td>\n",
       "      <td>3</td>\n",
       "      <td>-2.5</td>\n",
       "      <td>-0.5</td>\n",
       "      <td>-0.5</td>\n",
       "      <td>0.0</td>\n",
       "      <td>0.0</td>\n",
       "      <td>-0.3</td>\n",
       "      <td>-3.8</td>\n",
       "      <td>NaN</td>\n",
       "      <td>NaN</td>\n",
       "      <td>0 days 00:00:09</td>\n",
       "    </tr>\n",
       "  </tbody>\n",
       "</table>\n",
       "<p>4260 rows × 20 columns</p>\n",
       "</div>"
      ],
      "text/plain": [
       "         VendorID tpep_pickup_datetime tpep_dropoff_datetime  passenger_count  \\\n",
       "58              2  2018-01-01 01:02:39   2018-01-01 01:04:02                2   \n",
       "840             2  2018-01-01 00:38:19   2018-01-01 00:55:57                1   \n",
       "3862            2  2018-01-01 00:46:31   2018-01-01 00:46:34                1   \n",
       "4084            2  2018-01-01 00:47:40   2018-01-01 00:49:06                1   \n",
       "4242            2  2018-01-01 00:11:10   2018-01-01 00:15:14                1   \n",
       "...           ...                  ...                   ...              ...   \n",
       "8754678         2  2018-01-31 23:21:05   2018-01-31 23:24:44                1   \n",
       "8754757         2  2018-01-31 23:26:11   2018-01-31 23:26:46                2   \n",
       "8755958         2  2018-01-31 23:21:56   2018-01-31 23:21:59                1   \n",
       "8756003         2  2018-01-31 23:56:06   2018-01-31 23:57:06                2   \n",
       "8757703         2  2018-01-31 23:05:23   2018-01-31 23:05:32                1   \n",
       "\n",
       "         trip_distance  RatecodeID store_and_fwd_flag  PULocationID  \\\n",
       "58                0.09           1                  N            87   \n",
       "840               0.41           1                  N            68   \n",
       "3862              0.00           5                  N           264   \n",
       "4084              0.13           1                  N           137   \n",
       "4242              0.16           1                  N           137   \n",
       "...                ...         ...                ...           ...   \n",
       "8754678           0.69           1                  N           164   \n",
       "8754757           0.03           1                  N            68   \n",
       "8755958           0.00           1                  N           264   \n",
       "8756003           0.12           1                  N           246   \n",
       "8757703           0.00           1                  N           193   \n",
       "\n",
       "         DOLocationID  payment_type  fare_amount  extra  mta_tax  tip_amount  \\\n",
       "58                 87             4         -3.0   -0.5     -0.5         0.0   \n",
       "840                68             4        -11.0   -0.5     -0.5         0.0   \n",
       "3862              238             4        -13.8    0.0      0.0         0.0   \n",
       "4084              137             3         -3.0   -0.5     -0.5         0.0   \n",
       "4242              170             4         -4.5   -0.5     -0.5         0.0   \n",
       "...               ...           ...          ...    ...      ...         ...   \n",
       "8754678           234             3         -4.5   -0.5     -0.5         0.0   \n",
       "8754757           246             4         -2.5   -0.5     -0.5         0.0   \n",
       "8755958           112             4         -2.5   -0.5     -0.5         0.0   \n",
       "8756003           246             4         -2.5   -0.5     -0.5         0.0   \n",
       "8757703           193             3         -2.5   -0.5     -0.5         0.0   \n",
       "\n",
       "         tolls_amount  improvement_surcharge  total_amount  \\\n",
       "58                0.0                   -0.3          -4.3   \n",
       "840               0.0                   -0.3         -12.3   \n",
       "3862              0.0                   -0.3         -14.1   \n",
       "4084              0.0                   -0.3          -4.3   \n",
       "4242              0.0                   -0.3          -5.8   \n",
       "...               ...                    ...           ...   \n",
       "8754678           0.0                   -0.3          -5.8   \n",
       "8754757           0.0                   -0.3          -3.8   \n",
       "8755958           0.0                   -0.3          -3.8   \n",
       "8756003           0.0                   -0.3          -3.8   \n",
       "8757703           0.0                   -0.3          -3.8   \n",
       "\n",
       "         congestion_surcharge  airport_fee    Tiempo_Viaje  \n",
       "58                        NaN          NaN 0 days 00:01:23  \n",
       "840                       NaN          NaN 0 days 00:17:38  \n",
       "3862                      NaN          NaN 0 days 00:00:03  \n",
       "4084                      NaN          NaN 0 days 00:01:26  \n",
       "4242                      NaN          NaN 0 days 00:04:04  \n",
       "...                       ...          ...             ...  \n",
       "8754678                   NaN          NaN 0 days 00:03:39  \n",
       "8754757                   NaN          NaN 0 days 00:00:35  \n",
       "8755958                   NaN          NaN 0 days 00:00:03  \n",
       "8756003                   NaN          NaN 0 days 00:01:00  \n",
       "8757703                   NaN          NaN 0 days 00:00:09  \n",
       "\n",
       "[4260 rows x 20 columns]"
      ]
     },
     "execution_count": 242,
     "metadata": {},
     "output_type": "execute_result"
    }
   ],
   "source": [
    "data[data[\"fare_amount\"]<0]"
   ]
  },
  {
   "cell_type": "code",
   "execution_count": 243,
   "metadata": {},
   "outputs": [
    {
     "data": {
      "text/html": [
       "<div>\n",
       "<style scoped>\n",
       "    .dataframe tbody tr th:only-of-type {\n",
       "        vertical-align: middle;\n",
       "    }\n",
       "\n",
       "    .dataframe tbody tr th {\n",
       "        vertical-align: top;\n",
       "    }\n",
       "\n",
       "    .dataframe thead th {\n",
       "        text-align: right;\n",
       "    }\n",
       "</style>\n",
       "<table border=\"1\" class=\"dataframe\">\n",
       "  <thead>\n",
       "    <tr style=\"text-align: right;\">\n",
       "      <th></th>\n",
       "      <th>VendorID</th>\n",
       "      <th>tpep_pickup_datetime</th>\n",
       "      <th>tpep_dropoff_datetime</th>\n",
       "      <th>passenger_count</th>\n",
       "      <th>trip_distance</th>\n",
       "      <th>RatecodeID</th>\n",
       "      <th>store_and_fwd_flag</th>\n",
       "      <th>PULocationID</th>\n",
       "      <th>DOLocationID</th>\n",
       "      <th>payment_type</th>\n",
       "      <th>fare_amount</th>\n",
       "      <th>extra</th>\n",
       "      <th>mta_tax</th>\n",
       "      <th>tip_amount</th>\n",
       "      <th>tolls_amount</th>\n",
       "      <th>improvement_surcharge</th>\n",
       "      <th>total_amount</th>\n",
       "      <th>congestion_surcharge</th>\n",
       "      <th>airport_fee</th>\n",
       "      <th>Tiempo_Viaje</th>\n",
       "    </tr>\n",
       "  </thead>\n",
       "  <tbody>\n",
       "    <tr>\n",
       "      <th>118030</th>\n",
       "      <td>2</td>\n",
       "      <td>2018-01-01 12:23:32</td>\n",
       "      <td>2018-01-01 12:27:08</td>\n",
       "      <td>1</td>\n",
       "      <td>0.48</td>\n",
       "      <td>1</td>\n",
       "      <td>N</td>\n",
       "      <td>50</td>\n",
       "      <td>246</td>\n",
       "      <td>3</td>\n",
       "      <td>-4.5</td>\n",
       "      <td>0.0</td>\n",
       "      <td>-0.5</td>\n",
       "      <td>-1.00</td>\n",
       "      <td>0.0</td>\n",
       "      <td>-0.3</td>\n",
       "      <td>-6.30</td>\n",
       "      <td>NaN</td>\n",
       "      <td>NaN</td>\n",
       "      <td>0 days 00:03:36</td>\n",
       "    </tr>\n",
       "    <tr>\n",
       "      <th>259470</th>\n",
       "      <td>2</td>\n",
       "      <td>2018-01-02 07:25:06</td>\n",
       "      <td>2018-01-02 07:25:21</td>\n",
       "      <td>1</td>\n",
       "      <td>0.00</td>\n",
       "      <td>1</td>\n",
       "      <td>N</td>\n",
       "      <td>230</td>\n",
       "      <td>230</td>\n",
       "      <td>3</td>\n",
       "      <td>-2.5</td>\n",
       "      <td>0.0</td>\n",
       "      <td>-0.5</td>\n",
       "      <td>-0.50</td>\n",
       "      <td>0.0</td>\n",
       "      <td>-0.3</td>\n",
       "      <td>-3.80</td>\n",
       "      <td>NaN</td>\n",
       "      <td>NaN</td>\n",
       "      <td>0 days 00:00:15</td>\n",
       "    </tr>\n",
       "    <tr>\n",
       "      <th>531790</th>\n",
       "      <td>2</td>\n",
       "      <td>2018-01-03 09:39:12</td>\n",
       "      <td>2018-01-03 09:39:46</td>\n",
       "      <td>2</td>\n",
       "      <td>0.02</td>\n",
       "      <td>1</td>\n",
       "      <td>N</td>\n",
       "      <td>50</td>\n",
       "      <td>50</td>\n",
       "      <td>3</td>\n",
       "      <td>-2.5</td>\n",
       "      <td>0.0</td>\n",
       "      <td>-0.5</td>\n",
       "      <td>-0.50</td>\n",
       "      <td>0.0</td>\n",
       "      <td>-0.3</td>\n",
       "      <td>-5.75</td>\n",
       "      <td>NaN</td>\n",
       "      <td>NaN</td>\n",
       "      <td>0 days 00:00:34</td>\n",
       "    </tr>\n",
       "    <tr>\n",
       "      <th>759165</th>\n",
       "      <td>2</td>\n",
       "      <td>2018-01-04 06:49:40</td>\n",
       "      <td>2018-01-04 06:50:05</td>\n",
       "      <td>3</td>\n",
       "      <td>0.00</td>\n",
       "      <td>1</td>\n",
       "      <td>N</td>\n",
       "      <td>68</td>\n",
       "      <td>68</td>\n",
       "      <td>4</td>\n",
       "      <td>-2.5</td>\n",
       "      <td>0.0</td>\n",
       "      <td>-0.5</td>\n",
       "      <td>-0.66</td>\n",
       "      <td>0.0</td>\n",
       "      <td>-0.3</td>\n",
       "      <td>-5.91</td>\n",
       "      <td>NaN</td>\n",
       "      <td>NaN</td>\n",
       "      <td>0 days 00:00:25</td>\n",
       "    </tr>\n",
       "    <tr>\n",
       "      <th>821413</th>\n",
       "      <td>2</td>\n",
       "      <td>2018-01-04 16:14:35</td>\n",
       "      <td>2018-01-04 16:15:00</td>\n",
       "      <td>1</td>\n",
       "      <td>0.10</td>\n",
       "      <td>1</td>\n",
       "      <td>N</td>\n",
       "      <td>111</td>\n",
       "      <td>111</td>\n",
       "      <td>3</td>\n",
       "      <td>-2.5</td>\n",
       "      <td>-1.0</td>\n",
       "      <td>-0.5</td>\n",
       "      <td>-0.26</td>\n",
       "      <td>0.0</td>\n",
       "      <td>-0.3</td>\n",
       "      <td>-6.51</td>\n",
       "      <td>NaN</td>\n",
       "      <td>NaN</td>\n",
       "      <td>0 days 00:00:25</td>\n",
       "    </tr>\n",
       "    <tr>\n",
       "      <th>1001287</th>\n",
       "      <td>2</td>\n",
       "      <td>2018-01-05 16:40:16</td>\n",
       "      <td>2018-01-05 16:41:25</td>\n",
       "      <td>1</td>\n",
       "      <td>0.00</td>\n",
       "      <td>1</td>\n",
       "      <td>N</td>\n",
       "      <td>264</td>\n",
       "      <td>193</td>\n",
       "      <td>3</td>\n",
       "      <td>-2.5</td>\n",
       "      <td>-1.0</td>\n",
       "      <td>-0.5</td>\n",
       "      <td>-2.00</td>\n",
       "      <td>0.0</td>\n",
       "      <td>-0.3</td>\n",
       "      <td>-6.30</td>\n",
       "      <td>NaN</td>\n",
       "      <td>NaN</td>\n",
       "      <td>0 days 00:01:09</td>\n",
       "    </tr>\n",
       "    <tr>\n",
       "      <th>1109059</th>\n",
       "      <td>2</td>\n",
       "      <td>2018-01-05 22:14:05</td>\n",
       "      <td>2018-01-05 22:14:56</td>\n",
       "      <td>1</td>\n",
       "      <td>0.00</td>\n",
       "      <td>1</td>\n",
       "      <td>N</td>\n",
       "      <td>264</td>\n",
       "      <td>264</td>\n",
       "      <td>3</td>\n",
       "      <td>-2.5</td>\n",
       "      <td>-0.5</td>\n",
       "      <td>-0.5</td>\n",
       "      <td>-0.95</td>\n",
       "      <td>0.0</td>\n",
       "      <td>-0.3</td>\n",
       "      <td>-4.75</td>\n",
       "      <td>NaN</td>\n",
       "      <td>NaN</td>\n",
       "      <td>0 days 00:00:51</td>\n",
       "    </tr>\n",
       "    <tr>\n",
       "      <th>1323294</th>\n",
       "      <td>2</td>\n",
       "      <td>2018-01-06 18:54:24</td>\n",
       "      <td>2018-01-06 18:56:05</td>\n",
       "      <td>5</td>\n",
       "      <td>0.19</td>\n",
       "      <td>1</td>\n",
       "      <td>N</td>\n",
       "      <td>138</td>\n",
       "      <td>138</td>\n",
       "      <td>3</td>\n",
       "      <td>-3.0</td>\n",
       "      <td>0.0</td>\n",
       "      <td>-0.5</td>\n",
       "      <td>-0.57</td>\n",
       "      <td>0.0</td>\n",
       "      <td>-0.3</td>\n",
       "      <td>-4.37</td>\n",
       "      <td>NaN</td>\n",
       "      <td>NaN</td>\n",
       "      <td>0 days 00:01:41</td>\n",
       "    </tr>\n",
       "    <tr>\n",
       "      <th>1835394</th>\n",
       "      <td>2</td>\n",
       "      <td>2018-01-08 18:53:06</td>\n",
       "      <td>2018-01-08 18:53:26</td>\n",
       "      <td>2</td>\n",
       "      <td>0.00</td>\n",
       "      <td>1</td>\n",
       "      <td>N</td>\n",
       "      <td>141</td>\n",
       "      <td>141</td>\n",
       "      <td>3</td>\n",
       "      <td>-2.5</td>\n",
       "      <td>-1.0</td>\n",
       "      <td>-0.5</td>\n",
       "      <td>-0.86</td>\n",
       "      <td>0.0</td>\n",
       "      <td>-0.3</td>\n",
       "      <td>-7.11</td>\n",
       "      <td>NaN</td>\n",
       "      <td>NaN</td>\n",
       "      <td>0 days 00:00:20</td>\n",
       "    </tr>\n",
       "    <tr>\n",
       "      <th>1900117</th>\n",
       "      <td>2</td>\n",
       "      <td>2018-01-08 22:19:26</td>\n",
       "      <td>2018-01-08 22:22:08</td>\n",
       "      <td>1</td>\n",
       "      <td>0.48</td>\n",
       "      <td>1</td>\n",
       "      <td>N</td>\n",
       "      <td>161</td>\n",
       "      <td>230</td>\n",
       "      <td>3</td>\n",
       "      <td>-4.0</td>\n",
       "      <td>-0.5</td>\n",
       "      <td>-0.5</td>\n",
       "      <td>-1.06</td>\n",
       "      <td>0.0</td>\n",
       "      <td>-0.3</td>\n",
       "      <td>-6.36</td>\n",
       "      <td>NaN</td>\n",
       "      <td>NaN</td>\n",
       "      <td>0 days 00:02:42</td>\n",
       "    </tr>\n",
       "    <tr>\n",
       "      <th>2022208</th>\n",
       "      <td>2</td>\n",
       "      <td>2018-01-09 13:50:33</td>\n",
       "      <td>2018-01-09 13:50:40</td>\n",
       "      <td>1</td>\n",
       "      <td>0.00</td>\n",
       "      <td>1</td>\n",
       "      <td>N</td>\n",
       "      <td>152</td>\n",
       "      <td>152</td>\n",
       "      <td>3</td>\n",
       "      <td>-2.5</td>\n",
       "      <td>0.0</td>\n",
       "      <td>-0.5</td>\n",
       "      <td>-0.66</td>\n",
       "      <td>0.0</td>\n",
       "      <td>-0.3</td>\n",
       "      <td>-3.96</td>\n",
       "      <td>NaN</td>\n",
       "      <td>NaN</td>\n",
       "      <td>0 days 00:00:07</td>\n",
       "    </tr>\n",
       "    <tr>\n",
       "      <th>2170788</th>\n",
       "      <td>2</td>\n",
       "      <td>2018-01-09 22:42:11</td>\n",
       "      <td>2018-01-09 22:43:13</td>\n",
       "      <td>1</td>\n",
       "      <td>0.00</td>\n",
       "      <td>1</td>\n",
       "      <td>N</td>\n",
       "      <td>264</td>\n",
       "      <td>193</td>\n",
       "      <td>4</td>\n",
       "      <td>-2.5</td>\n",
       "      <td>-0.5</td>\n",
       "      <td>-0.5</td>\n",
       "      <td>-1.14</td>\n",
       "      <td>0.0</td>\n",
       "      <td>-0.3</td>\n",
       "      <td>-4.94</td>\n",
       "      <td>NaN</td>\n",
       "      <td>NaN</td>\n",
       "      <td>0 days 00:01:02</td>\n",
       "    </tr>\n",
       "    <tr>\n",
       "      <th>2170790</th>\n",
       "      <td>2</td>\n",
       "      <td>2018-01-09 22:50:10</td>\n",
       "      <td>2018-01-09 22:50:39</td>\n",
       "      <td>1</td>\n",
       "      <td>0.00</td>\n",
       "      <td>1</td>\n",
       "      <td>N</td>\n",
       "      <td>264</td>\n",
       "      <td>193</td>\n",
       "      <td>3</td>\n",
       "      <td>-2.5</td>\n",
       "      <td>-0.5</td>\n",
       "      <td>-0.5</td>\n",
       "      <td>-1.14</td>\n",
       "      <td>0.0</td>\n",
       "      <td>-0.3</td>\n",
       "      <td>-4.94</td>\n",
       "      <td>NaN</td>\n",
       "      <td>NaN</td>\n",
       "      <td>0 days 00:00:29</td>\n",
       "    </tr>\n",
       "    <tr>\n",
       "      <th>2210411</th>\n",
       "      <td>2</td>\n",
       "      <td>2018-01-10 06:59:44</td>\n",
       "      <td>2018-01-10 06:59:47</td>\n",
       "      <td>1</td>\n",
       "      <td>0.00</td>\n",
       "      <td>1</td>\n",
       "      <td>N</td>\n",
       "      <td>238</td>\n",
       "      <td>238</td>\n",
       "      <td>4</td>\n",
       "      <td>-2.5</td>\n",
       "      <td>0.0</td>\n",
       "      <td>-0.5</td>\n",
       "      <td>-3.00</td>\n",
       "      <td>0.0</td>\n",
       "      <td>-0.3</td>\n",
       "      <td>-6.30</td>\n",
       "      <td>NaN</td>\n",
       "      <td>NaN</td>\n",
       "      <td>0 days 00:00:03</td>\n",
       "    </tr>\n",
       "    <tr>\n",
       "      <th>2344051</th>\n",
       "      <td>2</td>\n",
       "      <td>2018-01-10 15:46:43</td>\n",
       "      <td>2018-01-10 15:46:58</td>\n",
       "      <td>2</td>\n",
       "      <td>0.00</td>\n",
       "      <td>1</td>\n",
       "      <td>N</td>\n",
       "      <td>152</td>\n",
       "      <td>152</td>\n",
       "      <td>3</td>\n",
       "      <td>-2.5</td>\n",
       "      <td>0.0</td>\n",
       "      <td>-0.5</td>\n",
       "      <td>-0.66</td>\n",
       "      <td>0.0</td>\n",
       "      <td>-0.3</td>\n",
       "      <td>-3.96</td>\n",
       "      <td>NaN</td>\n",
       "      <td>NaN</td>\n",
       "      <td>0 days 00:00:15</td>\n",
       "    </tr>\n",
       "    <tr>\n",
       "      <th>2443198</th>\n",
       "      <td>2</td>\n",
       "      <td>2018-01-10 21:52:55</td>\n",
       "      <td>2018-01-10 21:56:32</td>\n",
       "      <td>1</td>\n",
       "      <td>0.00</td>\n",
       "      <td>1</td>\n",
       "      <td>N</td>\n",
       "      <td>193</td>\n",
       "      <td>193</td>\n",
       "      <td>3</td>\n",
       "      <td>-2.5</td>\n",
       "      <td>-0.5</td>\n",
       "      <td>-0.5</td>\n",
       "      <td>-0.95</td>\n",
       "      <td>0.0</td>\n",
       "      <td>-0.3</td>\n",
       "      <td>-4.75</td>\n",
       "      <td>NaN</td>\n",
       "      <td>NaN</td>\n",
       "      <td>0 days 00:03:37</td>\n",
       "    </tr>\n",
       "    <tr>\n",
       "      <th>2501750</th>\n",
       "      <td>2</td>\n",
       "      <td>2018-01-11 05:48:23</td>\n",
       "      <td>2018-01-11 05:56:21</td>\n",
       "      <td>1</td>\n",
       "      <td>0.78</td>\n",
       "      <td>1</td>\n",
       "      <td>N</td>\n",
       "      <td>100</td>\n",
       "      <td>162</td>\n",
       "      <td>3</td>\n",
       "      <td>-7.0</td>\n",
       "      <td>-0.5</td>\n",
       "      <td>-0.5</td>\n",
       "      <td>-1.66</td>\n",
       "      <td>0.0</td>\n",
       "      <td>-0.3</td>\n",
       "      <td>-9.96</td>\n",
       "      <td>NaN</td>\n",
       "      <td>NaN</td>\n",
       "      <td>0 days 00:07:58</td>\n",
       "    </tr>\n",
       "    <tr>\n",
       "      <th>2563159</th>\n",
       "      <td>2</td>\n",
       "      <td>2018-01-11 10:21:16</td>\n",
       "      <td>2018-01-11 10:24:08</td>\n",
       "      <td>1</td>\n",
       "      <td>0.68</td>\n",
       "      <td>2</td>\n",
       "      <td>N</td>\n",
       "      <td>79</td>\n",
       "      <td>137</td>\n",
       "      <td>3</td>\n",
       "      <td>-52.0</td>\n",
       "      <td>0.0</td>\n",
       "      <td>-0.5</td>\n",
       "      <td>-7.92</td>\n",
       "      <td>0.0</td>\n",
       "      <td>-0.3</td>\n",
       "      <td>-60.72</td>\n",
       "      <td>NaN</td>\n",
       "      <td>NaN</td>\n",
       "      <td>0 days 00:02:52</td>\n",
       "    </tr>\n",
       "    <tr>\n",
       "      <th>3572363</th>\n",
       "      <td>2</td>\n",
       "      <td>2018-01-14 14:18:19</td>\n",
       "      <td>2018-01-14 14:18:25</td>\n",
       "      <td>1</td>\n",
       "      <td>0.00</td>\n",
       "      <td>1</td>\n",
       "      <td>N</td>\n",
       "      <td>264</td>\n",
       "      <td>264</td>\n",
       "      <td>3</td>\n",
       "      <td>-2.5</td>\n",
       "      <td>0.0</td>\n",
       "      <td>-0.5</td>\n",
       "      <td>-0.66</td>\n",
       "      <td>0.0</td>\n",
       "      <td>-0.3</td>\n",
       "      <td>-3.96</td>\n",
       "      <td>NaN</td>\n",
       "      <td>NaN</td>\n",
       "      <td>0 days 00:00:06</td>\n",
       "    </tr>\n",
       "    <tr>\n",
       "      <th>3576065</th>\n",
       "      <td>2</td>\n",
       "      <td>2018-01-14 14:25:45</td>\n",
       "      <td>2018-01-14 14:29:37</td>\n",
       "      <td>5</td>\n",
       "      <td>0.75</td>\n",
       "      <td>1</td>\n",
       "      <td>N</td>\n",
       "      <td>229</td>\n",
       "      <td>141</td>\n",
       "      <td>4</td>\n",
       "      <td>-4.5</td>\n",
       "      <td>0.0</td>\n",
       "      <td>-0.5</td>\n",
       "      <td>-10.00</td>\n",
       "      <td>0.0</td>\n",
       "      <td>-0.3</td>\n",
       "      <td>-15.30</td>\n",
       "      <td>NaN</td>\n",
       "      <td>NaN</td>\n",
       "      <td>0 days 00:03:52</td>\n",
       "    </tr>\n",
       "    <tr>\n",
       "      <th>3696194</th>\n",
       "      <td>2</td>\n",
       "      <td>2018-01-14 21:15:32</td>\n",
       "      <td>2018-01-14 21:16:55</td>\n",
       "      <td>1</td>\n",
       "      <td>0.00</td>\n",
       "      <td>1</td>\n",
       "      <td>N</td>\n",
       "      <td>163</td>\n",
       "      <td>163</td>\n",
       "      <td>3</td>\n",
       "      <td>-3.0</td>\n",
       "      <td>-0.5</td>\n",
       "      <td>-0.5</td>\n",
       "      <td>-0.64</td>\n",
       "      <td>0.0</td>\n",
       "      <td>-0.3</td>\n",
       "      <td>-6.89</td>\n",
       "      <td>NaN</td>\n",
       "      <td>NaN</td>\n",
       "      <td>0 days 00:01:23</td>\n",
       "    </tr>\n",
       "    <tr>\n",
       "      <th>3912473</th>\n",
       "      <td>2</td>\n",
       "      <td>2018-01-15 19:43:33</td>\n",
       "      <td>2018-01-15 19:44:17</td>\n",
       "      <td>1</td>\n",
       "      <td>0.00</td>\n",
       "      <td>1</td>\n",
       "      <td>N</td>\n",
       "      <td>264</td>\n",
       "      <td>193</td>\n",
       "      <td>3</td>\n",
       "      <td>-2.5</td>\n",
       "      <td>0.0</td>\n",
       "      <td>-0.5</td>\n",
       "      <td>-2.30</td>\n",
       "      <td>0.0</td>\n",
       "      <td>-0.3</td>\n",
       "      <td>-5.60</td>\n",
       "      <td>NaN</td>\n",
       "      <td>NaN</td>\n",
       "      <td>0 days 00:00:44</td>\n",
       "    </tr>\n",
       "    <tr>\n",
       "      <th>4011852</th>\n",
       "      <td>2</td>\n",
       "      <td>2018-01-16 08:34:49</td>\n",
       "      <td>2018-01-16 08:35:00</td>\n",
       "      <td>1</td>\n",
       "      <td>0.00</td>\n",
       "      <td>1</td>\n",
       "      <td>N</td>\n",
       "      <td>152</td>\n",
       "      <td>152</td>\n",
       "      <td>3</td>\n",
       "      <td>-2.5</td>\n",
       "      <td>0.0</td>\n",
       "      <td>-0.5</td>\n",
       "      <td>-0.66</td>\n",
       "      <td>0.0</td>\n",
       "      <td>-0.3</td>\n",
       "      <td>-3.96</td>\n",
       "      <td>NaN</td>\n",
       "      <td>NaN</td>\n",
       "      <td>0 days 00:00:11</td>\n",
       "    </tr>\n",
       "    <tr>\n",
       "      <th>4015940</th>\n",
       "      <td>2</td>\n",
       "      <td>2018-01-16 08:49:51</td>\n",
       "      <td>2018-01-16 08:49:57</td>\n",
       "      <td>6</td>\n",
       "      <td>0.00</td>\n",
       "      <td>1</td>\n",
       "      <td>N</td>\n",
       "      <td>264</td>\n",
       "      <td>152</td>\n",
       "      <td>3</td>\n",
       "      <td>-2.5</td>\n",
       "      <td>0.0</td>\n",
       "      <td>-0.5</td>\n",
       "      <td>-0.66</td>\n",
       "      <td>0.0</td>\n",
       "      <td>-0.3</td>\n",
       "      <td>-3.96</td>\n",
       "      <td>NaN</td>\n",
       "      <td>NaN</td>\n",
       "      <td>0 days 00:00:06</td>\n",
       "    </tr>\n",
       "    <tr>\n",
       "      <th>4314527</th>\n",
       "      <td>2</td>\n",
       "      <td>2018-01-17 08:39:59</td>\n",
       "      <td>2018-01-17 08:42:07</td>\n",
       "      <td>1</td>\n",
       "      <td>0.33</td>\n",
       "      <td>1</td>\n",
       "      <td>N</td>\n",
       "      <td>162</td>\n",
       "      <td>237</td>\n",
       "      <td>3</td>\n",
       "      <td>-3.5</td>\n",
       "      <td>0.0</td>\n",
       "      <td>-0.5</td>\n",
       "      <td>-0.50</td>\n",
       "      <td>0.0</td>\n",
       "      <td>-0.3</td>\n",
       "      <td>-4.80</td>\n",
       "      <td>NaN</td>\n",
       "      <td>NaN</td>\n",
       "      <td>0 days 00:02:08</td>\n",
       "    </tr>\n",
       "    <tr>\n",
       "      <th>4412413</th>\n",
       "      <td>2</td>\n",
       "      <td>2018-01-17 15:46:31</td>\n",
       "      <td>2018-01-17 15:49:05</td>\n",
       "      <td>1</td>\n",
       "      <td>0.00</td>\n",
       "      <td>1</td>\n",
       "      <td>N</td>\n",
       "      <td>264</td>\n",
       "      <td>193</td>\n",
       "      <td>3</td>\n",
       "      <td>-2.5</td>\n",
       "      <td>0.0</td>\n",
       "      <td>-0.5</td>\n",
       "      <td>-0.99</td>\n",
       "      <td>0.0</td>\n",
       "      <td>-0.3</td>\n",
       "      <td>-4.29</td>\n",
       "      <td>NaN</td>\n",
       "      <td>NaN</td>\n",
       "      <td>0 days 00:02:34</td>\n",
       "    </tr>\n",
       "    <tr>\n",
       "      <th>4538721</th>\n",
       "      <td>2</td>\n",
       "      <td>2018-01-17 22:09:09</td>\n",
       "      <td>2018-01-17 22:10:01</td>\n",
       "      <td>1</td>\n",
       "      <td>0.00</td>\n",
       "      <td>1</td>\n",
       "      <td>N</td>\n",
       "      <td>264</td>\n",
       "      <td>193</td>\n",
       "      <td>3</td>\n",
       "      <td>-2.5</td>\n",
       "      <td>-0.5</td>\n",
       "      <td>-0.5</td>\n",
       "      <td>-1.14</td>\n",
       "      <td>0.0</td>\n",
       "      <td>-0.3</td>\n",
       "      <td>-4.94</td>\n",
       "      <td>NaN</td>\n",
       "      <td>NaN</td>\n",
       "      <td>0 days 00:00:52</td>\n",
       "    </tr>\n",
       "    <tr>\n",
       "      <th>4750891</th>\n",
       "      <td>2</td>\n",
       "      <td>2018-01-18 16:35:04</td>\n",
       "      <td>2018-01-18 16:35:25</td>\n",
       "      <td>5</td>\n",
       "      <td>0.02</td>\n",
       "      <td>1</td>\n",
       "      <td>N</td>\n",
       "      <td>234</td>\n",
       "      <td>234</td>\n",
       "      <td>4</td>\n",
       "      <td>-2.5</td>\n",
       "      <td>-1.0</td>\n",
       "      <td>-0.5</td>\n",
       "      <td>-0.86</td>\n",
       "      <td>0.0</td>\n",
       "      <td>-0.3</td>\n",
       "      <td>-7.11</td>\n",
       "      <td>NaN</td>\n",
       "      <td>NaN</td>\n",
       "      <td>0 days 00:00:21</td>\n",
       "    </tr>\n",
       "    <tr>\n",
       "      <th>4920724</th>\n",
       "      <td>2</td>\n",
       "      <td>2018-01-19 04:28:28</td>\n",
       "      <td>2018-01-19 04:28:45</td>\n",
       "      <td>1</td>\n",
       "      <td>0.03</td>\n",
       "      <td>1</td>\n",
       "      <td>N</td>\n",
       "      <td>107</td>\n",
       "      <td>107</td>\n",
       "      <td>3</td>\n",
       "      <td>-2.5</td>\n",
       "      <td>-0.5</td>\n",
       "      <td>-0.5</td>\n",
       "      <td>-0.76</td>\n",
       "      <td>0.0</td>\n",
       "      <td>-0.3</td>\n",
       "      <td>-4.56</td>\n",
       "      <td>NaN</td>\n",
       "      <td>NaN</td>\n",
       "      <td>0 days 00:00:17</td>\n",
       "    </tr>\n",
       "    <tr>\n",
       "      <th>5045498</th>\n",
       "      <td>2</td>\n",
       "      <td>2018-01-19 14:36:26</td>\n",
       "      <td>2018-01-19 14:39:17</td>\n",
       "      <td>5</td>\n",
       "      <td>0.24</td>\n",
       "      <td>1</td>\n",
       "      <td>N</td>\n",
       "      <td>13</td>\n",
       "      <td>13</td>\n",
       "      <td>4</td>\n",
       "      <td>-3.5</td>\n",
       "      <td>0.0</td>\n",
       "      <td>-0.5</td>\n",
       "      <td>-0.43</td>\n",
       "      <td>0.0</td>\n",
       "      <td>-0.3</td>\n",
       "      <td>-9.68</td>\n",
       "      <td>NaN</td>\n",
       "      <td>NaN</td>\n",
       "      <td>0 days 00:02:51</td>\n",
       "    </tr>\n",
       "    <tr>\n",
       "      <th>5153813</th>\n",
       "      <td>2</td>\n",
       "      <td>2018-01-19 20:06:53</td>\n",
       "      <td>2018-01-19 20:07:57</td>\n",
       "      <td>1</td>\n",
       "      <td>0.00</td>\n",
       "      <td>1</td>\n",
       "      <td>N</td>\n",
       "      <td>193</td>\n",
       "      <td>193</td>\n",
       "      <td>3</td>\n",
       "      <td>-2.5</td>\n",
       "      <td>-0.5</td>\n",
       "      <td>-0.5</td>\n",
       "      <td>-2.00</td>\n",
       "      <td>0.0</td>\n",
       "      <td>-0.3</td>\n",
       "      <td>-5.80</td>\n",
       "      <td>NaN</td>\n",
       "      <td>NaN</td>\n",
       "      <td>0 days 00:01:04</td>\n",
       "    </tr>\n",
       "    <tr>\n",
       "      <th>5240808</th>\n",
       "      <td>2</td>\n",
       "      <td>2018-01-20 01:07:12</td>\n",
       "      <td>2018-01-20 01:09:51</td>\n",
       "      <td>1</td>\n",
       "      <td>0.32</td>\n",
       "      <td>1</td>\n",
       "      <td>N</td>\n",
       "      <td>170</td>\n",
       "      <td>164</td>\n",
       "      <td>3</td>\n",
       "      <td>-4.0</td>\n",
       "      <td>-0.5</td>\n",
       "      <td>-0.5</td>\n",
       "      <td>-0.80</td>\n",
       "      <td>0.0</td>\n",
       "      <td>-0.3</td>\n",
       "      <td>-6.10</td>\n",
       "      <td>NaN</td>\n",
       "      <td>NaN</td>\n",
       "      <td>0 days 00:02:39</td>\n",
       "    </tr>\n",
       "    <tr>\n",
       "      <th>5301079</th>\n",
       "      <td>2</td>\n",
       "      <td>2018-01-20 10:18:32</td>\n",
       "      <td>2018-01-20 10:22:57</td>\n",
       "      <td>1</td>\n",
       "      <td>0.81</td>\n",
       "      <td>1</td>\n",
       "      <td>N</td>\n",
       "      <td>140</td>\n",
       "      <td>263</td>\n",
       "      <td>3</td>\n",
       "      <td>-4.5</td>\n",
       "      <td>0.0</td>\n",
       "      <td>-0.5</td>\n",
       "      <td>-88.80</td>\n",
       "      <td>0.0</td>\n",
       "      <td>-0.3</td>\n",
       "      <td>-94.10</td>\n",
       "      <td>NaN</td>\n",
       "      <td>NaN</td>\n",
       "      <td>0 days 00:04:25</td>\n",
       "    </tr>\n",
       "    <tr>\n",
       "      <th>5556372</th>\n",
       "      <td>2</td>\n",
       "      <td>2018-01-21 02:01:48</td>\n",
       "      <td>2018-01-21 02:01:51</td>\n",
       "      <td>1</td>\n",
       "      <td>0.00</td>\n",
       "      <td>5</td>\n",
       "      <td>N</td>\n",
       "      <td>97</td>\n",
       "      <td>97</td>\n",
       "      <td>3</td>\n",
       "      <td>-13.0</td>\n",
       "      <td>0.0</td>\n",
       "      <td>0.0</td>\n",
       "      <td>-3.32</td>\n",
       "      <td>0.0</td>\n",
       "      <td>-0.3</td>\n",
       "      <td>-16.62</td>\n",
       "      <td>NaN</td>\n",
       "      <td>NaN</td>\n",
       "      <td>0 days 00:00:03</td>\n",
       "    </tr>\n",
       "    <tr>\n",
       "      <th>5655107</th>\n",
       "      <td>2</td>\n",
       "      <td>2018-01-21 14:14:44</td>\n",
       "      <td>2018-01-21 14:14:49</td>\n",
       "      <td>1</td>\n",
       "      <td>0.00</td>\n",
       "      <td>1</td>\n",
       "      <td>N</td>\n",
       "      <td>264</td>\n",
       "      <td>193</td>\n",
       "      <td>3</td>\n",
       "      <td>-2.5</td>\n",
       "      <td>0.0</td>\n",
       "      <td>-0.5</td>\n",
       "      <td>-0.66</td>\n",
       "      <td>0.0</td>\n",
       "      <td>-0.3</td>\n",
       "      <td>-3.96</td>\n",
       "      <td>NaN</td>\n",
       "      <td>NaN</td>\n",
       "      <td>0 days 00:00:05</td>\n",
       "    </tr>\n",
       "    <tr>\n",
       "      <th>5724350</th>\n",
       "      <td>2</td>\n",
       "      <td>2018-01-21 19:29:33</td>\n",
       "      <td>2018-01-21 19:29:46</td>\n",
       "      <td>1</td>\n",
       "      <td>0.00</td>\n",
       "      <td>1</td>\n",
       "      <td>N</td>\n",
       "      <td>193</td>\n",
       "      <td>193</td>\n",
       "      <td>3</td>\n",
       "      <td>-2.5</td>\n",
       "      <td>0.0</td>\n",
       "      <td>-0.5</td>\n",
       "      <td>-0.66</td>\n",
       "      <td>0.0</td>\n",
       "      <td>-0.3</td>\n",
       "      <td>-3.96</td>\n",
       "      <td>NaN</td>\n",
       "      <td>NaN</td>\n",
       "      <td>0 days 00:00:13</td>\n",
       "    </tr>\n",
       "    <tr>\n",
       "      <th>5860397</th>\n",
       "      <td>2</td>\n",
       "      <td>2018-01-22 12:25:09</td>\n",
       "      <td>2018-01-22 12:25:17</td>\n",
       "      <td>1</td>\n",
       "      <td>0.00</td>\n",
       "      <td>1</td>\n",
       "      <td>N</td>\n",
       "      <td>152</td>\n",
       "      <td>152</td>\n",
       "      <td>3</td>\n",
       "      <td>-2.5</td>\n",
       "      <td>0.0</td>\n",
       "      <td>-0.5</td>\n",
       "      <td>-0.66</td>\n",
       "      <td>0.0</td>\n",
       "      <td>-0.3</td>\n",
       "      <td>-3.96</td>\n",
       "      <td>NaN</td>\n",
       "      <td>NaN</td>\n",
       "      <td>0 days 00:00:08</td>\n",
       "    </tr>\n",
       "    <tr>\n",
       "      <th>6056255</th>\n",
       "      <td>2</td>\n",
       "      <td>2018-01-23 06:56:08</td>\n",
       "      <td>2018-01-23 06:56:57</td>\n",
       "      <td>1</td>\n",
       "      <td>0.00</td>\n",
       "      <td>1</td>\n",
       "      <td>N</td>\n",
       "      <td>41</td>\n",
       "      <td>41</td>\n",
       "      <td>3</td>\n",
       "      <td>-2.5</td>\n",
       "      <td>0.0</td>\n",
       "      <td>-0.5</td>\n",
       "      <td>-0.59</td>\n",
       "      <td>0.0</td>\n",
       "      <td>-0.3</td>\n",
       "      <td>-5.84</td>\n",
       "      <td>NaN</td>\n",
       "      <td>NaN</td>\n",
       "      <td>0 days 00:00:49</td>\n",
       "    </tr>\n",
       "    <tr>\n",
       "      <th>6211197</th>\n",
       "      <td>2</td>\n",
       "      <td>2018-01-23 17:18:30</td>\n",
       "      <td>2018-01-23 17:21:11</td>\n",
       "      <td>1</td>\n",
       "      <td>0.36</td>\n",
       "      <td>1</td>\n",
       "      <td>N</td>\n",
       "      <td>143</td>\n",
       "      <td>143</td>\n",
       "      <td>4</td>\n",
       "      <td>-4.0</td>\n",
       "      <td>-1.0</td>\n",
       "      <td>-0.5</td>\n",
       "      <td>-11.00</td>\n",
       "      <td>0.0</td>\n",
       "      <td>-0.3</td>\n",
       "      <td>-16.80</td>\n",
       "      <td>NaN</td>\n",
       "      <td>NaN</td>\n",
       "      <td>0 days 00:02:41</td>\n",
       "    </tr>\n",
       "    <tr>\n",
       "      <th>6420371</th>\n",
       "      <td>2</td>\n",
       "      <td>2018-01-24 11:43:42</td>\n",
       "      <td>2018-01-24 11:44:48</td>\n",
       "      <td>1</td>\n",
       "      <td>0.00</td>\n",
       "      <td>1</td>\n",
       "      <td>N</td>\n",
       "      <td>193</td>\n",
       "      <td>193</td>\n",
       "      <td>3</td>\n",
       "      <td>-3.0</td>\n",
       "      <td>0.0</td>\n",
       "      <td>-0.5</td>\n",
       "      <td>-0.76</td>\n",
       "      <td>0.0</td>\n",
       "      <td>-0.3</td>\n",
       "      <td>-4.56</td>\n",
       "      <td>NaN</td>\n",
       "      <td>NaN</td>\n",
       "      <td>0 days 00:01:06</td>\n",
       "    </tr>\n",
       "    <tr>\n",
       "      <th>6691741</th>\n",
       "      <td>2</td>\n",
       "      <td>2018-01-25 08:57:41</td>\n",
       "      <td>2018-01-25 09:02:27</td>\n",
       "      <td>2</td>\n",
       "      <td>0.85</td>\n",
       "      <td>1</td>\n",
       "      <td>N</td>\n",
       "      <td>166</td>\n",
       "      <td>166</td>\n",
       "      <td>3</td>\n",
       "      <td>-5.5</td>\n",
       "      <td>0.0</td>\n",
       "      <td>-0.5</td>\n",
       "      <td>-0.94</td>\n",
       "      <td>0.0</td>\n",
       "      <td>-0.3</td>\n",
       "      <td>-9.19</td>\n",
       "      <td>NaN</td>\n",
       "      <td>NaN</td>\n",
       "      <td>0 days 00:04:46</td>\n",
       "    </tr>\n",
       "    <tr>\n",
       "      <th>6754631</th>\n",
       "      <td>2</td>\n",
       "      <td>2018-01-25 12:17:34</td>\n",
       "      <td>2018-01-25 12:17:40</td>\n",
       "      <td>1</td>\n",
       "      <td>0.00</td>\n",
       "      <td>1</td>\n",
       "      <td>N</td>\n",
       "      <td>152</td>\n",
       "      <td>152</td>\n",
       "      <td>3</td>\n",
       "      <td>-2.5</td>\n",
       "      <td>0.0</td>\n",
       "      <td>-0.5</td>\n",
       "      <td>-0.66</td>\n",
       "      <td>0.0</td>\n",
       "      <td>-0.3</td>\n",
       "      <td>-3.96</td>\n",
       "      <td>NaN</td>\n",
       "      <td>NaN</td>\n",
       "      <td>0 days 00:00:06</td>\n",
       "    </tr>\n",
       "    <tr>\n",
       "      <th>6977133</th>\n",
       "      <td>2</td>\n",
       "      <td>2018-01-26 01:31:18</td>\n",
       "      <td>2018-01-26 01:39:07</td>\n",
       "      <td>2</td>\n",
       "      <td>0.31</td>\n",
       "      <td>1</td>\n",
       "      <td>N</td>\n",
       "      <td>48</td>\n",
       "      <td>48</td>\n",
       "      <td>4</td>\n",
       "      <td>-6.5</td>\n",
       "      <td>-0.5</td>\n",
       "      <td>-0.5</td>\n",
       "      <td>-1.56</td>\n",
       "      <td>0.0</td>\n",
       "      <td>-0.3</td>\n",
       "      <td>-9.36</td>\n",
       "      <td>NaN</td>\n",
       "      <td>NaN</td>\n",
       "      <td>0 days 00:07:49</td>\n",
       "    </tr>\n",
       "    <tr>\n",
       "      <th>6991142</th>\n",
       "      <td>2</td>\n",
       "      <td>2018-01-26 04:25:38</td>\n",
       "      <td>2018-01-26 04:26:59</td>\n",
       "      <td>1</td>\n",
       "      <td>0.00</td>\n",
       "      <td>1</td>\n",
       "      <td>N</td>\n",
       "      <td>132</td>\n",
       "      <td>132</td>\n",
       "      <td>3</td>\n",
       "      <td>-3.0</td>\n",
       "      <td>-0.5</td>\n",
       "      <td>-0.5</td>\n",
       "      <td>-0.86</td>\n",
       "      <td>0.0</td>\n",
       "      <td>-0.3</td>\n",
       "      <td>-7.11</td>\n",
       "      <td>NaN</td>\n",
       "      <td>NaN</td>\n",
       "      <td>0 days 00:01:21</td>\n",
       "    </tr>\n",
       "    <tr>\n",
       "      <th>7017980</th>\n",
       "      <td>2</td>\n",
       "      <td>2018-01-26 08:43:58</td>\n",
       "      <td>2018-01-26 08:44:04</td>\n",
       "      <td>2</td>\n",
       "      <td>0.00</td>\n",
       "      <td>1</td>\n",
       "      <td>N</td>\n",
       "      <td>152</td>\n",
       "      <td>152</td>\n",
       "      <td>3</td>\n",
       "      <td>-2.5</td>\n",
       "      <td>0.0</td>\n",
       "      <td>-0.5</td>\n",
       "      <td>-0.66</td>\n",
       "      <td>0.0</td>\n",
       "      <td>-0.3</td>\n",
       "      <td>-3.96</td>\n",
       "      <td>NaN</td>\n",
       "      <td>NaN</td>\n",
       "      <td>0 days 00:00:06</td>\n",
       "    </tr>\n",
       "    <tr>\n",
       "      <th>7033445</th>\n",
       "      <td>2</td>\n",
       "      <td>2018-01-26 08:49:04</td>\n",
       "      <td>2018-01-26 08:50:43</td>\n",
       "      <td>1</td>\n",
       "      <td>0.00</td>\n",
       "      <td>1</td>\n",
       "      <td>N</td>\n",
       "      <td>68</td>\n",
       "      <td>68</td>\n",
       "      <td>3</td>\n",
       "      <td>-3.0</td>\n",
       "      <td>0.0</td>\n",
       "      <td>-0.5</td>\n",
       "      <td>-0.76</td>\n",
       "      <td>0.0</td>\n",
       "      <td>-0.3</td>\n",
       "      <td>-6.51</td>\n",
       "      <td>NaN</td>\n",
       "      <td>NaN</td>\n",
       "      <td>0 days 00:01:39</td>\n",
       "    </tr>\n",
       "    <tr>\n",
       "      <th>7214292</th>\n",
       "      <td>2</td>\n",
       "      <td>2018-01-26 19:49:32</td>\n",
       "      <td>2018-01-26 19:52:44</td>\n",
       "      <td>2</td>\n",
       "      <td>0.25</td>\n",
       "      <td>1</td>\n",
       "      <td>N</td>\n",
       "      <td>170</td>\n",
       "      <td>137</td>\n",
       "      <td>3</td>\n",
       "      <td>-4.0</td>\n",
       "      <td>-1.0</td>\n",
       "      <td>-0.5</td>\n",
       "      <td>-1.16</td>\n",
       "      <td>0.0</td>\n",
       "      <td>-0.3</td>\n",
       "      <td>-6.96</td>\n",
       "      <td>NaN</td>\n",
       "      <td>NaN</td>\n",
       "      <td>0 days 00:03:12</td>\n",
       "    </tr>\n",
       "    <tr>\n",
       "      <th>7850446</th>\n",
       "      <td>2</td>\n",
       "      <td>2018-01-28 21:34:35</td>\n",
       "      <td>2018-01-28 21:34:37</td>\n",
       "      <td>2</td>\n",
       "      <td>0.00</td>\n",
       "      <td>5</td>\n",
       "      <td>N</td>\n",
       "      <td>264</td>\n",
       "      <td>265</td>\n",
       "      <td>3</td>\n",
       "      <td>-65.0</td>\n",
       "      <td>0.0</td>\n",
       "      <td>0.0</td>\n",
       "      <td>-13.06</td>\n",
       "      <td>0.0</td>\n",
       "      <td>-0.3</td>\n",
       "      <td>-78.36</td>\n",
       "      <td>NaN</td>\n",
       "      <td>NaN</td>\n",
       "      <td>0 days 00:00:02</td>\n",
       "    </tr>\n",
       "    <tr>\n",
       "      <th>7911139</th>\n",
       "      <td>2</td>\n",
       "      <td>2018-01-29 08:59:52</td>\n",
       "      <td>2018-01-29 09:00:02</td>\n",
       "      <td>1</td>\n",
       "      <td>0.00</td>\n",
       "      <td>1</td>\n",
       "      <td>N</td>\n",
       "      <td>152</td>\n",
       "      <td>152</td>\n",
       "      <td>3</td>\n",
       "      <td>-2.5</td>\n",
       "      <td>0.0</td>\n",
       "      <td>-0.5</td>\n",
       "      <td>-0.66</td>\n",
       "      <td>0.0</td>\n",
       "      <td>-0.3</td>\n",
       "      <td>-3.96</td>\n",
       "      <td>NaN</td>\n",
       "      <td>NaN</td>\n",
       "      <td>0 days 00:00:10</td>\n",
       "    </tr>\n",
       "    <tr>\n",
       "      <th>7979105</th>\n",
       "      <td>2</td>\n",
       "      <td>2018-01-29 13:02:33</td>\n",
       "      <td>2018-01-29 13:02:42</td>\n",
       "      <td>1</td>\n",
       "      <td>0.00</td>\n",
       "      <td>1</td>\n",
       "      <td>N</td>\n",
       "      <td>152</td>\n",
       "      <td>152</td>\n",
       "      <td>3</td>\n",
       "      <td>-2.5</td>\n",
       "      <td>0.0</td>\n",
       "      <td>-0.5</td>\n",
       "      <td>-0.66</td>\n",
       "      <td>0.0</td>\n",
       "      <td>-0.3</td>\n",
       "      <td>-3.96</td>\n",
       "      <td>NaN</td>\n",
       "      <td>NaN</td>\n",
       "      <td>0 days 00:00:09</td>\n",
       "    </tr>\n",
       "    <tr>\n",
       "      <th>8004835</th>\n",
       "      <td>2</td>\n",
       "      <td>2018-01-29 14:44:45</td>\n",
       "      <td>2018-01-29 14:45:14</td>\n",
       "      <td>1</td>\n",
       "      <td>0.00</td>\n",
       "      <td>1</td>\n",
       "      <td>N</td>\n",
       "      <td>193</td>\n",
       "      <td>193</td>\n",
       "      <td>3</td>\n",
       "      <td>-2.5</td>\n",
       "      <td>0.0</td>\n",
       "      <td>-0.5</td>\n",
       "      <td>-0.66</td>\n",
       "      <td>0.0</td>\n",
       "      <td>-0.3</td>\n",
       "      <td>-3.96</td>\n",
       "      <td>NaN</td>\n",
       "      <td>NaN</td>\n",
       "      <td>0 days 00:00:29</td>\n",
       "    </tr>\n",
       "    <tr>\n",
       "      <th>8314948</th>\n",
       "      <td>2</td>\n",
       "      <td>2018-01-30 17:56:14</td>\n",
       "      <td>2018-01-30 17:56:20</td>\n",
       "      <td>1</td>\n",
       "      <td>0.00</td>\n",
       "      <td>1</td>\n",
       "      <td>N</td>\n",
       "      <td>264</td>\n",
       "      <td>152</td>\n",
       "      <td>3</td>\n",
       "      <td>-2.5</td>\n",
       "      <td>-1.0</td>\n",
       "      <td>-0.5</td>\n",
       "      <td>-0.86</td>\n",
       "      <td>0.0</td>\n",
       "      <td>-0.3</td>\n",
       "      <td>-5.16</td>\n",
       "      <td>NaN</td>\n",
       "      <td>NaN</td>\n",
       "      <td>0 days 00:00:06</td>\n",
       "    </tr>\n",
       "    <tr>\n",
       "      <th>8540285</th>\n",
       "      <td>2</td>\n",
       "      <td>2018-01-31 11:21:30</td>\n",
       "      <td>2018-01-31 11:21:48</td>\n",
       "      <td>6</td>\n",
       "      <td>0.00</td>\n",
       "      <td>1</td>\n",
       "      <td>N</td>\n",
       "      <td>7</td>\n",
       "      <td>7</td>\n",
       "      <td>3</td>\n",
       "      <td>-2.5</td>\n",
       "      <td>0.0</td>\n",
       "      <td>-0.5</td>\n",
       "      <td>-0.66</td>\n",
       "      <td>0.0</td>\n",
       "      <td>-0.3</td>\n",
       "      <td>-3.96</td>\n",
       "      <td>NaN</td>\n",
       "      <td>NaN</td>\n",
       "      <td>0 days 00:00:18</td>\n",
       "    </tr>\n",
       "    <tr>\n",
       "      <th>8712836</th>\n",
       "      <td>2</td>\n",
       "      <td>2018-01-31 21:15:51</td>\n",
       "      <td>2018-01-31 21:16:42</td>\n",
       "      <td>1</td>\n",
       "      <td>0.00</td>\n",
       "      <td>1</td>\n",
       "      <td>N</td>\n",
       "      <td>264</td>\n",
       "      <td>193</td>\n",
       "      <td>3</td>\n",
       "      <td>-2.5</td>\n",
       "      <td>-0.5</td>\n",
       "      <td>-0.5</td>\n",
       "      <td>-0.95</td>\n",
       "      <td>0.0</td>\n",
       "      <td>-0.3</td>\n",
       "      <td>-4.75</td>\n",
       "      <td>NaN</td>\n",
       "      <td>NaN</td>\n",
       "      <td>0 days 00:00:51</td>\n",
       "    </tr>\n",
       "    <tr>\n",
       "      <th>8745915</th>\n",
       "      <td>2</td>\n",
       "      <td>2018-01-31 22:06:23</td>\n",
       "      <td>2018-01-31 22:07:05</td>\n",
       "      <td>1</td>\n",
       "      <td>0.00</td>\n",
       "      <td>1</td>\n",
       "      <td>N</td>\n",
       "      <td>193</td>\n",
       "      <td>193</td>\n",
       "      <td>3</td>\n",
       "      <td>-2.5</td>\n",
       "      <td>-0.5</td>\n",
       "      <td>-0.5</td>\n",
       "      <td>-0.95</td>\n",
       "      <td>0.0</td>\n",
       "      <td>-0.3</td>\n",
       "      <td>-4.75</td>\n",
       "      <td>NaN</td>\n",
       "      <td>NaN</td>\n",
       "      <td>0 days 00:00:42</td>\n",
       "    </tr>\n",
       "  </tbody>\n",
       "</table>\n",
       "</div>"
      ],
      "text/plain": [
       "         VendorID tpep_pickup_datetime tpep_dropoff_datetime  passenger_count  \\\n",
       "118030          2  2018-01-01 12:23:32   2018-01-01 12:27:08                1   \n",
       "259470          2  2018-01-02 07:25:06   2018-01-02 07:25:21                1   \n",
       "531790          2  2018-01-03 09:39:12   2018-01-03 09:39:46                2   \n",
       "759165          2  2018-01-04 06:49:40   2018-01-04 06:50:05                3   \n",
       "821413          2  2018-01-04 16:14:35   2018-01-04 16:15:00                1   \n",
       "1001287         2  2018-01-05 16:40:16   2018-01-05 16:41:25                1   \n",
       "1109059         2  2018-01-05 22:14:05   2018-01-05 22:14:56                1   \n",
       "1323294         2  2018-01-06 18:54:24   2018-01-06 18:56:05                5   \n",
       "1835394         2  2018-01-08 18:53:06   2018-01-08 18:53:26                2   \n",
       "1900117         2  2018-01-08 22:19:26   2018-01-08 22:22:08                1   \n",
       "2022208         2  2018-01-09 13:50:33   2018-01-09 13:50:40                1   \n",
       "2170788         2  2018-01-09 22:42:11   2018-01-09 22:43:13                1   \n",
       "2170790         2  2018-01-09 22:50:10   2018-01-09 22:50:39                1   \n",
       "2210411         2  2018-01-10 06:59:44   2018-01-10 06:59:47                1   \n",
       "2344051         2  2018-01-10 15:46:43   2018-01-10 15:46:58                2   \n",
       "2443198         2  2018-01-10 21:52:55   2018-01-10 21:56:32                1   \n",
       "2501750         2  2018-01-11 05:48:23   2018-01-11 05:56:21                1   \n",
       "2563159         2  2018-01-11 10:21:16   2018-01-11 10:24:08                1   \n",
       "3572363         2  2018-01-14 14:18:19   2018-01-14 14:18:25                1   \n",
       "3576065         2  2018-01-14 14:25:45   2018-01-14 14:29:37                5   \n",
       "3696194         2  2018-01-14 21:15:32   2018-01-14 21:16:55                1   \n",
       "3912473         2  2018-01-15 19:43:33   2018-01-15 19:44:17                1   \n",
       "4011852         2  2018-01-16 08:34:49   2018-01-16 08:35:00                1   \n",
       "4015940         2  2018-01-16 08:49:51   2018-01-16 08:49:57                6   \n",
       "4314527         2  2018-01-17 08:39:59   2018-01-17 08:42:07                1   \n",
       "4412413         2  2018-01-17 15:46:31   2018-01-17 15:49:05                1   \n",
       "4538721         2  2018-01-17 22:09:09   2018-01-17 22:10:01                1   \n",
       "4750891         2  2018-01-18 16:35:04   2018-01-18 16:35:25                5   \n",
       "4920724         2  2018-01-19 04:28:28   2018-01-19 04:28:45                1   \n",
       "5045498         2  2018-01-19 14:36:26   2018-01-19 14:39:17                5   \n",
       "5153813         2  2018-01-19 20:06:53   2018-01-19 20:07:57                1   \n",
       "5240808         2  2018-01-20 01:07:12   2018-01-20 01:09:51                1   \n",
       "5301079         2  2018-01-20 10:18:32   2018-01-20 10:22:57                1   \n",
       "5556372         2  2018-01-21 02:01:48   2018-01-21 02:01:51                1   \n",
       "5655107         2  2018-01-21 14:14:44   2018-01-21 14:14:49                1   \n",
       "5724350         2  2018-01-21 19:29:33   2018-01-21 19:29:46                1   \n",
       "5860397         2  2018-01-22 12:25:09   2018-01-22 12:25:17                1   \n",
       "6056255         2  2018-01-23 06:56:08   2018-01-23 06:56:57                1   \n",
       "6211197         2  2018-01-23 17:18:30   2018-01-23 17:21:11                1   \n",
       "6420371         2  2018-01-24 11:43:42   2018-01-24 11:44:48                1   \n",
       "6691741         2  2018-01-25 08:57:41   2018-01-25 09:02:27                2   \n",
       "6754631         2  2018-01-25 12:17:34   2018-01-25 12:17:40                1   \n",
       "6977133         2  2018-01-26 01:31:18   2018-01-26 01:39:07                2   \n",
       "6991142         2  2018-01-26 04:25:38   2018-01-26 04:26:59                1   \n",
       "7017980         2  2018-01-26 08:43:58   2018-01-26 08:44:04                2   \n",
       "7033445         2  2018-01-26 08:49:04   2018-01-26 08:50:43                1   \n",
       "7214292         2  2018-01-26 19:49:32   2018-01-26 19:52:44                2   \n",
       "7850446         2  2018-01-28 21:34:35   2018-01-28 21:34:37                2   \n",
       "7911139         2  2018-01-29 08:59:52   2018-01-29 09:00:02                1   \n",
       "7979105         2  2018-01-29 13:02:33   2018-01-29 13:02:42                1   \n",
       "8004835         2  2018-01-29 14:44:45   2018-01-29 14:45:14                1   \n",
       "8314948         2  2018-01-30 17:56:14   2018-01-30 17:56:20                1   \n",
       "8540285         2  2018-01-31 11:21:30   2018-01-31 11:21:48                6   \n",
       "8712836         2  2018-01-31 21:15:51   2018-01-31 21:16:42                1   \n",
       "8745915         2  2018-01-31 22:06:23   2018-01-31 22:07:05                1   \n",
       "\n",
       "         trip_distance  RatecodeID store_and_fwd_flag  PULocationID  \\\n",
       "118030            0.48           1                  N            50   \n",
       "259470            0.00           1                  N           230   \n",
       "531790            0.02           1                  N            50   \n",
       "759165            0.00           1                  N            68   \n",
       "821413            0.10           1                  N           111   \n",
       "1001287           0.00           1                  N           264   \n",
       "1109059           0.00           1                  N           264   \n",
       "1323294           0.19           1                  N           138   \n",
       "1835394           0.00           1                  N           141   \n",
       "1900117           0.48           1                  N           161   \n",
       "2022208           0.00           1                  N           152   \n",
       "2170788           0.00           1                  N           264   \n",
       "2170790           0.00           1                  N           264   \n",
       "2210411           0.00           1                  N           238   \n",
       "2344051           0.00           1                  N           152   \n",
       "2443198           0.00           1                  N           193   \n",
       "2501750           0.78           1                  N           100   \n",
       "2563159           0.68           2                  N            79   \n",
       "3572363           0.00           1                  N           264   \n",
       "3576065           0.75           1                  N           229   \n",
       "3696194           0.00           1                  N           163   \n",
       "3912473           0.00           1                  N           264   \n",
       "4011852           0.00           1                  N           152   \n",
       "4015940           0.00           1                  N           264   \n",
       "4314527           0.33           1                  N           162   \n",
       "4412413           0.00           1                  N           264   \n",
       "4538721           0.00           1                  N           264   \n",
       "4750891           0.02           1                  N           234   \n",
       "4920724           0.03           1                  N           107   \n",
       "5045498           0.24           1                  N            13   \n",
       "5153813           0.00           1                  N           193   \n",
       "5240808           0.32           1                  N           170   \n",
       "5301079           0.81           1                  N           140   \n",
       "5556372           0.00           5                  N            97   \n",
       "5655107           0.00           1                  N           264   \n",
       "5724350           0.00           1                  N           193   \n",
       "5860397           0.00           1                  N           152   \n",
       "6056255           0.00           1                  N            41   \n",
       "6211197           0.36           1                  N           143   \n",
       "6420371           0.00           1                  N           193   \n",
       "6691741           0.85           1                  N           166   \n",
       "6754631           0.00           1                  N           152   \n",
       "6977133           0.31           1                  N            48   \n",
       "6991142           0.00           1                  N           132   \n",
       "7017980           0.00           1                  N           152   \n",
       "7033445           0.00           1                  N            68   \n",
       "7214292           0.25           1                  N           170   \n",
       "7850446           0.00           5                  N           264   \n",
       "7911139           0.00           1                  N           152   \n",
       "7979105           0.00           1                  N           152   \n",
       "8004835           0.00           1                  N           193   \n",
       "8314948           0.00           1                  N           264   \n",
       "8540285           0.00           1                  N             7   \n",
       "8712836           0.00           1                  N           264   \n",
       "8745915           0.00           1                  N           193   \n",
       "\n",
       "         DOLocationID  payment_type  fare_amount  extra  mta_tax  tip_amount  \\\n",
       "118030            246             3         -4.5    0.0     -0.5       -1.00   \n",
       "259470            230             3         -2.5    0.0     -0.5       -0.50   \n",
       "531790             50             3         -2.5    0.0     -0.5       -0.50   \n",
       "759165             68             4         -2.5    0.0     -0.5       -0.66   \n",
       "821413            111             3         -2.5   -1.0     -0.5       -0.26   \n",
       "1001287           193             3         -2.5   -1.0     -0.5       -2.00   \n",
       "1109059           264             3         -2.5   -0.5     -0.5       -0.95   \n",
       "1323294           138             3         -3.0    0.0     -0.5       -0.57   \n",
       "1835394           141             3         -2.5   -1.0     -0.5       -0.86   \n",
       "1900117           230             3         -4.0   -0.5     -0.5       -1.06   \n",
       "2022208           152             3         -2.5    0.0     -0.5       -0.66   \n",
       "2170788           193             4         -2.5   -0.5     -0.5       -1.14   \n",
       "2170790           193             3         -2.5   -0.5     -0.5       -1.14   \n",
       "2210411           238             4         -2.5    0.0     -0.5       -3.00   \n",
       "2344051           152             3         -2.5    0.0     -0.5       -0.66   \n",
       "2443198           193             3         -2.5   -0.5     -0.5       -0.95   \n",
       "2501750           162             3         -7.0   -0.5     -0.5       -1.66   \n",
       "2563159           137             3        -52.0    0.0     -0.5       -7.92   \n",
       "3572363           264             3         -2.5    0.0     -0.5       -0.66   \n",
       "3576065           141             4         -4.5    0.0     -0.5      -10.00   \n",
       "3696194           163             3         -3.0   -0.5     -0.5       -0.64   \n",
       "3912473           193             3         -2.5    0.0     -0.5       -2.30   \n",
       "4011852           152             3         -2.5    0.0     -0.5       -0.66   \n",
       "4015940           152             3         -2.5    0.0     -0.5       -0.66   \n",
       "4314527           237             3         -3.5    0.0     -0.5       -0.50   \n",
       "4412413           193             3         -2.5    0.0     -0.5       -0.99   \n",
       "4538721           193             3         -2.5   -0.5     -0.5       -1.14   \n",
       "4750891           234             4         -2.5   -1.0     -0.5       -0.86   \n",
       "4920724           107             3         -2.5   -0.5     -0.5       -0.76   \n",
       "5045498            13             4         -3.5    0.0     -0.5       -0.43   \n",
       "5153813           193             3         -2.5   -0.5     -0.5       -2.00   \n",
       "5240808           164             3         -4.0   -0.5     -0.5       -0.80   \n",
       "5301079           263             3         -4.5    0.0     -0.5      -88.80   \n",
       "5556372            97             3        -13.0    0.0      0.0       -3.32   \n",
       "5655107           193             3         -2.5    0.0     -0.5       -0.66   \n",
       "5724350           193             3         -2.5    0.0     -0.5       -0.66   \n",
       "5860397           152             3         -2.5    0.0     -0.5       -0.66   \n",
       "6056255            41             3         -2.5    0.0     -0.5       -0.59   \n",
       "6211197           143             4         -4.0   -1.0     -0.5      -11.00   \n",
       "6420371           193             3         -3.0    0.0     -0.5       -0.76   \n",
       "6691741           166             3         -5.5    0.0     -0.5       -0.94   \n",
       "6754631           152             3         -2.5    0.0     -0.5       -0.66   \n",
       "6977133            48             4         -6.5   -0.5     -0.5       -1.56   \n",
       "6991142           132             3         -3.0   -0.5     -0.5       -0.86   \n",
       "7017980           152             3         -2.5    0.0     -0.5       -0.66   \n",
       "7033445            68             3         -3.0    0.0     -0.5       -0.76   \n",
       "7214292           137             3         -4.0   -1.0     -0.5       -1.16   \n",
       "7850446           265             3        -65.0    0.0      0.0      -13.06   \n",
       "7911139           152             3         -2.5    0.0     -0.5       -0.66   \n",
       "7979105           152             3         -2.5    0.0     -0.5       -0.66   \n",
       "8004835           193             3         -2.5    0.0     -0.5       -0.66   \n",
       "8314948           152             3         -2.5   -1.0     -0.5       -0.86   \n",
       "8540285             7             3         -2.5    0.0     -0.5       -0.66   \n",
       "8712836           193             3         -2.5   -0.5     -0.5       -0.95   \n",
       "8745915           193             3         -2.5   -0.5     -0.5       -0.95   \n",
       "\n",
       "         tolls_amount  improvement_surcharge  total_amount  \\\n",
       "118030            0.0                   -0.3         -6.30   \n",
       "259470            0.0                   -0.3         -3.80   \n",
       "531790            0.0                   -0.3         -5.75   \n",
       "759165            0.0                   -0.3         -5.91   \n",
       "821413            0.0                   -0.3         -6.51   \n",
       "1001287           0.0                   -0.3         -6.30   \n",
       "1109059           0.0                   -0.3         -4.75   \n",
       "1323294           0.0                   -0.3         -4.37   \n",
       "1835394           0.0                   -0.3         -7.11   \n",
       "1900117           0.0                   -0.3         -6.36   \n",
       "2022208           0.0                   -0.3         -3.96   \n",
       "2170788           0.0                   -0.3         -4.94   \n",
       "2170790           0.0                   -0.3         -4.94   \n",
       "2210411           0.0                   -0.3         -6.30   \n",
       "2344051           0.0                   -0.3         -3.96   \n",
       "2443198           0.0                   -0.3         -4.75   \n",
       "2501750           0.0                   -0.3         -9.96   \n",
       "2563159           0.0                   -0.3        -60.72   \n",
       "3572363           0.0                   -0.3         -3.96   \n",
       "3576065           0.0                   -0.3        -15.30   \n",
       "3696194           0.0                   -0.3         -6.89   \n",
       "3912473           0.0                   -0.3         -5.60   \n",
       "4011852           0.0                   -0.3         -3.96   \n",
       "4015940           0.0                   -0.3         -3.96   \n",
       "4314527           0.0                   -0.3         -4.80   \n",
       "4412413           0.0                   -0.3         -4.29   \n",
       "4538721           0.0                   -0.3         -4.94   \n",
       "4750891           0.0                   -0.3         -7.11   \n",
       "4920724           0.0                   -0.3         -4.56   \n",
       "5045498           0.0                   -0.3         -9.68   \n",
       "5153813           0.0                   -0.3         -5.80   \n",
       "5240808           0.0                   -0.3         -6.10   \n",
       "5301079           0.0                   -0.3        -94.10   \n",
       "5556372           0.0                   -0.3        -16.62   \n",
       "5655107           0.0                   -0.3         -3.96   \n",
       "5724350           0.0                   -0.3         -3.96   \n",
       "5860397           0.0                   -0.3         -3.96   \n",
       "6056255           0.0                   -0.3         -5.84   \n",
       "6211197           0.0                   -0.3        -16.80   \n",
       "6420371           0.0                   -0.3         -4.56   \n",
       "6691741           0.0                   -0.3         -9.19   \n",
       "6754631           0.0                   -0.3         -3.96   \n",
       "6977133           0.0                   -0.3         -9.36   \n",
       "6991142           0.0                   -0.3         -7.11   \n",
       "7017980           0.0                   -0.3         -3.96   \n",
       "7033445           0.0                   -0.3         -6.51   \n",
       "7214292           0.0                   -0.3         -6.96   \n",
       "7850446           0.0                   -0.3        -78.36   \n",
       "7911139           0.0                   -0.3         -3.96   \n",
       "7979105           0.0                   -0.3         -3.96   \n",
       "8004835           0.0                   -0.3         -3.96   \n",
       "8314948           0.0                   -0.3         -5.16   \n",
       "8540285           0.0                   -0.3         -3.96   \n",
       "8712836           0.0                   -0.3         -4.75   \n",
       "8745915           0.0                   -0.3         -4.75   \n",
       "\n",
       "         congestion_surcharge  airport_fee    Tiempo_Viaje  \n",
       "118030                    NaN          NaN 0 days 00:03:36  \n",
       "259470                    NaN          NaN 0 days 00:00:15  \n",
       "531790                    NaN          NaN 0 days 00:00:34  \n",
       "759165                    NaN          NaN 0 days 00:00:25  \n",
       "821413                    NaN          NaN 0 days 00:00:25  \n",
       "1001287                   NaN          NaN 0 days 00:01:09  \n",
       "1109059                   NaN          NaN 0 days 00:00:51  \n",
       "1323294                   NaN          NaN 0 days 00:01:41  \n",
       "1835394                   NaN          NaN 0 days 00:00:20  \n",
       "1900117                   NaN          NaN 0 days 00:02:42  \n",
       "2022208                   NaN          NaN 0 days 00:00:07  \n",
       "2170788                   NaN          NaN 0 days 00:01:02  \n",
       "2170790                   NaN          NaN 0 days 00:00:29  \n",
       "2210411                   NaN          NaN 0 days 00:00:03  \n",
       "2344051                   NaN          NaN 0 days 00:00:15  \n",
       "2443198                   NaN          NaN 0 days 00:03:37  \n",
       "2501750                   NaN          NaN 0 days 00:07:58  \n",
       "2563159                   NaN          NaN 0 days 00:02:52  \n",
       "3572363                   NaN          NaN 0 days 00:00:06  \n",
       "3576065                   NaN          NaN 0 days 00:03:52  \n",
       "3696194                   NaN          NaN 0 days 00:01:23  \n",
       "3912473                   NaN          NaN 0 days 00:00:44  \n",
       "4011852                   NaN          NaN 0 days 00:00:11  \n",
       "4015940                   NaN          NaN 0 days 00:00:06  \n",
       "4314527                   NaN          NaN 0 days 00:02:08  \n",
       "4412413                   NaN          NaN 0 days 00:02:34  \n",
       "4538721                   NaN          NaN 0 days 00:00:52  \n",
       "4750891                   NaN          NaN 0 days 00:00:21  \n",
       "4920724                   NaN          NaN 0 days 00:00:17  \n",
       "5045498                   NaN          NaN 0 days 00:02:51  \n",
       "5153813                   NaN          NaN 0 days 00:01:04  \n",
       "5240808                   NaN          NaN 0 days 00:02:39  \n",
       "5301079                   NaN          NaN 0 days 00:04:25  \n",
       "5556372                   NaN          NaN 0 days 00:00:03  \n",
       "5655107                   NaN          NaN 0 days 00:00:05  \n",
       "5724350                   NaN          NaN 0 days 00:00:13  \n",
       "5860397                   NaN          NaN 0 days 00:00:08  \n",
       "6056255                   NaN          NaN 0 days 00:00:49  \n",
       "6211197                   NaN          NaN 0 days 00:02:41  \n",
       "6420371                   NaN          NaN 0 days 00:01:06  \n",
       "6691741                   NaN          NaN 0 days 00:04:46  \n",
       "6754631                   NaN          NaN 0 days 00:00:06  \n",
       "6977133                   NaN          NaN 0 days 00:07:49  \n",
       "6991142                   NaN          NaN 0 days 00:01:21  \n",
       "7017980                   NaN          NaN 0 days 00:00:06  \n",
       "7033445                   NaN          NaN 0 days 00:01:39  \n",
       "7214292                   NaN          NaN 0 days 00:03:12  \n",
       "7850446                   NaN          NaN 0 days 00:00:02  \n",
       "7911139                   NaN          NaN 0 days 00:00:10  \n",
       "7979105                   NaN          NaN 0 days 00:00:09  \n",
       "8004835                   NaN          NaN 0 days 00:00:29  \n",
       "8314948                   NaN          NaN 0 days 00:00:06  \n",
       "8540285                   NaN          NaN 0 days 00:00:18  \n",
       "8712836                   NaN          NaN 0 days 00:00:51  \n",
       "8745915                   NaN          NaN 0 days 00:00:42  "
      ]
     },
     "execution_count": 243,
     "metadata": {},
     "output_type": "execute_result"
    }
   ],
   "source": [
    "data[data[\"tip_amount\"]<0]"
   ]
  },
  {
   "cell_type": "code",
   "execution_count": 244,
   "metadata": {},
   "outputs": [
    {
     "data": {
      "text/html": [
       "<div>\n",
       "<style scoped>\n",
       "    .dataframe tbody tr th:only-of-type {\n",
       "        vertical-align: middle;\n",
       "    }\n",
       "\n",
       "    .dataframe tbody tr th {\n",
       "        vertical-align: top;\n",
       "    }\n",
       "\n",
       "    .dataframe thead th {\n",
       "        text-align: right;\n",
       "    }\n",
       "</style>\n",
       "<table border=\"1\" class=\"dataframe\">\n",
       "  <thead>\n",
       "    <tr style=\"text-align: right;\">\n",
       "      <th></th>\n",
       "      <th>VendorID</th>\n",
       "      <th>tpep_pickup_datetime</th>\n",
       "      <th>tpep_dropoff_datetime</th>\n",
       "      <th>passenger_count</th>\n",
       "      <th>trip_distance</th>\n",
       "      <th>RatecodeID</th>\n",
       "      <th>store_and_fwd_flag</th>\n",
       "      <th>PULocationID</th>\n",
       "      <th>DOLocationID</th>\n",
       "      <th>payment_type</th>\n",
       "      <th>fare_amount</th>\n",
       "      <th>extra</th>\n",
       "      <th>mta_tax</th>\n",
       "      <th>tip_amount</th>\n",
       "      <th>tolls_amount</th>\n",
       "      <th>improvement_surcharge</th>\n",
       "      <th>total_amount</th>\n",
       "      <th>congestion_surcharge</th>\n",
       "      <th>airport_fee</th>\n",
       "      <th>Tiempo_Viaje</th>\n",
       "    </tr>\n",
       "  </thead>\n",
       "  <tbody>\n",
       "    <tr>\n",
       "      <th>38243</th>\n",
       "      <td>2</td>\n",
       "      <td>2018-01-01 02:45:28</td>\n",
       "      <td>2018-01-01 02:45:50</td>\n",
       "      <td>2</td>\n",
       "      <td>0.04</td>\n",
       "      <td>5</td>\n",
       "      <td>N</td>\n",
       "      <td>48</td>\n",
       "      <td>48</td>\n",
       "      <td>3</td>\n",
       "      <td>-198.0</td>\n",
       "      <td>0.0</td>\n",
       "      <td>-0.5</td>\n",
       "      <td>0.0</td>\n",
       "      <td>-10.50</td>\n",
       "      <td>-0.3</td>\n",
       "      <td>-209.30</td>\n",
       "      <td>NaN</td>\n",
       "      <td>NaN</td>\n",
       "      <td>0 days 00:00:22</td>\n",
       "    </tr>\n",
       "    <tr>\n",
       "      <th>77506</th>\n",
       "      <td>2</td>\n",
       "      <td>2018-01-01 05:42:45</td>\n",
       "      <td>2018-01-01 05:43:00</td>\n",
       "      <td>1</td>\n",
       "      <td>0.00</td>\n",
       "      <td>2</td>\n",
       "      <td>N</td>\n",
       "      <td>132</td>\n",
       "      <td>132</td>\n",
       "      <td>3</td>\n",
       "      <td>-52.0</td>\n",
       "      <td>0.0</td>\n",
       "      <td>-0.5</td>\n",
       "      <td>0.0</td>\n",
       "      <td>-5.76</td>\n",
       "      <td>-0.3</td>\n",
       "      <td>-58.56</td>\n",
       "      <td>NaN</td>\n",
       "      <td>NaN</td>\n",
       "      <td>0 days 00:00:15</td>\n",
       "    </tr>\n",
       "    <tr>\n",
       "      <th>810581</th>\n",
       "      <td>2</td>\n",
       "      <td>2018-01-04 14:14:56</td>\n",
       "      <td>2018-01-04 14:15:10</td>\n",
       "      <td>2</td>\n",
       "      <td>0.00</td>\n",
       "      <td>2</td>\n",
       "      <td>N</td>\n",
       "      <td>230</td>\n",
       "      <td>230</td>\n",
       "      <td>3</td>\n",
       "      <td>-52.0</td>\n",
       "      <td>0.0</td>\n",
       "      <td>-0.5</td>\n",
       "      <td>0.0</td>\n",
       "      <td>-5.76</td>\n",
       "      <td>-0.3</td>\n",
       "      <td>-58.56</td>\n",
       "      <td>NaN</td>\n",
       "      <td>NaN</td>\n",
       "      <td>0 days 00:00:14</td>\n",
       "    </tr>\n",
       "    <tr>\n",
       "      <th>1433718</th>\n",
       "      <td>2</td>\n",
       "      <td>2018-01-07 02:14:27</td>\n",
       "      <td>2018-01-07 02:17:23</td>\n",
       "      <td>1</td>\n",
       "      <td>0.74</td>\n",
       "      <td>1</td>\n",
       "      <td>N</td>\n",
       "      <td>246</td>\n",
       "      <td>50</td>\n",
       "      <td>4</td>\n",
       "      <td>-4.5</td>\n",
       "      <td>-0.5</td>\n",
       "      <td>-0.5</td>\n",
       "      <td>0.0</td>\n",
       "      <td>-10.50</td>\n",
       "      <td>-0.3</td>\n",
       "      <td>-16.30</td>\n",
       "      <td>NaN</td>\n",
       "      <td>NaN</td>\n",
       "      <td>0 days 00:02:56</td>\n",
       "    </tr>\n",
       "    <tr>\n",
       "      <th>1719463</th>\n",
       "      <td>2</td>\n",
       "      <td>2018-01-08 10:39:29</td>\n",
       "      <td>2018-01-08 10:43:33</td>\n",
       "      <td>1</td>\n",
       "      <td>0.00</td>\n",
       "      <td>2</td>\n",
       "      <td>N</td>\n",
       "      <td>230</td>\n",
       "      <td>230</td>\n",
       "      <td>3</td>\n",
       "      <td>-52.0</td>\n",
       "      <td>0.0</td>\n",
       "      <td>-0.5</td>\n",
       "      <td>0.0</td>\n",
       "      <td>-5.76</td>\n",
       "      <td>-0.3</td>\n",
       "      <td>-58.56</td>\n",
       "      <td>NaN</td>\n",
       "      <td>NaN</td>\n",
       "      <td>0 days 00:04:04</td>\n",
       "    </tr>\n",
       "    <tr>\n",
       "      <th>2335572</th>\n",
       "      <td>2</td>\n",
       "      <td>2018-01-10 14:34:49</td>\n",
       "      <td>2018-01-10 14:35:02</td>\n",
       "      <td>1</td>\n",
       "      <td>0.00</td>\n",
       "      <td>2</td>\n",
       "      <td>N</td>\n",
       "      <td>132</td>\n",
       "      <td>132</td>\n",
       "      <td>3</td>\n",
       "      <td>-52.0</td>\n",
       "      <td>0.0</td>\n",
       "      <td>-0.5</td>\n",
       "      <td>0.0</td>\n",
       "      <td>-5.76</td>\n",
       "      <td>-0.3</td>\n",
       "      <td>-58.56</td>\n",
       "      <td>NaN</td>\n",
       "      <td>NaN</td>\n",
       "      <td>0 days 00:00:13</td>\n",
       "    </tr>\n",
       "    <tr>\n",
       "      <th>2363212</th>\n",
       "      <td>2</td>\n",
       "      <td>2018-01-10 16:05:41</td>\n",
       "      <td>2018-01-10 16:29:31</td>\n",
       "      <td>1</td>\n",
       "      <td>0.15</td>\n",
       "      <td>2</td>\n",
       "      <td>N</td>\n",
       "      <td>161</td>\n",
       "      <td>161</td>\n",
       "      <td>4</td>\n",
       "      <td>-52.0</td>\n",
       "      <td>-4.5</td>\n",
       "      <td>-0.5</td>\n",
       "      <td>0.0</td>\n",
       "      <td>-5.76</td>\n",
       "      <td>-0.3</td>\n",
       "      <td>-63.06</td>\n",
       "      <td>NaN</td>\n",
       "      <td>NaN</td>\n",
       "      <td>0 days 00:23:50</td>\n",
       "    </tr>\n",
       "    <tr>\n",
       "      <th>2363214</th>\n",
       "      <td>2</td>\n",
       "      <td>2018-01-10 16:33:30</td>\n",
       "      <td>2018-01-10 16:34:24</td>\n",
       "      <td>1</td>\n",
       "      <td>0.24</td>\n",
       "      <td>2</td>\n",
       "      <td>N</td>\n",
       "      <td>161</td>\n",
       "      <td>161</td>\n",
       "      <td>4</td>\n",
       "      <td>-52.0</td>\n",
       "      <td>-4.5</td>\n",
       "      <td>-0.5</td>\n",
       "      <td>0.0</td>\n",
       "      <td>-5.76</td>\n",
       "      <td>-0.3</td>\n",
       "      <td>-63.06</td>\n",
       "      <td>NaN</td>\n",
       "      <td>NaN</td>\n",
       "      <td>0 days 00:00:54</td>\n",
       "    </tr>\n",
       "    <tr>\n",
       "      <th>2813945</th>\n",
       "      <td>2</td>\n",
       "      <td>2018-01-12 05:37:00</td>\n",
       "      <td>2018-01-12 05:37:39</td>\n",
       "      <td>1</td>\n",
       "      <td>0.00</td>\n",
       "      <td>2</td>\n",
       "      <td>N</td>\n",
       "      <td>7</td>\n",
       "      <td>7</td>\n",
       "      <td>3</td>\n",
       "      <td>-52.0</td>\n",
       "      <td>0.0</td>\n",
       "      <td>-0.5</td>\n",
       "      <td>0.0</td>\n",
       "      <td>-5.76</td>\n",
       "      <td>-0.3</td>\n",
       "      <td>-58.56</td>\n",
       "      <td>NaN</td>\n",
       "      <td>NaN</td>\n",
       "      <td>0 days 00:00:39</td>\n",
       "    </tr>\n",
       "    <tr>\n",
       "      <th>3107264</th>\n",
       "      <td>2</td>\n",
       "      <td>2018-01-13 00:09:10</td>\n",
       "      <td>2018-01-13 00:21:01</td>\n",
       "      <td>1</td>\n",
       "      <td>0.00</td>\n",
       "      <td>2</td>\n",
       "      <td>N</td>\n",
       "      <td>230</td>\n",
       "      <td>230</td>\n",
       "      <td>3</td>\n",
       "      <td>-52.0</td>\n",
       "      <td>0.0</td>\n",
       "      <td>-0.5</td>\n",
       "      <td>0.0</td>\n",
       "      <td>-5.76</td>\n",
       "      <td>-0.3</td>\n",
       "      <td>-58.56</td>\n",
       "      <td>NaN</td>\n",
       "      <td>NaN</td>\n",
       "      <td>0 days 00:11:51</td>\n",
       "    </tr>\n",
       "    <tr>\n",
       "      <th>3583616</th>\n",
       "      <td>2</td>\n",
       "      <td>2018-01-14 14:26:48</td>\n",
       "      <td>2018-01-14 14:26:59</td>\n",
       "      <td>2</td>\n",
       "      <td>0.00</td>\n",
       "      <td>2</td>\n",
       "      <td>N</td>\n",
       "      <td>170</td>\n",
       "      <td>162</td>\n",
       "      <td>3</td>\n",
       "      <td>-52.0</td>\n",
       "      <td>0.0</td>\n",
       "      <td>-0.5</td>\n",
       "      <td>0.0</td>\n",
       "      <td>-5.76</td>\n",
       "      <td>-0.3</td>\n",
       "      <td>-58.56</td>\n",
       "      <td>NaN</td>\n",
       "      <td>NaN</td>\n",
       "      <td>0 days 00:00:11</td>\n",
       "    </tr>\n",
       "    <tr>\n",
       "      <th>3818469</th>\n",
       "      <td>2</td>\n",
       "      <td>2018-01-15 13:22:12</td>\n",
       "      <td>2018-01-15 13:23:57</td>\n",
       "      <td>6</td>\n",
       "      <td>0.00</td>\n",
       "      <td>2</td>\n",
       "      <td>N</td>\n",
       "      <td>233</td>\n",
       "      <td>233</td>\n",
       "      <td>3</td>\n",
       "      <td>-52.0</td>\n",
       "      <td>0.0</td>\n",
       "      <td>-0.5</td>\n",
       "      <td>0.0</td>\n",
       "      <td>-5.76</td>\n",
       "      <td>-0.3</td>\n",
       "      <td>-58.56</td>\n",
       "      <td>NaN</td>\n",
       "      <td>NaN</td>\n",
       "      <td>0 days 00:01:45</td>\n",
       "    </tr>\n",
       "    <tr>\n",
       "      <th>4575025</th>\n",
       "      <td>2</td>\n",
       "      <td>2018-01-18 01:40:02</td>\n",
       "      <td>2018-01-18 01:40:53</td>\n",
       "      <td>1</td>\n",
       "      <td>0.00</td>\n",
       "      <td>5</td>\n",
       "      <td>N</td>\n",
       "      <td>132</td>\n",
       "      <td>132</td>\n",
       "      <td>4</td>\n",
       "      <td>-88.0</td>\n",
       "      <td>0.0</td>\n",
       "      <td>-0.5</td>\n",
       "      <td>0.0</td>\n",
       "      <td>-10.50</td>\n",
       "      <td>-0.3</td>\n",
       "      <td>-99.30</td>\n",
       "      <td>NaN</td>\n",
       "      <td>NaN</td>\n",
       "      <td>0 days 00:00:51</td>\n",
       "    </tr>\n",
       "    <tr>\n",
       "      <th>4581180</th>\n",
       "      <td>2</td>\n",
       "      <td>2018-01-18 03:38:05</td>\n",
       "      <td>2018-01-18 03:39:52</td>\n",
       "      <td>1</td>\n",
       "      <td>0.00</td>\n",
       "      <td>1</td>\n",
       "      <td>N</td>\n",
       "      <td>7</td>\n",
       "      <td>7</td>\n",
       "      <td>3</td>\n",
       "      <td>-3.0</td>\n",
       "      <td>-0.5</td>\n",
       "      <td>-0.5</td>\n",
       "      <td>0.0</td>\n",
       "      <td>-15.00</td>\n",
       "      <td>-0.3</td>\n",
       "      <td>-19.30</td>\n",
       "      <td>NaN</td>\n",
       "      <td>NaN</td>\n",
       "      <td>0 days 00:01:47</td>\n",
       "    </tr>\n",
       "    <tr>\n",
       "      <th>4756902</th>\n",
       "      <td>2</td>\n",
       "      <td>2018-01-18 16:40:23</td>\n",
       "      <td>2018-01-18 16:41:01</td>\n",
       "      <td>1</td>\n",
       "      <td>0.18</td>\n",
       "      <td>2</td>\n",
       "      <td>N</td>\n",
       "      <td>116</td>\n",
       "      <td>116</td>\n",
       "      <td>3</td>\n",
       "      <td>-52.0</td>\n",
       "      <td>-4.5</td>\n",
       "      <td>-0.5</td>\n",
       "      <td>0.0</td>\n",
       "      <td>-5.76</td>\n",
       "      <td>-0.3</td>\n",
       "      <td>-63.06</td>\n",
       "      <td>NaN</td>\n",
       "      <td>NaN</td>\n",
       "      <td>0 days 00:00:38</td>\n",
       "    </tr>\n",
       "    <tr>\n",
       "      <th>6075512</th>\n",
       "      <td>2</td>\n",
       "      <td>2018-01-23 08:45:49</td>\n",
       "      <td>2018-01-23 08:46:00</td>\n",
       "      <td>1</td>\n",
       "      <td>0.00</td>\n",
       "      <td>2</td>\n",
       "      <td>N</td>\n",
       "      <td>132</td>\n",
       "      <td>132</td>\n",
       "      <td>3</td>\n",
       "      <td>-52.0</td>\n",
       "      <td>0.0</td>\n",
       "      <td>-0.5</td>\n",
       "      <td>0.0</td>\n",
       "      <td>-5.76</td>\n",
       "      <td>-0.3</td>\n",
       "      <td>-58.56</td>\n",
       "      <td>NaN</td>\n",
       "      <td>NaN</td>\n",
       "      <td>0 days 00:00:11</td>\n",
       "    </tr>\n",
       "    <tr>\n",
       "      <th>6204971</th>\n",
       "      <td>2</td>\n",
       "      <td>2018-01-23 17:23:53</td>\n",
       "      <td>2018-01-23 17:24:41</td>\n",
       "      <td>1</td>\n",
       "      <td>0.00</td>\n",
       "      <td>1</td>\n",
       "      <td>N</td>\n",
       "      <td>260</td>\n",
       "      <td>260</td>\n",
       "      <td>4</td>\n",
       "      <td>-2.5</td>\n",
       "      <td>-1.0</td>\n",
       "      <td>-0.5</td>\n",
       "      <td>0.0</td>\n",
       "      <td>-4.00</td>\n",
       "      <td>-0.3</td>\n",
       "      <td>-8.30</td>\n",
       "      <td>NaN</td>\n",
       "      <td>NaN</td>\n",
       "      <td>0 days 00:00:48</td>\n",
       "    </tr>\n",
       "    <tr>\n",
       "      <th>6707909</th>\n",
       "      <td>2</td>\n",
       "      <td>2018-01-25 09:49:42</td>\n",
       "      <td>2018-01-25 09:52:08</td>\n",
       "      <td>1</td>\n",
       "      <td>0.00</td>\n",
       "      <td>5</td>\n",
       "      <td>N</td>\n",
       "      <td>138</td>\n",
       "      <td>138</td>\n",
       "      <td>3</td>\n",
       "      <td>-40.0</td>\n",
       "      <td>0.0</td>\n",
       "      <td>0.0</td>\n",
       "      <td>0.0</td>\n",
       "      <td>-12.50</td>\n",
       "      <td>-0.3</td>\n",
       "      <td>-52.80</td>\n",
       "      <td>NaN</td>\n",
       "      <td>NaN</td>\n",
       "      <td>0 days 00:02:26</td>\n",
       "    </tr>\n",
       "    <tr>\n",
       "      <th>7513790</th>\n",
       "      <td>2</td>\n",
       "      <td>2018-01-27 18:33:08</td>\n",
       "      <td>2018-01-27 18:33:28</td>\n",
       "      <td>5</td>\n",
       "      <td>0.00</td>\n",
       "      <td>2</td>\n",
       "      <td>N</td>\n",
       "      <td>87</td>\n",
       "      <td>87</td>\n",
       "      <td>3</td>\n",
       "      <td>-52.0</td>\n",
       "      <td>0.0</td>\n",
       "      <td>-0.5</td>\n",
       "      <td>0.0</td>\n",
       "      <td>-5.76</td>\n",
       "      <td>-0.3</td>\n",
       "      <td>-58.56</td>\n",
       "      <td>NaN</td>\n",
       "      <td>NaN</td>\n",
       "      <td>0 days 00:00:20</td>\n",
       "    </tr>\n",
       "    <tr>\n",
       "      <th>7654091</th>\n",
       "      <td>2</td>\n",
       "      <td>2018-01-28 02:03:54</td>\n",
       "      <td>2018-01-28 02:06:04</td>\n",
       "      <td>1</td>\n",
       "      <td>0.01</td>\n",
       "      <td>5</td>\n",
       "      <td>N</td>\n",
       "      <td>164</td>\n",
       "      <td>164</td>\n",
       "      <td>4</td>\n",
       "      <td>-60.0</td>\n",
       "      <td>0.0</td>\n",
       "      <td>0.0</td>\n",
       "      <td>0.0</td>\n",
       "      <td>-10.50</td>\n",
       "      <td>-0.3</td>\n",
       "      <td>-70.80</td>\n",
       "      <td>NaN</td>\n",
       "      <td>NaN</td>\n",
       "      <td>0 days 00:02:10</td>\n",
       "    </tr>\n",
       "    <tr>\n",
       "      <th>7696272</th>\n",
       "      <td>2</td>\n",
       "      <td>2018-01-28 10:26:06</td>\n",
       "      <td>2018-01-28 10:37:35</td>\n",
       "      <td>1</td>\n",
       "      <td>0.40</td>\n",
       "      <td>2</td>\n",
       "      <td>N</td>\n",
       "      <td>132</td>\n",
       "      <td>132</td>\n",
       "      <td>4</td>\n",
       "      <td>-52.0</td>\n",
       "      <td>0.0</td>\n",
       "      <td>-0.5</td>\n",
       "      <td>0.0</td>\n",
       "      <td>-5.76</td>\n",
       "      <td>-0.3</td>\n",
       "      <td>-58.56</td>\n",
       "      <td>NaN</td>\n",
       "      <td>NaN</td>\n",
       "      <td>0 days 00:11:29</td>\n",
       "    </tr>\n",
       "    <tr>\n",
       "      <th>7804588</th>\n",
       "      <td>2</td>\n",
       "      <td>2018-01-28 17:51:57</td>\n",
       "      <td>2018-01-28 17:54:30</td>\n",
       "      <td>2</td>\n",
       "      <td>0.00</td>\n",
       "      <td>5</td>\n",
       "      <td>N</td>\n",
       "      <td>170</td>\n",
       "      <td>170</td>\n",
       "      <td>4</td>\n",
       "      <td>-100.0</td>\n",
       "      <td>0.0</td>\n",
       "      <td>-0.5</td>\n",
       "      <td>0.0</td>\n",
       "      <td>-12.50</td>\n",
       "      <td>-0.3</td>\n",
       "      <td>-113.30</td>\n",
       "      <td>NaN</td>\n",
       "      <td>NaN</td>\n",
       "      <td>0 days 00:02:33</td>\n",
       "    </tr>\n",
       "    <tr>\n",
       "      <th>7818518</th>\n",
       "      <td>2</td>\n",
       "      <td>2018-01-28 18:08:25</td>\n",
       "      <td>2018-01-28 18:19:18</td>\n",
       "      <td>2</td>\n",
       "      <td>0.00</td>\n",
       "      <td>5</td>\n",
       "      <td>N</td>\n",
       "      <td>164</td>\n",
       "      <td>68</td>\n",
       "      <td>4</td>\n",
       "      <td>-100.0</td>\n",
       "      <td>0.0</td>\n",
       "      <td>-0.5</td>\n",
       "      <td>0.0</td>\n",
       "      <td>-12.50</td>\n",
       "      <td>-0.3</td>\n",
       "      <td>-113.30</td>\n",
       "      <td>NaN</td>\n",
       "      <td>NaN</td>\n",
       "      <td>0 days 00:10:53</td>\n",
       "    </tr>\n",
       "    <tr>\n",
       "      <th>8569057</th>\n",
       "      <td>2</td>\n",
       "      <td>2018-01-31 13:16:20</td>\n",
       "      <td>2018-01-31 13:16:54</td>\n",
       "      <td>1</td>\n",
       "      <td>0.00</td>\n",
       "      <td>2</td>\n",
       "      <td>N</td>\n",
       "      <td>132</td>\n",
       "      <td>132</td>\n",
       "      <td>3</td>\n",
       "      <td>-52.0</td>\n",
       "      <td>0.0</td>\n",
       "      <td>-0.5</td>\n",
       "      <td>0.0</td>\n",
       "      <td>-5.76</td>\n",
       "      <td>-0.3</td>\n",
       "      <td>-58.56</td>\n",
       "      <td>NaN</td>\n",
       "      <td>NaN</td>\n",
       "      <td>0 days 00:00:34</td>\n",
       "    </tr>\n",
       "    <tr>\n",
       "      <th>8744215</th>\n",
       "      <td>2</td>\n",
       "      <td>2018-01-31 22:06:16</td>\n",
       "      <td>2018-01-31 22:06:42</td>\n",
       "      <td>1</td>\n",
       "      <td>0.00</td>\n",
       "      <td>2</td>\n",
       "      <td>N</td>\n",
       "      <td>162</td>\n",
       "      <td>162</td>\n",
       "      <td>3</td>\n",
       "      <td>-52.0</td>\n",
       "      <td>0.0</td>\n",
       "      <td>-0.5</td>\n",
       "      <td>0.0</td>\n",
       "      <td>-11.52</td>\n",
       "      <td>-0.3</td>\n",
       "      <td>-64.32</td>\n",
       "      <td>NaN</td>\n",
       "      <td>NaN</td>\n",
       "      <td>0 days 00:00:26</td>\n",
       "    </tr>\n",
       "  </tbody>\n",
       "</table>\n",
       "</div>"
      ],
      "text/plain": [
       "         VendorID tpep_pickup_datetime tpep_dropoff_datetime  passenger_count  \\\n",
       "38243           2  2018-01-01 02:45:28   2018-01-01 02:45:50                2   \n",
       "77506           2  2018-01-01 05:42:45   2018-01-01 05:43:00                1   \n",
       "810581          2  2018-01-04 14:14:56   2018-01-04 14:15:10                2   \n",
       "1433718         2  2018-01-07 02:14:27   2018-01-07 02:17:23                1   \n",
       "1719463         2  2018-01-08 10:39:29   2018-01-08 10:43:33                1   \n",
       "2335572         2  2018-01-10 14:34:49   2018-01-10 14:35:02                1   \n",
       "2363212         2  2018-01-10 16:05:41   2018-01-10 16:29:31                1   \n",
       "2363214         2  2018-01-10 16:33:30   2018-01-10 16:34:24                1   \n",
       "2813945         2  2018-01-12 05:37:00   2018-01-12 05:37:39                1   \n",
       "3107264         2  2018-01-13 00:09:10   2018-01-13 00:21:01                1   \n",
       "3583616         2  2018-01-14 14:26:48   2018-01-14 14:26:59                2   \n",
       "3818469         2  2018-01-15 13:22:12   2018-01-15 13:23:57                6   \n",
       "4575025         2  2018-01-18 01:40:02   2018-01-18 01:40:53                1   \n",
       "4581180         2  2018-01-18 03:38:05   2018-01-18 03:39:52                1   \n",
       "4756902         2  2018-01-18 16:40:23   2018-01-18 16:41:01                1   \n",
       "6075512         2  2018-01-23 08:45:49   2018-01-23 08:46:00                1   \n",
       "6204971         2  2018-01-23 17:23:53   2018-01-23 17:24:41                1   \n",
       "6707909         2  2018-01-25 09:49:42   2018-01-25 09:52:08                1   \n",
       "7513790         2  2018-01-27 18:33:08   2018-01-27 18:33:28                5   \n",
       "7654091         2  2018-01-28 02:03:54   2018-01-28 02:06:04                1   \n",
       "7696272         2  2018-01-28 10:26:06   2018-01-28 10:37:35                1   \n",
       "7804588         2  2018-01-28 17:51:57   2018-01-28 17:54:30                2   \n",
       "7818518         2  2018-01-28 18:08:25   2018-01-28 18:19:18                2   \n",
       "8569057         2  2018-01-31 13:16:20   2018-01-31 13:16:54                1   \n",
       "8744215         2  2018-01-31 22:06:16   2018-01-31 22:06:42                1   \n",
       "\n",
       "         trip_distance  RatecodeID store_and_fwd_flag  PULocationID  \\\n",
       "38243             0.04           5                  N            48   \n",
       "77506             0.00           2                  N           132   \n",
       "810581            0.00           2                  N           230   \n",
       "1433718           0.74           1                  N           246   \n",
       "1719463           0.00           2                  N           230   \n",
       "2335572           0.00           2                  N           132   \n",
       "2363212           0.15           2                  N           161   \n",
       "2363214           0.24           2                  N           161   \n",
       "2813945           0.00           2                  N             7   \n",
       "3107264           0.00           2                  N           230   \n",
       "3583616           0.00           2                  N           170   \n",
       "3818469           0.00           2                  N           233   \n",
       "4575025           0.00           5                  N           132   \n",
       "4581180           0.00           1                  N             7   \n",
       "4756902           0.18           2                  N           116   \n",
       "6075512           0.00           2                  N           132   \n",
       "6204971           0.00           1                  N           260   \n",
       "6707909           0.00           5                  N           138   \n",
       "7513790           0.00           2                  N            87   \n",
       "7654091           0.01           5                  N           164   \n",
       "7696272           0.40           2                  N           132   \n",
       "7804588           0.00           5                  N           170   \n",
       "7818518           0.00           5                  N           164   \n",
       "8569057           0.00           2                  N           132   \n",
       "8744215           0.00           2                  N           162   \n",
       "\n",
       "         DOLocationID  payment_type  fare_amount  extra  mta_tax  tip_amount  \\\n",
       "38243              48             3       -198.0    0.0     -0.5         0.0   \n",
       "77506             132             3        -52.0    0.0     -0.5         0.0   \n",
       "810581            230             3        -52.0    0.0     -0.5         0.0   \n",
       "1433718            50             4         -4.5   -0.5     -0.5         0.0   \n",
       "1719463           230             3        -52.0    0.0     -0.5         0.0   \n",
       "2335572           132             3        -52.0    0.0     -0.5         0.0   \n",
       "2363212           161             4        -52.0   -4.5     -0.5         0.0   \n",
       "2363214           161             4        -52.0   -4.5     -0.5         0.0   \n",
       "2813945             7             3        -52.0    0.0     -0.5         0.0   \n",
       "3107264           230             3        -52.0    0.0     -0.5         0.0   \n",
       "3583616           162             3        -52.0    0.0     -0.5         0.0   \n",
       "3818469           233             3        -52.0    0.0     -0.5         0.0   \n",
       "4575025           132             4        -88.0    0.0     -0.5         0.0   \n",
       "4581180             7             3         -3.0   -0.5     -0.5         0.0   \n",
       "4756902           116             3        -52.0   -4.5     -0.5         0.0   \n",
       "6075512           132             3        -52.0    0.0     -0.5         0.0   \n",
       "6204971           260             4         -2.5   -1.0     -0.5         0.0   \n",
       "6707909           138             3        -40.0    0.0      0.0         0.0   \n",
       "7513790            87             3        -52.0    0.0     -0.5         0.0   \n",
       "7654091           164             4        -60.0    0.0      0.0         0.0   \n",
       "7696272           132             4        -52.0    0.0     -0.5         0.0   \n",
       "7804588           170             4       -100.0    0.0     -0.5         0.0   \n",
       "7818518            68             4       -100.0    0.0     -0.5         0.0   \n",
       "8569057           132             3        -52.0    0.0     -0.5         0.0   \n",
       "8744215           162             3        -52.0    0.0     -0.5         0.0   \n",
       "\n",
       "         tolls_amount  improvement_surcharge  total_amount  \\\n",
       "38243          -10.50                   -0.3       -209.30   \n",
       "77506           -5.76                   -0.3        -58.56   \n",
       "810581          -5.76                   -0.3        -58.56   \n",
       "1433718        -10.50                   -0.3        -16.30   \n",
       "1719463         -5.76                   -0.3        -58.56   \n",
       "2335572         -5.76                   -0.3        -58.56   \n",
       "2363212         -5.76                   -0.3        -63.06   \n",
       "2363214         -5.76                   -0.3        -63.06   \n",
       "2813945         -5.76                   -0.3        -58.56   \n",
       "3107264         -5.76                   -0.3        -58.56   \n",
       "3583616         -5.76                   -0.3        -58.56   \n",
       "3818469         -5.76                   -0.3        -58.56   \n",
       "4575025        -10.50                   -0.3        -99.30   \n",
       "4581180        -15.00                   -0.3        -19.30   \n",
       "4756902         -5.76                   -0.3        -63.06   \n",
       "6075512         -5.76                   -0.3        -58.56   \n",
       "6204971         -4.00                   -0.3         -8.30   \n",
       "6707909        -12.50                   -0.3        -52.80   \n",
       "7513790         -5.76                   -0.3        -58.56   \n",
       "7654091        -10.50                   -0.3        -70.80   \n",
       "7696272         -5.76                   -0.3        -58.56   \n",
       "7804588        -12.50                   -0.3       -113.30   \n",
       "7818518        -12.50                   -0.3       -113.30   \n",
       "8569057         -5.76                   -0.3        -58.56   \n",
       "8744215        -11.52                   -0.3        -64.32   \n",
       "\n",
       "         congestion_surcharge  airport_fee    Tiempo_Viaje  \n",
       "38243                     NaN          NaN 0 days 00:00:22  \n",
       "77506                     NaN          NaN 0 days 00:00:15  \n",
       "810581                    NaN          NaN 0 days 00:00:14  \n",
       "1433718                   NaN          NaN 0 days 00:02:56  \n",
       "1719463                   NaN          NaN 0 days 00:04:04  \n",
       "2335572                   NaN          NaN 0 days 00:00:13  \n",
       "2363212                   NaN          NaN 0 days 00:23:50  \n",
       "2363214                   NaN          NaN 0 days 00:00:54  \n",
       "2813945                   NaN          NaN 0 days 00:00:39  \n",
       "3107264                   NaN          NaN 0 days 00:11:51  \n",
       "3583616                   NaN          NaN 0 days 00:00:11  \n",
       "3818469                   NaN          NaN 0 days 00:01:45  \n",
       "4575025                   NaN          NaN 0 days 00:00:51  \n",
       "4581180                   NaN          NaN 0 days 00:01:47  \n",
       "4756902                   NaN          NaN 0 days 00:00:38  \n",
       "6075512                   NaN          NaN 0 days 00:00:11  \n",
       "6204971                   NaN          NaN 0 days 00:00:48  \n",
       "6707909                   NaN          NaN 0 days 00:02:26  \n",
       "7513790                   NaN          NaN 0 days 00:00:20  \n",
       "7654091                   NaN          NaN 0 days 00:02:10  \n",
       "7696272                   NaN          NaN 0 days 00:11:29  \n",
       "7804588                   NaN          NaN 0 days 00:02:33  \n",
       "7818518                   NaN          NaN 0 days 00:10:53  \n",
       "8569057                   NaN          NaN 0 days 00:00:34  \n",
       "8744215                   NaN          NaN 0 days 00:00:26  "
      ]
     },
     "execution_count": 244,
     "metadata": {},
     "output_type": "execute_result"
    }
   ],
   "source": [
    "data[data[\"tolls_amount\"]<0]"
   ]
  },
  {
   "cell_type": "code",
   "execution_count": 245,
   "metadata": {},
   "outputs": [
    {
     "data": {
      "text/html": [
       "<div>\n",
       "<style scoped>\n",
       "    .dataframe tbody tr th:only-of-type {\n",
       "        vertical-align: middle;\n",
       "    }\n",
       "\n",
       "    .dataframe tbody tr th {\n",
       "        vertical-align: top;\n",
       "    }\n",
       "\n",
       "    .dataframe thead th {\n",
       "        text-align: right;\n",
       "    }\n",
       "</style>\n",
       "<table border=\"1\" class=\"dataframe\">\n",
       "  <thead>\n",
       "    <tr style=\"text-align: right;\">\n",
       "      <th></th>\n",
       "      <th>VendorID</th>\n",
       "      <th>tpep_pickup_datetime</th>\n",
       "      <th>tpep_dropoff_datetime</th>\n",
       "      <th>passenger_count</th>\n",
       "      <th>trip_distance</th>\n",
       "      <th>RatecodeID</th>\n",
       "      <th>store_and_fwd_flag</th>\n",
       "      <th>PULocationID</th>\n",
       "      <th>DOLocationID</th>\n",
       "      <th>payment_type</th>\n",
       "      <th>fare_amount</th>\n",
       "      <th>extra</th>\n",
       "      <th>mta_tax</th>\n",
       "      <th>tip_amount</th>\n",
       "      <th>tolls_amount</th>\n",
       "      <th>improvement_surcharge</th>\n",
       "      <th>total_amount</th>\n",
       "      <th>congestion_surcharge</th>\n",
       "      <th>airport_fee</th>\n",
       "      <th>Tiempo_Viaje</th>\n",
       "    </tr>\n",
       "  </thead>\n",
       "  <tbody>\n",
       "    <tr>\n",
       "      <th>58</th>\n",
       "      <td>2</td>\n",
       "      <td>2018-01-01 01:02:39</td>\n",
       "      <td>2018-01-01 01:04:02</td>\n",
       "      <td>2</td>\n",
       "      <td>0.09</td>\n",
       "      <td>1</td>\n",
       "      <td>N</td>\n",
       "      <td>87</td>\n",
       "      <td>87</td>\n",
       "      <td>4</td>\n",
       "      <td>-3.0</td>\n",
       "      <td>-0.5</td>\n",
       "      <td>-0.5</td>\n",
       "      <td>0.0</td>\n",
       "      <td>0.0</td>\n",
       "      <td>-0.3</td>\n",
       "      <td>-4.3</td>\n",
       "      <td>NaN</td>\n",
       "      <td>NaN</td>\n",
       "      <td>0 days 00:01:23</td>\n",
       "    </tr>\n",
       "    <tr>\n",
       "      <th>840</th>\n",
       "      <td>2</td>\n",
       "      <td>2018-01-01 00:38:19</td>\n",
       "      <td>2018-01-01 00:55:57</td>\n",
       "      <td>1</td>\n",
       "      <td>0.41</td>\n",
       "      <td>1</td>\n",
       "      <td>N</td>\n",
       "      <td>68</td>\n",
       "      <td>68</td>\n",
       "      <td>4</td>\n",
       "      <td>-11.0</td>\n",
       "      <td>-0.5</td>\n",
       "      <td>-0.5</td>\n",
       "      <td>0.0</td>\n",
       "      <td>0.0</td>\n",
       "      <td>-0.3</td>\n",
       "      <td>-12.3</td>\n",
       "      <td>NaN</td>\n",
       "      <td>NaN</td>\n",
       "      <td>0 days 00:17:38</td>\n",
       "    </tr>\n",
       "    <tr>\n",
       "      <th>3862</th>\n",
       "      <td>2</td>\n",
       "      <td>2018-01-01 00:46:31</td>\n",
       "      <td>2018-01-01 00:46:34</td>\n",
       "      <td>1</td>\n",
       "      <td>0.00</td>\n",
       "      <td>5</td>\n",
       "      <td>N</td>\n",
       "      <td>264</td>\n",
       "      <td>238</td>\n",
       "      <td>4</td>\n",
       "      <td>-13.8</td>\n",
       "      <td>0.0</td>\n",
       "      <td>0.0</td>\n",
       "      <td>0.0</td>\n",
       "      <td>0.0</td>\n",
       "      <td>-0.3</td>\n",
       "      <td>-14.1</td>\n",
       "      <td>NaN</td>\n",
       "      <td>NaN</td>\n",
       "      <td>0 days 00:00:03</td>\n",
       "    </tr>\n",
       "    <tr>\n",
       "      <th>4084</th>\n",
       "      <td>2</td>\n",
       "      <td>2018-01-01 00:47:40</td>\n",
       "      <td>2018-01-01 00:49:06</td>\n",
       "      <td>1</td>\n",
       "      <td>0.13</td>\n",
       "      <td>1</td>\n",
       "      <td>N</td>\n",
       "      <td>137</td>\n",
       "      <td>137</td>\n",
       "      <td>3</td>\n",
       "      <td>-3.0</td>\n",
       "      <td>-0.5</td>\n",
       "      <td>-0.5</td>\n",
       "      <td>0.0</td>\n",
       "      <td>0.0</td>\n",
       "      <td>-0.3</td>\n",
       "      <td>-4.3</td>\n",
       "      <td>NaN</td>\n",
       "      <td>NaN</td>\n",
       "      <td>0 days 00:01:26</td>\n",
       "    </tr>\n",
       "    <tr>\n",
       "      <th>4242</th>\n",
       "      <td>2</td>\n",
       "      <td>2018-01-01 00:11:10</td>\n",
       "      <td>2018-01-01 00:15:14</td>\n",
       "      <td>1</td>\n",
       "      <td>0.16</td>\n",
       "      <td>1</td>\n",
       "      <td>N</td>\n",
       "      <td>137</td>\n",
       "      <td>170</td>\n",
       "      <td>4</td>\n",
       "      <td>-4.5</td>\n",
       "      <td>-0.5</td>\n",
       "      <td>-0.5</td>\n",
       "      <td>0.0</td>\n",
       "      <td>0.0</td>\n",
       "      <td>-0.3</td>\n",
       "      <td>-5.8</td>\n",
       "      <td>NaN</td>\n",
       "      <td>NaN</td>\n",
       "      <td>0 days 00:04:04</td>\n",
       "    </tr>\n",
       "    <tr>\n",
       "      <th>...</th>\n",
       "      <td>...</td>\n",
       "      <td>...</td>\n",
       "      <td>...</td>\n",
       "      <td>...</td>\n",
       "      <td>...</td>\n",
       "      <td>...</td>\n",
       "      <td>...</td>\n",
       "      <td>...</td>\n",
       "      <td>...</td>\n",
       "      <td>...</td>\n",
       "      <td>...</td>\n",
       "      <td>...</td>\n",
       "      <td>...</td>\n",
       "      <td>...</td>\n",
       "      <td>...</td>\n",
       "      <td>...</td>\n",
       "      <td>...</td>\n",
       "      <td>...</td>\n",
       "      <td>...</td>\n",
       "      <td>...</td>\n",
       "    </tr>\n",
       "    <tr>\n",
       "      <th>8754678</th>\n",
       "      <td>2</td>\n",
       "      <td>2018-01-31 23:21:05</td>\n",
       "      <td>2018-01-31 23:24:44</td>\n",
       "      <td>1</td>\n",
       "      <td>0.69</td>\n",
       "      <td>1</td>\n",
       "      <td>N</td>\n",
       "      <td>164</td>\n",
       "      <td>234</td>\n",
       "      <td>3</td>\n",
       "      <td>-4.5</td>\n",
       "      <td>-0.5</td>\n",
       "      <td>-0.5</td>\n",
       "      <td>0.0</td>\n",
       "      <td>0.0</td>\n",
       "      <td>-0.3</td>\n",
       "      <td>-5.8</td>\n",
       "      <td>NaN</td>\n",
       "      <td>NaN</td>\n",
       "      <td>0 days 00:03:39</td>\n",
       "    </tr>\n",
       "    <tr>\n",
       "      <th>8754757</th>\n",
       "      <td>2</td>\n",
       "      <td>2018-01-31 23:26:11</td>\n",
       "      <td>2018-01-31 23:26:46</td>\n",
       "      <td>2</td>\n",
       "      <td>0.03</td>\n",
       "      <td>1</td>\n",
       "      <td>N</td>\n",
       "      <td>68</td>\n",
       "      <td>246</td>\n",
       "      <td>4</td>\n",
       "      <td>-2.5</td>\n",
       "      <td>-0.5</td>\n",
       "      <td>-0.5</td>\n",
       "      <td>0.0</td>\n",
       "      <td>0.0</td>\n",
       "      <td>-0.3</td>\n",
       "      <td>-3.8</td>\n",
       "      <td>NaN</td>\n",
       "      <td>NaN</td>\n",
       "      <td>0 days 00:00:35</td>\n",
       "    </tr>\n",
       "    <tr>\n",
       "      <th>8755958</th>\n",
       "      <td>2</td>\n",
       "      <td>2018-01-31 23:21:56</td>\n",
       "      <td>2018-01-31 23:21:59</td>\n",
       "      <td>1</td>\n",
       "      <td>0.00</td>\n",
       "      <td>1</td>\n",
       "      <td>N</td>\n",
       "      <td>264</td>\n",
       "      <td>112</td>\n",
       "      <td>4</td>\n",
       "      <td>-2.5</td>\n",
       "      <td>-0.5</td>\n",
       "      <td>-0.5</td>\n",
       "      <td>0.0</td>\n",
       "      <td>0.0</td>\n",
       "      <td>-0.3</td>\n",
       "      <td>-3.8</td>\n",
       "      <td>NaN</td>\n",
       "      <td>NaN</td>\n",
       "      <td>0 days 00:00:03</td>\n",
       "    </tr>\n",
       "    <tr>\n",
       "      <th>8756003</th>\n",
       "      <td>2</td>\n",
       "      <td>2018-01-31 23:56:06</td>\n",
       "      <td>2018-01-31 23:57:06</td>\n",
       "      <td>2</td>\n",
       "      <td>0.12</td>\n",
       "      <td>1</td>\n",
       "      <td>N</td>\n",
       "      <td>246</td>\n",
       "      <td>246</td>\n",
       "      <td>4</td>\n",
       "      <td>-2.5</td>\n",
       "      <td>-0.5</td>\n",
       "      <td>-0.5</td>\n",
       "      <td>0.0</td>\n",
       "      <td>0.0</td>\n",
       "      <td>-0.3</td>\n",
       "      <td>-3.8</td>\n",
       "      <td>NaN</td>\n",
       "      <td>NaN</td>\n",
       "      <td>0 days 00:01:00</td>\n",
       "    </tr>\n",
       "    <tr>\n",
       "      <th>8757703</th>\n",
       "      <td>2</td>\n",
       "      <td>2018-01-31 23:05:23</td>\n",
       "      <td>2018-01-31 23:05:32</td>\n",
       "      <td>1</td>\n",
       "      <td>0.00</td>\n",
       "      <td>1</td>\n",
       "      <td>N</td>\n",
       "      <td>193</td>\n",
       "      <td>193</td>\n",
       "      <td>3</td>\n",
       "      <td>-2.5</td>\n",
       "      <td>-0.5</td>\n",
       "      <td>-0.5</td>\n",
       "      <td>0.0</td>\n",
       "      <td>0.0</td>\n",
       "      <td>-0.3</td>\n",
       "      <td>-3.8</td>\n",
       "      <td>NaN</td>\n",
       "      <td>NaN</td>\n",
       "      <td>0 days 00:00:09</td>\n",
       "    </tr>\n",
       "  </tbody>\n",
       "</table>\n",
       "<p>4255 rows × 20 columns</p>\n",
       "</div>"
      ],
      "text/plain": [
       "         VendorID tpep_pickup_datetime tpep_dropoff_datetime  passenger_count  \\\n",
       "58              2  2018-01-01 01:02:39   2018-01-01 01:04:02                2   \n",
       "840             2  2018-01-01 00:38:19   2018-01-01 00:55:57                1   \n",
       "3862            2  2018-01-01 00:46:31   2018-01-01 00:46:34                1   \n",
       "4084            2  2018-01-01 00:47:40   2018-01-01 00:49:06                1   \n",
       "4242            2  2018-01-01 00:11:10   2018-01-01 00:15:14                1   \n",
       "...           ...                  ...                   ...              ...   \n",
       "8754678         2  2018-01-31 23:21:05   2018-01-31 23:24:44                1   \n",
       "8754757         2  2018-01-31 23:26:11   2018-01-31 23:26:46                2   \n",
       "8755958         2  2018-01-31 23:21:56   2018-01-31 23:21:59                1   \n",
       "8756003         2  2018-01-31 23:56:06   2018-01-31 23:57:06                2   \n",
       "8757703         2  2018-01-31 23:05:23   2018-01-31 23:05:32                1   \n",
       "\n",
       "         trip_distance  RatecodeID store_and_fwd_flag  PULocationID  \\\n",
       "58                0.09           1                  N            87   \n",
       "840               0.41           1                  N            68   \n",
       "3862              0.00           5                  N           264   \n",
       "4084              0.13           1                  N           137   \n",
       "4242              0.16           1                  N           137   \n",
       "...                ...         ...                ...           ...   \n",
       "8754678           0.69           1                  N           164   \n",
       "8754757           0.03           1                  N            68   \n",
       "8755958           0.00           1                  N           264   \n",
       "8756003           0.12           1                  N           246   \n",
       "8757703           0.00           1                  N           193   \n",
       "\n",
       "         DOLocationID  payment_type  fare_amount  extra  mta_tax  tip_amount  \\\n",
       "58                 87             4         -3.0   -0.5     -0.5         0.0   \n",
       "840                68             4        -11.0   -0.5     -0.5         0.0   \n",
       "3862              238             4        -13.8    0.0      0.0         0.0   \n",
       "4084              137             3         -3.0   -0.5     -0.5         0.0   \n",
       "4242              170             4         -4.5   -0.5     -0.5         0.0   \n",
       "...               ...           ...          ...    ...      ...         ...   \n",
       "8754678           234             3         -4.5   -0.5     -0.5         0.0   \n",
       "8754757           246             4         -2.5   -0.5     -0.5         0.0   \n",
       "8755958           112             4         -2.5   -0.5     -0.5         0.0   \n",
       "8756003           246             4         -2.5   -0.5     -0.5         0.0   \n",
       "8757703           193             3         -2.5   -0.5     -0.5         0.0   \n",
       "\n",
       "         tolls_amount  improvement_surcharge  total_amount  \\\n",
       "58                0.0                   -0.3          -4.3   \n",
       "840               0.0                   -0.3         -12.3   \n",
       "3862              0.0                   -0.3         -14.1   \n",
       "4084              0.0                   -0.3          -4.3   \n",
       "4242              0.0                   -0.3          -5.8   \n",
       "...               ...                    ...           ...   \n",
       "8754678           0.0                   -0.3          -5.8   \n",
       "8754757           0.0                   -0.3          -3.8   \n",
       "8755958           0.0                   -0.3          -3.8   \n",
       "8756003           0.0                   -0.3          -3.8   \n",
       "8757703           0.0                   -0.3          -3.8   \n",
       "\n",
       "         congestion_surcharge  airport_fee    Tiempo_Viaje  \n",
       "58                        NaN          NaN 0 days 00:01:23  \n",
       "840                       NaN          NaN 0 days 00:17:38  \n",
       "3862                      NaN          NaN 0 days 00:00:03  \n",
       "4084                      NaN          NaN 0 days 00:01:26  \n",
       "4242                      NaN          NaN 0 days 00:04:04  \n",
       "...                       ...          ...             ...  \n",
       "8754678                   NaN          NaN 0 days 00:03:39  \n",
       "8754757                   NaN          NaN 0 days 00:00:35  \n",
       "8755958                   NaN          NaN 0 days 00:00:03  \n",
       "8756003                   NaN          NaN 0 days 00:01:00  \n",
       "8757703                   NaN          NaN 0 days 00:00:09  \n",
       "\n",
       "[4255 rows x 20 columns]"
      ]
     },
     "execution_count": 245,
     "metadata": {},
     "output_type": "execute_result"
    }
   ],
   "source": [
    "data[data[\"improvement_surcharge\"]<0]"
   ]
  },
  {
   "cell_type": "code",
   "execution_count": 246,
   "metadata": {},
   "outputs": [
    {
     "data": {
      "text/html": [
       "<div>\n",
       "<style scoped>\n",
       "    .dataframe tbody tr th:only-of-type {\n",
       "        vertical-align: middle;\n",
       "    }\n",
       "\n",
       "    .dataframe tbody tr th {\n",
       "        vertical-align: top;\n",
       "    }\n",
       "\n",
       "    .dataframe thead th {\n",
       "        text-align: right;\n",
       "    }\n",
       "</style>\n",
       "<table border=\"1\" class=\"dataframe\">\n",
       "  <thead>\n",
       "    <tr style=\"text-align: right;\">\n",
       "      <th></th>\n",
       "      <th>VendorID</th>\n",
       "      <th>tpep_pickup_datetime</th>\n",
       "      <th>tpep_dropoff_datetime</th>\n",
       "      <th>passenger_count</th>\n",
       "      <th>trip_distance</th>\n",
       "      <th>RatecodeID</th>\n",
       "      <th>store_and_fwd_flag</th>\n",
       "      <th>PULocationID</th>\n",
       "      <th>DOLocationID</th>\n",
       "      <th>payment_type</th>\n",
       "      <th>fare_amount</th>\n",
       "      <th>extra</th>\n",
       "      <th>mta_tax</th>\n",
       "      <th>tip_amount</th>\n",
       "      <th>tolls_amount</th>\n",
       "      <th>improvement_surcharge</th>\n",
       "      <th>total_amount</th>\n",
       "      <th>congestion_surcharge</th>\n",
       "      <th>airport_fee</th>\n",
       "      <th>Tiempo_Viaje</th>\n",
       "    </tr>\n",
       "  </thead>\n",
       "  <tbody>\n",
       "    <tr>\n",
       "      <th>58</th>\n",
       "      <td>2</td>\n",
       "      <td>2018-01-01 01:02:39</td>\n",
       "      <td>2018-01-01 01:04:02</td>\n",
       "      <td>2</td>\n",
       "      <td>0.09</td>\n",
       "      <td>1</td>\n",
       "      <td>N</td>\n",
       "      <td>87</td>\n",
       "      <td>87</td>\n",
       "      <td>4</td>\n",
       "      <td>-3.0</td>\n",
       "      <td>-0.5</td>\n",
       "      <td>-0.5</td>\n",
       "      <td>0.0</td>\n",
       "      <td>0.0</td>\n",
       "      <td>-0.3</td>\n",
       "      <td>-4.3</td>\n",
       "      <td>NaN</td>\n",
       "      <td>NaN</td>\n",
       "      <td>0 days 00:01:23</td>\n",
       "    </tr>\n",
       "    <tr>\n",
       "      <th>840</th>\n",
       "      <td>2</td>\n",
       "      <td>2018-01-01 00:38:19</td>\n",
       "      <td>2018-01-01 00:55:57</td>\n",
       "      <td>1</td>\n",
       "      <td>0.41</td>\n",
       "      <td>1</td>\n",
       "      <td>N</td>\n",
       "      <td>68</td>\n",
       "      <td>68</td>\n",
       "      <td>4</td>\n",
       "      <td>-11.0</td>\n",
       "      <td>-0.5</td>\n",
       "      <td>-0.5</td>\n",
       "      <td>0.0</td>\n",
       "      <td>0.0</td>\n",
       "      <td>-0.3</td>\n",
       "      <td>-12.3</td>\n",
       "      <td>NaN</td>\n",
       "      <td>NaN</td>\n",
       "      <td>0 days 00:17:38</td>\n",
       "    </tr>\n",
       "    <tr>\n",
       "      <th>3862</th>\n",
       "      <td>2</td>\n",
       "      <td>2018-01-01 00:46:31</td>\n",
       "      <td>2018-01-01 00:46:34</td>\n",
       "      <td>1</td>\n",
       "      <td>0.00</td>\n",
       "      <td>5</td>\n",
       "      <td>N</td>\n",
       "      <td>264</td>\n",
       "      <td>238</td>\n",
       "      <td>4</td>\n",
       "      <td>-13.8</td>\n",
       "      <td>0.0</td>\n",
       "      <td>0.0</td>\n",
       "      <td>0.0</td>\n",
       "      <td>0.0</td>\n",
       "      <td>-0.3</td>\n",
       "      <td>-14.1</td>\n",
       "      <td>NaN</td>\n",
       "      <td>NaN</td>\n",
       "      <td>0 days 00:00:03</td>\n",
       "    </tr>\n",
       "    <tr>\n",
       "      <th>4084</th>\n",
       "      <td>2</td>\n",
       "      <td>2018-01-01 00:47:40</td>\n",
       "      <td>2018-01-01 00:49:06</td>\n",
       "      <td>1</td>\n",
       "      <td>0.13</td>\n",
       "      <td>1</td>\n",
       "      <td>N</td>\n",
       "      <td>137</td>\n",
       "      <td>137</td>\n",
       "      <td>3</td>\n",
       "      <td>-3.0</td>\n",
       "      <td>-0.5</td>\n",
       "      <td>-0.5</td>\n",
       "      <td>0.0</td>\n",
       "      <td>0.0</td>\n",
       "      <td>-0.3</td>\n",
       "      <td>-4.3</td>\n",
       "      <td>NaN</td>\n",
       "      <td>NaN</td>\n",
       "      <td>0 days 00:01:26</td>\n",
       "    </tr>\n",
       "    <tr>\n",
       "      <th>4242</th>\n",
       "      <td>2</td>\n",
       "      <td>2018-01-01 00:11:10</td>\n",
       "      <td>2018-01-01 00:15:14</td>\n",
       "      <td>1</td>\n",
       "      <td>0.16</td>\n",
       "      <td>1</td>\n",
       "      <td>N</td>\n",
       "      <td>137</td>\n",
       "      <td>170</td>\n",
       "      <td>4</td>\n",
       "      <td>-4.5</td>\n",
       "      <td>-0.5</td>\n",
       "      <td>-0.5</td>\n",
       "      <td>0.0</td>\n",
       "      <td>0.0</td>\n",
       "      <td>-0.3</td>\n",
       "      <td>-5.8</td>\n",
       "      <td>NaN</td>\n",
       "      <td>NaN</td>\n",
       "      <td>0 days 00:04:04</td>\n",
       "    </tr>\n",
       "    <tr>\n",
       "      <th>...</th>\n",
       "      <td>...</td>\n",
       "      <td>...</td>\n",
       "      <td>...</td>\n",
       "      <td>...</td>\n",
       "      <td>...</td>\n",
       "      <td>...</td>\n",
       "      <td>...</td>\n",
       "      <td>...</td>\n",
       "      <td>...</td>\n",
       "      <td>...</td>\n",
       "      <td>...</td>\n",
       "      <td>...</td>\n",
       "      <td>...</td>\n",
       "      <td>...</td>\n",
       "      <td>...</td>\n",
       "      <td>...</td>\n",
       "      <td>...</td>\n",
       "      <td>...</td>\n",
       "      <td>...</td>\n",
       "      <td>...</td>\n",
       "    </tr>\n",
       "    <tr>\n",
       "      <th>8754678</th>\n",
       "      <td>2</td>\n",
       "      <td>2018-01-31 23:21:05</td>\n",
       "      <td>2018-01-31 23:24:44</td>\n",
       "      <td>1</td>\n",
       "      <td>0.69</td>\n",
       "      <td>1</td>\n",
       "      <td>N</td>\n",
       "      <td>164</td>\n",
       "      <td>234</td>\n",
       "      <td>3</td>\n",
       "      <td>-4.5</td>\n",
       "      <td>-0.5</td>\n",
       "      <td>-0.5</td>\n",
       "      <td>0.0</td>\n",
       "      <td>0.0</td>\n",
       "      <td>-0.3</td>\n",
       "      <td>-5.8</td>\n",
       "      <td>NaN</td>\n",
       "      <td>NaN</td>\n",
       "      <td>0 days 00:03:39</td>\n",
       "    </tr>\n",
       "    <tr>\n",
       "      <th>8754757</th>\n",
       "      <td>2</td>\n",
       "      <td>2018-01-31 23:26:11</td>\n",
       "      <td>2018-01-31 23:26:46</td>\n",
       "      <td>2</td>\n",
       "      <td>0.03</td>\n",
       "      <td>1</td>\n",
       "      <td>N</td>\n",
       "      <td>68</td>\n",
       "      <td>246</td>\n",
       "      <td>4</td>\n",
       "      <td>-2.5</td>\n",
       "      <td>-0.5</td>\n",
       "      <td>-0.5</td>\n",
       "      <td>0.0</td>\n",
       "      <td>0.0</td>\n",
       "      <td>-0.3</td>\n",
       "      <td>-3.8</td>\n",
       "      <td>NaN</td>\n",
       "      <td>NaN</td>\n",
       "      <td>0 days 00:00:35</td>\n",
       "    </tr>\n",
       "    <tr>\n",
       "      <th>8755958</th>\n",
       "      <td>2</td>\n",
       "      <td>2018-01-31 23:21:56</td>\n",
       "      <td>2018-01-31 23:21:59</td>\n",
       "      <td>1</td>\n",
       "      <td>0.00</td>\n",
       "      <td>1</td>\n",
       "      <td>N</td>\n",
       "      <td>264</td>\n",
       "      <td>112</td>\n",
       "      <td>4</td>\n",
       "      <td>-2.5</td>\n",
       "      <td>-0.5</td>\n",
       "      <td>-0.5</td>\n",
       "      <td>0.0</td>\n",
       "      <td>0.0</td>\n",
       "      <td>-0.3</td>\n",
       "      <td>-3.8</td>\n",
       "      <td>NaN</td>\n",
       "      <td>NaN</td>\n",
       "      <td>0 days 00:00:03</td>\n",
       "    </tr>\n",
       "    <tr>\n",
       "      <th>8756003</th>\n",
       "      <td>2</td>\n",
       "      <td>2018-01-31 23:56:06</td>\n",
       "      <td>2018-01-31 23:57:06</td>\n",
       "      <td>2</td>\n",
       "      <td>0.12</td>\n",
       "      <td>1</td>\n",
       "      <td>N</td>\n",
       "      <td>246</td>\n",
       "      <td>246</td>\n",
       "      <td>4</td>\n",
       "      <td>-2.5</td>\n",
       "      <td>-0.5</td>\n",
       "      <td>-0.5</td>\n",
       "      <td>0.0</td>\n",
       "      <td>0.0</td>\n",
       "      <td>-0.3</td>\n",
       "      <td>-3.8</td>\n",
       "      <td>NaN</td>\n",
       "      <td>NaN</td>\n",
       "      <td>0 days 00:01:00</td>\n",
       "    </tr>\n",
       "    <tr>\n",
       "      <th>8757703</th>\n",
       "      <td>2</td>\n",
       "      <td>2018-01-31 23:05:23</td>\n",
       "      <td>2018-01-31 23:05:32</td>\n",
       "      <td>1</td>\n",
       "      <td>0.00</td>\n",
       "      <td>1</td>\n",
       "      <td>N</td>\n",
       "      <td>193</td>\n",
       "      <td>193</td>\n",
       "      <td>3</td>\n",
       "      <td>-2.5</td>\n",
       "      <td>-0.5</td>\n",
       "      <td>-0.5</td>\n",
       "      <td>0.0</td>\n",
       "      <td>0.0</td>\n",
       "      <td>-0.3</td>\n",
       "      <td>-3.8</td>\n",
       "      <td>NaN</td>\n",
       "      <td>NaN</td>\n",
       "      <td>0 days 00:00:09</td>\n",
       "    </tr>\n",
       "  </tbody>\n",
       "</table>\n",
       "<p>4260 rows × 20 columns</p>\n",
       "</div>"
      ],
      "text/plain": [
       "         VendorID tpep_pickup_datetime tpep_dropoff_datetime  passenger_count  \\\n",
       "58              2  2018-01-01 01:02:39   2018-01-01 01:04:02                2   \n",
       "840             2  2018-01-01 00:38:19   2018-01-01 00:55:57                1   \n",
       "3862            2  2018-01-01 00:46:31   2018-01-01 00:46:34                1   \n",
       "4084            2  2018-01-01 00:47:40   2018-01-01 00:49:06                1   \n",
       "4242            2  2018-01-01 00:11:10   2018-01-01 00:15:14                1   \n",
       "...           ...                  ...                   ...              ...   \n",
       "8754678         2  2018-01-31 23:21:05   2018-01-31 23:24:44                1   \n",
       "8754757         2  2018-01-31 23:26:11   2018-01-31 23:26:46                2   \n",
       "8755958         2  2018-01-31 23:21:56   2018-01-31 23:21:59                1   \n",
       "8756003         2  2018-01-31 23:56:06   2018-01-31 23:57:06                2   \n",
       "8757703         2  2018-01-31 23:05:23   2018-01-31 23:05:32                1   \n",
       "\n",
       "         trip_distance  RatecodeID store_and_fwd_flag  PULocationID  \\\n",
       "58                0.09           1                  N            87   \n",
       "840               0.41           1                  N            68   \n",
       "3862              0.00           5                  N           264   \n",
       "4084              0.13           1                  N           137   \n",
       "4242              0.16           1                  N           137   \n",
       "...                ...         ...                ...           ...   \n",
       "8754678           0.69           1                  N           164   \n",
       "8754757           0.03           1                  N            68   \n",
       "8755958           0.00           1                  N           264   \n",
       "8756003           0.12           1                  N           246   \n",
       "8757703           0.00           1                  N           193   \n",
       "\n",
       "         DOLocationID  payment_type  fare_amount  extra  mta_tax  tip_amount  \\\n",
       "58                 87             4         -3.0   -0.5     -0.5         0.0   \n",
       "840                68             4        -11.0   -0.5     -0.5         0.0   \n",
       "3862              238             4        -13.8    0.0      0.0         0.0   \n",
       "4084              137             3         -3.0   -0.5     -0.5         0.0   \n",
       "4242              170             4         -4.5   -0.5     -0.5         0.0   \n",
       "...               ...           ...          ...    ...      ...         ...   \n",
       "8754678           234             3         -4.5   -0.5     -0.5         0.0   \n",
       "8754757           246             4         -2.5   -0.5     -0.5         0.0   \n",
       "8755958           112             4         -2.5   -0.5     -0.5         0.0   \n",
       "8756003           246             4         -2.5   -0.5     -0.5         0.0   \n",
       "8757703           193             3         -2.5   -0.5     -0.5         0.0   \n",
       "\n",
       "         tolls_amount  improvement_surcharge  total_amount  \\\n",
       "58                0.0                   -0.3          -4.3   \n",
       "840               0.0                   -0.3         -12.3   \n",
       "3862              0.0                   -0.3         -14.1   \n",
       "4084              0.0                   -0.3          -4.3   \n",
       "4242              0.0                   -0.3          -5.8   \n",
       "...               ...                    ...           ...   \n",
       "8754678           0.0                   -0.3          -5.8   \n",
       "8754757           0.0                   -0.3          -3.8   \n",
       "8755958           0.0                   -0.3          -3.8   \n",
       "8756003           0.0                   -0.3          -3.8   \n",
       "8757703           0.0                   -0.3          -3.8   \n",
       "\n",
       "         congestion_surcharge  airport_fee    Tiempo_Viaje  \n",
       "58                        NaN          NaN 0 days 00:01:23  \n",
       "840                       NaN          NaN 0 days 00:17:38  \n",
       "3862                      NaN          NaN 0 days 00:00:03  \n",
       "4084                      NaN          NaN 0 days 00:01:26  \n",
       "4242                      NaN          NaN 0 days 00:04:04  \n",
       "...                       ...          ...             ...  \n",
       "8754678                   NaN          NaN 0 days 00:03:39  \n",
       "8754757                   NaN          NaN 0 days 00:00:35  \n",
       "8755958                   NaN          NaN 0 days 00:00:03  \n",
       "8756003                   NaN          NaN 0 days 00:01:00  \n",
       "8757703                   NaN          NaN 0 days 00:00:09  \n",
       "\n",
       "[4260 rows x 20 columns]"
      ]
     },
     "execution_count": 246,
     "metadata": {},
     "output_type": "execute_result"
    }
   ],
   "source": [
    "data[data[\"total_amount\"]<0]"
   ]
  },
  {
   "cell_type": "code",
   "execution_count": 247,
   "metadata": {},
   "outputs": [
    {
     "name": "stdout",
     "output_type": "stream",
     "text": [
      "<class 'pandas.core.frame.DataFrame'>\n",
      "RangeIndex: 8760687 entries, 0 to 8760686\n",
      "Data columns (total 20 columns):\n",
      " #   Column                 Dtype          \n",
      "---  ------                 -----          \n",
      " 0   VendorID               int64          \n",
      " 1   tpep_pickup_datetime   datetime64[ns] \n",
      " 2   tpep_dropoff_datetime  datetime64[ns] \n",
      " 3   passenger_count        int64          \n",
      " 4   trip_distance          float64        \n",
      " 5   RatecodeID             int64          \n",
      " 6   store_and_fwd_flag     object         \n",
      " 7   PULocationID           int64          \n",
      " 8   DOLocationID           int64          \n",
      " 9   payment_type           int64          \n",
      " 10  fare_amount            float64        \n",
      " 11  extra                  float64        \n",
      " 12  mta_tax                float64        \n",
      " 13  tip_amount             float64        \n",
      " 14  tolls_amount           float64        \n",
      " 15  improvement_surcharge  float64        \n",
      " 16  total_amount           float64        \n",
      " 17  congestion_surcharge   float64        \n",
      " 18  airport_fee            float64        \n",
      " 19  Tiempo_Viaje           timedelta64[ns]\n",
      "dtypes: datetime64[ns](2), float64(10), int64(6), object(1), timedelta64[ns](1)\n",
      "memory usage: 1.3+ GB\n"
     ]
    }
   ],
   "source": [
    "data.info()"
   ]
  },
  {
   "cell_type": "code",
   "execution_count": 248,
   "metadata": {},
   "outputs": [
    {
     "data": {
      "text/html": [
       "<div>\n",
       "<style scoped>\n",
       "    .dataframe tbody tr th:only-of-type {\n",
       "        vertical-align: middle;\n",
       "    }\n",
       "\n",
       "    .dataframe tbody tr th {\n",
       "        vertical-align: top;\n",
       "    }\n",
       "\n",
       "    .dataframe thead th {\n",
       "        text-align: right;\n",
       "    }\n",
       "</style>\n",
       "<table border=\"1\" class=\"dataframe\">\n",
       "  <thead>\n",
       "    <tr style=\"text-align: right;\">\n",
       "      <th></th>\n",
       "      <th>VendorID</th>\n",
       "      <th>passenger_count</th>\n",
       "      <th>trip_distance</th>\n",
       "      <th>RatecodeID</th>\n",
       "      <th>PULocationID</th>\n",
       "      <th>DOLocationID</th>\n",
       "      <th>payment_type</th>\n",
       "      <th>fare_amount</th>\n",
       "      <th>extra</th>\n",
       "      <th>mta_tax</th>\n",
       "      <th>tip_amount</th>\n",
       "      <th>tolls_amount</th>\n",
       "      <th>improvement_surcharge</th>\n",
       "      <th>total_amount</th>\n",
       "      <th>congestion_surcharge</th>\n",
       "      <th>airport_fee</th>\n",
       "      <th>Tiempo_Viaje</th>\n",
       "    </tr>\n",
       "  </thead>\n",
       "  <tbody>\n",
       "    <tr>\n",
       "      <th>count</th>\n",
       "      <td>8.760687e+06</td>\n",
       "      <td>8.760687e+06</td>\n",
       "      <td>8.760687e+06</td>\n",
       "      <td>8.760687e+06</td>\n",
       "      <td>8.760687e+06</td>\n",
       "      <td>8.760687e+06</td>\n",
       "      <td>8.760687e+06</td>\n",
       "      <td>8.760687e+06</td>\n",
       "      <td>8.760687e+06</td>\n",
       "      <td>8.760687e+06</td>\n",
       "      <td>8.760687e+06</td>\n",
       "      <td>8.760687e+06</td>\n",
       "      <td>8.760687e+06</td>\n",
       "      <td>8.760687e+06</td>\n",
       "      <td>12.0</td>\n",
       "      <td>12.0</td>\n",
       "      <td>8760687</td>\n",
       "    </tr>\n",
       "    <tr>\n",
       "      <th>mean</th>\n",
       "      <td>1.560978e+00</td>\n",
       "      <td>1.606807e+00</td>\n",
       "      <td>2.804022e+00</td>\n",
       "      <td>1.039545e+00</td>\n",
       "      <td>1.644579e+02</td>\n",
       "      <td>1.627270e+02</td>\n",
       "      <td>1.310613e+00</td>\n",
       "      <td>1.224443e+01</td>\n",
       "      <td>3.246882e-01</td>\n",
       "      <td>4.975066e-01</td>\n",
       "      <td>1.818759e+00</td>\n",
       "      <td>3.026157e-01</td>\n",
       "      <td>2.996307e-01</td>\n",
       "      <td>1.549109e+01</td>\n",
       "      <td>2.5</td>\n",
       "      <td>0.0</td>\n",
       "      <td>0 days 00:15:39.716949595</td>\n",
       "    </tr>\n",
       "    <tr>\n",
       "      <th>std</th>\n",
       "      <td>4.962678e-01</td>\n",
       "      <td>1.258420e+00</td>\n",
       "      <td>6.412050e+01</td>\n",
       "      <td>4.450619e-01</td>\n",
       "      <td>6.635990e+01</td>\n",
       "      <td>7.031145e+01</td>\n",
       "      <td>4.817808e-01</td>\n",
       "      <td>1.168321e+01</td>\n",
       "      <td>4.502555e-01</td>\n",
       "      <td>4.333281e-02</td>\n",
       "      <td>2.486375e+00</td>\n",
       "      <td>1.738184e+00</td>\n",
       "      <td>1.442748e-02</td>\n",
       "      <td>1.419546e+01</td>\n",
       "      <td>0.0</td>\n",
       "      <td>0.0</td>\n",
       "      <td>0 days 01:00:20.464311806</td>\n",
       "    </tr>\n",
       "    <tr>\n",
       "      <th>min</th>\n",
       "      <td>1.000000e+00</td>\n",
       "      <td>0.000000e+00</td>\n",
       "      <td>0.000000e+00</td>\n",
       "      <td>1.000000e+00</td>\n",
       "      <td>1.000000e+00</td>\n",
       "      <td>1.000000e+00</td>\n",
       "      <td>1.000000e+00</td>\n",
       "      <td>-4.500000e+02</td>\n",
       "      <td>-4.469000e+01</td>\n",
       "      <td>-5.000000e-01</td>\n",
       "      <td>-8.880000e+01</td>\n",
       "      <td>-1.500000e+01</td>\n",
       "      <td>-3.000000e-01</td>\n",
       "      <td>-4.503000e+02</td>\n",
       "      <td>2.5</td>\n",
       "      <td>0.0</td>\n",
       "      <td>-4 days +00:48:25</td>\n",
       "    </tr>\n",
       "    <tr>\n",
       "      <th>25%</th>\n",
       "      <td>1.000000e+00</td>\n",
       "      <td>1.000000e+00</td>\n",
       "      <td>9.100000e-01</td>\n",
       "      <td>1.000000e+00</td>\n",
       "      <td>1.160000e+02</td>\n",
       "      <td>1.130000e+02</td>\n",
       "      <td>1.000000e+00</td>\n",
       "      <td>6.000000e+00</td>\n",
       "      <td>0.000000e+00</td>\n",
       "      <td>5.000000e-01</td>\n",
       "      <td>0.000000e+00</td>\n",
       "      <td>0.000000e+00</td>\n",
       "      <td>3.000000e-01</td>\n",
       "      <td>8.300000e+00</td>\n",
       "      <td>2.5</td>\n",
       "      <td>0.0</td>\n",
       "      <td>0 days 00:06:14</td>\n",
       "    </tr>\n",
       "    <tr>\n",
       "      <th>50%</th>\n",
       "      <td>2.000000e+00</td>\n",
       "      <td>1.000000e+00</td>\n",
       "      <td>1.550000e+00</td>\n",
       "      <td>1.000000e+00</td>\n",
       "      <td>1.620000e+02</td>\n",
       "      <td>1.620000e+02</td>\n",
       "      <td>1.000000e+00</td>\n",
       "      <td>9.000000e+00</td>\n",
       "      <td>0.000000e+00</td>\n",
       "      <td>5.000000e-01</td>\n",
       "      <td>1.360000e+00</td>\n",
       "      <td>0.000000e+00</td>\n",
       "      <td>3.000000e-01</td>\n",
       "      <td>1.130000e+01</td>\n",
       "      <td>2.5</td>\n",
       "      <td>0.0</td>\n",
       "      <td>0 days 00:10:22</td>\n",
       "    </tr>\n",
       "    <tr>\n",
       "      <th>75%</th>\n",
       "      <td>2.000000e+00</td>\n",
       "      <td>2.000000e+00</td>\n",
       "      <td>2.840000e+00</td>\n",
       "      <td>1.000000e+00</td>\n",
       "      <td>2.340000e+02</td>\n",
       "      <td>2.340000e+02</td>\n",
       "      <td>2.000000e+00</td>\n",
       "      <td>1.350000e+01</td>\n",
       "      <td>5.000000e-01</td>\n",
       "      <td>5.000000e-01</td>\n",
       "      <td>2.350000e+00</td>\n",
       "      <td>0.000000e+00</td>\n",
       "      <td>3.000000e-01</td>\n",
       "      <td>1.662000e+01</td>\n",
       "      <td>2.5</td>\n",
       "      <td>0.0</td>\n",
       "      <td>0 days 00:16:50</td>\n",
       "    </tr>\n",
       "    <tr>\n",
       "      <th>max</th>\n",
       "      <td>2.000000e+00</td>\n",
       "      <td>9.000000e+00</td>\n",
       "      <td>1.894838e+05</td>\n",
       "      <td>9.900000e+01</td>\n",
       "      <td>2.650000e+02</td>\n",
       "      <td>2.650000e+02</td>\n",
       "      <td>4.000000e+00</td>\n",
       "      <td>8.016000e+03</td>\n",
       "      <td>6.000000e+01</td>\n",
       "      <td>4.549000e+01</td>\n",
       "      <td>4.417100e+02</td>\n",
       "      <td>9.507000e+02</td>\n",
       "      <td>1.000000e+00</td>\n",
       "      <td>8.016800e+03</td>\n",
       "      <td>2.5</td>\n",
       "      <td>0.0</td>\n",
       "      <td>3 days 17:42:04</td>\n",
       "    </tr>\n",
       "  </tbody>\n",
       "</table>\n",
       "</div>"
      ],
      "text/plain": [
       "           VendorID  passenger_count  trip_distance    RatecodeID  \\\n",
       "count  8.760687e+06     8.760687e+06   8.760687e+06  8.760687e+06   \n",
       "mean   1.560978e+00     1.606807e+00   2.804022e+00  1.039545e+00   \n",
       "std    4.962678e-01     1.258420e+00   6.412050e+01  4.450619e-01   \n",
       "min    1.000000e+00     0.000000e+00   0.000000e+00  1.000000e+00   \n",
       "25%    1.000000e+00     1.000000e+00   9.100000e-01  1.000000e+00   \n",
       "50%    2.000000e+00     1.000000e+00   1.550000e+00  1.000000e+00   \n",
       "75%    2.000000e+00     2.000000e+00   2.840000e+00  1.000000e+00   \n",
       "max    2.000000e+00     9.000000e+00   1.894838e+05  9.900000e+01   \n",
       "\n",
       "       PULocationID  DOLocationID  payment_type   fare_amount         extra  \\\n",
       "count  8.760687e+06  8.760687e+06  8.760687e+06  8.760687e+06  8.760687e+06   \n",
       "mean   1.644579e+02  1.627270e+02  1.310613e+00  1.224443e+01  3.246882e-01   \n",
       "std    6.635990e+01  7.031145e+01  4.817808e-01  1.168321e+01  4.502555e-01   \n",
       "min    1.000000e+00  1.000000e+00  1.000000e+00 -4.500000e+02 -4.469000e+01   \n",
       "25%    1.160000e+02  1.130000e+02  1.000000e+00  6.000000e+00  0.000000e+00   \n",
       "50%    1.620000e+02  1.620000e+02  1.000000e+00  9.000000e+00  0.000000e+00   \n",
       "75%    2.340000e+02  2.340000e+02  2.000000e+00  1.350000e+01  5.000000e-01   \n",
       "max    2.650000e+02  2.650000e+02  4.000000e+00  8.016000e+03  6.000000e+01   \n",
       "\n",
       "            mta_tax    tip_amount  tolls_amount  improvement_surcharge  \\\n",
       "count  8.760687e+06  8.760687e+06  8.760687e+06           8.760687e+06   \n",
       "mean   4.975066e-01  1.818759e+00  3.026157e-01           2.996307e-01   \n",
       "std    4.333281e-02  2.486375e+00  1.738184e+00           1.442748e-02   \n",
       "min   -5.000000e-01 -8.880000e+01 -1.500000e+01          -3.000000e-01   \n",
       "25%    5.000000e-01  0.000000e+00  0.000000e+00           3.000000e-01   \n",
       "50%    5.000000e-01  1.360000e+00  0.000000e+00           3.000000e-01   \n",
       "75%    5.000000e-01  2.350000e+00  0.000000e+00           3.000000e-01   \n",
       "max    4.549000e+01  4.417100e+02  9.507000e+02           1.000000e+00   \n",
       "\n",
       "       total_amount  congestion_surcharge  airport_fee  \\\n",
       "count  8.760687e+06                  12.0         12.0   \n",
       "mean   1.549109e+01                   2.5          0.0   \n",
       "std    1.419546e+01                   0.0          0.0   \n",
       "min   -4.503000e+02                   2.5          0.0   \n",
       "25%    8.300000e+00                   2.5          0.0   \n",
       "50%    1.130000e+01                   2.5          0.0   \n",
       "75%    1.662000e+01                   2.5          0.0   \n",
       "max    8.016800e+03                   2.5          0.0   \n",
       "\n",
       "                    Tiempo_Viaje  \n",
       "count                    8760687  \n",
       "mean   0 days 00:15:39.716949595  \n",
       "std    0 days 01:00:20.464311806  \n",
       "min            -4 days +00:48:25  \n",
       "25%              0 days 00:06:14  \n",
       "50%              0 days 00:10:22  \n",
       "75%              0 days 00:16:50  \n",
       "max              3 days 17:42:04  "
      ]
     },
     "execution_count": 248,
     "metadata": {},
     "output_type": "execute_result"
    }
   ],
   "source": [
    "data.describe()"
   ]
  },
  {
   "cell_type": "markdown",
   "metadata": {},
   "source": [
    "### Valores alejados"
   ]
  },
  {
   "cell_type": "code",
   "execution_count": 249,
   "metadata": {},
   "outputs": [
    {
     "data": {
      "image/png": "[encoded data removed]",
      "text/plain": [
       "<Figure size 576x576 with 1 Axes>"
      ]
     },
     "metadata": {},
     "output_type": "display_data"
    }
   ],
   "source": [
    "sns.set(rc = {'figure.figsize':(8,8)})\n",
    "sns.set(style=\"whitegrid\")\n",
    "sns.boxplot(x =data[\"VendorID\"])\n",
    "plt.title(f\"VendorID\")\n",
    "plt.show()"
   ]
  },
  {
   "cell_type": "code",
   "execution_count": 250,
   "metadata": {},
   "outputs": [
    {
     "data": {
      "image/png": "[encoded data removed]",
      "text/plain": [
       "<Figure size 576x576 with 1 Axes>"
      ]
     },
     "metadata": {},
     "output_type": "display_data"
    }
   ],
   "source": [
    "sns.set(rc = {'figure.figsize':(8,8)})\n",
    "sns.set(style=\"whitegrid\")\n",
    "sns.boxplot(x =data[\"passenger_count\"])\n",
    "plt.title(f\"passenger_count\")\n",
    "plt.show()"
   ]
  },
  {
   "cell_type": "code",
   "execution_count": 251,
   "metadata": {},
   "outputs": [
    {
     "data": {
      "image/png": "[encoded data removed]",
      "text/plain": [
       "<Figure size 576x576 with 1 Axes>"
      ]
     },
     "metadata": {},
     "output_type": "display_data"
    }
   ],
   "source": [
    "sns.set(rc = {'figure.figsize':(8,8)})\n",
    "sns.set(style=\"whitegrid\")\n",
    "sns.boxplot(x =data[\"trip_distance\"])\n",
    "plt.title(f\"trip_distance\")\n",
    "plt.show()"
   ]
  },
  {
   "cell_type": "markdown",
   "metadata": {},
   "source": [
    "Valor super alejado en el trip_distance, lo contamos o no para los KPIS?"
   ]
  },
  {
   "cell_type": "code",
   "execution_count": 252,
   "metadata": {},
   "outputs": [
    {
     "data": {
      "image/png": "[encoded data removed]",
      "text/plain": [
       "<Figure size 576x576 with 1 Axes>"
      ]
     },
     "metadata": {},
     "output_type": "display_data"
    }
   ],
   "source": [
    "sns.set(rc = {'figure.figsize':(8,8)})\n",
    "sns.set(style=\"whitegrid\")\n",
    "sns.boxplot(x =data[\"RatecodeID\"])\n",
    "plt.title(f\"RatecodeID\")\n",
    "plt.show()"
   ]
  },
  {
   "cell_type": "markdown",
   "metadata": {},
   "source": [
    "Valor alejado que no corresponde a los datos en el diccionario de datos"
   ]
  },
  {
   "cell_type": "code",
   "execution_count": 253,
   "metadata": {},
   "outputs": [
    {
     "data": {
      "image/png": "[encoded data removed]",
      "text/plain": [
       "<Figure size 576x576 with 1 Axes>"
      ]
     },
     "metadata": {},
     "output_type": "display_data"
    }
   ],
   "source": [
    "sns.set(rc = {'figure.figsize':(8,8)})\n",
    "sns.set(style=\"whitegrid\")\n",
    "sns.boxplot(x =data[\"PULocationID\"])\n",
    "plt.title(f\"PULocationID\")\n",
    "plt.show()"
   ]
  },
  {
   "cell_type": "code",
   "execution_count": 254,
   "metadata": {},
   "outputs": [
    {
     "data": {
      "image/png": "[encoded data removed]",
      "text/plain": [
       "<Figure size 576x576 with 1 Axes>"
      ]
     },
     "metadata": {},
     "output_type": "display_data"
    }
   ],
   "source": [
    "sns.set(rc = {'figure.figsize':(8,8)})\n",
    "sns.set(style=\"whitegrid\")\n",
    "sns.boxplot(x =data[\"DOLocationID\"])\n",
    "plt.title(f\"DOLocationID\")\n",
    "plt.show()\t"
   ]
  },
  {
   "cell_type": "code",
   "execution_count": 255,
   "metadata": {},
   "outputs": [
    {
     "data": {
      "image/png": "[encoded data removed]",
      "text/plain": [
       "<Figure size 576x576 with 1 Axes>"
      ]
     },
     "metadata": {},
     "output_type": "display_data"
    }
   ],
   "source": [
    "sns.set(rc = {'figure.figsize':(8,8)})\n",
    "sns.set(style=\"whitegrid\")\n",
    "sns.boxplot(x =data[\"payment_type\"])\n",
    "plt.title(f\"payment_type\")\n",
    "plt.show()"
   ]
  },
  {
   "cell_type": "code",
   "execution_count": 256,
   "metadata": {},
   "outputs": [
    {
     "data": {
      "image/png": "[encoded data removed]",
      "text/plain": [
       "<Figure size 576x576 with 1 Axes>"
      ]
     },
     "metadata": {},
     "output_type": "display_data"
    }
   ],
   "source": [
    "sns.set(rc = {'figure.figsize':(8,8)})\n",
    "sns.set(style=\"whitegrid\")\n",
    "sns.boxplot(x =data[\"fare_amount\"])\n",
    "plt.title(f\"fare_amount\")\n",
    "plt.show()"
   ]
  },
  {
   "cell_type": "markdown",
   "metadata": {},
   "source": [
    "Que hacer con los valores negativos y que hace con los outliers."
   ]
  },
  {
   "cell_type": "code",
   "execution_count": 257,
   "metadata": {},
   "outputs": [
    {
     "data": {
      "image/png": "[encoded data removed]",
      "text/plain": [
       "<Figure size 576x576 with 1 Axes>"
      ]
     },
     "metadata": {},
     "output_type": "display_data"
    }
   ],
   "source": [
    "sns.set(rc = {'figure.figsize':(8,8)})\n",
    "sns.set(style=\"whitegrid\")\n",
    "sns.boxplot(x =data[\"extra\"])\n",
    "plt.title(f\"extra\")\n",
    "plt.show()"
   ]
  },
  {
   "cell_type": "markdown",
   "metadata": {},
   "source": [
    "Que hacer con los valores negativos y que hace con los outliers."
   ]
  },
  {
   "cell_type": "code",
   "execution_count": 258,
   "metadata": {},
   "outputs": [
    {
     "data": {
      "image/png": "[encoded data removed]",
      "text/plain": [
       "<Figure size 576x576 with 1 Axes>"
      ]
     },
     "metadata": {},
     "output_type": "display_data"
    }
   ],
   "source": [
    "sns.set(rc = {'figure.figsize':(8,8)})\n",
    "sns.set(style=\"whitegrid\")\n",
    "sns.boxplot(x =data[\"mta_tax\"])\n",
    "plt.title(f\"mta_tax\")\n",
    "plt.show()"
   ]
  },
  {
   "cell_type": "markdown",
   "metadata": {},
   "source": [
    "Que hacer con los valores negativos y que hace con los outliers."
   ]
  },
  {
   "cell_type": "code",
   "execution_count": 259,
   "metadata": {},
   "outputs": [
    {
     "data": {
      "image/png": "[encoded data removed]",
      "text/plain": [
       "<Figure size 576x576 with 1 Axes>"
      ]
     },
     "metadata": {},
     "output_type": "display_data"
    }
   ],
   "source": [
    "sns.set(rc = {'figure.figsize':(8,8)})\n",
    "sns.set(style=\"whitegrid\")\n",
    "sns.boxplot(x =data[\"tip_amount\"])\n",
    "plt.title(f\"tip_amount\")\n",
    "plt.show()"
   ]
  },
  {
   "cell_type": "markdown",
   "metadata": {},
   "source": [
    "Que hacer con los valores negativos y que hace con los outliers."
   ]
  },
  {
   "cell_type": "code",
   "execution_count": 260,
   "metadata": {},
   "outputs": [
    {
     "data": {
      "image/png": "[encoded data removed]",
      "text/plain": [
       "<Figure size 576x576 with 1 Axes>"
      ]
     },
     "metadata": {},
     "output_type": "display_data"
    }
   ],
   "source": [
    "sns.set(rc = {'figure.figsize':(8,8)})\n",
    "sns.set(style=\"whitegrid\")\n",
    "sns.boxplot(x =data[\"tolls_amount\"])\n",
    "plt.title(f\"tolls_amount\")\n",
    "plt.show()"
   ]
  },
  {
   "cell_type": "markdown",
   "metadata": {},
   "source": [
    "Que hacer con los valores negativos y que hace con los outliers."
   ]
  },
  {
   "cell_type": "code",
   "execution_count": 261,
   "metadata": {},
   "outputs": [
    {
     "data": {
      "image/png": "[encoded data removed]",
      "text/plain": [
       "<Figure size 576x576 with 1 Axes>"
      ]
     },
     "metadata": {},
     "output_type": "display_data"
    }
   ],
   "source": [
    "sns.set(rc = {'figure.figsize':(8,8)})\n",
    "sns.set(style=\"whitegrid\")\n",
    "sns.boxplot(x =data[\"improvement_surcharge\"])\n",
    "plt.title(f\"improvement_surcharge\")\n",
    "plt.show()"
   ]
  },
  {
   "cell_type": "markdown",
   "metadata": {},
   "source": [
    "Que hacer con los valores negativos y que hace con los outliers."
   ]
  },
  {
   "cell_type": "code",
   "execution_count": 262,
   "metadata": {},
   "outputs": [
    {
     "data": {
      "image/png": "[encoded data removed]",
      "text/plain": [
       "<Figure size 576x576 with 1 Axes>"
      ]
     },
     "metadata": {},
     "output_type": "display_data"
    }
   ],
   "source": [
    "sns.set(rc = {'figure.figsize':(8,8)})\n",
    "sns.set(style=\"whitegrid\")\n",
    "sns.boxplot(x =data[\"total_amount\"])\n",
    "plt.title(f\"total_amount\")\n",
    "plt.show()"
   ]
  },
  {
   "cell_type": "markdown",
   "metadata": {},
   "source": [
    "Que hacer con los valores negativos y que hace con los outliers."
   ]
  },
  {
   "cell_type": "code",
   "execution_count": 263,
   "metadata": {},
   "outputs": [
    {
     "data": {
      "image/png": "[encoded data removed]",
      "text/plain": [
       "<Figure size 576x576 with 1 Axes>"
      ]
     },
     "metadata": {},
     "output_type": "display_data"
    }
   ],
   "source": [
    "sns.set(rc = {'figure.figsize':(8,8)})\n",
    "sns.set(style=\"whitegrid\")\n",
    "sns.boxplot(x =data[\"congestion_surcharge\"])\n",
    "plt.title(f\"congestion_surcharge\")\n",
    "plt.show()"
   ]
  },
  {
   "cell_type": "code",
   "execution_count": 264,
   "metadata": {},
   "outputs": [
    {
     "data": {
      "image/png": "[encoded data removed]",
      "text/plain": [
       "<Figure size 576x576 with 1 Axes>"
      ]
     },
     "metadata": {},
     "output_type": "display_data"
    }
   ],
   "source": [
    "sns.set(rc = {'figure.figsize':(8,8)})\n",
    "sns.set(style=\"whitegrid\")\n",
    "sns.boxplot(x =data[\"airport_fee\"])\n",
    "plt.title(f\"airport_fee\")\n",
    "plt.show()"
   ]
  },
  {
   "cell_type": "code",
   "execution_count": 265,
   "metadata": {},
   "outputs": [],
   "source": [
    "data[\"congestion_surcharge\"].fillna(0, inplace=True)"
   ]
  },
  {
   "cell_type": "code",
   "execution_count": 266,
   "metadata": {},
   "outputs": [],
   "source": [
    "data[\"airport_fee\"].fillna(0, inplace=True)"
   ]
  },
  {
   "cell_type": "code",
   "execution_count": 267,
   "metadata": {},
   "outputs": [],
   "source": [
    "columnas=['VendorID','passenger_count', 'trip_distance', 'RatecodeID','PULocationID', 'DOLocationID', 'payment_type', 'fare_amount', 'extra','mta_tax', 'tip_amount', 'tolls_amount', 'improvement_surcharge','total_amount', 'congestion_surcharge', 'airport_fee']\n",
    "data[columnas]=data[columnas].abs()"
   ]
  },
  {
   "cell_type": "code",
   "execution_count": 268,
   "metadata": {},
   "outputs": [
    {
     "name": "stderr",
     "output_type": "stream",
     "text": [
      "C:\\Users\\Nacho\\AppData\\Local\\Temp/ipykernel_10416/2084004600.py:1: SettingWithCopyWarning:\n",
      "\n",
      "\n",
      "A value is trying to be set on a copy of a slice from a DataFrame\n",
      "\n",
      "See the caveats in the documentation: https://pandas.pydata.org/pandas-docs/stable/user_guide/indexing.html#returning-a-view-versus-a-copy\n",
      "\n"
     ]
    }
   ],
   "source": [
    "data[\"Tiempo_Viaje\"][data[\"Tiempo_Viaje\"]<timedelta(0)]=timedelta(0)"
   ]
  },
  {
   "cell_type": "markdown",
   "metadata": {},
   "source": [
    "### Valores Alejados"
   ]
  },
  {
   "cell_type": "code",
   "execution_count": 269,
   "metadata": {},
   "outputs": [
    {
     "data": {
      "text/html": [
       "<div>\n",
       "<style scoped>\n",
       "    .dataframe tbody tr th:only-of-type {\n",
       "        vertical-align: middle;\n",
       "    }\n",
       "\n",
       "    .dataframe tbody tr th {\n",
       "        vertical-align: top;\n",
       "    }\n",
       "\n",
       "    .dataframe thead th {\n",
       "        text-align: right;\n",
       "    }\n",
       "</style>\n",
       "<table border=\"1\" class=\"dataframe\">\n",
       "  <thead>\n",
       "    <tr style=\"text-align: right;\">\n",
       "      <th></th>\n",
       "      <th>VendorID</th>\n",
       "      <th>tpep_pickup_datetime</th>\n",
       "      <th>tpep_dropoff_datetime</th>\n",
       "      <th>passenger_count</th>\n",
       "      <th>trip_distance</th>\n",
       "      <th>RatecodeID</th>\n",
       "      <th>store_and_fwd_flag</th>\n",
       "      <th>PULocationID</th>\n",
       "      <th>DOLocationID</th>\n",
       "      <th>payment_type</th>\n",
       "      <th>fare_amount</th>\n",
       "      <th>extra</th>\n",
       "      <th>mta_tax</th>\n",
       "      <th>tip_amount</th>\n",
       "      <th>tolls_amount</th>\n",
       "      <th>improvement_surcharge</th>\n",
       "      <th>total_amount</th>\n",
       "      <th>congestion_surcharge</th>\n",
       "      <th>airport_fee</th>\n",
       "      <th>Tiempo_Viaje</th>\n",
       "    </tr>\n",
       "  </thead>\n",
       "  <tbody>\n",
       "    <tr>\n",
       "      <th>0</th>\n",
       "      <td>1</td>\n",
       "      <td>2018-01-01 00:21:05</td>\n",
       "      <td>2018-01-01 00:24:23</td>\n",
       "      <td>1</td>\n",
       "      <td>0.50</td>\n",
       "      <td>1</td>\n",
       "      <td>N</td>\n",
       "      <td>41</td>\n",
       "      <td>24</td>\n",
       "      <td>2</td>\n",
       "      <td>4.5</td>\n",
       "      <td>0.5</td>\n",
       "      <td>0.5</td>\n",
       "      <td>0.00</td>\n",
       "      <td>0.0</td>\n",
       "      <td>0.3</td>\n",
       "      <td>5.80</td>\n",
       "      <td>0.0</td>\n",
       "      <td>0.0</td>\n",
       "      <td>0 days 00:03:18</td>\n",
       "    </tr>\n",
       "    <tr>\n",
       "      <th>1</th>\n",
       "      <td>1</td>\n",
       "      <td>2018-01-01 00:44:55</td>\n",
       "      <td>2018-01-01 01:03:05</td>\n",
       "      <td>1</td>\n",
       "      <td>2.70</td>\n",
       "      <td>1</td>\n",
       "      <td>N</td>\n",
       "      <td>239</td>\n",
       "      <td>140</td>\n",
       "      <td>2</td>\n",
       "      <td>14.0</td>\n",
       "      <td>0.5</td>\n",
       "      <td>0.5</td>\n",
       "      <td>0.00</td>\n",
       "      <td>0.0</td>\n",
       "      <td>0.3</td>\n",
       "      <td>15.30</td>\n",
       "      <td>0.0</td>\n",
       "      <td>0.0</td>\n",
       "      <td>0 days 00:18:10</td>\n",
       "    </tr>\n",
       "    <tr>\n",
       "      <th>2</th>\n",
       "      <td>1</td>\n",
       "      <td>2018-01-01 00:08:26</td>\n",
       "      <td>2018-01-01 00:14:21</td>\n",
       "      <td>2</td>\n",
       "      <td>0.80</td>\n",
       "      <td>1</td>\n",
       "      <td>N</td>\n",
       "      <td>262</td>\n",
       "      <td>141</td>\n",
       "      <td>1</td>\n",
       "      <td>6.0</td>\n",
       "      <td>0.5</td>\n",
       "      <td>0.5</td>\n",
       "      <td>1.00</td>\n",
       "      <td>0.0</td>\n",
       "      <td>0.3</td>\n",
       "      <td>8.30</td>\n",
       "      <td>0.0</td>\n",
       "      <td>0.0</td>\n",
       "      <td>0 days 00:05:55</td>\n",
       "    </tr>\n",
       "    <tr>\n",
       "      <th>3</th>\n",
       "      <td>1</td>\n",
       "      <td>2018-01-01 00:20:22</td>\n",
       "      <td>2018-01-01 00:52:51</td>\n",
       "      <td>1</td>\n",
       "      <td>10.20</td>\n",
       "      <td>1</td>\n",
       "      <td>N</td>\n",
       "      <td>140</td>\n",
       "      <td>257</td>\n",
       "      <td>2</td>\n",
       "      <td>33.5</td>\n",
       "      <td>0.5</td>\n",
       "      <td>0.5</td>\n",
       "      <td>0.00</td>\n",
       "      <td>0.0</td>\n",
       "      <td>0.3</td>\n",
       "      <td>34.80</td>\n",
       "      <td>0.0</td>\n",
       "      <td>0.0</td>\n",
       "      <td>0 days 00:32:29</td>\n",
       "    </tr>\n",
       "    <tr>\n",
       "      <th>4</th>\n",
       "      <td>1</td>\n",
       "      <td>2018-01-01 00:09:18</td>\n",
       "      <td>2018-01-01 00:27:06</td>\n",
       "      <td>2</td>\n",
       "      <td>2.50</td>\n",
       "      <td>1</td>\n",
       "      <td>N</td>\n",
       "      <td>246</td>\n",
       "      <td>239</td>\n",
       "      <td>1</td>\n",
       "      <td>12.5</td>\n",
       "      <td>0.5</td>\n",
       "      <td>0.5</td>\n",
       "      <td>2.75</td>\n",
       "      <td>0.0</td>\n",
       "      <td>0.3</td>\n",
       "      <td>16.55</td>\n",
       "      <td>0.0</td>\n",
       "      <td>0.0</td>\n",
       "      <td>0 days 00:17:48</td>\n",
       "    </tr>\n",
       "    <tr>\n",
       "      <th>...</th>\n",
       "      <td>...</td>\n",
       "      <td>...</td>\n",
       "      <td>...</td>\n",
       "      <td>...</td>\n",
       "      <td>...</td>\n",
       "      <td>...</td>\n",
       "      <td>...</td>\n",
       "      <td>...</td>\n",
       "      <td>...</td>\n",
       "      <td>...</td>\n",
       "      <td>...</td>\n",
       "      <td>...</td>\n",
       "      <td>...</td>\n",
       "      <td>...</td>\n",
       "      <td>...</td>\n",
       "      <td>...</td>\n",
       "      <td>...</td>\n",
       "      <td>...</td>\n",
       "      <td>...</td>\n",
       "      <td>...</td>\n",
       "    </tr>\n",
       "    <tr>\n",
       "      <th>8760682</th>\n",
       "      <td>1</td>\n",
       "      <td>2018-01-31 23:21:35</td>\n",
       "      <td>2018-01-31 23:34:20</td>\n",
       "      <td>2</td>\n",
       "      <td>2.80</td>\n",
       "      <td>1</td>\n",
       "      <td>N</td>\n",
       "      <td>158</td>\n",
       "      <td>163</td>\n",
       "      <td>1</td>\n",
       "      <td>12.0</td>\n",
       "      <td>0.5</td>\n",
       "      <td>0.5</td>\n",
       "      <td>2.65</td>\n",
       "      <td>0.0</td>\n",
       "      <td>0.3</td>\n",
       "      <td>15.95</td>\n",
       "      <td>0.0</td>\n",
       "      <td>0.0</td>\n",
       "      <td>0 days 00:12:45</td>\n",
       "    </tr>\n",
       "    <tr>\n",
       "      <th>8760683</th>\n",
       "      <td>1</td>\n",
       "      <td>2018-01-31 23:35:51</td>\n",
       "      <td>2018-01-31 23:38:57</td>\n",
       "      <td>1</td>\n",
       "      <td>0.60</td>\n",
       "      <td>1</td>\n",
       "      <td>N</td>\n",
       "      <td>163</td>\n",
       "      <td>162</td>\n",
       "      <td>1</td>\n",
       "      <td>4.5</td>\n",
       "      <td>0.5</td>\n",
       "      <td>0.5</td>\n",
       "      <td>1.15</td>\n",
       "      <td>0.0</td>\n",
       "      <td>0.3</td>\n",
       "      <td>6.95</td>\n",
       "      <td>0.0</td>\n",
       "      <td>0.0</td>\n",
       "      <td>0 days 00:03:06</td>\n",
       "    </tr>\n",
       "    <tr>\n",
       "      <th>8760684</th>\n",
       "      <td>2</td>\n",
       "      <td>2018-01-31 23:28:00</td>\n",
       "      <td>2018-01-31 23:37:09</td>\n",
       "      <td>1</td>\n",
       "      <td>2.95</td>\n",
       "      <td>1</td>\n",
       "      <td>N</td>\n",
       "      <td>74</td>\n",
       "      <td>69</td>\n",
       "      <td>2</td>\n",
       "      <td>10.5</td>\n",
       "      <td>0.5</td>\n",
       "      <td>0.5</td>\n",
       "      <td>0.00</td>\n",
       "      <td>0.0</td>\n",
       "      <td>0.3</td>\n",
       "      <td>11.80</td>\n",
       "      <td>0.0</td>\n",
       "      <td>0.0</td>\n",
       "      <td>0 days 00:09:09</td>\n",
       "    </tr>\n",
       "    <tr>\n",
       "      <th>8760685</th>\n",
       "      <td>2</td>\n",
       "      <td>2018-01-31 23:24:40</td>\n",
       "      <td>2018-01-31 23:25:28</td>\n",
       "      <td>1</td>\n",
       "      <td>0.00</td>\n",
       "      <td>1</td>\n",
       "      <td>N</td>\n",
       "      <td>7</td>\n",
       "      <td>193</td>\n",
       "      <td>2</td>\n",
       "      <td>0.0</td>\n",
       "      <td>0.0</td>\n",
       "      <td>0.0</td>\n",
       "      <td>0.00</td>\n",
       "      <td>0.0</td>\n",
       "      <td>0.0</td>\n",
       "      <td>0.00</td>\n",
       "      <td>0.0</td>\n",
       "      <td>0.0</td>\n",
       "      <td>0 days 00:00:48</td>\n",
       "    </tr>\n",
       "    <tr>\n",
       "      <th>8760686</th>\n",
       "      <td>2</td>\n",
       "      <td>2018-01-31 23:28:16</td>\n",
       "      <td>2018-01-31 23:28:38</td>\n",
       "      <td>1</td>\n",
       "      <td>0.00</td>\n",
       "      <td>1</td>\n",
       "      <td>N</td>\n",
       "      <td>7</td>\n",
       "      <td>193</td>\n",
       "      <td>2</td>\n",
       "      <td>0.0</td>\n",
       "      <td>0.0</td>\n",
       "      <td>0.0</td>\n",
       "      <td>0.00</td>\n",
       "      <td>0.0</td>\n",
       "      <td>0.0</td>\n",
       "      <td>0.00</td>\n",
       "      <td>0.0</td>\n",
       "      <td>0.0</td>\n",
       "      <td>0 days 00:00:22</td>\n",
       "    </tr>\n",
       "  </tbody>\n",
       "</table>\n",
       "<p>8760687 rows × 20 columns</p>\n",
       "</div>"
      ],
      "text/plain": [
       "         VendorID tpep_pickup_datetime tpep_dropoff_datetime  passenger_count  \\\n",
       "0               1  2018-01-01 00:21:05   2018-01-01 00:24:23                1   \n",
       "1               1  2018-01-01 00:44:55   2018-01-01 01:03:05                1   \n",
       "2               1  2018-01-01 00:08:26   2018-01-01 00:14:21                2   \n",
       "3               1  2018-01-01 00:20:22   2018-01-01 00:52:51                1   \n",
       "4               1  2018-01-01 00:09:18   2018-01-01 00:27:06                2   \n",
       "...           ...                  ...                   ...              ...   \n",
       "8760682         1  2018-01-31 23:21:35   2018-01-31 23:34:20                2   \n",
       "8760683         1  2018-01-31 23:35:51   2018-01-31 23:38:57                1   \n",
       "8760684         2  2018-01-31 23:28:00   2018-01-31 23:37:09                1   \n",
       "8760685         2  2018-01-31 23:24:40   2018-01-31 23:25:28                1   \n",
       "8760686         2  2018-01-31 23:28:16   2018-01-31 23:28:38                1   \n",
       "\n",
       "         trip_distance  RatecodeID store_and_fwd_flag  PULocationID  \\\n",
       "0                 0.50           1                  N            41   \n",
       "1                 2.70           1                  N           239   \n",
       "2                 0.80           1                  N           262   \n",
       "3                10.20           1                  N           140   \n",
       "4                 2.50           1                  N           246   \n",
       "...                ...         ...                ...           ...   \n",
       "8760682           2.80           1                  N           158   \n",
       "8760683           0.60           1                  N           163   \n",
       "8760684           2.95           1                  N            74   \n",
       "8760685           0.00           1                  N             7   \n",
       "8760686           0.00           1                  N             7   \n",
       "\n",
       "         DOLocationID  payment_type  fare_amount  extra  mta_tax  tip_amount  \\\n",
       "0                  24             2          4.5    0.5      0.5        0.00   \n",
       "1                 140             2         14.0    0.5      0.5        0.00   \n",
       "2                 141             1          6.0    0.5      0.5        1.00   \n",
       "3                 257             2         33.5    0.5      0.5        0.00   \n",
       "4                 239             1         12.5    0.5      0.5        2.75   \n",
       "...               ...           ...          ...    ...      ...         ...   \n",
       "8760682           163             1         12.0    0.5      0.5        2.65   \n",
       "8760683           162             1          4.5    0.5      0.5        1.15   \n",
       "8760684            69             2         10.5    0.5      0.5        0.00   \n",
       "8760685           193             2          0.0    0.0      0.0        0.00   \n",
       "8760686           193             2          0.0    0.0      0.0        0.00   \n",
       "\n",
       "         tolls_amount  improvement_surcharge  total_amount  \\\n",
       "0                 0.0                    0.3          5.80   \n",
       "1                 0.0                    0.3         15.30   \n",
       "2                 0.0                    0.3          8.30   \n",
       "3                 0.0                    0.3         34.80   \n",
       "4                 0.0                    0.3         16.55   \n",
       "...               ...                    ...           ...   \n",
       "8760682           0.0                    0.3         15.95   \n",
       "8760683           0.0                    0.3          6.95   \n",
       "8760684           0.0                    0.3         11.80   \n",
       "8760685           0.0                    0.0          0.00   \n",
       "8760686           0.0                    0.0          0.00   \n",
       "\n",
       "         congestion_surcharge  airport_fee    Tiempo_Viaje  \n",
       "0                         0.0          0.0 0 days 00:03:18  \n",
       "1                         0.0          0.0 0 days 00:18:10  \n",
       "2                         0.0          0.0 0 days 00:05:55  \n",
       "3                         0.0          0.0 0 days 00:32:29  \n",
       "4                         0.0          0.0 0 days 00:17:48  \n",
       "...                       ...          ...             ...  \n",
       "8760682                   0.0          0.0 0 days 00:12:45  \n",
       "8760683                   0.0          0.0 0 days 00:03:06  \n",
       "8760684                   0.0          0.0 0 days 00:09:09  \n",
       "8760685                   0.0          0.0 0 days 00:00:48  \n",
       "8760686                   0.0          0.0 0 days 00:00:22  \n",
       "\n",
       "[8760687 rows x 20 columns]"
      ]
     },
     "execution_count": 269,
     "metadata": {},
     "output_type": "execute_result"
    }
   ],
   "source": [
    "data"
   ]
  },
  {
   "cell_type": "code",
   "execution_count": 270,
   "metadata": {},
   "outputs": [
    {
     "data": {
      "image/png": "[encoded data removed]",
      "text/plain": [
       "<Figure size 576x576 with 1 Axes>"
      ]
     },
     "metadata": {},
     "output_type": "display_data"
    }
   ],
   "source": [
    "sns.set(rc = {'figure.figsize':(8,8)})\n",
    "sns.set(style=\"whitegrid\")\n",
    "sns.boxplot(x =data[\"trip_distance\"])\n",
    "plt.title(f\"trip_distance\")\n",
    "plt.show()"
   ]
  },
  {
   "cell_type": "code",
   "execution_count": 271,
   "metadata": {},
   "outputs": [
    {
     "name": "stderr",
     "output_type": "stream",
     "text": [
      "C:\\Users\\Nacho\\AppData\\Local\\Temp/ipykernel_10416/2583830549.py:1: SettingWithCopyWarning:\n",
      "\n",
      "\n",
      "A value is trying to be set on a copy of a slice from a DataFrame\n",
      "\n",
      "See the caveats in the documentation: https://pandas.pydata.org/pandas-docs/stable/user_guide/indexing.html#returning-a-view-versus-a-copy\n",
      "\n"
     ]
    }
   ],
   "source": [
    "data[\"trip_distance\"][data[\"trip_distance\"]>25000]=0"
   ]
  },
  {
   "cell_type": "code",
   "execution_count": 272,
   "metadata": {},
   "outputs": [
    {
     "data": {
      "image/png": "[encoded data removed]",
      "text/plain": [
       "<Figure size 576x576 with 1 Axes>"
      ]
     },
     "metadata": {},
     "output_type": "display_data"
    }
   ],
   "source": [
    "sns.set(rc = {'figure.figsize':(8,8)})\n",
    "sns.set(style=\"whitegrid\")\n",
    "sns.boxplot(x =data[\"trip_distance\"])\n",
    "plt.title(f\"trip_distance\")\n",
    "plt.show()"
   ]
  },
  {
   "cell_type": "code",
   "execution_count": 273,
   "metadata": {},
   "outputs": [],
   "source": [
    "data[\"Tiempo_Viaje_s\"]=[x.total_seconds() for x in data[\"Tiempo_Viaje\"]]"
   ]
  },
  {
   "cell_type": "code",
   "execution_count": 274,
   "metadata": {},
   "outputs": [
    {
     "data": {
      "image/png": "[encoded data removed]",
      "text/plain": [
       "<Figure size 576x576 with 1 Axes>"
      ]
     },
     "metadata": {},
     "output_type": "display_data"
    }
   ],
   "source": [
    "sns.set(rc = {'figure.figsize':(8,8)})\n",
    "sns.set(style=\"whitegrid\")\n",
    "sns.boxplot(x =data[\"Tiempo_Viaje_s\"])\n",
    "plt.title(f\"Tiempo_Viaje_s\")\n",
    "plt.show()"
   ]
  },
  {
   "cell_type": "code",
   "execution_count": 275,
   "metadata": {},
   "outputs": [
    {
     "name": "stderr",
     "output_type": "stream",
     "text": [
      "C:\\Users\\Nacho\\AppData\\Local\\Temp/ipykernel_10416/965842366.py:1: SettingWithCopyWarning:\n",
      "\n",
      "\n",
      "A value is trying to be set on a copy of a slice from a DataFrame\n",
      "\n",
      "See the caveats in the documentation: https://pandas.pydata.org/pandas-docs/stable/user_guide/indexing.html#returning-a-view-versus-a-copy\n",
      "\n"
     ]
    }
   ],
   "source": [
    "data[\"Tiempo_Viaje_s\"][data[\"Tiempo_Viaje_s\"]>100000]=0"
   ]
  },
  {
   "cell_type": "code",
   "execution_count": 276,
   "metadata": {},
   "outputs": [
    {
     "data": {
      "image/png": "[encoded data removed]",
      "text/plain": [
       "<Figure size 576x576 with 1 Axes>"
      ]
     },
     "metadata": {},
     "output_type": "display_data"
    }
   ],
   "source": [
    "sns.set(rc = {'figure.figsize':(8,8)})\n",
    "sns.set(style=\"whitegrid\")\n",
    "sns.boxplot(x =data[\"Tiempo_Viaje_s\"])\n",
    "plt.title(f\"Tiempo_Viaje_s\")\n",
    "plt.show()"
   ]
  },
  {
   "cell_type": "markdown",
   "metadata": {},
   "source": [
    "# KPIS"
   ]
  },
  {
   "cell_type": "code",
   "execution_count": 277,
   "metadata": {},
   "outputs": [],
   "source": [
    "data.drop(\"Tiempo_Viaje\", axis=1, inplace=True)\n",
    "data.drop(\"airport_fee\", axis=1, inplace=True)"
   ]
  },
  {
   "cell_type": "code",
   "execution_count": 278,
   "metadata": {},
   "outputs": [
    {
     "data": {
      "text/html": [
       "<div>\n",
       "<style scoped>\n",
       "    .dataframe tbody tr th:only-of-type {\n",
       "        vertical-align: middle;\n",
       "    }\n",
       "\n",
       "    .dataframe tbody tr th {\n",
       "        vertical-align: top;\n",
       "    }\n",
       "\n",
       "    .dataframe thead th {\n",
       "        text-align: right;\n",
       "    }\n",
       "</style>\n",
       "<table border=\"1\" class=\"dataframe\">\n",
       "  <thead>\n",
       "    <tr style=\"text-align: right;\">\n",
       "      <th></th>\n",
       "      <th>VendorID</th>\n",
       "      <th>tpep_pickup_datetime</th>\n",
       "      <th>tpep_dropoff_datetime</th>\n",
       "      <th>passenger_count</th>\n",
       "      <th>trip_distance</th>\n",
       "      <th>RatecodeID</th>\n",
       "      <th>store_and_fwd_flag</th>\n",
       "      <th>PULocationID</th>\n",
       "      <th>DOLocationID</th>\n",
       "      <th>payment_type</th>\n",
       "      <th>fare_amount</th>\n",
       "      <th>extra</th>\n",
       "      <th>mta_tax</th>\n",
       "      <th>tip_amount</th>\n",
       "      <th>tolls_amount</th>\n",
       "      <th>improvement_surcharge</th>\n",
       "      <th>total_amount</th>\n",
       "      <th>congestion_surcharge</th>\n",
       "      <th>Tiempo_Viaje_s</th>\n",
       "    </tr>\n",
       "  </thead>\n",
       "  <tbody>\n",
       "    <tr>\n",
       "      <th>0</th>\n",
       "      <td>1</td>\n",
       "      <td>2018-01-01 00:21:05</td>\n",
       "      <td>2018-01-01 00:24:23</td>\n",
       "      <td>1</td>\n",
       "      <td>0.50</td>\n",
       "      <td>1</td>\n",
       "      <td>N</td>\n",
       "      <td>41</td>\n",
       "      <td>24</td>\n",
       "      <td>2</td>\n",
       "      <td>4.5</td>\n",
       "      <td>0.5</td>\n",
       "      <td>0.5</td>\n",
       "      <td>0.00</td>\n",
       "      <td>0.0</td>\n",
       "      <td>0.3</td>\n",
       "      <td>5.80</td>\n",
       "      <td>0.0</td>\n",
       "      <td>198.0</td>\n",
       "    </tr>\n",
       "    <tr>\n",
       "      <th>1</th>\n",
       "      <td>1</td>\n",
       "      <td>2018-01-01 00:44:55</td>\n",
       "      <td>2018-01-01 01:03:05</td>\n",
       "      <td>1</td>\n",
       "      <td>2.70</td>\n",
       "      <td>1</td>\n",
       "      <td>N</td>\n",
       "      <td>239</td>\n",
       "      <td>140</td>\n",
       "      <td>2</td>\n",
       "      <td>14.0</td>\n",
       "      <td>0.5</td>\n",
       "      <td>0.5</td>\n",
       "      <td>0.00</td>\n",
       "      <td>0.0</td>\n",
       "      <td>0.3</td>\n",
       "      <td>15.30</td>\n",
       "      <td>0.0</td>\n",
       "      <td>1090.0</td>\n",
       "    </tr>\n",
       "    <tr>\n",
       "      <th>2</th>\n",
       "      <td>1</td>\n",
       "      <td>2018-01-01 00:08:26</td>\n",
       "      <td>2018-01-01 00:14:21</td>\n",
       "      <td>2</td>\n",
       "      <td>0.80</td>\n",
       "      <td>1</td>\n",
       "      <td>N</td>\n",
       "      <td>262</td>\n",
       "      <td>141</td>\n",
       "      <td>1</td>\n",
       "      <td>6.0</td>\n",
       "      <td>0.5</td>\n",
       "      <td>0.5</td>\n",
       "      <td>1.00</td>\n",
       "      <td>0.0</td>\n",
       "      <td>0.3</td>\n",
       "      <td>8.30</td>\n",
       "      <td>0.0</td>\n",
       "      <td>355.0</td>\n",
       "    </tr>\n",
       "    <tr>\n",
       "      <th>3</th>\n",
       "      <td>1</td>\n",
       "      <td>2018-01-01 00:20:22</td>\n",
       "      <td>2018-01-01 00:52:51</td>\n",
       "      <td>1</td>\n",
       "      <td>10.20</td>\n",
       "      <td>1</td>\n",
       "      <td>N</td>\n",
       "      <td>140</td>\n",
       "      <td>257</td>\n",
       "      <td>2</td>\n",
       "      <td>33.5</td>\n",
       "      <td>0.5</td>\n",
       "      <td>0.5</td>\n",
       "      <td>0.00</td>\n",
       "      <td>0.0</td>\n",
       "      <td>0.3</td>\n",
       "      <td>34.80</td>\n",
       "      <td>0.0</td>\n",
       "      <td>1949.0</td>\n",
       "    </tr>\n",
       "    <tr>\n",
       "      <th>4</th>\n",
       "      <td>1</td>\n",
       "      <td>2018-01-01 00:09:18</td>\n",
       "      <td>2018-01-01 00:27:06</td>\n",
       "      <td>2</td>\n",
       "      <td>2.50</td>\n",
       "      <td>1</td>\n",
       "      <td>N</td>\n",
       "      <td>246</td>\n",
       "      <td>239</td>\n",
       "      <td>1</td>\n",
       "      <td>12.5</td>\n",
       "      <td>0.5</td>\n",
       "      <td>0.5</td>\n",
       "      <td>2.75</td>\n",
       "      <td>0.0</td>\n",
       "      <td>0.3</td>\n",
       "      <td>16.55</td>\n",
       "      <td>0.0</td>\n",
       "      <td>1068.0</td>\n",
       "    </tr>\n",
       "    <tr>\n",
       "      <th>...</th>\n",
       "      <td>...</td>\n",
       "      <td>...</td>\n",
       "      <td>...</td>\n",
       "      <td>...</td>\n",
       "      <td>...</td>\n",
       "      <td>...</td>\n",
       "      <td>...</td>\n",
       "      <td>...</td>\n",
       "      <td>...</td>\n",
       "      <td>...</td>\n",
       "      <td>...</td>\n",
       "      <td>...</td>\n",
       "      <td>...</td>\n",
       "      <td>...</td>\n",
       "      <td>...</td>\n",
       "      <td>...</td>\n",
       "      <td>...</td>\n",
       "      <td>...</td>\n",
       "      <td>...</td>\n",
       "    </tr>\n",
       "    <tr>\n",
       "      <th>8760682</th>\n",
       "      <td>1</td>\n",
       "      <td>2018-01-31 23:21:35</td>\n",
       "      <td>2018-01-31 23:34:20</td>\n",
       "      <td>2</td>\n",
       "      <td>2.80</td>\n",
       "      <td>1</td>\n",
       "      <td>N</td>\n",
       "      <td>158</td>\n",
       "      <td>163</td>\n",
       "      <td>1</td>\n",
       "      <td>12.0</td>\n",
       "      <td>0.5</td>\n",
       "      <td>0.5</td>\n",
       "      <td>2.65</td>\n",
       "      <td>0.0</td>\n",
       "      <td>0.3</td>\n",
       "      <td>15.95</td>\n",
       "      <td>0.0</td>\n",
       "      <td>765.0</td>\n",
       "    </tr>\n",
       "    <tr>\n",
       "      <th>8760683</th>\n",
       "      <td>1</td>\n",
       "      <td>2018-01-31 23:35:51</td>\n",
       "      <td>2018-01-31 23:38:57</td>\n",
       "      <td>1</td>\n",
       "      <td>0.60</td>\n",
       "      <td>1</td>\n",
       "      <td>N</td>\n",
       "      <td>163</td>\n",
       "      <td>162</td>\n",
       "      <td>1</td>\n",
       "      <td>4.5</td>\n",
       "      <td>0.5</td>\n",
       "      <td>0.5</td>\n",
       "      <td>1.15</td>\n",
       "      <td>0.0</td>\n",
       "      <td>0.3</td>\n",
       "      <td>6.95</td>\n",
       "      <td>0.0</td>\n",
       "      <td>186.0</td>\n",
       "    </tr>\n",
       "    <tr>\n",
       "      <th>8760684</th>\n",
       "      <td>2</td>\n",
       "      <td>2018-01-31 23:28:00</td>\n",
       "      <td>2018-01-31 23:37:09</td>\n",
       "      <td>1</td>\n",
       "      <td>2.95</td>\n",
       "      <td>1</td>\n",
       "      <td>N</td>\n",
       "      <td>74</td>\n",
       "      <td>69</td>\n",
       "      <td>2</td>\n",
       "      <td>10.5</td>\n",
       "      <td>0.5</td>\n",
       "      <td>0.5</td>\n",
       "      <td>0.00</td>\n",
       "      <td>0.0</td>\n",
       "      <td>0.3</td>\n",
       "      <td>11.80</td>\n",
       "      <td>0.0</td>\n",
       "      <td>549.0</td>\n",
       "    </tr>\n",
       "    <tr>\n",
       "      <th>8760685</th>\n",
       "      <td>2</td>\n",
       "      <td>2018-01-31 23:24:40</td>\n",
       "      <td>2018-01-31 23:25:28</td>\n",
       "      <td>1</td>\n",
       "      <td>0.00</td>\n",
       "      <td>1</td>\n",
       "      <td>N</td>\n",
       "      <td>7</td>\n",
       "      <td>193</td>\n",
       "      <td>2</td>\n",
       "      <td>0.0</td>\n",
       "      <td>0.0</td>\n",
       "      <td>0.0</td>\n",
       "      <td>0.00</td>\n",
       "      <td>0.0</td>\n",
       "      <td>0.0</td>\n",
       "      <td>0.00</td>\n",
       "      <td>0.0</td>\n",
       "      <td>48.0</td>\n",
       "    </tr>\n",
       "    <tr>\n",
       "      <th>8760686</th>\n",
       "      <td>2</td>\n",
       "      <td>2018-01-31 23:28:16</td>\n",
       "      <td>2018-01-31 23:28:38</td>\n",
       "      <td>1</td>\n",
       "      <td>0.00</td>\n",
       "      <td>1</td>\n",
       "      <td>N</td>\n",
       "      <td>7</td>\n",
       "      <td>193</td>\n",
       "      <td>2</td>\n",
       "      <td>0.0</td>\n",
       "      <td>0.0</td>\n",
       "      <td>0.0</td>\n",
       "      <td>0.00</td>\n",
       "      <td>0.0</td>\n",
       "      <td>0.0</td>\n",
       "      <td>0.00</td>\n",
       "      <td>0.0</td>\n",
       "      <td>22.0</td>\n",
       "    </tr>\n",
       "  </tbody>\n",
       "</table>\n",
       "<p>8760687 rows × 19 columns</p>\n",
       "</div>"
      ],
      "text/plain": [
       "         VendorID tpep_pickup_datetime tpep_dropoff_datetime  passenger_count  \\\n",
       "0               1  2018-01-01 00:21:05   2018-01-01 00:24:23                1   \n",
       "1               1  2018-01-01 00:44:55   2018-01-01 01:03:05                1   \n",
       "2               1  2018-01-01 00:08:26   2018-01-01 00:14:21                2   \n",
       "3               1  2018-01-01 00:20:22   2018-01-01 00:52:51                1   \n",
       "4               1  2018-01-01 00:09:18   2018-01-01 00:27:06                2   \n",
       "...           ...                  ...                   ...              ...   \n",
       "8760682         1  2018-01-31 23:21:35   2018-01-31 23:34:20                2   \n",
       "8760683         1  2018-01-31 23:35:51   2018-01-31 23:38:57                1   \n",
       "8760684         2  2018-01-31 23:28:00   2018-01-31 23:37:09                1   \n",
       "8760685         2  2018-01-31 23:24:40   2018-01-31 23:25:28                1   \n",
       "8760686         2  2018-01-31 23:28:16   2018-01-31 23:28:38                1   \n",
       "\n",
       "         trip_distance  RatecodeID store_and_fwd_flag  PULocationID  \\\n",
       "0                 0.50           1                  N            41   \n",
       "1                 2.70           1                  N           239   \n",
       "2                 0.80           1                  N           262   \n",
       "3                10.20           1                  N           140   \n",
       "4                 2.50           1                  N           246   \n",
       "...                ...         ...                ...           ...   \n",
       "8760682           2.80           1                  N           158   \n",
       "8760683           0.60           1                  N           163   \n",
       "8760684           2.95           1                  N            74   \n",
       "8760685           0.00           1                  N             7   \n",
       "8760686           0.00           1                  N             7   \n",
       "\n",
       "         DOLocationID  payment_type  fare_amount  extra  mta_tax  tip_amount  \\\n",
       "0                  24             2          4.5    0.5      0.5        0.00   \n",
       "1                 140             2         14.0    0.5      0.5        0.00   \n",
       "2                 141             1          6.0    0.5      0.5        1.00   \n",
       "3                 257             2         33.5    0.5      0.5        0.00   \n",
       "4                 239             1         12.5    0.5      0.5        2.75   \n",
       "...               ...           ...          ...    ...      ...         ...   \n",
       "8760682           163             1         12.0    0.5      0.5        2.65   \n",
       "8760683           162             1          4.5    0.5      0.5        1.15   \n",
       "8760684            69             2         10.5    0.5      0.5        0.00   \n",
       "8760685           193             2          0.0    0.0      0.0        0.00   \n",
       "8760686           193             2          0.0    0.0      0.0        0.00   \n",
       "\n",
       "         tolls_amount  improvement_surcharge  total_amount  \\\n",
       "0                 0.0                    0.3          5.80   \n",
       "1                 0.0                    0.3         15.30   \n",
       "2                 0.0                    0.3          8.30   \n",
       "3                 0.0                    0.3         34.80   \n",
       "4                 0.0                    0.3         16.55   \n",
       "...               ...                    ...           ...   \n",
       "8760682           0.0                    0.3         15.95   \n",
       "8760683           0.0                    0.3          6.95   \n",
       "8760684           0.0                    0.3         11.80   \n",
       "8760685           0.0                    0.0          0.00   \n",
       "8760686           0.0                    0.0          0.00   \n",
       "\n",
       "         congestion_surcharge  Tiempo_Viaje_s  \n",
       "0                         0.0           198.0  \n",
       "1                         0.0          1090.0  \n",
       "2                         0.0           355.0  \n",
       "3                         0.0          1949.0  \n",
       "4                         0.0          1068.0  \n",
       "...                       ...             ...  \n",
       "8760682                   0.0           765.0  \n",
       "8760683                   0.0           186.0  \n",
       "8760684                   0.0           549.0  \n",
       "8760685                   0.0            48.0  \n",
       "8760686                   0.0            22.0  \n",
       "\n",
       "[8760687 rows x 19 columns]"
      ]
     },
     "execution_count": 278,
     "metadata": {},
     "output_type": "execute_result"
    }
   ],
   "source": [
    "data"
   ]
  },
  {
   "cell_type": "markdown",
   "metadata": {},
   "source": [
    "## Tiempo de Viaje"
   ]
  },
  {
   "cell_type": "code",
   "execution_count": 279,
   "metadata": {},
   "outputs": [
    {
     "data": {
      "text/html": [
       "<div>\n",
       "<style scoped>\n",
       "    .dataframe tbody tr th:only-of-type {\n",
       "        vertical-align: middle;\n",
       "    }\n",
       "\n",
       "    .dataframe tbody tr th {\n",
       "        vertical-align: top;\n",
       "    }\n",
       "\n",
       "    .dataframe thead th {\n",
       "        text-align: right;\n",
       "    }\n",
       "</style>\n",
       "<table border=\"1\" class=\"dataframe\">\n",
       "  <thead>\n",
       "    <tr style=\"text-align: right;\">\n",
       "      <th></th>\n",
       "      <th>VendorID</th>\n",
       "      <th>tpep_pickup_datetime</th>\n",
       "      <th>tpep_dropoff_datetime</th>\n",
       "      <th>passenger_count</th>\n",
       "      <th>trip_distance</th>\n",
       "      <th>RatecodeID</th>\n",
       "      <th>store_and_fwd_flag</th>\n",
       "      <th>PULocationID</th>\n",
       "      <th>DOLocationID</th>\n",
       "      <th>payment_type</th>\n",
       "      <th>fare_amount</th>\n",
       "      <th>extra</th>\n",
       "      <th>mta_tax</th>\n",
       "      <th>tip_amount</th>\n",
       "      <th>tolls_amount</th>\n",
       "      <th>improvement_surcharge</th>\n",
       "      <th>total_amount</th>\n",
       "      <th>congestion_surcharge</th>\n",
       "      <th>Tiempo_Viaje_s</th>\n",
       "    </tr>\n",
       "  </thead>\n",
       "  <tbody>\n",
       "    <tr>\n",
       "      <th>0</th>\n",
       "      <td>1</td>\n",
       "      <td>2018-01-01 00:21:05</td>\n",
       "      <td>2018-01-01 00:24:23</td>\n",
       "      <td>1</td>\n",
       "      <td>0.50</td>\n",
       "      <td>1</td>\n",
       "      <td>N</td>\n",
       "      <td>41</td>\n",
       "      <td>24</td>\n",
       "      <td>2</td>\n",
       "      <td>4.5</td>\n",
       "      <td>0.5</td>\n",
       "      <td>0.5</td>\n",
       "      <td>0.00</td>\n",
       "      <td>0.0</td>\n",
       "      <td>0.3</td>\n",
       "      <td>5.80</td>\n",
       "      <td>0.0</td>\n",
       "      <td>198.0</td>\n",
       "    </tr>\n",
       "    <tr>\n",
       "      <th>1</th>\n",
       "      <td>1</td>\n",
       "      <td>2018-01-01 00:44:55</td>\n",
       "      <td>2018-01-01 01:03:05</td>\n",
       "      <td>1</td>\n",
       "      <td>2.70</td>\n",
       "      <td>1</td>\n",
       "      <td>N</td>\n",
       "      <td>239</td>\n",
       "      <td>140</td>\n",
       "      <td>2</td>\n",
       "      <td>14.0</td>\n",
       "      <td>0.5</td>\n",
       "      <td>0.5</td>\n",
       "      <td>0.00</td>\n",
       "      <td>0.0</td>\n",
       "      <td>0.3</td>\n",
       "      <td>15.30</td>\n",
       "      <td>0.0</td>\n",
       "      <td>1090.0</td>\n",
       "    </tr>\n",
       "    <tr>\n",
       "      <th>2</th>\n",
       "      <td>1</td>\n",
       "      <td>2018-01-01 00:08:26</td>\n",
       "      <td>2018-01-01 00:14:21</td>\n",
       "      <td>2</td>\n",
       "      <td>0.80</td>\n",
       "      <td>1</td>\n",
       "      <td>N</td>\n",
       "      <td>262</td>\n",
       "      <td>141</td>\n",
       "      <td>1</td>\n",
       "      <td>6.0</td>\n",
       "      <td>0.5</td>\n",
       "      <td>0.5</td>\n",
       "      <td>1.00</td>\n",
       "      <td>0.0</td>\n",
       "      <td>0.3</td>\n",
       "      <td>8.30</td>\n",
       "      <td>0.0</td>\n",
       "      <td>355.0</td>\n",
       "    </tr>\n",
       "    <tr>\n",
       "      <th>3</th>\n",
       "      <td>1</td>\n",
       "      <td>2018-01-01 00:20:22</td>\n",
       "      <td>2018-01-01 00:52:51</td>\n",
       "      <td>1</td>\n",
       "      <td>10.20</td>\n",
       "      <td>1</td>\n",
       "      <td>N</td>\n",
       "      <td>140</td>\n",
       "      <td>257</td>\n",
       "      <td>2</td>\n",
       "      <td>33.5</td>\n",
       "      <td>0.5</td>\n",
       "      <td>0.5</td>\n",
       "      <td>0.00</td>\n",
       "      <td>0.0</td>\n",
       "      <td>0.3</td>\n",
       "      <td>34.80</td>\n",
       "      <td>0.0</td>\n",
       "      <td>1949.0</td>\n",
       "    </tr>\n",
       "    <tr>\n",
       "      <th>4</th>\n",
       "      <td>1</td>\n",
       "      <td>2018-01-01 00:09:18</td>\n",
       "      <td>2018-01-01 00:27:06</td>\n",
       "      <td>2</td>\n",
       "      <td>2.50</td>\n",
       "      <td>1</td>\n",
       "      <td>N</td>\n",
       "      <td>246</td>\n",
       "      <td>239</td>\n",
       "      <td>1</td>\n",
       "      <td>12.5</td>\n",
       "      <td>0.5</td>\n",
       "      <td>0.5</td>\n",
       "      <td>2.75</td>\n",
       "      <td>0.0</td>\n",
       "      <td>0.3</td>\n",
       "      <td>16.55</td>\n",
       "      <td>0.0</td>\n",
       "      <td>1068.0</td>\n",
       "    </tr>\n",
       "    <tr>\n",
       "      <th>...</th>\n",
       "      <td>...</td>\n",
       "      <td>...</td>\n",
       "      <td>...</td>\n",
       "      <td>...</td>\n",
       "      <td>...</td>\n",
       "      <td>...</td>\n",
       "      <td>...</td>\n",
       "      <td>...</td>\n",
       "      <td>...</td>\n",
       "      <td>...</td>\n",
       "      <td>...</td>\n",
       "      <td>...</td>\n",
       "      <td>...</td>\n",
       "      <td>...</td>\n",
       "      <td>...</td>\n",
       "      <td>...</td>\n",
       "      <td>...</td>\n",
       "      <td>...</td>\n",
       "      <td>...</td>\n",
       "    </tr>\n",
       "    <tr>\n",
       "      <th>8760682</th>\n",
       "      <td>1</td>\n",
       "      <td>2018-01-31 23:21:35</td>\n",
       "      <td>2018-01-31 23:34:20</td>\n",
       "      <td>2</td>\n",
       "      <td>2.80</td>\n",
       "      <td>1</td>\n",
       "      <td>N</td>\n",
       "      <td>158</td>\n",
       "      <td>163</td>\n",
       "      <td>1</td>\n",
       "      <td>12.0</td>\n",
       "      <td>0.5</td>\n",
       "      <td>0.5</td>\n",
       "      <td>2.65</td>\n",
       "      <td>0.0</td>\n",
       "      <td>0.3</td>\n",
       "      <td>15.95</td>\n",
       "      <td>0.0</td>\n",
       "      <td>765.0</td>\n",
       "    </tr>\n",
       "    <tr>\n",
       "      <th>8760683</th>\n",
       "      <td>1</td>\n",
       "      <td>2018-01-31 23:35:51</td>\n",
       "      <td>2018-01-31 23:38:57</td>\n",
       "      <td>1</td>\n",
       "      <td>0.60</td>\n",
       "      <td>1</td>\n",
       "      <td>N</td>\n",
       "      <td>163</td>\n",
       "      <td>162</td>\n",
       "      <td>1</td>\n",
       "      <td>4.5</td>\n",
       "      <td>0.5</td>\n",
       "      <td>0.5</td>\n",
       "      <td>1.15</td>\n",
       "      <td>0.0</td>\n",
       "      <td>0.3</td>\n",
       "      <td>6.95</td>\n",
       "      <td>0.0</td>\n",
       "      <td>186.0</td>\n",
       "    </tr>\n",
       "    <tr>\n",
       "      <th>8760684</th>\n",
       "      <td>2</td>\n",
       "      <td>2018-01-31 23:28:00</td>\n",
       "      <td>2018-01-31 23:37:09</td>\n",
       "      <td>1</td>\n",
       "      <td>2.95</td>\n",
       "      <td>1</td>\n",
       "      <td>N</td>\n",
       "      <td>74</td>\n",
       "      <td>69</td>\n",
       "      <td>2</td>\n",
       "      <td>10.5</td>\n",
       "      <td>0.5</td>\n",
       "      <td>0.5</td>\n",
       "      <td>0.00</td>\n",
       "      <td>0.0</td>\n",
       "      <td>0.3</td>\n",
       "      <td>11.80</td>\n",
       "      <td>0.0</td>\n",
       "      <td>549.0</td>\n",
       "    </tr>\n",
       "    <tr>\n",
       "      <th>8760685</th>\n",
       "      <td>2</td>\n",
       "      <td>2018-01-31 23:24:40</td>\n",
       "      <td>2018-01-31 23:25:28</td>\n",
       "      <td>1</td>\n",
       "      <td>0.00</td>\n",
       "      <td>1</td>\n",
       "      <td>N</td>\n",
       "      <td>7</td>\n",
       "      <td>193</td>\n",
       "      <td>2</td>\n",
       "      <td>0.0</td>\n",
       "      <td>0.0</td>\n",
       "      <td>0.0</td>\n",
       "      <td>0.00</td>\n",
       "      <td>0.0</td>\n",
       "      <td>0.0</td>\n",
       "      <td>0.00</td>\n",
       "      <td>0.0</td>\n",
       "      <td>48.0</td>\n",
       "    </tr>\n",
       "    <tr>\n",
       "      <th>8760686</th>\n",
       "      <td>2</td>\n",
       "      <td>2018-01-31 23:28:16</td>\n",
       "      <td>2018-01-31 23:28:38</td>\n",
       "      <td>1</td>\n",
       "      <td>0.00</td>\n",
       "      <td>1</td>\n",
       "      <td>N</td>\n",
       "      <td>7</td>\n",
       "      <td>193</td>\n",
       "      <td>2</td>\n",
       "      <td>0.0</td>\n",
       "      <td>0.0</td>\n",
       "      <td>0.0</td>\n",
       "      <td>0.00</td>\n",
       "      <td>0.0</td>\n",
       "      <td>0.0</td>\n",
       "      <td>0.00</td>\n",
       "      <td>0.0</td>\n",
       "      <td>22.0</td>\n",
       "    </tr>\n",
       "  </tbody>\n",
       "</table>\n",
       "<p>8760687 rows × 19 columns</p>\n",
       "</div>"
      ],
      "text/plain": [
       "         VendorID tpep_pickup_datetime tpep_dropoff_datetime  passenger_count  \\\n",
       "0               1  2018-01-01 00:21:05   2018-01-01 00:24:23                1   \n",
       "1               1  2018-01-01 00:44:55   2018-01-01 01:03:05                1   \n",
       "2               1  2018-01-01 00:08:26   2018-01-01 00:14:21                2   \n",
       "3               1  2018-01-01 00:20:22   2018-01-01 00:52:51                1   \n",
       "4               1  2018-01-01 00:09:18   2018-01-01 00:27:06                2   \n",
       "...           ...                  ...                   ...              ...   \n",
       "8760682         1  2018-01-31 23:21:35   2018-01-31 23:34:20                2   \n",
       "8760683         1  2018-01-31 23:35:51   2018-01-31 23:38:57                1   \n",
       "8760684         2  2018-01-31 23:28:00   2018-01-31 23:37:09                1   \n",
       "8760685         2  2018-01-31 23:24:40   2018-01-31 23:25:28                1   \n",
       "8760686         2  2018-01-31 23:28:16   2018-01-31 23:28:38                1   \n",
       "\n",
       "         trip_distance  RatecodeID store_and_fwd_flag  PULocationID  \\\n",
       "0                 0.50           1                  N            41   \n",
       "1                 2.70           1                  N           239   \n",
       "2                 0.80           1                  N           262   \n",
       "3                10.20           1                  N           140   \n",
       "4                 2.50           1                  N           246   \n",
       "...                ...         ...                ...           ...   \n",
       "8760682           2.80           1                  N           158   \n",
       "8760683           0.60           1                  N           163   \n",
       "8760684           2.95           1                  N            74   \n",
       "8760685           0.00           1                  N             7   \n",
       "8760686           0.00           1                  N             7   \n",
       "\n",
       "         DOLocationID  payment_type  fare_amount  extra  mta_tax  tip_amount  \\\n",
       "0                  24             2          4.5    0.5      0.5        0.00   \n",
       "1                 140             2         14.0    0.5      0.5        0.00   \n",
       "2                 141             1          6.0    0.5      0.5        1.00   \n",
       "3                 257             2         33.5    0.5      0.5        0.00   \n",
       "4                 239             1         12.5    0.5      0.5        2.75   \n",
       "...               ...           ...          ...    ...      ...         ...   \n",
       "8760682           163             1         12.0    0.5      0.5        2.65   \n",
       "8760683           162             1          4.5    0.5      0.5        1.15   \n",
       "8760684            69             2         10.5    0.5      0.5        0.00   \n",
       "8760685           193             2          0.0    0.0      0.0        0.00   \n",
       "8760686           193             2          0.0    0.0      0.0        0.00   \n",
       "\n",
       "         tolls_amount  improvement_surcharge  total_amount  \\\n",
       "0                 0.0                    0.3          5.80   \n",
       "1                 0.0                    0.3         15.30   \n",
       "2                 0.0                    0.3          8.30   \n",
       "3                 0.0                    0.3         34.80   \n",
       "4                 0.0                    0.3         16.55   \n",
       "...               ...                    ...           ...   \n",
       "8760682           0.0                    0.3         15.95   \n",
       "8760683           0.0                    0.3          6.95   \n",
       "8760684           0.0                    0.3         11.80   \n",
       "8760685           0.0                    0.0          0.00   \n",
       "8760686           0.0                    0.0          0.00   \n",
       "\n",
       "         congestion_surcharge  Tiempo_Viaje_s  \n",
       "0                         0.0           198.0  \n",
       "1                         0.0          1090.0  \n",
       "2                         0.0           355.0  \n",
       "3                         0.0          1949.0  \n",
       "4                         0.0          1068.0  \n",
       "...                       ...             ...  \n",
       "8760682                   0.0           765.0  \n",
       "8760683                   0.0           186.0  \n",
       "8760684                   0.0           549.0  \n",
       "8760685                   0.0            48.0  \n",
       "8760686                   0.0            22.0  \n",
       "\n",
       "[8760687 rows x 19 columns]"
      ]
     },
     "execution_count": 279,
     "metadata": {},
     "output_type": "execute_result"
    }
   ],
   "source": [
    "data"
   ]
  },
  {
   "cell_type": "code",
   "execution_count": 280,
   "metadata": {},
   "outputs": [
    {
     "data": {
      "image/png": "[encoded data removed]",
      "text/plain": [
       "<Figure size 576x576 with 1 Axes>"
      ]
     },
     "metadata": {},
     "output_type": "display_data"
    }
   ],
   "source": [
    "sns.set(rc = {'figure.figsize':(8,8)})\n",
    "sns.set(style=\"whitegrid\")\n",
    "sns.boxplot(x =data[\"Tiempo_Viaje_s\"])\n",
    "plt.title(f\"Tiempo_Viaje_s\")\n",
    "plt.show()"
   ]
  },
  {
   "cell_type": "code",
   "execution_count": 281,
   "metadata": {},
   "outputs": [
    {
     "data": {
      "text/html": [
       "<div>\n",
       "<style scoped>\n",
       "    .dataframe tbody tr th:only-of-type {\n",
       "        vertical-align: middle;\n",
       "    }\n",
       "\n",
       "    .dataframe tbody tr th {\n",
       "        vertical-align: top;\n",
       "    }\n",
       "\n",
       "    .dataframe thead th {\n",
       "        text-align: right;\n",
       "    }\n",
       "</style>\n",
       "<table border=\"1\" class=\"dataframe\">\n",
       "  <thead>\n",
       "    <tr style=\"text-align: right;\">\n",
       "      <th></th>\n",
       "      <th>tpep_pickup_datetime</th>\n",
       "      <th>tpep_dropoff_datetime</th>\n",
       "      <th>Tiempo_Viaje_s</th>\n",
       "      <th>trip_distance</th>\n",
       "    </tr>\n",
       "  </thead>\n",
       "  <tbody>\n",
       "    <tr>\n",
       "      <th>0</th>\n",
       "      <td>2018-01-01 00:21:05</td>\n",
       "      <td>2018-01-01 00:24:23</td>\n",
       "      <td>198.0</td>\n",
       "      <td>0.50</td>\n",
       "    </tr>\n",
       "    <tr>\n",
       "      <th>1</th>\n",
       "      <td>2018-01-01 00:44:55</td>\n",
       "      <td>2018-01-01 01:03:05</td>\n",
       "      <td>1090.0</td>\n",
       "      <td>2.70</td>\n",
       "    </tr>\n",
       "    <tr>\n",
       "      <th>2</th>\n",
       "      <td>2018-01-01 00:08:26</td>\n",
       "      <td>2018-01-01 00:14:21</td>\n",
       "      <td>355.0</td>\n",
       "      <td>0.80</td>\n",
       "    </tr>\n",
       "    <tr>\n",
       "      <th>3</th>\n",
       "      <td>2018-01-01 00:20:22</td>\n",
       "      <td>2018-01-01 00:52:51</td>\n",
       "      <td>1949.0</td>\n",
       "      <td>10.20</td>\n",
       "    </tr>\n",
       "    <tr>\n",
       "      <th>4</th>\n",
       "      <td>2018-01-01 00:09:18</td>\n",
       "      <td>2018-01-01 00:27:06</td>\n",
       "      <td>1068.0</td>\n",
       "      <td>2.50</td>\n",
       "    </tr>\n",
       "    <tr>\n",
       "      <th>...</th>\n",
       "      <td>...</td>\n",
       "      <td>...</td>\n",
       "      <td>...</td>\n",
       "      <td>...</td>\n",
       "    </tr>\n",
       "    <tr>\n",
       "      <th>8760682</th>\n",
       "      <td>2018-01-31 23:21:35</td>\n",
       "      <td>2018-01-31 23:34:20</td>\n",
       "      <td>765.0</td>\n",
       "      <td>2.80</td>\n",
       "    </tr>\n",
       "    <tr>\n",
       "      <th>8760683</th>\n",
       "      <td>2018-01-31 23:35:51</td>\n",
       "      <td>2018-01-31 23:38:57</td>\n",
       "      <td>186.0</td>\n",
       "      <td>0.60</td>\n",
       "    </tr>\n",
       "    <tr>\n",
       "      <th>8760684</th>\n",
       "      <td>2018-01-31 23:28:00</td>\n",
       "      <td>2018-01-31 23:37:09</td>\n",
       "      <td>549.0</td>\n",
       "      <td>2.95</td>\n",
       "    </tr>\n",
       "    <tr>\n",
       "      <th>8760685</th>\n",
       "      <td>2018-01-31 23:24:40</td>\n",
       "      <td>2018-01-31 23:25:28</td>\n",
       "      <td>48.0</td>\n",
       "      <td>0.00</td>\n",
       "    </tr>\n",
       "    <tr>\n",
       "      <th>8760686</th>\n",
       "      <td>2018-01-31 23:28:16</td>\n",
       "      <td>2018-01-31 23:28:38</td>\n",
       "      <td>22.0</td>\n",
       "      <td>0.00</td>\n",
       "    </tr>\n",
       "  </tbody>\n",
       "</table>\n",
       "<p>8760687 rows × 4 columns</p>\n",
       "</div>"
      ],
      "text/plain": [
       "        tpep_pickup_datetime tpep_dropoff_datetime  Tiempo_Viaje_s  \\\n",
       "0        2018-01-01 00:21:05   2018-01-01 00:24:23           198.0   \n",
       "1        2018-01-01 00:44:55   2018-01-01 01:03:05          1090.0   \n",
       "2        2018-01-01 00:08:26   2018-01-01 00:14:21           355.0   \n",
       "3        2018-01-01 00:20:22   2018-01-01 00:52:51          1949.0   \n",
       "4        2018-01-01 00:09:18   2018-01-01 00:27:06          1068.0   \n",
       "...                      ...                   ...             ...   \n",
       "8760682  2018-01-31 23:21:35   2018-01-31 23:34:20           765.0   \n",
       "8760683  2018-01-31 23:35:51   2018-01-31 23:38:57           186.0   \n",
       "8760684  2018-01-31 23:28:00   2018-01-31 23:37:09           549.0   \n",
       "8760685  2018-01-31 23:24:40   2018-01-31 23:25:28            48.0   \n",
       "8760686  2018-01-31 23:28:16   2018-01-31 23:28:38            22.0   \n",
       "\n",
       "         trip_distance  \n",
       "0                 0.50  \n",
       "1                 2.70  \n",
       "2                 0.80  \n",
       "3                10.20  \n",
       "4                 2.50  \n",
       "...                ...  \n",
       "8760682           2.80  \n",
       "8760683           0.60  \n",
       "8760684           2.95  \n",
       "8760685           0.00  \n",
       "8760686           0.00  \n",
       "\n",
       "[8760687 rows x 4 columns]"
      ]
     },
     "execution_count": 281,
     "metadata": {},
     "output_type": "execute_result"
    }
   ],
   "source": [
    "data_tiempos=data[[\"tpep_pickup_datetime\",\"tpep_dropoff_datetime\",\"Tiempo_Viaje_s\", \"trip_distance\"]]\n",
    "data_tiempos"
   ]
  },
  {
   "cell_type": "code",
   "execution_count": 282,
   "metadata": {},
   "outputs": [
    {
     "name": "stderr",
     "output_type": "stream",
     "text": [
      "C:\\Users\\Nacho\\AppData\\Local\\Temp/ipykernel_10416/978239943.py:1: SettingWithCopyWarning:\n",
      "\n",
      "\n",
      "A value is trying to be set on a copy of a slice from a DataFrame.\n",
      "Try using .loc[row_indexer,col_indexer] = value instead\n",
      "\n",
      "See the caveats in the documentation: https://pandas.pydata.org/pandas-docs/stable/user_guide/indexing.html#returning-a-view-versus-a-copy\n",
      "\n"
     ]
    }
   ],
   "source": [
    "data_tiempos[\"Velocidad\"]=data[\"trip_distance\"]/data[\"Tiempo_Viaje_s\"]"
   ]
  },
  {
   "cell_type": "code",
   "execution_count": 283,
   "metadata": {},
   "outputs": [],
   "source": [
    "data_tiempos=data_tiempos[data_tiempos[\"Tiempo_Viaje_s\"]>0.1]"
   ]
  },
  {
   "cell_type": "code",
   "execution_count": 284,
   "metadata": {},
   "outputs": [
    {
     "data": {
      "image/png": "[encoded data removed]",
      "text/plain": [
       "<Figure size 576x576 with 1 Axes>"
      ]
     },
     "metadata": {},
     "output_type": "display_data"
    }
   ],
   "source": [
    "sns.set(rc = {'figure.figsize':(8,8)})\n",
    "sns.set(style=\"whitegrid\")\n",
    "sns.boxplot(x =data_tiempos[\"Tiempo_Viaje_s\"])\n",
    "plt.title(f\"Tiempo_Viaje_s\")\n",
    "plt.show()"
   ]
  },
  {
   "cell_type": "code",
   "execution_count": 285,
   "metadata": {},
   "outputs": [
    {
     "name": "stderr",
     "output_type": "stream",
     "text": [
      "c:\\Users\\Nacho\\anaconda3\\lib\\site-packages\\pandas\\core\\indexing.py:1817: SettingWithCopyWarning:\n",
      "\n",
      "\n",
      "A value is trying to be set on a copy of a slice from a DataFrame.\n",
      "Try using .loc[row_indexer,col_indexer] = value instead\n",
      "\n",
      "See the caveats in the documentation: https://pandas.pydata.org/pandas-docs/stable/user_guide/indexing.html#returning-a-view-versus-a-copy\n",
      "\n"
     ]
    }
   ],
   "source": [
    "data_tiempos.loc[8237763,\"trip_distance\"]=0"
   ]
  },
  {
   "cell_type": "code",
   "execution_count": 286,
   "metadata": {},
   "outputs": [
    {
     "data": {
      "image/png": "[encoded data removed]",
      "text/plain": [
       "<Figure size 576x576 with 1 Axes>"
      ]
     },
     "metadata": {},
     "output_type": "display_data"
    }
   ],
   "source": [
    "sns.set(rc = {'figure.figsize':(8,8)})\n",
    "sns.set(style=\"whitegrid\")\n",
    "sns.boxplot(x =data_tiempos[\"trip_distance\"])\n",
    "plt.title(f\"trip_distance\")\n",
    "plt.show()"
   ]
  },
  {
   "cell_type": "code",
   "execution_count": 287,
   "metadata": {},
   "outputs": [],
   "source": [
    "df = data_tiempos[\"trip_distance\"]\n",
    "bins = [-0.1, 1, 2, 7, 15, 900]\n",
    "data_kpi=pd.cut(df, bins)\n",
    "data_kpi=pd.DataFrame(data_kpi)\n",
    "data_kpi.columns=[\"bins\"]\n",
    "data_kpi=pd.concat([data_tiempos[\"trip_distance\"],data_kpi], axis=1)\n",
    "data_kpi.groupby(\"bins\").count()\n",
    "data_kpi=pd.concat([data_tiempos[\"Tiempo_Viaje_s\"],data_kpi], axis=1)"
   ]
  },
  {
   "cell_type": "code",
   "execution_count": 288,
   "metadata": {},
   "outputs": [
    {
     "data": {
      "text/plain": [
       "Text(0, 0.5, ' Distancia recorrida en el viaje en Millas ')"
      ]
     },
     "execution_count": 288,
     "metadata": {},
     "output_type": "execute_result"
    },
    {
     "data": {
      "image/png": "[encoded data removed]",
      "text/plain": [
       "<Figure size 2160x576 with 1 Axes>"
      ]
     },
     "metadata": {},
     "output_type": "display_data"
    }
   ],
   "source": [
    "import seaborn\n",
    "import matplotlib.pyplot as plt\n",
    " \n",
    "sns.set(rc = {'figure.figsize':(30,8)}) \n",
    "seaborn.set(style='whitegrid')\n",
    "seaborn.boxplot(x=\"Tiempo_Viaje_s\", y='bins', data=data_kpi, orient=\"h\")\n",
    "plt.xlim(0, 100000)\n",
    "plt.title(\" Distancia recorrida vs Tiempo de viaje \",fontsize=25)\n",
    "plt. xlabel (' Tiempo de duracion del viaje en Segundos ',fontsize=15)\n",
    "plt. ylabel (' Distancia recorrida en el viaje en Millas ',fontsize=15)\n"
   ]
  },
  {
   "cell_type": "code",
   "execution_count": 289,
   "metadata": {},
   "outputs": [
    {
     "data": {
      "text/html": [
       "<div>\n",
       "<style scoped>\n",
       "    .dataframe tbody tr th:only-of-type {\n",
       "        vertical-align: middle;\n",
       "    }\n",
       "\n",
       "    .dataframe tbody tr th {\n",
       "        vertical-align: top;\n",
       "    }\n",
       "\n",
       "    .dataframe thead th {\n",
       "        text-align: right;\n",
       "    }\n",
       "</style>\n",
       "<table border=\"1\" class=\"dataframe\">\n",
       "  <thead>\n",
       "    <tr style=\"text-align: right;\">\n",
       "      <th></th>\n",
       "      <th>count</th>\n",
       "      <th>mean</th>\n",
       "      <th>min</th>\n",
       "      <th>25%</th>\n",
       "      <th>50%</th>\n",
       "      <th>75%</th>\n",
       "      <th>max</th>\n",
       "    </tr>\n",
       "    <tr>\n",
       "      <th>bins</th>\n",
       "      <th></th>\n",
       "      <th></th>\n",
       "      <th></th>\n",
       "      <th></th>\n",
       "      <th></th>\n",
       "      <th></th>\n",
       "      <th></th>\n",
       "    </tr>\n",
       "  </thead>\n",
       "  <tbody>\n",
       "    <tr>\n",
       "      <th>(-0.1, 1.0]</th>\n",
       "      <td>2589315.0</td>\n",
       "      <td>432.366505</td>\n",
       "      <td>1.0</td>\n",
       "      <td>207.0</td>\n",
       "      <td>297.0</td>\n",
       "      <td>411.0</td>\n",
       "      <td>86399.0</td>\n",
       "    </tr>\n",
       "    <tr>\n",
       "      <th>(1.0, 2.0]</th>\n",
       "      <td>2876830.0</td>\n",
       "      <td>756.937158</td>\n",
       "      <td>1.0</td>\n",
       "      <td>440.0</td>\n",
       "      <td>571.0</td>\n",
       "      <td>743.0</td>\n",
       "      <td>91190.0</td>\n",
       "    </tr>\n",
       "    <tr>\n",
       "      <th>(2.0, 7.0]</th>\n",
       "      <td>2510309.0</td>\n",
       "      <td>1245.019281</td>\n",
       "      <td>1.0</td>\n",
       "      <td>770.0</td>\n",
       "      <td>994.0</td>\n",
       "      <td>1285.0</td>\n",
       "      <td>86399.0</td>\n",
       "    </tr>\n",
       "    <tr>\n",
       "      <th>(7.0, 15.0]</th>\n",
       "      <td>542027.0</td>\n",
       "      <td>2055.017171</td>\n",
       "      <td>1.0</td>\n",
       "      <td>1325.0</td>\n",
       "      <td>1669.0</td>\n",
       "      <td>2140.0</td>\n",
       "      <td>86395.0</td>\n",
       "    </tr>\n",
       "    <tr>\n",
       "      <th>(15.0, 900.0]</th>\n",
       "      <td>234583.0</td>\n",
       "      <td>2965.911997</td>\n",
       "      <td>1.0</td>\n",
       "      <td>1953.0</td>\n",
       "      <td>2434.0</td>\n",
       "      <td>3140.0</td>\n",
       "      <td>86397.0</td>\n",
       "    </tr>\n",
       "  </tbody>\n",
       "</table>\n",
       "</div>"
      ],
      "text/plain": [
       "                   count         mean  min     25%     50%     75%      max\n",
       "bins                                                                       \n",
       "(-0.1, 1.0]    2589315.0   432.366505  1.0   207.0   297.0   411.0  86399.0\n",
       "(1.0, 2.0]     2876830.0   756.937158  1.0   440.0   571.0   743.0  91190.0\n",
       "(2.0, 7.0]     2510309.0  1245.019281  1.0   770.0   994.0  1285.0  86399.0\n",
       "(7.0, 15.0]     542027.0  2055.017171  1.0  1325.0  1669.0  2140.0  86395.0\n",
       "(15.0, 900.0]   234583.0  2965.911997  1.0  1953.0  2434.0  3140.0  86397.0"
      ]
     },
     "execution_count": 289,
     "metadata": {},
     "output_type": "execute_result"
    }
   ],
   "source": [
    "data_kpi.groupby(\"bins\").describe()[\"Tiempo_Viaje_s\"][[\"count\", \"mean\", \"min\", \"25%\", \"50%\", \"75%\", \"max\"]]"
   ]
  },
  {
   "cell_type": "code",
   "execution_count": 290,
   "metadata": {},
   "outputs": [
    {
     "data": {
      "text/plain": [
       "count    8.753064e+06\n",
       "mean     9.404847e+02\n",
       "std      3.616357e+03\n",
       "min      1.000000e+00\n",
       "25%      3.750000e+02\n",
       "50%      6.230000e+02\n",
       "75%      1.011000e+03\n",
       "max      9.119000e+04\n",
       "Name: Tiempo_Viaje_s, dtype: float64"
      ]
     },
     "execution_count": 290,
     "metadata": {},
     "output_type": "execute_result"
    }
   ],
   "source": [
    "data_kpi[\"Tiempo_Viaje_s\"].describe()"
   ]
  },
  {
   "cell_type": "code",
   "execution_count": 291,
   "metadata": {},
   "outputs": [],
   "source": [
    "def outliers(data, columna, valoriqr=1.5):\n",
    "    Q1=data[columna].describe()[4]\n",
    "    Q3=data[columna].describe()[6]\n",
    "    IQR= Q3-Q1\n",
    "    MIN= Q1-valoriqr*IQR\n",
    "    MAX= Q3+valoriqr*IQR\n",
    "    data_sin_outliers=data[(data[columna]<MAX) & (data[columna]>MIN)]\n",
    "    return data_sin_outliers"
   ]
  },
  {
   "cell_type": "code",
   "execution_count": 292,
   "metadata": {},
   "outputs": [],
   "source": [
    "data_kpi_SO=outliers(data_kpi, \"Tiempo_Viaje_s\")"
   ]
  },
  {
   "cell_type": "code",
   "execution_count": 293,
   "metadata": {},
   "outputs": [
    {
     "data": {
      "text/plain": [
       "Text(0, 0.5, ' Distancia recorrida en el viaje en Millas ')"
      ]
     },
     "execution_count": 293,
     "metadata": {},
     "output_type": "execute_result"
    },
    {
     "data": {
      "image/png": "[encoded data removed]",
      "text/plain": [
       "<Figure size 2160x576 with 1 Axes>"
      ]
     },
     "metadata": {},
     "output_type": "display_data"
    }
   ],
   "source": [
    "import seaborn\n",
    "import matplotlib.pyplot as plt\n",
    " \n",
    "sns.set(rc = {'figure.figsize':(30,8)}) \n",
    "seaborn.set(style='whitegrid')\n",
    "seaborn.boxplot(x=\"Tiempo_Viaje_s\", y='bins', data=data_kpi_SO, orient=\"h\")\n",
    "plt.xlim(0, 2000)\n",
    "plt.title(\" Distancia recorrida vs Tiempo de viaje \",fontsize=25)\n",
    "plt. xlabel (' Tiempo de duracion del viaje en Segundos ',fontsize=15)\n",
    "plt. ylabel (' Distancia recorrida en el viaje en Millas ',fontsize=15)\n"
   ]
  },
  {
   "cell_type": "code",
   "execution_count": 294,
   "metadata": {},
   "outputs": [
    {
     "data": {
      "text/html": [
       "<div>\n",
       "<style scoped>\n",
       "    .dataframe tbody tr th:only-of-type {\n",
       "        vertical-align: middle;\n",
       "    }\n",
       "\n",
       "    .dataframe tbody tr th {\n",
       "        vertical-align: top;\n",
       "    }\n",
       "\n",
       "    .dataframe thead th {\n",
       "        text-align: right;\n",
       "    }\n",
       "</style>\n",
       "<table border=\"1\" class=\"dataframe\">\n",
       "  <thead>\n",
       "    <tr style=\"text-align: right;\">\n",
       "      <th></th>\n",
       "      <th>count</th>\n",
       "      <th>mean</th>\n",
       "      <th>min</th>\n",
       "      <th>25%</th>\n",
       "      <th>50%</th>\n",
       "      <th>75%</th>\n",
       "      <th>max</th>\n",
       "    </tr>\n",
       "    <tr>\n",
       "      <th>bins</th>\n",
       "      <th></th>\n",
       "      <th></th>\n",
       "      <th></th>\n",
       "      <th></th>\n",
       "      <th></th>\n",
       "      <th></th>\n",
       "      <th></th>\n",
       "    </tr>\n",
       "  </thead>\n",
       "  <tbody>\n",
       "    <tr>\n",
       "      <th>(-0.1, 1.0]</th>\n",
       "      <td>2584831.0</td>\n",
       "      <td>327.538050</td>\n",
       "      <td>1.0</td>\n",
       "      <td>207.0</td>\n",
       "      <td>296.0</td>\n",
       "      <td>411.0</td>\n",
       "      <td>1964.0</td>\n",
       "    </tr>\n",
       "    <tr>\n",
       "      <th>(1.0, 2.0]</th>\n",
       "      <td>2869289.0</td>\n",
       "      <td>614.511816</td>\n",
       "      <td>1.0</td>\n",
       "      <td>439.0</td>\n",
       "      <td>570.0</td>\n",
       "      <td>742.0</td>\n",
       "      <td>1964.0</td>\n",
       "    </tr>\n",
       "    <tr>\n",
       "      <th>(2.0, 7.0]</th>\n",
       "      <td>2424942.0</td>\n",
       "      <td>1023.532604</td>\n",
       "      <td>1.0</td>\n",
       "      <td>763.0</td>\n",
       "      <td>978.0</td>\n",
       "      <td>1248.0</td>\n",
       "      <td>1964.0</td>\n",
       "    </tr>\n",
       "    <tr>\n",
       "      <th>(7.0, 15.0]</th>\n",
       "      <td>364108.0</td>\n",
       "      <td>1431.432424</td>\n",
       "      <td>1.0</td>\n",
       "      <td>1207.0</td>\n",
       "      <td>1440.0</td>\n",
       "      <td>1675.0</td>\n",
       "      <td>1964.0</td>\n",
       "    </tr>\n",
       "    <tr>\n",
       "      <th>(15.0, 900.0]</th>\n",
       "      <td>60147.0</td>\n",
       "      <td>1682.002477</td>\n",
       "      <td>1.0</td>\n",
       "      <td>1576.0</td>\n",
       "      <td>1726.0</td>\n",
       "      <td>1849.0</td>\n",
       "      <td>1964.0</td>\n",
       "    </tr>\n",
       "  </tbody>\n",
       "</table>\n",
       "</div>"
      ],
      "text/plain": [
       "                   count         mean  min     25%     50%     75%     max\n",
       "bins                                                                      \n",
       "(-0.1, 1.0]    2584831.0   327.538050  1.0   207.0   296.0   411.0  1964.0\n",
       "(1.0, 2.0]     2869289.0   614.511816  1.0   439.0   570.0   742.0  1964.0\n",
       "(2.0, 7.0]     2424942.0  1023.532604  1.0   763.0   978.0  1248.0  1964.0\n",
       "(7.0, 15.0]     364108.0  1431.432424  1.0  1207.0  1440.0  1675.0  1964.0\n",
       "(15.0, 900.0]    60147.0  1682.002477  1.0  1576.0  1726.0  1849.0  1964.0"
      ]
     },
     "execution_count": 294,
     "metadata": {},
     "output_type": "execute_result"
    }
   ],
   "source": [
    "data_kpi_SO.groupby(\"bins\").describe()[\"Tiempo_Viaje_s\"][[\"count\", \"mean\", \"min\", \"25%\", \"50%\", \"75%\", \"max\"]]"
   ]
  },
  {
   "cell_type": "markdown",
   "metadata": {},
   "source": [
    "## % Rates"
   ]
  },
  {
   "cell_type": "code",
   "execution_count": 295,
   "metadata": {},
   "outputs": [],
   "source": [
    "data_copy = data.copy()"
   ]
  },
  {
   "cell_type": "code",
   "execution_count": 296,
   "metadata": {},
   "outputs": [],
   "source": [
    "data_copy = data_copy[data_copy['RatecodeID']!=99]"
   ]
  },
  {
   "cell_type": "code",
   "execution_count": 297,
   "metadata": {},
   "outputs": [
    {
     "data": {
      "text/plain": [
       "RatecodeID\n",
       "1    69.947236\n",
       "2     6.863371\n",
       "3     0.730220\n",
       "4     0.251828\n",
       "5     1.250462\n",
       "6     0.001299\n",
       "Name: fare_amount, dtype: float64"
      ]
     },
     "execution_count": 297,
     "metadata": {},
     "output_type": "execute_result"
    }
   ],
   "source": [
    "data_rate = data_copy.groupby('RatecodeID')['fare_amount'].sum() / data['total_amount'].sum() * 100\n",
    "data_rate"
   ]
  },
  {
   "cell_type": "code",
   "execution_count": 298,
   "metadata": {},
   "outputs": [
    {
     "data": {
      "application/vnd.plotly.v1+json": {
       "config": {
        "plotlyServerURL": "https://plot.ly"
       },
       "data": [
        {
         "alignmentgroup": "True",
         "hovertemplate": "RatecodeID=%{x}<br>Cantidad=%{y}<extra></extra>",
         "legendgroup": "",
         "marker": {
          "color": "#636efa",
          "pattern": {
           "shape": ""
          }
         },
         "name": "",
         "offsetgroup": "",
         "orientation": "v",
         "showlegend": false,
         "textposition": "auto",
         "type": "bar",
         "x": [
          1,
          2,
          3,
          4,
          5,
          6
         ],
         "xaxis": "x",
         "y": [
          69.94723562203168,
          6.863370882407289,
          0.7302197906882708,
          0.251828432330694,
          1.2504618838474018,
          0.0012985987263259384
         ],
         "yaxis": "y"
        }
       ],
       "layout": {
        "barmode": "relative",
        "legend": {
         "tracegroupgap": 0
        },
        "template": {
         "data": {
          "bar": [
           {
            "error_x": {
             "color": "#2a3f5f"
            },
            "error_y": {
             "color": "#2a3f5f"
            },
            "marker": {
             "line": {
              "color": "#E5ECF6",
              "width": 0.5
             },
             "pattern": {
              "fillmode": "overlay",
              "size": 10,
              "solidity": 0.2
             }
            },
            "type": "bar"
           }
          ],
          "barpolar": [
           {
            "marker": {
             "line": {
              "color": "#E5ECF6",
              "width": 0.5
             },
             "pattern": {
              "fillmode": "overlay",
              "size": 10,
              "solidity": 0.2
             }
            },
            "type": "barpolar"
           }
          ],
          "carpet": [
           {
            "aaxis": {
             "endlinecolor": "#2a3f5f",
             "gridcolor": "white",
             "linecolor": "white",
             "minorgridcolor": "white",
             "startlinecolor": "#2a3f5f"
            },
            "baxis": {
             "endlinecolor": "#2a3f5f",
             "gridcolor": "white",
             "linecolor": "white",
             "minorgridcolor": "white",
             "startlinecolor": "#2a3f5f"
            },
            "type": "carpet"
           }
          ],
          "choropleth": [
           {
            "colorbar": {
             "outlinewidth": 0,
             "ticks": ""
            },
            "type": "choropleth"
           }
          ],
          "contour": [
           {
            "colorbar": {
             "outlinewidth": 0,
             "ticks": ""
            },
            "colorscale": [
             [
              0,
              "#0d0887"
             ],
             [
              0.1111111111111111,
              "#46039f"
             ],
             [
              0.2222222222222222,
              "#7201a8"
             ],
             [
              0.3333333333333333,
              "#9c179e"
             ],
             [
              0.4444444444444444,
              "#bd3786"
             ],
             [
              0.5555555555555556,
              "#d8576b"
             ],
             [
              0.6666666666666666,
              "#ed7953"
             ],
             [
              0.7777777777777778,
              "#fb9f3a"
             ],
             [
              0.8888888888888888,
              "#fdca26"
             ],
             [
              1,
              "#f0f921"
             ]
            ],
            "type": "contour"
           }
          ],
          "contourcarpet": [
           {
            "colorbar": {
             "outlinewidth": 0,
             "ticks": ""
            },
            "type": "contourcarpet"
           }
          ],
          "heatmap": [
           {
            "colorbar": {
             "outlinewidth": 0,
             "ticks": ""
            },
            "colorscale": [
             [
              0,
              "#0d0887"
             ],
             [
              0.1111111111111111,
              "#46039f"
             ],
             [
              0.2222222222222222,
              "#7201a8"
             ],
             [
              0.3333333333333333,
              "#9c179e"
             ],
             [
              0.4444444444444444,
              "#bd3786"
             ],
             [
              0.5555555555555556,
              "#d8576b"
             ],
             [
              0.6666666666666666,
              "#ed7953"
             ],
             [
              0.7777777777777778,
              "#fb9f3a"
             ],
             [
              0.8888888888888888,
              "#fdca26"
             ],
             [
              1,
              "#f0f921"
             ]
            ],
            "type": "heatmap"
           }
          ],
          "heatmapgl": [
           {
            "colorbar": {
             "outlinewidth": 0,
             "ticks": ""
            },
            "colorscale": [
             [
              0,
              "#0d0887"
             ],
             [
              0.1111111111111111,
              "#46039f"
             ],
             [
              0.2222222222222222,
              "#7201a8"
             ],
             [
              0.3333333333333333,
              "#9c179e"
             ],
             [
              0.4444444444444444,
              "#bd3786"
             ],
             [
              0.5555555555555556,
              "#d8576b"
             ],
             [
              0.6666666666666666,
              "#ed7953"
             ],
             [
              0.7777777777777778,
              "#fb9f3a"
             ],
             [
              0.8888888888888888,
              "#fdca26"
             ],
             [
              1,
              "#f0f921"
             ]
            ],
            "type": "heatmapgl"
           }
          ],
          "histogram": [
           {
            "marker": {
             "pattern": {
              "fillmode": "overlay",
              "size": 10,
              "solidity": 0.2
             }
            },
            "type": "histogram"
           }
          ],
          "histogram2d": [
           {
            "colorbar": {
             "outlinewidth": 0,
             "ticks": ""
            },
            "colorscale": [
             [
              0,
              "#0d0887"
             ],
             [
              0.1111111111111111,
              "#46039f"
             ],
             [
              0.2222222222222222,
              "#7201a8"
             ],
             [
              0.3333333333333333,
              "#9c179e"
             ],
             [
              0.4444444444444444,
              "#bd3786"
             ],
             [
              0.5555555555555556,
              "#d8576b"
             ],
             [
              0.6666666666666666,
              "#ed7953"
             ],
             [
              0.7777777777777778,
              "#fb9f3a"
             ],
             [
              0.8888888888888888,
              "#fdca26"
             ],
             [
              1,
              "#f0f921"
             ]
            ],
            "type": "histogram2d"
           }
          ],
          "histogram2dcontour": [
           {
            "colorbar": {
             "outlinewidth": 0,
             "ticks": ""
            },
            "colorscale": [
             [
              0,
              "#0d0887"
             ],
             [
              0.1111111111111111,
              "#46039f"
             ],
             [
              0.2222222222222222,
              "#7201a8"
             ],
             [
              0.3333333333333333,
              "#9c179e"
             ],
             [
              0.4444444444444444,
              "#bd3786"
             ],
             [
              0.5555555555555556,
              "#d8576b"
             ],
             [
              0.6666666666666666,
              "#ed7953"
             ],
             [
              0.7777777777777778,
              "#fb9f3a"
             ],
             [
              0.8888888888888888,
              "#fdca26"
             ],
             [
              1,
              "#f0f921"
             ]
            ],
            "type": "histogram2dcontour"
           }
          ],
          "mesh3d": [
           {
            "colorbar": {
             "outlinewidth": 0,
             "ticks": ""
            },
            "type": "mesh3d"
           }
          ],
          "parcoords": [
           {
            "line": {
             "colorbar": {
              "outlinewidth": 0,
              "ticks": ""
             }
            },
            "type": "parcoords"
           }
          ],
          "pie": [
           {
            "automargin": true,
            "type": "pie"
           }
          ],
          "scatter": [
           {
            "marker": {
             "colorbar": {
              "outlinewidth": 0,
              "ticks": ""
             }
            },
            "type": "scatter"
           }
          ],
          "scatter3d": [
           {
            "line": {
             "colorbar": {
              "outlinewidth": 0,
              "ticks": ""
             }
            },
            "marker": {
             "colorbar": {
              "outlinewidth": 0,
              "ticks": ""
             }
            },
            "type": "scatter3d"
           }
          ],
          "scattercarpet": [
           {
            "marker": {
             "colorbar": {
              "outlinewidth": 0,
              "ticks": ""
             }
            },
            "type": "scattercarpet"
           }
          ],
          "scattergeo": [
           {
            "marker": {
             "colorbar": {
              "outlinewidth": 0,
              "ticks": ""
             }
            },
            "type": "scattergeo"
           }
          ],
          "scattergl": [
           {
            "marker": {
             "colorbar": {
              "outlinewidth": 0,
              "ticks": ""
             }
            },
            "type": "scattergl"
           }
          ],
          "scattermapbox": [
           {
            "marker": {
             "colorbar": {
              "outlinewidth": 0,
              "ticks": ""
             }
            },
            "type": "scattermapbox"
           }
          ],
          "scatterpolar": [
           {
            "marker": {
             "colorbar": {
              "outlinewidth": 0,
              "ticks": ""
             }
            },
            "type": "scatterpolar"
           }
          ],
          "scatterpolargl": [
           {
            "marker": {
             "colorbar": {
              "outlinewidth": 0,
              "ticks": ""
             }
            },
            "type": "scatterpolargl"
           }
          ],
          "scatterternary": [
           {
            "marker": {
             "colorbar": {
              "outlinewidth": 0,
              "ticks": ""
             }
            },
            "type": "scatterternary"
           }
          ],
          "surface": [
           {
            "colorbar": {
             "outlinewidth": 0,
             "ticks": ""
            },
            "colorscale": [
             [
              0,
              "#0d0887"
             ],
             [
              0.1111111111111111,
              "#46039f"
             ],
             [
              0.2222222222222222,
              "#7201a8"
             ],
             [
              0.3333333333333333,
              "#9c179e"
             ],
             [
              0.4444444444444444,
              "#bd3786"
             ],
             [
              0.5555555555555556,
              "#d8576b"
             ],
             [
              0.6666666666666666,
              "#ed7953"
             ],
             [
              0.7777777777777778,
              "#fb9f3a"
             ],
             [
              0.8888888888888888,
              "#fdca26"
             ],
             [
              1,
              "#f0f921"
             ]
            ],
            "type": "surface"
           }
          ],
          "table": [
           {
            "cells": {
             "fill": {
              "color": "#EBF0F8"
             },
             "line": {
              "color": "white"
             }
            },
            "header": {
             "fill": {
              "color": "#C8D4E3"
             },
             "line": {
              "color": "white"
             }
            },
            "type": "table"
           }
          ]
         },
         "layout": {
          "annotationdefaults": {
           "arrowcolor": "#2a3f5f",
           "arrowhead": 0,
           "arrowwidth": 1
          },
          "autotypenumbers": "strict",
          "coloraxis": {
           "colorbar": {
            "outlinewidth": 0,
            "ticks": ""
           }
          },
          "colorscale": {
           "diverging": [
            [
             0,
             "#8e0152"
            ],
            [
             0.1,
             "#c51b7d"
            ],
            [
             0.2,
             "#de77ae"
            ],
            [
             0.3,
             "#f1b6da"
            ],
            [
             0.4,
             "#fde0ef"
            ],
            [
             0.5,
             "#f7f7f7"
            ],
            [
             0.6,
             "#e6f5d0"
            ],
            [
             0.7,
             "#b8e186"
            ],
            [
             0.8,
             "#7fbc41"
            ],
            [
             0.9,
             "#4d9221"
            ],
            [
             1,
             "#276419"
            ]
           ],
           "sequential": [
            [
             0,
             "#0d0887"
            ],
            [
             0.1111111111111111,
             "#46039f"
            ],
            [
             0.2222222222222222,
             "#7201a8"
            ],
            [
             0.3333333333333333,
             "#9c179e"
            ],
            [
             0.4444444444444444,
             "#bd3786"
            ],
            [
             0.5555555555555556,
             "#d8576b"
            ],
            [
             0.6666666666666666,
             "#ed7953"
            ],
            [
             0.7777777777777778,
             "#fb9f3a"
            ],
            [
             0.8888888888888888,
             "#fdca26"
            ],
            [
             1,
             "#f0f921"
            ]
           ],
           "sequentialminus": [
            [
             0,
             "#0d0887"
            ],
            [
             0.1111111111111111,
             "#46039f"
            ],
            [
             0.2222222222222222,
             "#7201a8"
            ],
            [
             0.3333333333333333,
             "#9c179e"
            ],
            [
             0.4444444444444444,
             "#bd3786"
            ],
            [
             0.5555555555555556,
             "#d8576b"
            ],
            [
             0.6666666666666666,
             "#ed7953"
            ],
            [
             0.7777777777777778,
             "#fb9f3a"
            ],
            [
             0.8888888888888888,
             "#fdca26"
            ],
            [
             1,
             "#f0f921"
            ]
           ]
          },
          "colorway": [
           "#636efa",
           "#EF553B",
           "#00cc96",
           "#ab63fa",
           "#FFA15A",
           "#19d3f3",
           "#FF6692",
           "#B6E880",
           "#FF97FF",
           "#FECB52"
          ],
          "font": {
           "color": "#2a3f5f"
          },
          "geo": {
           "bgcolor": "white",
           "lakecolor": "white",
           "landcolor": "#E5ECF6",
           "showlakes": true,
           "showland": true,
           "subunitcolor": "white"
          },
          "hoverlabel": {
           "align": "left"
          },
          "hovermode": "closest",
          "mapbox": {
           "style": "light"
          },
          "paper_bgcolor": "white",
          "plot_bgcolor": "#E5ECF6",
          "polar": {
           "angularaxis": {
            "gridcolor": "white",
            "linecolor": "white",
            "ticks": ""
           },
           "bgcolor": "#E5ECF6",
           "radialaxis": {
            "gridcolor": "white",
            "linecolor": "white",
            "ticks": ""
           }
          },
          "scene": {
           "xaxis": {
            "backgroundcolor": "#E5ECF6",
            "gridcolor": "white",
            "gridwidth": 2,
            "linecolor": "white",
            "showbackground": true,
            "ticks": "",
            "zerolinecolor": "white"
           },
           "yaxis": {
            "backgroundcolor": "#E5ECF6",
            "gridcolor": "white",
            "gridwidth": 2,
            "linecolor": "white",
            "showbackground": true,
            "ticks": "",
            "zerolinecolor": "white"
           },
           "zaxis": {
            "backgroundcolor": "#E5ECF6",
            "gridcolor": "white",
            "gridwidth": 2,
            "linecolor": "white",
            "showbackground": true,
            "ticks": "",
            "zerolinecolor": "white"
           }
          },
          "shapedefaults": {
           "line": {
            "color": "#2a3f5f"
           }
          },
          "ternary": {
           "aaxis": {
            "gridcolor": "white",
            "linecolor": "white",
            "ticks": ""
           },
           "baxis": {
            "gridcolor": "white",
            "linecolor": "white",
            "ticks": ""
           },
           "bgcolor": "#E5ECF6",
           "caxis": {
            "gridcolor": "white",
            "linecolor": "white",
            "ticks": ""
           }
          },
          "title": {
           "x": 0.05
          },
          "xaxis": {
           "automargin": true,
           "gridcolor": "white",
           "linecolor": "white",
           "ticks": "",
           "title": {
            "standoff": 15
           },
           "zerolinecolor": "white",
           "zerolinewidth": 2
          },
          "yaxis": {
           "automargin": true,
           "gridcolor": "white",
           "linecolor": "white",
           "ticks": "",
           "title": {
            "standoff": 15
           },
           "zerolinecolor": "white",
           "zerolinewidth": 2
          }
         }
        },
        "title": {
         "text": "%Rates"
        },
        "xaxis": {
         "anchor": "y",
         "domain": [
          0,
          1
         ],
         "title": {
          "text": "RatecodeID"
         }
        },
        "yaxis": {
         "anchor": "x",
         "domain": [
          0,
          1
         ],
         "title": {
          "text": "Cantidad"
         }
        }
       }
      }
     },
     "metadata": {},
     "output_type": "display_data"
    }
   ],
   "source": [
    "fig = px.bar(data_frame=data_rate, x=data_rate.index, y=data_rate.values,\n",
    "            labels={'y':'Cantidad'}, title='%Rates')\n",
    "fig.show()"
   ]
  },
  {
   "cell_type": "markdown",
   "metadata": {},
   "source": [
    "!! mal calculado el %Rates"
   ]
  },
  {
   "cell_type": "code",
   "execution_count": 299,
   "metadata": {},
   "outputs": [
    {
     "data": {
      "text/html": [
       "<div>\n",
       "<style scoped>\n",
       "    .dataframe tbody tr th:only-of-type {\n",
       "        vertical-align: middle;\n",
       "    }\n",
       "\n",
       "    .dataframe tbody tr th {\n",
       "        vertical-align: top;\n",
       "    }\n",
       "\n",
       "    .dataframe thead th {\n",
       "        text-align: right;\n",
       "    }\n",
       "</style>\n",
       "<table border=\"1\" class=\"dataframe\">\n",
       "  <thead>\n",
       "    <tr style=\"text-align: right;\">\n",
       "      <th></th>\n",
       "      <th>VendorID</th>\n",
       "      <th>tpep_pickup_datetime</th>\n",
       "      <th>tpep_dropoff_datetime</th>\n",
       "      <th>passenger_count</th>\n",
       "      <th>trip_distance</th>\n",
       "      <th>RatecodeID</th>\n",
       "      <th>store_and_fwd_flag</th>\n",
       "      <th>PULocationID</th>\n",
       "      <th>DOLocationID</th>\n",
       "      <th>payment_type</th>\n",
       "      <th>fare_amount</th>\n",
       "      <th>extra</th>\n",
       "      <th>mta_tax</th>\n",
       "      <th>tip_amount</th>\n",
       "      <th>tolls_amount</th>\n",
       "      <th>improvement_surcharge</th>\n",
       "      <th>total_amount</th>\n",
       "      <th>congestion_surcharge</th>\n",
       "      <th>Tiempo_Viaje_s</th>\n",
       "    </tr>\n",
       "  </thead>\n",
       "  <tbody>\n",
       "    <tr>\n",
       "      <th>0</th>\n",
       "      <td>1</td>\n",
       "      <td>2018-01-01 00:21:05</td>\n",
       "      <td>2018-01-01 00:24:23</td>\n",
       "      <td>1</td>\n",
       "      <td>0.5</td>\n",
       "      <td>1</td>\n",
       "      <td>N</td>\n",
       "      <td>41</td>\n",
       "      <td>24</td>\n",
       "      <td>2</td>\n",
       "      <td>4.5</td>\n",
       "      <td>0.5</td>\n",
       "      <td>0.5</td>\n",
       "      <td>0.00</td>\n",
       "      <td>0.0</td>\n",
       "      <td>0.3</td>\n",
       "      <td>5.80</td>\n",
       "      <td>0.0</td>\n",
       "      <td>198.0</td>\n",
       "    </tr>\n",
       "    <tr>\n",
       "      <th>1</th>\n",
       "      <td>1</td>\n",
       "      <td>2018-01-01 00:44:55</td>\n",
       "      <td>2018-01-01 01:03:05</td>\n",
       "      <td>1</td>\n",
       "      <td>2.7</td>\n",
       "      <td>1</td>\n",
       "      <td>N</td>\n",
       "      <td>239</td>\n",
       "      <td>140</td>\n",
       "      <td>2</td>\n",
       "      <td>14.0</td>\n",
       "      <td>0.5</td>\n",
       "      <td>0.5</td>\n",
       "      <td>0.00</td>\n",
       "      <td>0.0</td>\n",
       "      <td>0.3</td>\n",
       "      <td>15.30</td>\n",
       "      <td>0.0</td>\n",
       "      <td>1090.0</td>\n",
       "    </tr>\n",
       "    <tr>\n",
       "      <th>2</th>\n",
       "      <td>1</td>\n",
       "      <td>2018-01-01 00:08:26</td>\n",
       "      <td>2018-01-01 00:14:21</td>\n",
       "      <td>2</td>\n",
       "      <td>0.8</td>\n",
       "      <td>1</td>\n",
       "      <td>N</td>\n",
       "      <td>262</td>\n",
       "      <td>141</td>\n",
       "      <td>1</td>\n",
       "      <td>6.0</td>\n",
       "      <td>0.5</td>\n",
       "      <td>0.5</td>\n",
       "      <td>1.00</td>\n",
       "      <td>0.0</td>\n",
       "      <td>0.3</td>\n",
       "      <td>8.30</td>\n",
       "      <td>0.0</td>\n",
       "      <td>355.0</td>\n",
       "    </tr>\n",
       "    <tr>\n",
       "      <th>3</th>\n",
       "      <td>1</td>\n",
       "      <td>2018-01-01 00:20:22</td>\n",
       "      <td>2018-01-01 00:52:51</td>\n",
       "      <td>1</td>\n",
       "      <td>10.2</td>\n",
       "      <td>1</td>\n",
       "      <td>N</td>\n",
       "      <td>140</td>\n",
       "      <td>257</td>\n",
       "      <td>2</td>\n",
       "      <td>33.5</td>\n",
       "      <td>0.5</td>\n",
       "      <td>0.5</td>\n",
       "      <td>0.00</td>\n",
       "      <td>0.0</td>\n",
       "      <td>0.3</td>\n",
       "      <td>34.80</td>\n",
       "      <td>0.0</td>\n",
       "      <td>1949.0</td>\n",
       "    </tr>\n",
       "    <tr>\n",
       "      <th>4</th>\n",
       "      <td>1</td>\n",
       "      <td>2018-01-01 00:09:18</td>\n",
       "      <td>2018-01-01 00:27:06</td>\n",
       "      <td>2</td>\n",
       "      <td>2.5</td>\n",
       "      <td>1</td>\n",
       "      <td>N</td>\n",
       "      <td>246</td>\n",
       "      <td>239</td>\n",
       "      <td>1</td>\n",
       "      <td>12.5</td>\n",
       "      <td>0.5</td>\n",
       "      <td>0.5</td>\n",
       "      <td>2.75</td>\n",
       "      <td>0.0</td>\n",
       "      <td>0.3</td>\n",
       "      <td>16.55</td>\n",
       "      <td>0.0</td>\n",
       "      <td>1068.0</td>\n",
       "    </tr>\n",
       "  </tbody>\n",
       "</table>\n",
       "</div>"
      ],
      "text/plain": [
       "   VendorID tpep_pickup_datetime tpep_dropoff_datetime  passenger_count  \\\n",
       "0         1  2018-01-01 00:21:05   2018-01-01 00:24:23                1   \n",
       "1         1  2018-01-01 00:44:55   2018-01-01 01:03:05                1   \n",
       "2         1  2018-01-01 00:08:26   2018-01-01 00:14:21                2   \n",
       "3         1  2018-01-01 00:20:22   2018-01-01 00:52:51                1   \n",
       "4         1  2018-01-01 00:09:18   2018-01-01 00:27:06                2   \n",
       "\n",
       "   trip_distance  RatecodeID store_and_fwd_flag  PULocationID  DOLocationID  \\\n",
       "0            0.5           1                  N            41            24   \n",
       "1            2.7           1                  N           239           140   \n",
       "2            0.8           1                  N           262           141   \n",
       "3           10.2           1                  N           140           257   \n",
       "4            2.5           1                  N           246           239   \n",
       "\n",
       "   payment_type  fare_amount  extra  mta_tax  tip_amount  tolls_amount  \\\n",
       "0             2          4.5    0.5      0.5        0.00           0.0   \n",
       "1             2         14.0    0.5      0.5        0.00           0.0   \n",
       "2             1          6.0    0.5      0.5        1.00           0.0   \n",
       "3             2         33.5    0.5      0.5        0.00           0.0   \n",
       "4             1         12.5    0.5      0.5        2.75           0.0   \n",
       "\n",
       "   improvement_surcharge  total_amount  congestion_surcharge  Tiempo_Viaje_s  \n",
       "0                    0.3          5.80                   0.0           198.0  \n",
       "1                    0.3         15.30                   0.0          1090.0  \n",
       "2                    0.3          8.30                   0.0           355.0  \n",
       "3                    0.3         34.80                   0.0          1949.0  \n",
       "4                    0.3         16.55                   0.0          1068.0  "
      ]
     },
     "execution_count": 299,
     "metadata": {},
     "output_type": "execute_result"
    }
   ],
   "source": [
    "data.head()"
   ]
  },
  {
   "cell_type": "code",
   "execution_count": 300,
   "metadata": {},
   "outputs": [
    {
     "data": {
      "text/plain": [
       "array([ 4.5 , 14.  ,  6.  , ..., 84.08, 49.76, 33.96])"
      ]
     },
     "execution_count": 300,
     "metadata": {},
     "output_type": "execute_result"
    }
   ],
   "source": [
    "data['fare_amount'].unique()"
   ]
  },
  {
   "cell_type": "markdown",
   "metadata": {},
   "source": [
    "## Viajes inter e intra boroughs"
   ]
  },
  {
   "cell_type": "code",
   "execution_count": 301,
   "metadata": {},
   "outputs": [
    {
     "data": {
      "text/html": [
       "<div>\n",
       "<style scoped>\n",
       "    .dataframe tbody tr th:only-of-type {\n",
       "        vertical-align: middle;\n",
       "    }\n",
       "\n",
       "    .dataframe tbody tr th {\n",
       "        vertical-align: top;\n",
       "    }\n",
       "\n",
       "    .dataframe thead th {\n",
       "        text-align: right;\n",
       "    }\n",
       "</style>\n",
       "<table border=\"1\" class=\"dataframe\">\n",
       "  <thead>\n",
       "    <tr style=\"text-align: right;\">\n",
       "      <th></th>\n",
       "      <th>LocationID</th>\n",
       "      <th>Borough</th>\n",
       "      <th>Zone</th>\n",
       "      <th>service_zone</th>\n",
       "    </tr>\n",
       "  </thead>\n",
       "  <tbody>\n",
       "    <tr>\n",
       "      <th>0</th>\n",
       "      <td>1</td>\n",
       "      <td>EWR</td>\n",
       "      <td>Newark Airport</td>\n",
       "      <td>EWR</td>\n",
       "    </tr>\n",
       "    <tr>\n",
       "      <th>1</th>\n",
       "      <td>2</td>\n",
       "      <td>Queens</td>\n",
       "      <td>Jamaica Bay</td>\n",
       "      <td>Boro Zone</td>\n",
       "    </tr>\n",
       "    <tr>\n",
       "      <th>2</th>\n",
       "      <td>3</td>\n",
       "      <td>Bronx</td>\n",
       "      <td>Allerton/Pelham Gardens</td>\n",
       "      <td>Boro Zone</td>\n",
       "    </tr>\n",
       "    <tr>\n",
       "      <th>3</th>\n",
       "      <td>4</td>\n",
       "      <td>Manhattan</td>\n",
       "      <td>Alphabet City</td>\n",
       "      <td>Yellow Zone</td>\n",
       "    </tr>\n",
       "    <tr>\n",
       "      <th>4</th>\n",
       "      <td>5</td>\n",
       "      <td>Staten Island</td>\n",
       "      <td>Arden Heights</td>\n",
       "      <td>Boro Zone</td>\n",
       "    </tr>\n",
       "  </tbody>\n",
       "</table>\n",
       "</div>"
      ],
      "text/plain": [
       "   LocationID        Borough                     Zone service_zone\n",
       "0           1            EWR           Newark Airport          EWR\n",
       "1           2         Queens              Jamaica Bay    Boro Zone\n",
       "2           3          Bronx  Allerton/Pelham Gardens    Boro Zone\n",
       "3           4      Manhattan            Alphabet City  Yellow Zone\n",
       "4           5  Staten Island            Arden Heights    Boro Zone"
      ]
     },
     "execution_count": 301,
     "metadata": {},
     "output_type": "execute_result"
    }
   ],
   "source": [
    "taxi_zone = pd.read_csv('../taxi+_zone_lookup.csv')\n",
    "taxi_zone.head()"
   ]
  },
  {
   "cell_type": "code",
   "execution_count": 302,
   "metadata": {},
   "outputs": [],
   "source": [
    "data_zone = data.merge(taxi_zone, left_on='PULocationID', right_on='LocationID')\n",
    "data_zone.drop(['LocationID','service_zone'], axis=1, inplace=True)\n",
    "data_zone.rename(columns={\"Borough\": \"PUBorough\", \"Zone\": \"PUZone\"}, inplace=True)\n",
    "\n",
    "boroughs_list = ['Manhattan', 'Brooklyn', 'Bronx', 'Queens', 'Staten Island']\n",
    "data_zone = data_zone[data_zone['PUBorough'].isin(boroughs_list)]\n",
    "\n",
    "data_zone = data_zone.merge(taxi_zone, left_on='DOLocationID', right_on='LocationID')\n",
    "data_zone.drop(['LocationID','service_zone'], axis=1, inplace=True)\n",
    "data_zone.rename(columns={\"Borough\": \"DOBorough\", \"Zone\": \"DOZone\"}, inplace=True)"
   ]
  },
  {
   "cell_type": "code",
   "execution_count": 303,
   "metadata": {},
   "outputs": [],
   "source": [
    "data_zone['Tipo_Viaje'] = (data_zone['PUBorough'] == data_zone['DOBorough']).map({True: 'Intra', False: 'Inter'})  "
   ]
  },
  {
   "cell_type": "code",
   "execution_count": 304,
   "metadata": {},
   "outputs": [
    {
     "data": {
      "text/html": [
       "<div>\n",
       "<style scoped>\n",
       "    .dataframe tbody tr th:only-of-type {\n",
       "        vertical-align: middle;\n",
       "    }\n",
       "\n",
       "    .dataframe tbody tr th {\n",
       "        vertical-align: top;\n",
       "    }\n",
       "\n",
       "    .dataframe thead th {\n",
       "        text-align: right;\n",
       "    }\n",
       "</style>\n",
       "<table border=\"1\" class=\"dataframe\">\n",
       "  <thead>\n",
       "    <tr style=\"text-align: right;\">\n",
       "      <th></th>\n",
       "      <th>Tipo_Viaje</th>\n",
       "      <th>Cantidad</th>\n",
       "    </tr>\n",
       "    <tr>\n",
       "      <th>PUBorough</th>\n",
       "      <th></th>\n",
       "      <th></th>\n",
       "    </tr>\n",
       "  </thead>\n",
       "  <tbody>\n",
       "    <tr>\n",
       "      <th>Bronx</th>\n",
       "      <td>Intra</td>\n",
       "      <td>5123</td>\n",
       "    </tr>\n",
       "    <tr>\n",
       "      <th>Bronx</th>\n",
       "      <td>Inter</td>\n",
       "      <td>2266</td>\n",
       "    </tr>\n",
       "    <tr>\n",
       "      <th>Brooklyn</th>\n",
       "      <td>Intra</td>\n",
       "      <td>67286</td>\n",
       "    </tr>\n",
       "    <tr>\n",
       "      <th>Brooklyn</th>\n",
       "      <td>Inter</td>\n",
       "      <td>32971</td>\n",
       "    </tr>\n",
       "    <tr>\n",
       "      <th>Manhattan</th>\n",
       "      <td>Intra</td>\n",
       "      <td>7437887</td>\n",
       "    </tr>\n",
       "    <tr>\n",
       "      <th>Manhattan</th>\n",
       "      <td>Inter</td>\n",
       "      <td>528567</td>\n",
       "    </tr>\n",
       "    <tr>\n",
       "      <th>Queens</th>\n",
       "      <td>Inter</td>\n",
       "      <td>388209</td>\n",
       "    </tr>\n",
       "    <tr>\n",
       "      <th>Queens</th>\n",
       "      <td>Intra</td>\n",
       "      <td>138752</td>\n",
       "    </tr>\n",
       "    <tr>\n",
       "      <th>Staten Island</th>\n",
       "      <td>Intra</td>\n",
       "      <td>124</td>\n",
       "    </tr>\n",
       "    <tr>\n",
       "      <th>Staten Island</th>\n",
       "      <td>Inter</td>\n",
       "      <td>20</td>\n",
       "    </tr>\n",
       "  </tbody>\n",
       "</table>\n",
       "</div>"
      ],
      "text/plain": [
       "              Tipo_Viaje  Cantidad\n",
       "PUBorough                         \n",
       "Bronx              Intra      5123\n",
       "Bronx              Inter      2266\n",
       "Brooklyn           Intra     67286\n",
       "Brooklyn           Inter     32971\n",
       "Manhattan          Intra   7437887\n",
       "Manhattan          Inter    528567\n",
       "Queens             Inter    388209\n",
       "Queens             Intra    138752\n",
       "Staten Island      Intra       124\n",
       "Staten Island      Inter        20"
      ]
     },
     "execution_count": 304,
     "metadata": {},
     "output_type": "execute_result"
    }
   ],
   "source": [
    "df_data_zone = pd.DataFrame(data_zone.groupby('PUBorough')['Tipo_Viaje'].value_counts())\n",
    "df_data_zone.rename(columns={'Tipo_Viaje':'Cantidad'}, inplace=True)\n",
    "df_data_zone.reset_index(level=1, inplace=True)\n",
    "df_data_zone"
   ]
  },
  {
   "cell_type": "code",
   "execution_count": 305,
   "metadata": {},
   "outputs": [
    {
     "data": {
      "application/vnd.plotly.v1+json": {
       "config": {
        "plotlyServerURL": "https://plot.ly"
       },
       "data": [
        {
         "alignmentgroup": "True",
         "hovertemplate": "Tipo_Viaje=Intra<br>PUBorough=%{x}<br>Cantidad=%{y}<extra></extra>",
         "legendgroup": "Intra",
         "marker": {
          "color": "#636efa",
          "pattern": {
           "shape": ""
          }
         },
         "name": "Intra",
         "offsetgroup": "Intra",
         "orientation": "v",
         "showlegend": true,
         "textposition": "auto",
         "type": "bar",
         "x": [
          "Bronx",
          "Brooklyn",
          "Manhattan",
          "Queens",
          "Staten Island"
         ],
         "xaxis": "x",
         "y": [
          5123,
          67286,
          7437887,
          138752,
          124
         ],
         "yaxis": "y"
        },
        {
         "alignmentgroup": "True",
         "hovertemplate": "Tipo_Viaje=Inter<br>PUBorough=%{x}<br>Cantidad=%{y}<extra></extra>",
         "legendgroup": "Inter",
         "marker": {
          "color": "#EF553B",
          "pattern": {
           "shape": ""
          }
         },
         "name": "Inter",
         "offsetgroup": "Inter",
         "orientation": "v",
         "showlegend": true,
         "textposition": "auto",
         "type": "bar",
         "x": [
          "Bronx",
          "Brooklyn",
          "Manhattan",
          "Queens",
          "Staten Island"
         ],
         "xaxis": "x",
         "y": [
          2266,
          32971,
          528567,
          388209,
          20
         ],
         "yaxis": "y"
        }
       ],
       "layout": {
        "barmode": "group",
        "height": 400,
        "legend": {
         "title": {
          "text": "Tipo_Viaje"
         },
         "tracegroupgap": 0
        },
        "template": {
         "data": {
          "bar": [
           {
            "error_x": {
             "color": "#2a3f5f"
            },
            "error_y": {
             "color": "#2a3f5f"
            },
            "marker": {
             "line": {
              "color": "#E5ECF6",
              "width": 0.5
             },
             "pattern": {
              "fillmode": "overlay",
              "size": 10,
              "solidity": 0.2
             }
            },
            "type": "bar"
           }
          ],
          "barpolar": [
           {
            "marker": {
             "line": {
              "color": "#E5ECF6",
              "width": 0.5
             },
             "pattern": {
              "fillmode": "overlay",
              "size": 10,
              "solidity": 0.2
             }
            },
            "type": "barpolar"
           }
          ],
          "carpet": [
           {
            "aaxis": {
             "endlinecolor": "#2a3f5f",
             "gridcolor": "white",
             "linecolor": "white",
             "minorgridcolor": "white",
             "startlinecolor": "#2a3f5f"
            },
            "baxis": {
             "endlinecolor": "#2a3f5f",
             "gridcolor": "white",
             "linecolor": "white",
             "minorgridcolor": "white",
             "startlinecolor": "#2a3f5f"
            },
            "type": "carpet"
           }
          ],
          "choropleth": [
           {
            "colorbar": {
             "outlinewidth": 0,
             "ticks": ""
            },
            "type": "choropleth"
           }
          ],
          "contour": [
           {
            "colorbar": {
             "outlinewidth": 0,
             "ticks": ""
            },
            "colorscale": [
             [
              0,
              "#0d0887"
             ],
             [
              0.1111111111111111,
              "#46039f"
             ],
             [
              0.2222222222222222,
              "#7201a8"
             ],
             [
              0.3333333333333333,
              "#9c179e"
             ],
             [
              0.4444444444444444,
              "#bd3786"
             ],
             [
              0.5555555555555556,
              "#d8576b"
             ],
             [
              0.6666666666666666,
              "#ed7953"
             ],
             [
              0.7777777777777778,
              "#fb9f3a"
             ],
             [
              0.8888888888888888,
              "#fdca26"
             ],
             [
              1,
              "#f0f921"
             ]
            ],
            "type": "contour"
           }
          ],
          "contourcarpet": [
           {
            "colorbar": {
             "outlinewidth": 0,
             "ticks": ""
            },
            "type": "contourcarpet"
           }
          ],
          "heatmap": [
           {
            "colorbar": {
             "outlinewidth": 0,
             "ticks": ""
            },
            "colorscale": [
             [
              0,
              "#0d0887"
             ],
             [
              0.1111111111111111,
              "#46039f"
             ],
             [
              0.2222222222222222,
              "#7201a8"
             ],
             [
              0.3333333333333333,
              "#9c179e"
             ],
             [
              0.4444444444444444,
              "#bd3786"
             ],
             [
              0.5555555555555556,
              "#d8576b"
             ],
             [
              0.6666666666666666,
              "#ed7953"
             ],
             [
              0.7777777777777778,
              "#fb9f3a"
             ],
             [
              0.8888888888888888,
              "#fdca26"
             ],
             [
              1,
              "#f0f921"
             ]
            ],
            "type": "heatmap"
           }
          ],
          "heatmapgl": [
           {
            "colorbar": {
             "outlinewidth": 0,
             "ticks": ""
            },
            "colorscale": [
             [
              0,
              "#0d0887"
             ],
             [
              0.1111111111111111,
              "#46039f"
             ],
             [
              0.2222222222222222,
              "#7201a8"
             ],
             [
              0.3333333333333333,
              "#9c179e"
             ],
             [
              0.4444444444444444,
              "#bd3786"
             ],
             [
              0.5555555555555556,
              "#d8576b"
             ],
             [
              0.6666666666666666,
              "#ed7953"
             ],
             [
              0.7777777777777778,
              "#fb9f3a"
             ],
             [
              0.8888888888888888,
              "#fdca26"
             ],
             [
              1,
              "#f0f921"
             ]
            ],
            "type": "heatmapgl"
           }
          ],
          "histogram": [
           {
            "marker": {
             "pattern": {
              "fillmode": "overlay",
              "size": 10,
              "solidity": 0.2
             }
            },
            "type": "histogram"
           }
          ],
          "histogram2d": [
           {
            "colorbar": {
             "outlinewidth": 0,
             "ticks": ""
            },
            "colorscale": [
             [
              0,
              "#0d0887"
             ],
             [
              0.1111111111111111,
              "#46039f"
             ],
             [
              0.2222222222222222,
              "#7201a8"
             ],
             [
              0.3333333333333333,
              "#9c179e"
             ],
             [
              0.4444444444444444,
              "#bd3786"
             ],
             [
              0.5555555555555556,
              "#d8576b"
             ],
             [
              0.6666666666666666,
              "#ed7953"
             ],
             [
              0.7777777777777778,
              "#fb9f3a"
             ],
             [
              0.8888888888888888,
              "#fdca26"
             ],
             [
              1,
              "#f0f921"
             ]
            ],
            "type": "histogram2d"
           }
          ],
          "histogram2dcontour": [
           {
            "colorbar": {
             "outlinewidth": 0,
             "ticks": ""
            },
            "colorscale": [
             [
              0,
              "#0d0887"
             ],
             [
              0.1111111111111111,
              "#46039f"
             ],
             [
              0.2222222222222222,
              "#7201a8"
             ],
             [
              0.3333333333333333,
              "#9c179e"
             ],
             [
              0.4444444444444444,
              "#bd3786"
             ],
             [
              0.5555555555555556,
              "#d8576b"
             ],
             [
              0.6666666666666666,
              "#ed7953"
             ],
             [
              0.7777777777777778,
              "#fb9f3a"
             ],
             [
              0.8888888888888888,
              "#fdca26"
             ],
             [
              1,
              "#f0f921"
             ]
            ],
            "type": "histogram2dcontour"
           }
          ],
          "mesh3d": [
           {
            "colorbar": {
             "outlinewidth": 0,
             "ticks": ""
            },
            "type": "mesh3d"
           }
          ],
          "parcoords": [
           {
            "line": {
             "colorbar": {
              "outlinewidth": 0,
              "ticks": ""
             }
            },
            "type": "parcoords"
           }
          ],
          "pie": [
           {
            "automargin": true,
            "type": "pie"
           }
          ],
          "scatter": [
           {
            "marker": {
             "colorbar": {
              "outlinewidth": 0,
              "ticks": ""
             }
            },
            "type": "scatter"
           }
          ],
          "scatter3d": [
           {
            "line": {
             "colorbar": {
              "outlinewidth": 0,
              "ticks": ""
             }
            },
            "marker": {
             "colorbar": {
              "outlinewidth": 0,
              "ticks": ""
             }
            },
            "type": "scatter3d"
           }
          ],
          "scattercarpet": [
           {
            "marker": {
             "colorbar": {
              "outlinewidth": 0,
              "ticks": ""
             }
            },
            "type": "scattercarpet"
           }
          ],
          "scattergeo": [
           {
            "marker": {
             "colorbar": {
              "outlinewidth": 0,
              "ticks": ""
             }
            },
            "type": "scattergeo"
           }
          ],
          "scattergl": [
           {
            "marker": {
             "colorbar": {
              "outlinewidth": 0,
              "ticks": ""
             }
            },
            "type": "scattergl"
           }
          ],
          "scattermapbox": [
           {
            "marker": {
             "colorbar": {
              "outlinewidth": 0,
              "ticks": ""
             }
            },
            "type": "scattermapbox"
           }
          ],
          "scatterpolar": [
           {
            "marker": {
             "colorbar": {
              "outlinewidth": 0,
              "ticks": ""
             }
            },
            "type": "scatterpolar"
           }
          ],
          "scatterpolargl": [
           {
            "marker": {
             "colorbar": {
              "outlinewidth": 0,
              "ticks": ""
             }
            },
            "type": "scatterpolargl"
           }
          ],
          "scatterternary": [
           {
            "marker": {
             "colorbar": {
              "outlinewidth": 0,
              "ticks": ""
             }
            },
            "type": "scatterternary"
           }
          ],
          "surface": [
           {
            "colorbar": {
             "outlinewidth": 0,
             "ticks": ""
            },
            "colorscale": [
             [
              0,
              "#0d0887"
             ],
             [
              0.1111111111111111,
              "#46039f"
             ],
             [
              0.2222222222222222,
              "#7201a8"
             ],
             [
              0.3333333333333333,
              "#9c179e"
             ],
             [
              0.4444444444444444,
              "#bd3786"
             ],
             [
              0.5555555555555556,
              "#d8576b"
             ],
             [
              0.6666666666666666,
              "#ed7953"
             ],
             [
              0.7777777777777778,
              "#fb9f3a"
             ],
             [
              0.8888888888888888,
              "#fdca26"
             ],
             [
              1,
              "#f0f921"
             ]
            ],
            "type": "surface"
           }
          ],
          "table": [
           {
            "cells": {
             "fill": {
              "color": "#EBF0F8"
             },
             "line": {
              "color": "white"
             }
            },
            "header": {
             "fill": {
              "color": "#C8D4E3"
             },
             "line": {
              "color": "white"
             }
            },
            "type": "table"
           }
          ]
         },
         "layout": {
          "annotationdefaults": {
           "arrowcolor": "#2a3f5f",
           "arrowhead": 0,
           "arrowwidth": 1
          },
          "autotypenumbers": "strict",
          "coloraxis": {
           "colorbar": {
            "outlinewidth": 0,
            "ticks": ""
           }
          },
          "colorscale": {
           "diverging": [
            [
             0,
             "#8e0152"
            ],
            [
             0.1,
             "#c51b7d"
            ],
            [
             0.2,
             "#de77ae"
            ],
            [
             0.3,
             "#f1b6da"
            ],
            [
             0.4,
             "#fde0ef"
            ],
            [
             0.5,
             "#f7f7f7"
            ],
            [
             0.6,
             "#e6f5d0"
            ],
            [
             0.7,
             "#b8e186"
            ],
            [
             0.8,
             "#7fbc41"
            ],
            [
             0.9,
             "#4d9221"
            ],
            [
             1,
             "#276419"
            ]
           ],
           "sequential": [
            [
             0,
             "#0d0887"
            ],
            [
             0.1111111111111111,
             "#46039f"
            ],
            [
             0.2222222222222222,
             "#7201a8"
            ],
            [
             0.3333333333333333,
             "#9c179e"
            ],
            [
             0.4444444444444444,
             "#bd3786"
            ],
            [
             0.5555555555555556,
             "#d8576b"
            ],
            [
             0.6666666666666666,
             "#ed7953"
            ],
            [
             0.7777777777777778,
             "#fb9f3a"
            ],
            [
             0.8888888888888888,
             "#fdca26"
            ],
            [
             1,
             "#f0f921"
            ]
           ],
           "sequentialminus": [
            [
             0,
             "#0d0887"
            ],
            [
             0.1111111111111111,
             "#46039f"
            ],
            [
             0.2222222222222222,
             "#7201a8"
            ],
            [
             0.3333333333333333,
             "#9c179e"
            ],
            [
             0.4444444444444444,
             "#bd3786"
            ],
            [
             0.5555555555555556,
             "#d8576b"
            ],
            [
             0.6666666666666666,
             "#ed7953"
            ],
            [
             0.7777777777777778,
             "#fb9f3a"
            ],
            [
             0.8888888888888888,
             "#fdca26"
            ],
            [
             1,
             "#f0f921"
            ]
           ]
          },
          "colorway": [
           "#636efa",
           "#EF553B",
           "#00cc96",
           "#ab63fa",
           "#FFA15A",
           "#19d3f3",
           "#FF6692",
           "#B6E880",
           "#FF97FF",
           "#FECB52"
          ],
          "font": {
           "color": "#2a3f5f"
          },
          "geo": {
           "bgcolor": "white",
           "lakecolor": "white",
           "landcolor": "#E5ECF6",
           "showlakes": true,
           "showland": true,
           "subunitcolor": "white"
          },
          "hoverlabel": {
           "align": "left"
          },
          "hovermode": "closest",
          "mapbox": {
           "style": "light"
          },
          "paper_bgcolor": "white",
          "plot_bgcolor": "#E5ECF6",
          "polar": {
           "angularaxis": {
            "gridcolor": "white",
            "linecolor": "white",
            "ticks": ""
           },
           "bgcolor": "#E5ECF6",
           "radialaxis": {
            "gridcolor": "white",
            "linecolor": "white",
            "ticks": ""
           }
          },
          "scene": {
           "xaxis": {
            "backgroundcolor": "#E5ECF6",
            "gridcolor": "white",
            "gridwidth": 2,
            "linecolor": "white",
            "showbackground": true,
            "ticks": "",
            "zerolinecolor": "white"
           },
           "yaxis": {
            "backgroundcolor": "#E5ECF6",
            "gridcolor": "white",
            "gridwidth": 2,
            "linecolor": "white",
            "showbackground": true,
            "ticks": "",
            "zerolinecolor": "white"
           },
           "zaxis": {
            "backgroundcolor": "#E5ECF6",
            "gridcolor": "white",
            "gridwidth": 2,
            "linecolor": "white",
            "showbackground": true,
            "ticks": "",
            "zerolinecolor": "white"
           }
          },
          "shapedefaults": {
           "line": {
            "color": "#2a3f5f"
           }
          },
          "ternary": {
           "aaxis": {
            "gridcolor": "white",
            "linecolor": "white",
            "ticks": ""
           },
           "baxis": {
            "gridcolor": "white",
            "linecolor": "white",
            "ticks": ""
           },
           "bgcolor": "#E5ECF6",
           "caxis": {
            "gridcolor": "white",
            "linecolor": "white",
            "ticks": ""
           }
          },
          "title": {
           "x": 0.05
          },
          "xaxis": {
           "automargin": true,
           "gridcolor": "white",
           "linecolor": "white",
           "ticks": "",
           "title": {
            "standoff": 15
           },
           "zerolinecolor": "white",
           "zerolinewidth": 2
          },
          "yaxis": {
           "automargin": true,
           "gridcolor": "white",
           "linecolor": "white",
           "ticks": "",
           "title": {
            "standoff": 15
           },
           "zerolinecolor": "white",
           "zerolinewidth": 2
          }
         }
        },
        "title": {
         "text": "Viajes intra e inter"
        },
        "xaxis": {
         "anchor": "y",
         "domain": [
          0,
          1
         ],
         "title": {
          "text": "PUBorough"
         }
        },
        "yaxis": {
         "anchor": "x",
         "domain": [
          0,
          1
         ],
         "range": [
          0,
          1000000
         ],
         "title": {
          "text": "Cantidad"
         }
        }
       }
      }
     },
     "metadata": {},
     "output_type": "display_data"
    }
   ],
   "source": [
    "fig = px.bar(df_data_zone, x=df_data_zone.index, y='Cantidad',\n",
    "                    color='Tipo_Viaje', barmode='group', height=400,\n",
    "                    title='Viajes intra e inter')\n",
    "fig.update_yaxes(range = [0,1000000])\n",
    "fig.show()"
   ]
  },
  {
   "cell_type": "markdown",
   "metadata": {},
   "source": [
    "## Cantidad de viajes por Borough"
   ]
  },
  {
   "cell_type": "code",
   "execution_count": 306,
   "metadata": {},
   "outputs": [
    {
     "data": {
      "text/plain": [
       "PUBorough\n",
       "Manhattan        7966454\n",
       "Queens            526961\n",
       "Brooklyn          100257\n",
       "Bronx               7389\n",
       "Staten Island        144\n",
       "Name: PUBorough, dtype: int64"
      ]
     },
     "execution_count": 306,
     "metadata": {},
     "output_type": "execute_result"
    }
   ],
   "source": [
    "data_zone_trips = data_zone.groupby('PUBorough')['PUBorough'].count().sort_values(ascending=False)\n",
    "data_zone_trips"
   ]
  },
  {
   "cell_type": "code",
   "execution_count": 307,
   "metadata": {},
   "outputs": [
    {
     "data": {
      "application/vnd.plotly.v1+json": {
       "config": {
        "plotlyServerURL": "https://plot.ly"
       },
       "data": [
        {
         "alignmentgroup": "True",
         "hovertemplate": "Boroughs=%{x}<br>Cantidad=%{y}<extra></extra>",
         "legendgroup": "",
         "marker": {
          "color": "#636efa",
          "pattern": {
           "shape": ""
          }
         },
         "name": "",
         "offsetgroup": "",
         "orientation": "v",
         "showlegend": false,
         "textposition": "auto",
         "type": "bar",
         "x": [
          "Manhattan",
          "Queens",
          "Brooklyn",
          "Bronx",
          "Staten Island"
         ],
         "xaxis": "x",
         "y": [
          7966454,
          526961,
          100257,
          7389,
          144
         ],
         "yaxis": "y"
        }
       ],
       "layout": {
        "barmode": "relative",
        "legend": {
         "tracegroupgap": 0
        },
        "template": {
         "data": {
          "bar": [
           {
            "error_x": {
             "color": "#2a3f5f"
            },
            "error_y": {
             "color": "#2a3f5f"
            },
            "marker": {
             "line": {
              "color": "#E5ECF6",
              "width": 0.5
             },
             "pattern": {
              "fillmode": "overlay",
              "size": 10,
              "solidity": 0.2
             }
            },
            "type": "bar"
           }
          ],
          "barpolar": [
           {
            "marker": {
             "line": {
              "color": "#E5ECF6",
              "width": 0.5
             },
             "pattern": {
              "fillmode": "overlay",
              "size": 10,
              "solidity": 0.2
             }
            },
            "type": "barpolar"
           }
          ],
          "carpet": [
           {
            "aaxis": {
             "endlinecolor": "#2a3f5f",
             "gridcolor": "white",
             "linecolor": "white",
             "minorgridcolor": "white",
             "startlinecolor": "#2a3f5f"
            },
            "baxis": {
             "endlinecolor": "#2a3f5f",
             "gridcolor": "white",
             "linecolor": "white",
             "minorgridcolor": "white",
             "startlinecolor": "#2a3f5f"
            },
            "type": "carpet"
           }
          ],
          "choropleth": [
           {
            "colorbar": {
             "outlinewidth": 0,
             "ticks": ""
            },
            "type": "choropleth"
           }
          ],
          "contour": [
           {
            "colorbar": {
             "outlinewidth": 0,
             "ticks": ""
            },
            "colorscale": [
             [
              0,
              "#0d0887"
             ],
             [
              0.1111111111111111,
              "#46039f"
             ],
             [
              0.2222222222222222,
              "#7201a8"
             ],
             [
              0.3333333333333333,
              "#9c179e"
             ],
             [
              0.4444444444444444,
              "#bd3786"
             ],
             [
              0.5555555555555556,
              "#d8576b"
             ],
             [
              0.6666666666666666,
              "#ed7953"
             ],
             [
              0.7777777777777778,
              "#fb9f3a"
             ],
             [
              0.8888888888888888,
              "#fdca26"
             ],
             [
              1,
              "#f0f921"
             ]
            ],
            "type": "contour"
           }
          ],
          "contourcarpet": [
           {
            "colorbar": {
             "outlinewidth": 0,
             "ticks": ""
            },
            "type": "contourcarpet"
           }
          ],
          "heatmap": [
           {
            "colorbar": {
             "outlinewidth": 0,
             "ticks": ""
            },
            "colorscale": [
             [
              0,
              "#0d0887"
             ],
             [
              0.1111111111111111,
              "#46039f"
             ],
             [
              0.2222222222222222,
              "#7201a8"
             ],
             [
              0.3333333333333333,
              "#9c179e"
             ],
             [
              0.4444444444444444,
              "#bd3786"
             ],
             [
              0.5555555555555556,
              "#d8576b"
             ],
             [
              0.6666666666666666,
              "#ed7953"
             ],
             [
              0.7777777777777778,
              "#fb9f3a"
             ],
             [
              0.8888888888888888,
              "#fdca26"
             ],
             [
              1,
              "#f0f921"
             ]
            ],
            "type": "heatmap"
           }
          ],
          "heatmapgl": [
           {
            "colorbar": {
             "outlinewidth": 0,
             "ticks": ""
            },
            "colorscale": [
             [
              0,
              "#0d0887"
             ],
             [
              0.1111111111111111,
              "#46039f"
             ],
             [
              0.2222222222222222,
              "#7201a8"
             ],
             [
              0.3333333333333333,
              "#9c179e"
             ],
             [
              0.4444444444444444,
              "#bd3786"
             ],
             [
              0.5555555555555556,
              "#d8576b"
             ],
             [
              0.6666666666666666,
              "#ed7953"
             ],
             [
              0.7777777777777778,
              "#fb9f3a"
             ],
             [
              0.8888888888888888,
              "#fdca26"
             ],
             [
              1,
              "#f0f921"
             ]
            ],
            "type": "heatmapgl"
           }
          ],
          "histogram": [
           {
            "marker": {
             "pattern": {
              "fillmode": "overlay",
              "size": 10,
              "solidity": 0.2
             }
            },
            "type": "histogram"
           }
          ],
          "histogram2d": [
           {
            "colorbar": {
             "outlinewidth": 0,
             "ticks": ""
            },
            "colorscale": [
             [
              0,
              "#0d0887"
             ],
             [
              0.1111111111111111,
              "#46039f"
             ],
             [
              0.2222222222222222,
              "#7201a8"
             ],
             [
              0.3333333333333333,
              "#9c179e"
             ],
             [
              0.4444444444444444,
              "#bd3786"
             ],
             [
              0.5555555555555556,
              "#d8576b"
             ],
             [
              0.6666666666666666,
              "#ed7953"
             ],
             [
              0.7777777777777778,
              "#fb9f3a"
             ],
             [
              0.8888888888888888,
              "#fdca26"
             ],
             [
              1,
              "#f0f921"
             ]
            ],
            "type": "histogram2d"
           }
          ],
          "histogram2dcontour": [
           {
            "colorbar": {
             "outlinewidth": 0,
             "ticks": ""
            },
            "colorscale": [
             [
              0,
              "#0d0887"
             ],
             [
              0.1111111111111111,
              "#46039f"
             ],
             [
              0.2222222222222222,
              "#7201a8"
             ],
             [
              0.3333333333333333,
              "#9c179e"
             ],
             [
              0.4444444444444444,
              "#bd3786"
             ],
             [
              0.5555555555555556,
              "#d8576b"
             ],
             [
              0.6666666666666666,
              "#ed7953"
             ],
             [
              0.7777777777777778,
              "#fb9f3a"
             ],
             [
              0.8888888888888888,
              "#fdca26"
             ],
             [
              1,
              "#f0f921"
             ]
            ],
            "type": "histogram2dcontour"
           }
          ],
          "mesh3d": [
           {
            "colorbar": {
             "outlinewidth": 0,
             "ticks": ""
            },
            "type": "mesh3d"
           }
          ],
          "parcoords": [
           {
            "line": {
             "colorbar": {
              "outlinewidth": 0,
              "ticks": ""
             }
            },
            "type": "parcoords"
           }
          ],
          "pie": [
           {
            "automargin": true,
            "type": "pie"
           }
          ],
          "scatter": [
           {
            "marker": {
             "colorbar": {
              "outlinewidth": 0,
              "ticks": ""
             }
            },
            "type": "scatter"
           }
          ],
          "scatter3d": [
           {
            "line": {
             "colorbar": {
              "outlinewidth": 0,
              "ticks": ""
             }
            },
            "marker": {
             "colorbar": {
              "outlinewidth": 0,
              "ticks": ""
             }
            },
            "type": "scatter3d"
           }
          ],
          "scattercarpet": [
           {
            "marker": {
             "colorbar": {
              "outlinewidth": 0,
              "ticks": ""
             }
            },
            "type": "scattercarpet"
           }
          ],
          "scattergeo": [
           {
            "marker": {
             "colorbar": {
              "outlinewidth": 0,
              "ticks": ""
             }
            },
            "type": "scattergeo"
           }
          ],
          "scattergl": [
           {
            "marker": {
             "colorbar": {
              "outlinewidth": 0,
              "ticks": ""
             }
            },
            "type": "scattergl"
           }
          ],
          "scattermapbox": [
           {
            "marker": {
             "colorbar": {
              "outlinewidth": 0,
              "ticks": ""
             }
            },
            "type": "scattermapbox"
           }
          ],
          "scatterpolar": [
           {
            "marker": {
             "colorbar": {
              "outlinewidth": 0,
              "ticks": ""
             }
            },
            "type": "scatterpolar"
           }
          ],
          "scatterpolargl": [
           {
            "marker": {
             "colorbar": {
              "outlinewidth": 0,
              "ticks": ""
             }
            },
            "type": "scatterpolargl"
           }
          ],
          "scatterternary": [
           {
            "marker": {
             "colorbar": {
              "outlinewidth": 0,
              "ticks": ""
             }
            },
            "type": "scatterternary"
           }
          ],
          "surface": [
           {
            "colorbar": {
             "outlinewidth": 0,
             "ticks": ""
            },
            "colorscale": [
             [
              0,
              "#0d0887"
             ],
             [
              0.1111111111111111,
              "#46039f"
             ],
             [
              0.2222222222222222,
              "#7201a8"
             ],
             [
              0.3333333333333333,
              "#9c179e"
             ],
             [
              0.4444444444444444,
              "#bd3786"
             ],
             [
              0.5555555555555556,
              "#d8576b"
             ],
             [
              0.6666666666666666,
              "#ed7953"
             ],
             [
              0.7777777777777778,
              "#fb9f3a"
             ],
             [
              0.8888888888888888,
              "#fdca26"
             ],
             [
              1,
              "#f0f921"
             ]
            ],
            "type": "surface"
           }
          ],
          "table": [
           {
            "cells": {
             "fill": {
              "color": "#EBF0F8"
             },
             "line": {
              "color": "white"
             }
            },
            "header": {
             "fill": {
              "color": "#C8D4E3"
             },
             "line": {
              "color": "white"
             }
            },
            "type": "table"
           }
          ]
         },
         "layout": {
          "annotationdefaults": {
           "arrowcolor": "#2a3f5f",
           "arrowhead": 0,
           "arrowwidth": 1
          },
          "autotypenumbers": "strict",
          "coloraxis": {
           "colorbar": {
            "outlinewidth": 0,
            "ticks": ""
           }
          },
          "colorscale": {
           "diverging": [
            [
             0,
             "#8e0152"
            ],
            [
             0.1,
             "#c51b7d"
            ],
            [
             0.2,
             "#de77ae"
            ],
            [
             0.3,
             "#f1b6da"
            ],
            [
             0.4,
             "#fde0ef"
            ],
            [
             0.5,
             "#f7f7f7"
            ],
            [
             0.6,
             "#e6f5d0"
            ],
            [
             0.7,
             "#b8e186"
            ],
            [
             0.8,
             "#7fbc41"
            ],
            [
             0.9,
             "#4d9221"
            ],
            [
             1,
             "#276419"
            ]
           ],
           "sequential": [
            [
             0,
             "#0d0887"
            ],
            [
             0.1111111111111111,
             "#46039f"
            ],
            [
             0.2222222222222222,
             "#7201a8"
            ],
            [
             0.3333333333333333,
             "#9c179e"
            ],
            [
             0.4444444444444444,
             "#bd3786"
            ],
            [
             0.5555555555555556,
             "#d8576b"
            ],
            [
             0.6666666666666666,
             "#ed7953"
            ],
            [
             0.7777777777777778,
             "#fb9f3a"
            ],
            [
             0.8888888888888888,
             "#fdca26"
            ],
            [
             1,
             "#f0f921"
            ]
           ],
           "sequentialminus": [
            [
             0,
             "#0d0887"
            ],
            [
             0.1111111111111111,
             "#46039f"
            ],
            [
             0.2222222222222222,
             "#7201a8"
            ],
            [
             0.3333333333333333,
             "#9c179e"
            ],
            [
             0.4444444444444444,
             "#bd3786"
            ],
            [
             0.5555555555555556,
             "#d8576b"
            ],
            [
             0.6666666666666666,
             "#ed7953"
            ],
            [
             0.7777777777777778,
             "#fb9f3a"
            ],
            [
             0.8888888888888888,
             "#fdca26"
            ],
            [
             1,
             "#f0f921"
            ]
           ]
          },
          "colorway": [
           "#636efa",
           "#EF553B",
           "#00cc96",
           "#ab63fa",
           "#FFA15A",
           "#19d3f3",
           "#FF6692",
           "#B6E880",
           "#FF97FF",
           "#FECB52"
          ],
          "font": {
           "color": "#2a3f5f"
          },
          "geo": {
           "bgcolor": "white",
           "lakecolor": "white",
           "landcolor": "#E5ECF6",
           "showlakes": true,
           "showland": true,
           "subunitcolor": "white"
          },
          "hoverlabel": {
           "align": "left"
          },
          "hovermode": "closest",
          "mapbox": {
           "style": "light"
          },
          "paper_bgcolor": "white",
          "plot_bgcolor": "#E5ECF6",
          "polar": {
           "angularaxis": {
            "gridcolor": "white",
            "linecolor": "white",
            "ticks": ""
           },
           "bgcolor": "#E5ECF6",
           "radialaxis": {
            "gridcolor": "white",
            "linecolor": "white",
            "ticks": ""
           }
          },
          "scene": {
           "xaxis": {
            "backgroundcolor": "#E5ECF6",
            "gridcolor": "white",
            "gridwidth": 2,
            "linecolor": "white",
            "showbackground": true,
            "ticks": "",
            "zerolinecolor": "white"
           },
           "yaxis": {
            "backgroundcolor": "#E5ECF6",
            "gridcolor": "white",
            "gridwidth": 2,
            "linecolor": "white",
            "showbackground": true,
            "ticks": "",
            "zerolinecolor": "white"
           },
           "zaxis": {
            "backgroundcolor": "#E5ECF6",
            "gridcolor": "white",
            "gridwidth": 2,
            "linecolor": "white",
            "showbackground": true,
            "ticks": "",
            "zerolinecolor": "white"
           }
          },
          "shapedefaults": {
           "line": {
            "color": "#2a3f5f"
           }
          },
          "ternary": {
           "aaxis": {
            "gridcolor": "white",
            "linecolor": "white",
            "ticks": ""
           },
           "baxis": {
            "gridcolor": "white",
            "linecolor": "white",
            "ticks": ""
           },
           "bgcolor": "#E5ECF6",
           "caxis": {
            "gridcolor": "white",
            "linecolor": "white",
            "ticks": ""
           }
          },
          "title": {
           "x": 0.05
          },
          "xaxis": {
           "automargin": true,
           "gridcolor": "white",
           "linecolor": "white",
           "ticks": "",
           "title": {
            "standoff": 15
           },
           "zerolinecolor": "white",
           "zerolinewidth": 2
          },
          "yaxis": {
           "automargin": true,
           "gridcolor": "white",
           "linecolor": "white",
           "ticks": "",
           "title": {
            "standoff": 15
           },
           "zerolinecolor": "white",
           "zerolinewidth": 2
          }
         }
        },
        "title": {
         "text": "Cantiad de viajes por boroughs"
        },
        "xaxis": {
         "anchor": "y",
         "domain": [
          0,
          1
         ],
         "title": {
          "text": "Boroughs"
         }
        },
        "yaxis": {
         "anchor": "x",
         "domain": [
          0,
          1
         ],
         "title": {
          "text": "Cantidad"
         }
        }
       }
      }
     },
     "metadata": {},
     "output_type": "display_data"
    }
   ],
   "source": [
    "fig = px.bar(data_zone_trips, x=data_zone_trips.index, y=data_zone_trips.values,\n",
    "            labels={'index':'Boroughs', 'y':'Cantidad'}, title='Cantiad de viajes por boroughs')\n",
    "fig.show()"
   ]
  },
  {
   "cell_type": "markdown",
   "metadata": {},
   "source": [
    "## % payments types"
   ]
  },
  {
   "cell_type": "code",
   "execution_count": 308,
   "metadata": {},
   "outputs": [
    {
     "data": {
      "text/html": [
       "<div>\n",
       "<style scoped>\n",
       "    .dataframe tbody tr th:only-of-type {\n",
       "        vertical-align: middle;\n",
       "    }\n",
       "\n",
       "    .dataframe tbody tr th {\n",
       "        vertical-align: top;\n",
       "    }\n",
       "\n",
       "    .dataframe thead th {\n",
       "        text-align: right;\n",
       "    }\n",
       "</style>\n",
       "<table border=\"1\" class=\"dataframe\">\n",
       "  <thead>\n",
       "    <tr style=\"text-align: right;\">\n",
       "      <th></th>\n",
       "      <th>Porcentaje</th>\n",
       "    </tr>\n",
       "  </thead>\n",
       "  <tbody>\n",
       "    <tr>\n",
       "      <th>Credit card</th>\n",
       "      <td>69.702479</td>\n",
       "    </tr>\n",
       "    <tr>\n",
       "      <th>Cash</th>\n",
       "      <td>29.669077</td>\n",
       "    </tr>\n",
       "    <tr>\n",
       "      <th>No charge</th>\n",
       "      <td>0.493158</td>\n",
       "    </tr>\n",
       "    <tr>\n",
       "      <th>Dispute</th>\n",
       "      <td>0.135286</td>\n",
       "    </tr>\n",
       "  </tbody>\n",
       "</table>\n",
       "</div>"
      ],
      "text/plain": [
       "             Porcentaje\n",
       "Credit card   69.702479\n",
       "Cash          29.669077\n",
       "No charge      0.493158\n",
       "Dispute        0.135286"
      ]
     },
     "execution_count": 308,
     "metadata": {},
     "output_type": "execute_result"
    }
   ],
   "source": [
    "data_payment_type = pd.DataFrame(data.groupby('payment_type')['payment_type'].count() / data.shape[0] * 100)\n",
    "data_payment_type.columns = ['Porcentaje']\n",
    "data_payment_type.index = ['Credit card', 'Cash', 'No charge', 'Dispute']\n",
    "data_payment_type"
   ]
  },
  {
   "cell_type": "code",
   "execution_count": 309,
   "metadata": {},
   "outputs": [
    {
     "data": {
      "application/vnd.plotly.v1+json": {
       "config": {
        "plotlyServerURL": "https://plot.ly"
       },
       "data": [
        {
         "alignmentgroup": "True",
         "hovertemplate": "Tipo de pago=%{x}<br>Porcentaje=%{y}<extra></extra>",
         "legendgroup": "",
         "marker": {
          "color": "#636efa",
          "pattern": {
           "shape": ""
          }
         },
         "name": "",
         "offsetgroup": "",
         "orientation": "v",
         "showlegend": false,
         "textposition": "auto",
         "type": "bar",
         "x": [
          "Credit card",
          "Cash",
          "No charge",
          "Dispute"
         ],
         "xaxis": "x",
         "y": [
          69.7024788124493,
          29.669077322360675,
          0.49315767131048055,
          0.13528619387954394
         ],
         "yaxis": "y"
        }
       ],
       "layout": {
        "barmode": "relative",
        "legend": {
         "tracegroupgap": 0
        },
        "template": {
         "data": {
          "bar": [
           {
            "error_x": {
             "color": "#2a3f5f"
            },
            "error_y": {
             "color": "#2a3f5f"
            },
            "marker": {
             "line": {
              "color": "#E5ECF6",
              "width": 0.5
             },
             "pattern": {
              "fillmode": "overlay",
              "size": 10,
              "solidity": 0.2
             }
            },
            "type": "bar"
           }
          ],
          "barpolar": [
           {
            "marker": {
             "line": {
              "color": "#E5ECF6",
              "width": 0.5
             },
             "pattern": {
              "fillmode": "overlay",
              "size": 10,
              "solidity": 0.2
             }
            },
            "type": "barpolar"
           }
          ],
          "carpet": [
           {
            "aaxis": {
             "endlinecolor": "#2a3f5f",
             "gridcolor": "white",
             "linecolor": "white",
             "minorgridcolor": "white",
             "startlinecolor": "#2a3f5f"
            },
            "baxis": {
             "endlinecolor": "#2a3f5f",
             "gridcolor": "white",
             "linecolor": "white",
             "minorgridcolor": "white",
             "startlinecolor": "#2a3f5f"
            },
            "type": "carpet"
           }
          ],
          "choropleth": [
           {
            "colorbar": {
             "outlinewidth": 0,
             "ticks": ""
            },
            "type": "choropleth"
           }
          ],
          "contour": [
           {
            "colorbar": {
             "outlinewidth": 0,
             "ticks": ""
            },
            "colorscale": [
             [
              0,
              "#0d0887"
             ],
             [
              0.1111111111111111,
              "#46039f"
             ],
             [
              0.2222222222222222,
              "#7201a8"
             ],
             [
              0.3333333333333333,
              "#9c179e"
             ],
             [
              0.4444444444444444,
              "#bd3786"
             ],
             [
              0.5555555555555556,
              "#d8576b"
             ],
             [
              0.6666666666666666,
              "#ed7953"
             ],
             [
              0.7777777777777778,
              "#fb9f3a"
             ],
             [
              0.8888888888888888,
              "#fdca26"
             ],
             [
              1,
              "#f0f921"
             ]
            ],
            "type": "contour"
           }
          ],
          "contourcarpet": [
           {
            "colorbar": {
             "outlinewidth": 0,
             "ticks": ""
            },
            "type": "contourcarpet"
           }
          ],
          "heatmap": [
           {
            "colorbar": {
             "outlinewidth": 0,
             "ticks": ""
            },
            "colorscale": [
             [
              0,
              "#0d0887"
             ],
             [
              0.1111111111111111,
              "#46039f"
             ],
             [
              0.2222222222222222,
              "#7201a8"
             ],
             [
              0.3333333333333333,
              "#9c179e"
             ],
             [
              0.4444444444444444,
              "#bd3786"
             ],
             [
              0.5555555555555556,
              "#d8576b"
             ],
             [
              0.6666666666666666,
              "#ed7953"
             ],
             [
              0.7777777777777778,
              "#fb9f3a"
             ],
             [
              0.8888888888888888,
              "#fdca26"
             ],
             [
              1,
              "#f0f921"
             ]
            ],
            "type": "heatmap"
           }
          ],
          "heatmapgl": [
           {
            "colorbar": {
             "outlinewidth": 0,
             "ticks": ""
            },
            "colorscale": [
             [
              0,
              "#0d0887"
             ],
             [
              0.1111111111111111,
              "#46039f"
             ],
             [
              0.2222222222222222,
              "#7201a8"
             ],
             [
              0.3333333333333333,
              "#9c179e"
             ],
             [
              0.4444444444444444,
              "#bd3786"
             ],
             [
              0.5555555555555556,
              "#d8576b"
             ],
             [
              0.6666666666666666,
              "#ed7953"
             ],
             [
              0.7777777777777778,
              "#fb9f3a"
             ],
             [
              0.8888888888888888,
              "#fdca26"
             ],
             [
              1,
              "#f0f921"
             ]
            ],
            "type": "heatmapgl"
           }
          ],
          "histogram": [
           {
            "marker": {
             "pattern": {
              "fillmode": "overlay",
              "size": 10,
              "solidity": 0.2
             }
            },
            "type": "histogram"
           }
          ],
          "histogram2d": [
           {
            "colorbar": {
             "outlinewidth": 0,
             "ticks": ""
            },
            "colorscale": [
             [
              0,
              "#0d0887"
             ],
             [
              0.1111111111111111,
              "#46039f"
             ],
             [
              0.2222222222222222,
              "#7201a8"
             ],
             [
              0.3333333333333333,
              "#9c179e"
             ],
             [
              0.4444444444444444,
              "#bd3786"
             ],
             [
              0.5555555555555556,
              "#d8576b"
             ],
             [
              0.6666666666666666,
              "#ed7953"
             ],
             [
              0.7777777777777778,
              "#fb9f3a"
             ],
             [
              0.8888888888888888,
              "#fdca26"
             ],
             [
              1,
              "#f0f921"
             ]
            ],
            "type": "histogram2d"
           }
          ],
          "histogram2dcontour": [
           {
            "colorbar": {
             "outlinewidth": 0,
             "ticks": ""
            },
            "colorscale": [
             [
              0,
              "#0d0887"
             ],
             [
              0.1111111111111111,
              "#46039f"
             ],
             [
              0.2222222222222222,
              "#7201a8"
             ],
             [
              0.3333333333333333,
              "#9c179e"
             ],
             [
              0.4444444444444444,
              "#bd3786"
             ],
             [
              0.5555555555555556,
              "#d8576b"
             ],
             [
              0.6666666666666666,
              "#ed7953"
             ],
             [
              0.7777777777777778,
              "#fb9f3a"
             ],
             [
              0.8888888888888888,
              "#fdca26"
             ],
             [
              1,
              "#f0f921"
             ]
            ],
            "type": "histogram2dcontour"
           }
          ],
          "mesh3d": [
           {
            "colorbar": {
             "outlinewidth": 0,
             "ticks": ""
            },
            "type": "mesh3d"
           }
          ],
          "parcoords": [
           {
            "line": {
             "colorbar": {
              "outlinewidth": 0,
              "ticks": ""
             }
            },
            "type": "parcoords"
           }
          ],
          "pie": [
           {
            "automargin": true,
            "type": "pie"
           }
          ],
          "scatter": [
           {
            "marker": {
             "colorbar": {
              "outlinewidth": 0,
              "ticks": ""
             }
            },
            "type": "scatter"
           }
          ],
          "scatter3d": [
           {
            "line": {
             "colorbar": {
              "outlinewidth": 0,
              "ticks": ""
             }
            },
            "marker": {
             "colorbar": {
              "outlinewidth": 0,
              "ticks": ""
             }
            },
            "type": "scatter3d"
           }
          ],
          "scattercarpet": [
           {
            "marker": {
             "colorbar": {
              "outlinewidth": 0,
              "ticks": ""
             }
            },
            "type": "scattercarpet"
           }
          ],
          "scattergeo": [
           {
            "marker": {
             "colorbar": {
              "outlinewidth": 0,
              "ticks": ""
             }
            },
            "type": "scattergeo"
           }
          ],
          "scattergl": [
           {
            "marker": {
             "colorbar": {
              "outlinewidth": 0,
              "ticks": ""
             }
            },
            "type": "scattergl"
           }
          ],
          "scattermapbox": [
           {
            "marker": {
             "colorbar": {
              "outlinewidth": 0,
              "ticks": ""
             }
            },
            "type": "scattermapbox"
           }
          ],
          "scatterpolar": [
           {
            "marker": {
             "colorbar": {
              "outlinewidth": 0,
              "ticks": ""
             }
            },
            "type": "scatterpolar"
           }
          ],
          "scatterpolargl": [
           {
            "marker": {
             "colorbar": {
              "outlinewidth": 0,
              "ticks": ""
             }
            },
            "type": "scatterpolargl"
           }
          ],
          "scatterternary": [
           {
            "marker": {
             "colorbar": {
              "outlinewidth": 0,
              "ticks": ""
             }
            },
            "type": "scatterternary"
           }
          ],
          "surface": [
           {
            "colorbar": {
             "outlinewidth": 0,
             "ticks": ""
            },
            "colorscale": [
             [
              0,
              "#0d0887"
             ],
             [
              0.1111111111111111,
              "#46039f"
             ],
             [
              0.2222222222222222,
              "#7201a8"
             ],
             [
              0.3333333333333333,
              "#9c179e"
             ],
             [
              0.4444444444444444,
              "#bd3786"
             ],
             [
              0.5555555555555556,
              "#d8576b"
             ],
             [
              0.6666666666666666,
              "#ed7953"
             ],
             [
              0.7777777777777778,
              "#fb9f3a"
             ],
             [
              0.8888888888888888,
              "#fdca26"
             ],
             [
              1,
              "#f0f921"
             ]
            ],
            "type": "surface"
           }
          ],
          "table": [
           {
            "cells": {
             "fill": {
              "color": "#EBF0F8"
             },
             "line": {
              "color": "white"
             }
            },
            "header": {
             "fill": {
              "color": "#C8D4E3"
             },
             "line": {
              "color": "white"
             }
            },
            "type": "table"
           }
          ]
         },
         "layout": {
          "annotationdefaults": {
           "arrowcolor": "#2a3f5f",
           "arrowhead": 0,
           "arrowwidth": 1
          },
          "autotypenumbers": "strict",
          "coloraxis": {
           "colorbar": {
            "outlinewidth": 0,
            "ticks": ""
           }
          },
          "colorscale": {
           "diverging": [
            [
             0,
             "#8e0152"
            ],
            [
             0.1,
             "#c51b7d"
            ],
            [
             0.2,
             "#de77ae"
            ],
            [
             0.3,
             "#f1b6da"
            ],
            [
             0.4,
             "#fde0ef"
            ],
            [
             0.5,
             "#f7f7f7"
            ],
            [
             0.6,
             "#e6f5d0"
            ],
            [
             0.7,
             "#b8e186"
            ],
            [
             0.8,
             "#7fbc41"
            ],
            [
             0.9,
             "#4d9221"
            ],
            [
             1,
             "#276419"
            ]
           ],
           "sequential": [
            [
             0,
             "#0d0887"
            ],
            [
             0.1111111111111111,
             "#46039f"
            ],
            [
             0.2222222222222222,
             "#7201a8"
            ],
            [
             0.3333333333333333,
             "#9c179e"
            ],
            [
             0.4444444444444444,
             "#bd3786"
            ],
            [
             0.5555555555555556,
             "#d8576b"
            ],
            [
             0.6666666666666666,
             "#ed7953"
            ],
            [
             0.7777777777777778,
             "#fb9f3a"
            ],
            [
             0.8888888888888888,
             "#fdca26"
            ],
            [
             1,
             "#f0f921"
            ]
           ],
           "sequentialminus": [
            [
             0,
             "#0d0887"
            ],
            [
             0.1111111111111111,
             "#46039f"
            ],
            [
             0.2222222222222222,
             "#7201a8"
            ],
            [
             0.3333333333333333,
             "#9c179e"
            ],
            [
             0.4444444444444444,
             "#bd3786"
            ],
            [
             0.5555555555555556,
             "#d8576b"
            ],
            [
             0.6666666666666666,
             "#ed7953"
            ],
            [
             0.7777777777777778,
             "#fb9f3a"
            ],
            [
             0.8888888888888888,
             "#fdca26"
            ],
            [
             1,
             "#f0f921"
            ]
           ]
          },
          "colorway": [
           "#636efa",
           "#EF553B",
           "#00cc96",
           "#ab63fa",
           "#FFA15A",
           "#19d3f3",
           "#FF6692",
           "#B6E880",
           "#FF97FF",
           "#FECB52"
          ],
          "font": {
           "color": "#2a3f5f"
          },
          "geo": {
           "bgcolor": "white",
           "lakecolor": "white",
           "landcolor": "#E5ECF6",
           "showlakes": true,
           "showland": true,
           "subunitcolor": "white"
          },
          "hoverlabel": {
           "align": "left"
          },
          "hovermode": "closest",
          "mapbox": {
           "style": "light"
          },
          "paper_bgcolor": "white",
          "plot_bgcolor": "#E5ECF6",
          "polar": {
           "angularaxis": {
            "gridcolor": "white",
            "linecolor": "white",
            "ticks": ""
           },
           "bgcolor": "#E5ECF6",
           "radialaxis": {
            "gridcolor": "white",
            "linecolor": "white",
            "ticks": ""
           }
          },
          "scene": {
           "xaxis": {
            "backgroundcolor": "#E5ECF6",
            "gridcolor": "white",
            "gridwidth": 2,
            "linecolor": "white",
            "showbackground": true,
            "ticks": "",
            "zerolinecolor": "white"
           },
           "yaxis": {
            "backgroundcolor": "#E5ECF6",
            "gridcolor": "white",
            "gridwidth": 2,
            "linecolor": "white",
            "showbackground": true,
            "ticks": "",
            "zerolinecolor": "white"
           },
           "zaxis": {
            "backgroundcolor": "#E5ECF6",
            "gridcolor": "white",
            "gridwidth": 2,
            "linecolor": "white",
            "showbackground": true,
            "ticks": "",
            "zerolinecolor": "white"
           }
          },
          "shapedefaults": {
           "line": {
            "color": "#2a3f5f"
           }
          },
          "ternary": {
           "aaxis": {
            "gridcolor": "white",
            "linecolor": "white",
            "ticks": ""
           },
           "baxis": {
            "gridcolor": "white",
            "linecolor": "white",
            "ticks": ""
           },
           "bgcolor": "#E5ECF6",
           "caxis": {
            "gridcolor": "white",
            "linecolor": "white",
            "ticks": ""
           }
          },
          "title": {
           "x": 0.05
          },
          "xaxis": {
           "automargin": true,
           "gridcolor": "white",
           "linecolor": "white",
           "ticks": "",
           "title": {
            "standoff": 15
           },
           "zerolinecolor": "white",
           "zerolinewidth": 2
          },
          "yaxis": {
           "automargin": true,
           "gridcolor": "white",
           "linecolor": "white",
           "ticks": "",
           "title": {
            "standoff": 15
           },
           "zerolinecolor": "white",
           "zerolinewidth": 2
          }
         }
        },
        "title": {
         "text": "Tipo de pago"
        },
        "xaxis": {
         "anchor": "y",
         "domain": [
          0,
          1
         ],
         "title": {
          "text": "Tipo de pago"
         }
        },
        "yaxis": {
         "anchor": "x",
         "domain": [
          0,
          1
         ],
         "title": {
          "text": "Porcentaje"
         }
        }
       }
      }
     },
     "metadata": {},
     "output_type": "display_data"
    }
   ],
   "source": [
    "fig = px.bar(data_payment_type, x=data_payment_type.index, y='Porcentaje',\n",
    "            labels={'index':'Tipo de pago'}, title='Tipo de pago')\n",
    "fig.show()"
   ]
  },
  {
   "cell_type": "markdown",
   "metadata": {},
   "source": [
    "## Avg tips por passanger"
   ]
  },
  {
   "cell_type": "code",
   "execution_count": 310,
   "metadata": {},
   "outputs": [],
   "source": [
    "data_tips = data.copy()"
   ]
  },
  {
   "cell_type": "code",
   "execution_count": 311,
   "metadata": {},
   "outputs": [],
   "source": [
    "data_tips = data_tips[data_tips['payment_type']==1] # This field is auto populates for credit card tips"
   ]
  },
  {
   "cell_type": "code",
   "execution_count": 312,
   "metadata": {},
   "outputs": [
    {
     "data": {
      "text/plain": [
       "passenger_count\n",
       "0    2.526462\n",
       "1    2.594945\n",
       "2    2.672118\n",
       "3    2.626880\n",
       "4    2.634746\n",
       "5    2.623102\n",
       "6    2.614232\n",
       "7    7.474848\n",
       "8    4.968182\n",
       "9    6.566364\n",
       "Name: tip_amount, dtype: float64"
      ]
     },
     "execution_count": 312,
     "metadata": {},
     "output_type": "execute_result"
    }
   ],
   "source": [
    "data_tips_avg = data_tips.groupby('passenger_count')['tip_amount'].mean()\n",
    "data_tips_avg"
   ]
  },
  {
   "cell_type": "code",
   "execution_count": 313,
   "metadata": {},
   "outputs": [
    {
     "name": "stderr",
     "output_type": "stream",
     "text": [
      "c:\\Users\\Nacho\\anaconda3\\lib\\site-packages\\seaborn\\_decorators.py:36: FutureWarning:\n",
      "\n",
      "Pass the following variable as a keyword arg: x. From version 0.12, the only valid positional argument will be `data`, and passing other arguments without an explicit keyword will result in an error or misinterpretation.\n",
      "\n"
     ]
    },
    {
     "data": {
      "text/plain": [
       "<AxesSubplot:xlabel='tip_amount'>"
      ]
     },
     "execution_count": 313,
     "metadata": {},
     "output_type": "execute_result"
    },
    {
     "data": {
      "image/png": "[encoded data removed]",
      "text/plain": [
       "<Figure size 2160x576 with 1 Axes>"
      ]
     },
     "metadata": {},
     "output_type": "display_data"
    }
   ],
   "source": [
    "sns.boxplot(data_copy['tip_amount'])"
   ]
  },
  {
   "cell_type": "code",
   "execution_count": 314,
   "metadata": {},
   "outputs": [
    {
     "data": {
      "text/html": [
       "<div>\n",
       "<style scoped>\n",
       "    .dataframe tbody tr th:only-of-type {\n",
       "        vertical-align: middle;\n",
       "    }\n",
       "\n",
       "    .dataframe tbody tr th {\n",
       "        vertical-align: top;\n",
       "    }\n",
       "\n",
       "    .dataframe thead th {\n",
       "        text-align: right;\n",
       "    }\n",
       "</style>\n",
       "<table border=\"1\" class=\"dataframe\">\n",
       "  <thead>\n",
       "    <tr style=\"text-align: right;\">\n",
       "      <th></th>\n",
       "      <th>bins</th>\n",
       "      <th>tip_amount</th>\n",
       "    </tr>\n",
       "  </thead>\n",
       "  <tbody>\n",
       "    <tr>\n",
       "      <th>0</th>\n",
       "      <td>(0, 5]</td>\n",
       "      <td>5295352</td>\n",
       "    </tr>\n",
       "    <tr>\n",
       "      <th>1</th>\n",
       "      <td>(5, 10]</td>\n",
       "      <td>409264</td>\n",
       "    </tr>\n",
       "    <tr>\n",
       "      <th>2</th>\n",
       "      <td>(10, 20]</td>\n",
       "      <td>153691</td>\n",
       "    </tr>\n",
       "    <tr>\n",
       "      <th>3</th>\n",
       "      <td>(20, 50]</td>\n",
       "      <td>5752</td>\n",
       "    </tr>\n",
       "    <tr>\n",
       "      <th>4</th>\n",
       "      <td>(50, 100]</td>\n",
       "      <td>473</td>\n",
       "    </tr>\n",
       "    <tr>\n",
       "      <th>5</th>\n",
       "      <td>(100, 450]</td>\n",
       "      <td>82</td>\n",
       "    </tr>\n",
       "  </tbody>\n",
       "</table>\n",
       "</div>"
      ],
      "text/plain": [
       "         bins  tip_amount\n",
       "0      (0, 5]     5295352\n",
       "1     (5, 10]      409264\n",
       "2    (10, 20]      153691\n",
       "3    (20, 50]        5752\n",
       "4   (50, 100]         473\n",
       "5  (100, 450]          82"
      ]
     },
     "execution_count": 314,
     "metadata": {},
     "output_type": "execute_result"
    }
   ],
   "source": [
    "bins = [0, 5, 10, 20, 50, 100, 450]\n",
    "data_bins = pd.DataFrame(pd.cut(data_tips['tip_amount'], bins))\n",
    "data_bins.columns = ['bins']\n",
    "data_tip_bins = data_tips.merge(data_bins, left_on=data_tips.index, right_on=data_bins.index)\n",
    "data_tip_bins = data_tip_bins.groupby('bins')['tip_amount'].count() \n",
    "data_tip_bins = data_tip_bins.reset_index()\n",
    "data_tip_bins['bins'] = data_tip_bins['bins'].values.astype('string')\n",
    "data_tip_bins"
   ]
  },
  {
   "cell_type": "code",
   "execution_count": 315,
   "metadata": {},
   "outputs": [
    {
     "data": {
      "application/vnd.plotly.v1+json": {
       "config": {
        "plotlyServerURL": "https://plot.ly"
       },
       "data": [
        {
         "alignmentgroup": "True",
         "hovertemplate": "Rangos de tip=%{x}<br>Cantidad=%{y}<extra></extra>",
         "legendgroup": "",
         "marker": {
          "color": "#636efa",
          "pattern": {
           "shape": ""
          }
         },
         "name": "",
         "offsetgroup": "",
         "orientation": "v",
         "showlegend": false,
         "textposition": "auto",
         "type": "bar",
         "x": [
          "(0, 5]",
          "(5, 10]",
          "(10, 20]",
          "(20, 50]",
          "(50, 100]",
          "(100, 450]"
         ],
         "xaxis": "x",
         "y": [
          5295352,
          409264,
          153691,
          5752,
          473,
          82
         ],
         "yaxis": "y"
        }
       ],
       "layout": {
        "barmode": "relative",
        "legend": {
         "tracegroupgap": 0
        },
        "template": {
         "data": {
          "bar": [
           {
            "error_x": {
             "color": "#2a3f5f"
            },
            "error_y": {
             "color": "#2a3f5f"
            },
            "marker": {
             "line": {
              "color": "#E5ECF6",
              "width": 0.5
             },
             "pattern": {
              "fillmode": "overlay",
              "size": 10,
              "solidity": 0.2
             }
            },
            "type": "bar"
           }
          ],
          "barpolar": [
           {
            "marker": {
             "line": {
              "color": "#E5ECF6",
              "width": 0.5
             },
             "pattern": {
              "fillmode": "overlay",
              "size": 10,
              "solidity": 0.2
             }
            },
            "type": "barpolar"
           }
          ],
          "carpet": [
           {
            "aaxis": {
             "endlinecolor": "#2a3f5f",
             "gridcolor": "white",
             "linecolor": "white",
             "minorgridcolor": "white",
             "startlinecolor": "#2a3f5f"
            },
            "baxis": {
             "endlinecolor": "#2a3f5f",
             "gridcolor": "white",
             "linecolor": "white",
             "minorgridcolor": "white",
             "startlinecolor": "#2a3f5f"
            },
            "type": "carpet"
           }
          ],
          "choropleth": [
           {
            "colorbar": {
             "outlinewidth": 0,
             "ticks": ""
            },
            "type": "choropleth"
           }
          ],
          "contour": [
           {
            "colorbar": {
             "outlinewidth": 0,
             "ticks": ""
            },
            "colorscale": [
             [
              0,
              "#0d0887"
             ],
             [
              0.1111111111111111,
              "#46039f"
             ],
             [
              0.2222222222222222,
              "#7201a8"
             ],
             [
              0.3333333333333333,
              "#9c179e"
             ],
             [
              0.4444444444444444,
              "#bd3786"
             ],
             [
              0.5555555555555556,
              "#d8576b"
             ],
             [
              0.6666666666666666,
              "#ed7953"
             ],
             [
              0.7777777777777778,
              "#fb9f3a"
             ],
             [
              0.8888888888888888,
              "#fdca26"
             ],
             [
              1,
              "#f0f921"
             ]
            ],
            "type": "contour"
           }
          ],
          "contourcarpet": [
           {
            "colorbar": {
             "outlinewidth": 0,
             "ticks": ""
            },
            "type": "contourcarpet"
           }
          ],
          "heatmap": [
           {
            "colorbar": {
             "outlinewidth": 0,
             "ticks": ""
            },
            "colorscale": [
             [
              0,
              "#0d0887"
             ],
             [
              0.1111111111111111,
              "#46039f"
             ],
             [
              0.2222222222222222,
              "#7201a8"
             ],
             [
              0.3333333333333333,
              "#9c179e"
             ],
             [
              0.4444444444444444,
              "#bd3786"
             ],
             [
              0.5555555555555556,
              "#d8576b"
             ],
             [
              0.6666666666666666,
              "#ed7953"
             ],
             [
              0.7777777777777778,
              "#fb9f3a"
             ],
             [
              0.8888888888888888,
              "#fdca26"
             ],
             [
              1,
              "#f0f921"
             ]
            ],
            "type": "heatmap"
           }
          ],
          "heatmapgl": [
           {
            "colorbar": {
             "outlinewidth": 0,
             "ticks": ""
            },
            "colorscale": [
             [
              0,
              "#0d0887"
             ],
             [
              0.1111111111111111,
              "#46039f"
             ],
             [
              0.2222222222222222,
              "#7201a8"
             ],
             [
              0.3333333333333333,
              "#9c179e"
             ],
             [
              0.4444444444444444,
              "#bd3786"
             ],
             [
              0.5555555555555556,
              "#d8576b"
             ],
             [
              0.6666666666666666,
              "#ed7953"
             ],
             [
              0.7777777777777778,
              "#fb9f3a"
             ],
             [
              0.8888888888888888,
              "#fdca26"
             ],
             [
              1,
              "#f0f921"
             ]
            ],
            "type": "heatmapgl"
           }
          ],
          "histogram": [
           {
            "marker": {
             "pattern": {
              "fillmode": "overlay",
              "size": 10,
              "solidity": 0.2
             }
            },
            "type": "histogram"
           }
          ],
          "histogram2d": [
           {
            "colorbar": {
             "outlinewidth": 0,
             "ticks": ""
            },
            "colorscale": [
             [
              0,
              "#0d0887"
             ],
             [
              0.1111111111111111,
              "#46039f"
             ],
             [
              0.2222222222222222,
              "#7201a8"
             ],
             [
              0.3333333333333333,
              "#9c179e"
             ],
             [
              0.4444444444444444,
              "#bd3786"
             ],
             [
              0.5555555555555556,
              "#d8576b"
             ],
             [
              0.6666666666666666,
              "#ed7953"
             ],
             [
              0.7777777777777778,
              "#fb9f3a"
             ],
             [
              0.8888888888888888,
              "#fdca26"
             ],
             [
              1,
              "#f0f921"
             ]
            ],
            "type": "histogram2d"
           }
          ],
          "histogram2dcontour": [
           {
            "colorbar": {
             "outlinewidth": 0,
             "ticks": ""
            },
            "colorscale": [
             [
              0,
              "#0d0887"
             ],
             [
              0.1111111111111111,
              "#46039f"
             ],
             [
              0.2222222222222222,
              "#7201a8"
             ],
             [
              0.3333333333333333,
              "#9c179e"
             ],
             [
              0.4444444444444444,
              "#bd3786"
             ],
             [
              0.5555555555555556,
              "#d8576b"
             ],
             [
              0.6666666666666666,
              "#ed7953"
             ],
             [
              0.7777777777777778,
              "#fb9f3a"
             ],
             [
              0.8888888888888888,
              "#fdca26"
             ],
             [
              1,
              "#f0f921"
             ]
            ],
            "type": "histogram2dcontour"
           }
          ],
          "mesh3d": [
           {
            "colorbar": {
             "outlinewidth": 0,
             "ticks": ""
            },
            "type": "mesh3d"
           }
          ],
          "parcoords": [
           {
            "line": {
             "colorbar": {
              "outlinewidth": 0,
              "ticks": ""
             }
            },
            "type": "parcoords"
           }
          ],
          "pie": [
           {
            "automargin": true,
            "type": "pie"
           }
          ],
          "scatter": [
           {
            "marker": {
             "colorbar": {
              "outlinewidth": 0,
              "ticks": ""
             }
            },
            "type": "scatter"
           }
          ],
          "scatter3d": [
           {
            "line": {
             "colorbar": {
              "outlinewidth": 0,
              "ticks": ""
             }
            },
            "marker": {
             "colorbar": {
              "outlinewidth": 0,
              "ticks": ""
             }
            },
            "type": "scatter3d"
           }
          ],
          "scattercarpet": [
           {
            "marker": {
             "colorbar": {
              "outlinewidth": 0,
              "ticks": ""
             }
            },
            "type": "scattercarpet"
           }
          ],
          "scattergeo": [
           {
            "marker": {
             "colorbar": {
              "outlinewidth": 0,
              "ticks": ""
             }
            },
            "type": "scattergeo"
           }
          ],
          "scattergl": [
           {
            "marker": {
             "colorbar": {
              "outlinewidth": 0,
              "ticks": ""
             }
            },
            "type": "scattergl"
           }
          ],
          "scattermapbox": [
           {
            "marker": {
             "colorbar": {
              "outlinewidth": 0,
              "ticks": ""
             }
            },
            "type": "scattermapbox"
           }
          ],
          "scatterpolar": [
           {
            "marker": {
             "colorbar": {
              "outlinewidth": 0,
              "ticks": ""
             }
            },
            "type": "scatterpolar"
           }
          ],
          "scatterpolargl": [
           {
            "marker": {
             "colorbar": {
              "outlinewidth": 0,
              "ticks": ""
             }
            },
            "type": "scatterpolargl"
           }
          ],
          "scatterternary": [
           {
            "marker": {
             "colorbar": {
              "outlinewidth": 0,
              "ticks": ""
             }
            },
            "type": "scatterternary"
           }
          ],
          "surface": [
           {
            "colorbar": {
             "outlinewidth": 0,
             "ticks": ""
            },
            "colorscale": [
             [
              0,
              "#0d0887"
             ],
             [
              0.1111111111111111,
              "#46039f"
             ],
             [
              0.2222222222222222,
              "#7201a8"
             ],
             [
              0.3333333333333333,
              "#9c179e"
             ],
             [
              0.4444444444444444,
              "#bd3786"
             ],
             [
              0.5555555555555556,
              "#d8576b"
             ],
             [
              0.6666666666666666,
              "#ed7953"
             ],
             [
              0.7777777777777778,
              "#fb9f3a"
             ],
             [
              0.8888888888888888,
              "#fdca26"
             ],
             [
              1,
              "#f0f921"
             ]
            ],
            "type": "surface"
           }
          ],
          "table": [
           {
            "cells": {
             "fill": {
              "color": "#EBF0F8"
             },
             "line": {
              "color": "white"
             }
            },
            "header": {
             "fill": {
              "color": "#C8D4E3"
             },
             "line": {
              "color": "white"
             }
            },
            "type": "table"
           }
          ]
         },
         "layout": {
          "annotationdefaults": {
           "arrowcolor": "#2a3f5f",
           "arrowhead": 0,
           "arrowwidth": 1
          },
          "autotypenumbers": "strict",
          "coloraxis": {
           "colorbar": {
            "outlinewidth": 0,
            "ticks": ""
           }
          },
          "colorscale": {
           "diverging": [
            [
             0,
             "#8e0152"
            ],
            [
             0.1,
             "#c51b7d"
            ],
            [
             0.2,
             "#de77ae"
            ],
            [
             0.3,
             "#f1b6da"
            ],
            [
             0.4,
             "#fde0ef"
            ],
            [
             0.5,
             "#f7f7f7"
            ],
            [
             0.6,
             "#e6f5d0"
            ],
            [
             0.7,
             "#b8e186"
            ],
            [
             0.8,
             "#7fbc41"
            ],
            [
             0.9,
             "#4d9221"
            ],
            [
             1,
             "#276419"
            ]
           ],
           "sequential": [
            [
             0,
             "#0d0887"
            ],
            [
             0.1111111111111111,
             "#46039f"
            ],
            [
             0.2222222222222222,
             "#7201a8"
            ],
            [
             0.3333333333333333,
             "#9c179e"
            ],
            [
             0.4444444444444444,
             "#bd3786"
            ],
            [
             0.5555555555555556,
             "#d8576b"
            ],
            [
             0.6666666666666666,
             "#ed7953"
            ],
            [
             0.7777777777777778,
             "#fb9f3a"
            ],
            [
             0.8888888888888888,
             "#fdca26"
            ],
            [
             1,
             "#f0f921"
            ]
           ],
           "sequentialminus": [
            [
             0,
             "#0d0887"
            ],
            [
             0.1111111111111111,
             "#46039f"
            ],
            [
             0.2222222222222222,
             "#7201a8"
            ],
            [
             0.3333333333333333,
             "#9c179e"
            ],
            [
             0.4444444444444444,
             "#bd3786"
            ],
            [
             0.5555555555555556,
             "#d8576b"
            ],
            [
             0.6666666666666666,
             "#ed7953"
            ],
            [
             0.7777777777777778,
             "#fb9f3a"
            ],
            [
             0.8888888888888888,
             "#fdca26"
            ],
            [
             1,
             "#f0f921"
            ]
           ]
          },
          "colorway": [
           "#636efa",
           "#EF553B",
           "#00cc96",
           "#ab63fa",
           "#FFA15A",
           "#19d3f3",
           "#FF6692",
           "#B6E880",
           "#FF97FF",
           "#FECB52"
          ],
          "font": {
           "color": "#2a3f5f"
          },
          "geo": {
           "bgcolor": "white",
           "lakecolor": "white",
           "landcolor": "#E5ECF6",
           "showlakes": true,
           "showland": true,
           "subunitcolor": "white"
          },
          "hoverlabel": {
           "align": "left"
          },
          "hovermode": "closest",
          "mapbox": {
           "style": "light"
          },
          "paper_bgcolor": "white",
          "plot_bgcolor": "#E5ECF6",
          "polar": {
           "angularaxis": {
            "gridcolor": "white",
            "linecolor": "white",
            "ticks": ""
           },
           "bgcolor": "#E5ECF6",
           "radialaxis": {
            "gridcolor": "white",
            "linecolor": "white",
            "ticks": ""
           }
          },
          "scene": {
           "xaxis": {
            "backgroundcolor": "#E5ECF6",
            "gridcolor": "white",
            "gridwidth": 2,
            "linecolor": "white",
            "showbackground": true,
            "ticks": "",
            "zerolinecolor": "white"
           },
           "yaxis": {
            "backgroundcolor": "#E5ECF6",
            "gridcolor": "white",
            "gridwidth": 2,
            "linecolor": "white",
            "showbackground": true,
            "ticks": "",
            "zerolinecolor": "white"
           },
           "zaxis": {
            "backgroundcolor": "#E5ECF6",
            "gridcolor": "white",
            "gridwidth": 2,
            "linecolor": "white",
            "showbackground": true,
            "ticks": "",
            "zerolinecolor": "white"
           }
          },
          "shapedefaults": {
           "line": {
            "color": "#2a3f5f"
           }
          },
          "ternary": {
           "aaxis": {
            "gridcolor": "white",
            "linecolor": "white",
            "ticks": ""
           },
           "baxis": {
            "gridcolor": "white",
            "linecolor": "white",
            "ticks": ""
           },
           "bgcolor": "#E5ECF6",
           "caxis": {
            "gridcolor": "white",
            "linecolor": "white",
            "ticks": ""
           }
          },
          "title": {
           "x": 0.05
          },
          "xaxis": {
           "automargin": true,
           "gridcolor": "white",
           "linecolor": "white",
           "ticks": "",
           "title": {
            "standoff": 15
           },
           "zerolinecolor": "white",
           "zerolinewidth": 2
          },
          "yaxis": {
           "automargin": true,
           "gridcolor": "white",
           "linecolor": "white",
           "ticks": "",
           "title": {
            "standoff": 15
           },
           "zerolinecolor": "white",
           "zerolinewidth": 2
          }
         }
        },
        "title": {
         "text": "Rangos de tip_amount"
        },
        "xaxis": {
         "anchor": "y",
         "domain": [
          0,
          1
         ],
         "title": {
          "text": "Rangos de tip"
         }
        },
        "yaxis": {
         "anchor": "x",
         "domain": [
          0,
          1
         ],
         "title": {
          "text": "Cantidad"
         }
        }
       }
      }
     },
     "metadata": {},
     "output_type": "display_data"
    }
   ],
   "source": [
    "fig = px.bar(data_tip_bins, x='bins', y='tip_amount',\n",
    "            labels={'bins':'Rangos de tip', 'tip_amount':'Cantidad'}, title='Rangos de tip_amount')\n",
    "fig.show()"
   ]
  },
  {
   "cell_type": "markdown",
   "metadata": {},
   "source": [
    "## Otros KIP's\n",
    "Agregar el codigo desde aqui abajo, nombrarlo con el titulo con 2 # y utilzar el dataset \"data\" obtener los datos, pero no le hagan modificaciones a ese"
   ]
  },
  {
   "cell_type": "markdown",
   "metadata": {},
   "source": [
    "## Barrios con mayor participación\n"
   ]
  },
  {
   "cell_type": "code",
   "execution_count": 316,
   "metadata": {},
   "outputs": [
    {
     "data": {
      "text/html": [
       "<div>\n",
       "<style scoped>\n",
       "    .dataframe tbody tr th:only-of-type {\n",
       "        vertical-align: middle;\n",
       "    }\n",
       "\n",
       "    .dataframe tbody tr th {\n",
       "        vertical-align: top;\n",
       "    }\n",
       "\n",
       "    .dataframe thead th {\n",
       "        text-align: right;\n",
       "    }\n",
       "</style>\n",
       "<table border=\"1\" class=\"dataframe\">\n",
       "  <thead>\n",
       "    <tr style=\"text-align: right;\">\n",
       "      <th></th>\n",
       "      <th>PUZone</th>\n",
       "      <th>PUBorough</th>\n",
       "      <th>count</th>\n",
       "    </tr>\n",
       "  </thead>\n",
       "  <tbody>\n",
       "    <tr>\n",
       "      <th>0</th>\n",
       "      <td>Upper East Side South</td>\n",
       "      <td>Manhattan</td>\n",
       "      <td>361012</td>\n",
       "    </tr>\n",
       "    <tr>\n",
       "      <th>1</th>\n",
       "      <td>Midtown Center</td>\n",
       "      <td>Manhattan</td>\n",
       "      <td>354958</td>\n",
       "    </tr>\n",
       "    <tr>\n",
       "      <th>2</th>\n",
       "      <td>Upper East Side North</td>\n",
       "      <td>Manhattan</td>\n",
       "      <td>345712</td>\n",
       "    </tr>\n",
       "    <tr>\n",
       "      <th>3</th>\n",
       "      <td>Times Sq/Theatre District</td>\n",
       "      <td>Manhattan</td>\n",
       "      <td>309228</td>\n",
       "    </tr>\n",
       "    <tr>\n",
       "      <th>4</th>\n",
       "      <td>Midtown East</td>\n",
       "      <td>Manhattan</td>\n",
       "      <td>308339</td>\n",
       "    </tr>\n",
       "    <tr>\n",
       "      <th>...</th>\n",
       "      <td>...</td>\n",
       "      <td>...</td>\n",
       "      <td>...</td>\n",
       "    </tr>\n",
       "    <tr>\n",
       "      <th>250</th>\n",
       "      <td>Rikers Island</td>\n",
       "      <td>Bronx</td>\n",
       "      <td>2</td>\n",
       "    </tr>\n",
       "    <tr>\n",
       "      <th>251</th>\n",
       "      <td>Arden Heights</td>\n",
       "      <td>Staten Island</td>\n",
       "      <td>2</td>\n",
       "    </tr>\n",
       "    <tr>\n",
       "      <th>252</th>\n",
       "      <td>Rossville/Woodrow</td>\n",
       "      <td>Staten Island</td>\n",
       "      <td>1</td>\n",
       "    </tr>\n",
       "    <tr>\n",
       "      <th>253</th>\n",
       "      <td>Charleston/Tottenville</td>\n",
       "      <td>Staten Island</td>\n",
       "      <td>1</td>\n",
       "    </tr>\n",
       "    <tr>\n",
       "      <th>254</th>\n",
       "      <td>Stapleton</td>\n",
       "      <td>Staten Island</td>\n",
       "      <td>1</td>\n",
       "    </tr>\n",
       "  </tbody>\n",
       "</table>\n",
       "<p>255 rows × 3 columns</p>\n",
       "</div>"
      ],
      "text/plain": [
       "                        PUZone      PUBorough   count\n",
       "0        Upper East Side South      Manhattan  361012\n",
       "1               Midtown Center      Manhattan  354958\n",
       "2        Upper East Side North      Manhattan  345712\n",
       "3    Times Sq/Theatre District      Manhattan  309228\n",
       "4                 Midtown East      Manhattan  308339\n",
       "..                         ...            ...     ...\n",
       "250              Rikers Island          Bronx       2\n",
       "251              Arden Heights  Staten Island       2\n",
       "252          Rossville/Woodrow  Staten Island       1\n",
       "253     Charleston/Tottenville  Staten Island       1\n",
       "254                  Stapleton  Staten Island       1\n",
       "\n",
       "[255 rows x 3 columns]"
      ]
     },
     "execution_count": 316,
     "metadata": {},
     "output_type": "execute_result"
    }
   ],
   "source": [
    "gby_zone_borough=data_zone.groupby(['PUZone','PUBorough'])\n",
    "data_zone_counts=gby_zone_borough['PUZone'].count().sort_values(ascending=False).rename(\"count\")\n",
    "data_zone_counts=data_zone_counts.reset_index()\n",
    "data_zone_counts"
   ]
  },
  {
   "cell_type": "markdown",
   "metadata": {},
   "source": [
    "las 20 zonas con más participacion"
   ]
  },
  {
   "cell_type": "code",
   "execution_count": 317,
   "metadata": {},
   "outputs": [
    {
     "data": {
      "application/vnd.plotly.v1+json": {
       "config": {
        "plotlyServerURL": "https://plot.ly"
       },
       "data": [
        {
         "alignmentgroup": "True",
         "hovertemplate": "PUBorough=Manhattan<br>Zona=%{x}<br>Cantidad de Viajes=%{y}<extra></extra>",
         "legendgroup": "Manhattan",
         "marker": {
          "color": "#636efa",
          "pattern": {
           "shape": ""
          }
         },
         "name": "Manhattan",
         "offsetgroup": "Manhattan",
         "orientation": "v",
         "showlegend": true,
         "textposition": "auto",
         "type": "bar",
         "x": [
          "Upper East Side South",
          "Midtown Center",
          "Upper East Side North",
          "Times Sq/Theatre District",
          "Midtown East",
          "Penn Station/Madison Sq West",
          "Union Sq",
          "Murray Hill",
          "Clinton East",
          "Lincoln Square East",
          "Midtown North",
          "East Village",
          "Upper West Side South",
          "Lenox Hill West",
          "Gramercy",
          "Midtown South",
          "East Chelsea",
          "Garment District"
         ],
         "xaxis": "x",
         "y": [
          361012,
          354958,
          345712,
          309228,
          308339,
          292545,
          283990,
          277931,
          270624,
          264095,
          241839,
          240158,
          228284,
          212495,
          206006,
          204074,
          202704,
          186325
         ],
         "yaxis": "y"
        },
        {
         "alignmentgroup": "True",
         "hovertemplate": "PUBorough=Queens<br>Zona=%{x}<br>Cantidad de Viajes=%{y}<extra></extra>",
         "legendgroup": "Queens",
         "marker": {
          "color": "#EF553B",
          "pattern": {
           "shape": ""
          }
         },
         "name": "Queens",
         "offsetgroup": "Queens",
         "orientation": "v",
         "showlegend": true,
         "textposition": "auto",
         "type": "bar",
         "x": [
          "LaGuardia Airport",
          "JFK Airport"
         ],
         "xaxis": "x",
         "y": [
          233203,
          203407
         ],
         "yaxis": "y"
        }
       ],
       "layout": {
        "barmode": "relative",
        "legend": {
         "title": {
          "text": "PUBorough"
         },
         "tracegroupgap": 0
        },
        "template": {
         "data": {
          "bar": [
           {
            "error_x": {
             "color": "#2a3f5f"
            },
            "error_y": {
             "color": "#2a3f5f"
            },
            "marker": {
             "line": {
              "color": "#E5ECF6",
              "width": 0.5
             },
             "pattern": {
              "fillmode": "overlay",
              "size": 10,
              "solidity": 0.2
             }
            },
            "type": "bar"
           }
          ],
          "barpolar": [
           {
            "marker": {
             "line": {
              "color": "#E5ECF6",
              "width": 0.5
             },
             "pattern": {
              "fillmode": "overlay",
              "size": 10,
              "solidity": 0.2
             }
            },
            "type": "barpolar"
           }
          ],
          "carpet": [
           {
            "aaxis": {
             "endlinecolor": "#2a3f5f",
             "gridcolor": "white",
             "linecolor": "white",
             "minorgridcolor": "white",
             "startlinecolor": "#2a3f5f"
            },
            "baxis": {
             "endlinecolor": "#2a3f5f",
             "gridcolor": "white",
             "linecolor": "white",
             "minorgridcolor": "white",
             "startlinecolor": "#2a3f5f"
            },
            "type": "carpet"
           }
          ],
          "choropleth": [
           {
            "colorbar": {
             "outlinewidth": 0,
             "ticks": ""
            },
            "type": "choropleth"
           }
          ],
          "contour": [
           {
            "colorbar": {
             "outlinewidth": 0,
             "ticks": ""
            },
            "colorscale": [
             [
              0,
              "#0d0887"
             ],
             [
              0.1111111111111111,
              "#46039f"
             ],
             [
              0.2222222222222222,
              "#7201a8"
             ],
             [
              0.3333333333333333,
              "#9c179e"
             ],
             [
              0.4444444444444444,
              "#bd3786"
             ],
             [
              0.5555555555555556,
              "#d8576b"
             ],
             [
              0.6666666666666666,
              "#ed7953"
             ],
             [
              0.7777777777777778,
              "#fb9f3a"
             ],
             [
              0.8888888888888888,
              "#fdca26"
             ],
             [
              1,
              "#f0f921"
             ]
            ],
            "type": "contour"
           }
          ],
          "contourcarpet": [
           {
            "colorbar": {
             "outlinewidth": 0,
             "ticks": ""
            },
            "type": "contourcarpet"
           }
          ],
          "heatmap": [
           {
            "colorbar": {
             "outlinewidth": 0,
             "ticks": ""
            },
            "colorscale": [
             [
              0,
              "#0d0887"
             ],
             [
              0.1111111111111111,
              "#46039f"
             ],
             [
              0.2222222222222222,
              "#7201a8"
             ],
             [
              0.3333333333333333,
              "#9c179e"
             ],
             [
              0.4444444444444444,
              "#bd3786"
             ],
             [
              0.5555555555555556,
              "#d8576b"
             ],
             [
              0.6666666666666666,
              "#ed7953"
             ],
             [
              0.7777777777777778,
              "#fb9f3a"
             ],
             [
              0.8888888888888888,
              "#fdca26"
             ],
             [
              1,
              "#f0f921"
             ]
            ],
            "type": "heatmap"
           }
          ],
          "heatmapgl": [
           {
            "colorbar": {
             "outlinewidth": 0,
             "ticks": ""
            },
            "colorscale": [
             [
              0,
              "#0d0887"
             ],
             [
              0.1111111111111111,
              "#46039f"
             ],
             [
              0.2222222222222222,
              "#7201a8"
             ],
             [
              0.3333333333333333,
              "#9c179e"
             ],
             [
              0.4444444444444444,
              "#bd3786"
             ],
             [
              0.5555555555555556,
              "#d8576b"
             ],
             [
              0.6666666666666666,
              "#ed7953"
             ],
             [
              0.7777777777777778,
              "#fb9f3a"
             ],
             [
              0.8888888888888888,
              "#fdca26"
             ],
             [
              1,
              "#f0f921"
             ]
            ],
            "type": "heatmapgl"
           }
          ],
          "histogram": [
           {
            "marker": {
             "pattern": {
              "fillmode": "overlay",
              "size": 10,
              "solidity": 0.2
             }
            },
            "type": "histogram"
           }
          ],
          "histogram2d": [
           {
            "colorbar": {
             "outlinewidth": 0,
             "ticks": ""
            },
            "colorscale": [
             [
              0,
              "#0d0887"
             ],
             [
              0.1111111111111111,
              "#46039f"
             ],
             [
              0.2222222222222222,
              "#7201a8"
             ],
             [
              0.3333333333333333,
              "#9c179e"
             ],
             [
              0.4444444444444444,
              "#bd3786"
             ],
             [
              0.5555555555555556,
              "#d8576b"
             ],
             [
              0.6666666666666666,
              "#ed7953"
             ],
             [
              0.7777777777777778,
              "#fb9f3a"
             ],
             [
              0.8888888888888888,
              "#fdca26"
             ],
             [
              1,
              "#f0f921"
             ]
            ],
            "type": "histogram2d"
           }
          ],
          "histogram2dcontour": [
           {
            "colorbar": {
             "outlinewidth": 0,
             "ticks": ""
            },
            "colorscale": [
             [
              0,
              "#0d0887"
             ],
             [
              0.1111111111111111,
              "#46039f"
             ],
             [
              0.2222222222222222,
              "#7201a8"
             ],
             [
              0.3333333333333333,
              "#9c179e"
             ],
             [
              0.4444444444444444,
              "#bd3786"
             ],
             [
              0.5555555555555556,
              "#d8576b"
             ],
             [
              0.6666666666666666,
              "#ed7953"
             ],
             [
              0.7777777777777778,
              "#fb9f3a"
             ],
             [
              0.8888888888888888,
              "#fdca26"
             ],
             [
              1,
              "#f0f921"
             ]
            ],
            "type": "histogram2dcontour"
           }
          ],
          "mesh3d": [
           {
            "colorbar": {
             "outlinewidth": 0,
             "ticks": ""
            },
            "type": "mesh3d"
           }
          ],
          "parcoords": [
           {
            "line": {
             "colorbar": {
              "outlinewidth": 0,
              "ticks": ""
             }
            },
            "type": "parcoords"
           }
          ],
          "pie": [
           {
            "automargin": true,
            "type": "pie"
           }
          ],
          "scatter": [
           {
            "marker": {
             "colorbar": {
              "outlinewidth": 0,
              "ticks": ""
             }
            },
            "type": "scatter"
           }
          ],
          "scatter3d": [
           {
            "line": {
             "colorbar": {
              "outlinewidth": 0,
              "ticks": ""
             }
            },
            "marker": {
             "colorbar": {
              "outlinewidth": 0,
              "ticks": ""
             }
            },
            "type": "scatter3d"
           }
          ],
          "scattercarpet": [
           {
            "marker": {
             "colorbar": {
              "outlinewidth": 0,
              "ticks": ""
             }
            },
            "type": "scattercarpet"
           }
          ],
          "scattergeo": [
           {
            "marker": {
             "colorbar": {
              "outlinewidth": 0,
              "ticks": ""
             }
            },
            "type": "scattergeo"
           }
          ],
          "scattergl": [
           {
            "marker": {
             "colorbar": {
              "outlinewidth": 0,
              "ticks": ""
             }
            },
            "type": "scattergl"
           }
          ],
          "scattermapbox": [
           {
            "marker": {
             "colorbar": {
              "outlinewidth": 0,
              "ticks": ""
             }
            },
            "type": "scattermapbox"
           }
          ],
          "scatterpolar": [
           {
            "marker": {
             "colorbar": {
              "outlinewidth": 0,
              "ticks": ""
             }
            },
            "type": "scatterpolar"
           }
          ],
          "scatterpolargl": [
           {
            "marker": {
             "colorbar": {
              "outlinewidth": 0,
              "ticks": ""
             }
            },
            "type": "scatterpolargl"
           }
          ],
          "scatterternary": [
           {
            "marker": {
             "colorbar": {
              "outlinewidth": 0,
              "ticks": ""
             }
            },
            "type": "scatterternary"
           }
          ],
          "surface": [
           {
            "colorbar": {
             "outlinewidth": 0,
             "ticks": ""
            },
            "colorscale": [
             [
              0,
              "#0d0887"
             ],
             [
              0.1111111111111111,
              "#46039f"
             ],
             [
              0.2222222222222222,
              "#7201a8"
             ],
             [
              0.3333333333333333,
              "#9c179e"
             ],
             [
              0.4444444444444444,
              "#bd3786"
             ],
             [
              0.5555555555555556,
              "#d8576b"
             ],
             [
              0.6666666666666666,
              "#ed7953"
             ],
             [
              0.7777777777777778,
              "#fb9f3a"
             ],
             [
              0.8888888888888888,
              "#fdca26"
             ],
             [
              1,
              "#f0f921"
             ]
            ],
            "type": "surface"
           }
          ],
          "table": [
           {
            "cells": {
             "fill": {
              "color": "#EBF0F8"
             },
             "line": {
              "color": "white"
             }
            },
            "header": {
             "fill": {
              "color": "#C8D4E3"
             },
             "line": {
              "color": "white"
             }
            },
            "type": "table"
           }
          ]
         },
         "layout": {
          "annotationdefaults": {
           "arrowcolor": "#2a3f5f",
           "arrowhead": 0,
           "arrowwidth": 1
          },
          "autotypenumbers": "strict",
          "coloraxis": {
           "colorbar": {
            "outlinewidth": 0,
            "ticks": ""
           }
          },
          "colorscale": {
           "diverging": [
            [
             0,
             "#8e0152"
            ],
            [
             0.1,
             "#c51b7d"
            ],
            [
             0.2,
             "#de77ae"
            ],
            [
             0.3,
             "#f1b6da"
            ],
            [
             0.4,
             "#fde0ef"
            ],
            [
             0.5,
             "#f7f7f7"
            ],
            [
             0.6,
             "#e6f5d0"
            ],
            [
             0.7,
             "#b8e186"
            ],
            [
             0.8,
             "#7fbc41"
            ],
            [
             0.9,
             "#4d9221"
            ],
            [
             1,
             "#276419"
            ]
           ],
           "sequential": [
            [
             0,
             "#0d0887"
            ],
            [
             0.1111111111111111,
             "#46039f"
            ],
            [
             0.2222222222222222,
             "#7201a8"
            ],
            [
             0.3333333333333333,
             "#9c179e"
            ],
            [
             0.4444444444444444,
             "#bd3786"
            ],
            [
             0.5555555555555556,
             "#d8576b"
            ],
            [
             0.6666666666666666,
             "#ed7953"
            ],
            [
             0.7777777777777778,
             "#fb9f3a"
            ],
            [
             0.8888888888888888,
             "#fdca26"
            ],
            [
             1,
             "#f0f921"
            ]
           ],
           "sequentialminus": [
            [
             0,
             "#0d0887"
            ],
            [
             0.1111111111111111,
             "#46039f"
            ],
            [
             0.2222222222222222,
             "#7201a8"
            ],
            [
             0.3333333333333333,
             "#9c179e"
            ],
            [
             0.4444444444444444,
             "#bd3786"
            ],
            [
             0.5555555555555556,
             "#d8576b"
            ],
            [
             0.6666666666666666,
             "#ed7953"
            ],
            [
             0.7777777777777778,
             "#fb9f3a"
            ],
            [
             0.8888888888888888,
             "#fdca26"
            ],
            [
             1,
             "#f0f921"
            ]
           ]
          },
          "colorway": [
           "#636efa",
           "#EF553B",
           "#00cc96",
           "#ab63fa",
           "#FFA15A",
           "#19d3f3",
           "#FF6692",
           "#B6E880",
           "#FF97FF",
           "#FECB52"
          ],
          "font": {
           "color": "#2a3f5f"
          },
          "geo": {
           "bgcolor": "white",
           "lakecolor": "white",
           "landcolor": "#E5ECF6",
           "showlakes": true,
           "showland": true,
           "subunitcolor": "white"
          },
          "hoverlabel": {
           "align": "left"
          },
          "hovermode": "closest",
          "mapbox": {
           "style": "light"
          },
          "paper_bgcolor": "white",
          "plot_bgcolor": "#E5ECF6",
          "polar": {
           "angularaxis": {
            "gridcolor": "white",
            "linecolor": "white",
            "ticks": ""
           },
           "bgcolor": "#E5ECF6",
           "radialaxis": {
            "gridcolor": "white",
            "linecolor": "white",
            "ticks": ""
           }
          },
          "scene": {
           "xaxis": {
            "backgroundcolor": "#E5ECF6",
            "gridcolor": "white",
            "gridwidth": 2,
            "linecolor": "white",
            "showbackground": true,
            "ticks": "",
            "zerolinecolor": "white"
           },
           "yaxis": {
            "backgroundcolor": "#E5ECF6",
            "gridcolor": "white",
            "gridwidth": 2,
            "linecolor": "white",
            "showbackground": true,
            "ticks": "",
            "zerolinecolor": "white"
           },
           "zaxis": {
            "backgroundcolor": "#E5ECF6",
            "gridcolor": "white",
            "gridwidth": 2,
            "linecolor": "white",
            "showbackground": true,
            "ticks": "",
            "zerolinecolor": "white"
           }
          },
          "shapedefaults": {
           "line": {
            "color": "#2a3f5f"
           }
          },
          "ternary": {
           "aaxis": {
            "gridcolor": "white",
            "linecolor": "white",
            "ticks": ""
           },
           "baxis": {
            "gridcolor": "white",
            "linecolor": "white",
            "ticks": ""
           },
           "bgcolor": "#E5ECF6",
           "caxis": {
            "gridcolor": "white",
            "linecolor": "white",
            "ticks": ""
           }
          },
          "title": {
           "x": 0.05
          },
          "xaxis": {
           "automargin": true,
           "gridcolor": "white",
           "linecolor": "white",
           "ticks": "",
           "title": {
            "standoff": 15
           },
           "zerolinecolor": "white",
           "zerolinewidth": 2
          },
          "yaxis": {
           "automargin": true,
           "gridcolor": "white",
           "linecolor": "white",
           "ticks": "",
           "title": {
            "standoff": 15
           },
           "zerolinecolor": "white",
           "zerolinewidth": 2
          }
         }
        },
        "title": {
         "text": "Cantidad de viajes por Zona"
        },
        "xaxis": {
         "anchor": "y",
         "domain": [
          0,
          1
         ],
         "title": {
          "text": "Zona"
         }
        },
        "yaxis": {
         "anchor": "x",
         "domain": [
          0,
          1
         ],
         "title": {
          "text": "Cantidad de Viajes"
         }
        }
       }
      }
     },
     "metadata": {},
     "output_type": "display_data"
    }
   ],
   "source": [
    "fig = px.bar(data_zone_counts[0:20], x='PUZone', y='count',color=\"PUBorough\",\n",
    "            labels={'count':'Cantidad de Viajes', 'PUZone':'Zona'}, title='Cantidad de viajes por Zona')\n",
    "fig.show()"
   ]
  },
  {
   "cell_type": "code",
   "execution_count": 318,
   "metadata": {},
   "outputs": [
    {
     "data": {
      "application/vnd.plotly.v1+json": {
       "config": {
        "plotlyServerURL": "https://plot.ly"
       },
       "data": [
        {
         "branchvalues": "total",
         "domain": {
          "x": [
           0,
           1
          ],
          "y": [
           0,
           1
          ]
         },
         "hovertemplate": "labels=%{label}<br>count=%{value}<br>parent=%{parent}<br>id=%{id}<extra></extra>",
         "ids": [
          "Manhattan/Clinton East",
          "Manhattan/East Chelsea",
          "Manhattan/East Village",
          "Manhattan/Garment District",
          "Manhattan/Gramercy",
          "Queens/JFK Airport",
          "Queens/LaGuardia Airport",
          "Manhattan/Lenox Hill West",
          "Manhattan/Lincoln Square East",
          "Manhattan/Midtown Center",
          "Manhattan/Midtown East",
          "Manhattan/Midtown North",
          "Manhattan/Midtown South",
          "Manhattan/Murray Hill",
          "Manhattan/Penn Station/Madison Sq West",
          "Manhattan/Times Sq/Theatre District",
          "Manhattan/Union Sq",
          "Manhattan/Upper East Side North",
          "Manhattan/Upper East Side South",
          "Manhattan/Upper West Side South",
          "Manhattan",
          "Queens"
         ],
         "labels": [
          "Clinton East",
          "East Chelsea",
          "East Village",
          "Garment District",
          "Gramercy",
          "JFK Airport",
          "LaGuardia Airport",
          "Lenox Hill West",
          "Lincoln Square East",
          "Midtown Center",
          "Midtown East",
          "Midtown North",
          "Midtown South",
          "Murray Hill",
          "Penn Station/Madison Sq West",
          "Times Sq/Theatre District",
          "Union Sq",
          "Upper East Side North",
          "Upper East Side South",
          "Upper West Side South",
          "Manhattan",
          "Queens"
         ],
         "name": "",
         "parents": [
          "Manhattan",
          "Manhattan",
          "Manhattan",
          "Manhattan",
          "Manhattan",
          "Queens",
          "Queens",
          "Manhattan",
          "Manhattan",
          "Manhattan",
          "Manhattan",
          "Manhattan",
          "Manhattan",
          "Manhattan",
          "Manhattan",
          "Manhattan",
          "Manhattan",
          "Manhattan",
          "Manhattan",
          "Manhattan",
          "",
          ""
         ],
         "type": "sunburst",
         "values": [
          270624,
          202704,
          240158,
          186325,
          206006,
          203407,
          233203,
          212495,
          264095,
          354958,
          308339,
          241839,
          204074,
          277931,
          292545,
          309228,
          283990,
          345712,
          361012,
          228284,
          4790319,
          436610
         ]
        }
       ],
       "layout": {
        "legend": {
         "tracegroupgap": 0
        },
        "margin": {
         "t": 60
        },
        "template": {
         "data": {
          "bar": [
           {
            "error_x": {
             "color": "#2a3f5f"
            },
            "error_y": {
             "color": "#2a3f5f"
            },
            "marker": {
             "line": {
              "color": "#E5ECF6",
              "width": 0.5
             },
             "pattern": {
              "fillmode": "overlay",
              "size": 10,
              "solidity": 0.2
             }
            },
            "type": "bar"
           }
          ],
          "barpolar": [
           {
            "marker": {
             "line": {
              "color": "#E5ECF6",
              "width": 0.5
             },
             "pattern": {
              "fillmode": "overlay",
              "size": 10,
              "solidity": 0.2
             }
            },
            "type": "barpolar"
           }
          ],
          "carpet": [
           {
            "aaxis": {
             "endlinecolor": "#2a3f5f",
             "gridcolor": "white",
             "linecolor": "white",
             "minorgridcolor": "white",
             "startlinecolor": "#2a3f5f"
            },
            "baxis": {
             "endlinecolor": "#2a3f5f",
             "gridcolor": "white",
             "linecolor": "white",
             "minorgridcolor": "white",
             "startlinecolor": "#2a3f5f"
            },
            "type": "carpet"
           }
          ],
          "choropleth": [
           {
            "colorbar": {
             "outlinewidth": 0,
             "ticks": ""
            },
            "type": "choropleth"
           }
          ],
          "contour": [
           {
            "colorbar": {
             "outlinewidth": 0,
             "ticks": ""
            },
            "colorscale": [
             [
              0,
              "#0d0887"
             ],
             [
              0.1111111111111111,
              "#46039f"
             ],
             [
              0.2222222222222222,
              "#7201a8"
             ],
             [
              0.3333333333333333,
              "#9c179e"
             ],
             [
              0.4444444444444444,
              "#bd3786"
             ],
             [
              0.5555555555555556,
              "#d8576b"
             ],
             [
              0.6666666666666666,
              "#ed7953"
             ],
             [
              0.7777777777777778,
              "#fb9f3a"
             ],
             [
              0.8888888888888888,
              "#fdca26"
             ],
             [
              1,
              "#f0f921"
             ]
            ],
            "type": "contour"
           }
          ],
          "contourcarpet": [
           {
            "colorbar": {
             "outlinewidth": 0,
             "ticks": ""
            },
            "type": "contourcarpet"
           }
          ],
          "heatmap": [
           {
            "colorbar": {
             "outlinewidth": 0,
             "ticks": ""
            },
            "colorscale": [
             [
              0,
              "#0d0887"
             ],
             [
              0.1111111111111111,
              "#46039f"
             ],
             [
              0.2222222222222222,
              "#7201a8"
             ],
             [
              0.3333333333333333,
              "#9c179e"
             ],
             [
              0.4444444444444444,
              "#bd3786"
             ],
             [
              0.5555555555555556,
              "#d8576b"
             ],
             [
              0.6666666666666666,
              "#ed7953"
             ],
             [
              0.7777777777777778,
              "#fb9f3a"
             ],
             [
              0.8888888888888888,
              "#fdca26"
             ],
             [
              1,
              "#f0f921"
             ]
            ],
            "type": "heatmap"
           }
          ],
          "heatmapgl": [
           {
            "colorbar": {
             "outlinewidth": 0,
             "ticks": ""
            },
            "colorscale": [
             [
              0,
              "#0d0887"
             ],
             [
              0.1111111111111111,
              "#46039f"
             ],
             [
              0.2222222222222222,
              "#7201a8"
             ],
             [
              0.3333333333333333,
              "#9c179e"
             ],
             [
              0.4444444444444444,
              "#bd3786"
             ],
             [
              0.5555555555555556,
              "#d8576b"
             ],
             [
              0.6666666666666666,
              "#ed7953"
             ],
             [
              0.7777777777777778,
              "#fb9f3a"
             ],
             [
              0.8888888888888888,
              "#fdca26"
             ],
             [
              1,
              "#f0f921"
             ]
            ],
            "type": "heatmapgl"
           }
          ],
          "histogram": [
           {
            "marker": {
             "pattern": {
              "fillmode": "overlay",
              "size": 10,
              "solidity": 0.2
             }
            },
            "type": "histogram"
           }
          ],
          "histogram2d": [
           {
            "colorbar": {
             "outlinewidth": 0,
             "ticks": ""
            },
            "colorscale": [
             [
              0,
              "#0d0887"
             ],
             [
              0.1111111111111111,
              "#46039f"
             ],
             [
              0.2222222222222222,
              "#7201a8"
             ],
             [
              0.3333333333333333,
              "#9c179e"
             ],
             [
              0.4444444444444444,
              "#bd3786"
             ],
             [
              0.5555555555555556,
              "#d8576b"
             ],
             [
              0.6666666666666666,
              "#ed7953"
             ],
             [
              0.7777777777777778,
              "#fb9f3a"
             ],
             [
              0.8888888888888888,
              "#fdca26"
             ],
             [
              1,
              "#f0f921"
             ]
            ],
            "type": "histogram2d"
           }
          ],
          "histogram2dcontour": [
           {
            "colorbar": {
             "outlinewidth": 0,
             "ticks": ""
            },
            "colorscale": [
             [
              0,
              "#0d0887"
             ],
             [
              0.1111111111111111,
              "#46039f"
             ],
             [
              0.2222222222222222,
              "#7201a8"
             ],
             [
              0.3333333333333333,
              "#9c179e"
             ],
             [
              0.4444444444444444,
              "#bd3786"
             ],
             [
              0.5555555555555556,
              "#d8576b"
             ],
             [
              0.6666666666666666,
              "#ed7953"
             ],
             [
              0.7777777777777778,
              "#fb9f3a"
             ],
             [
              0.8888888888888888,
              "#fdca26"
             ],
             [
              1,
              "#f0f921"
             ]
            ],
            "type": "histogram2dcontour"
           }
          ],
          "mesh3d": [
           {
            "colorbar": {
             "outlinewidth": 0,
             "ticks": ""
            },
            "type": "mesh3d"
           }
          ],
          "parcoords": [
           {
            "line": {
             "colorbar": {
              "outlinewidth": 0,
              "ticks": ""
             }
            },
            "type": "parcoords"
           }
          ],
          "pie": [
           {
            "automargin": true,
            "type": "pie"
           }
          ],
          "scatter": [
           {
            "marker": {
             "colorbar": {
              "outlinewidth": 0,
              "ticks": ""
             }
            },
            "type": "scatter"
           }
          ],
          "scatter3d": [
           {
            "line": {
             "colorbar": {
              "outlinewidth": 0,
              "ticks": ""
             }
            },
            "marker": {
             "colorbar": {
              "outlinewidth": 0,
              "ticks": ""
             }
            },
            "type": "scatter3d"
           }
          ],
          "scattercarpet": [
           {
            "marker": {
             "colorbar": {
              "outlinewidth": 0,
              "ticks": ""
             }
            },
            "type": "scattercarpet"
           }
          ],
          "scattergeo": [
           {
            "marker": {
             "colorbar": {
              "outlinewidth": 0,
              "ticks": ""
             }
            },
            "type": "scattergeo"
           }
          ],
          "scattergl": [
           {
            "marker": {
             "colorbar": {
              "outlinewidth": 0,
              "ticks": ""
             }
            },
            "type": "scattergl"
           }
          ],
          "scattermapbox": [
           {
            "marker": {
             "colorbar": {
              "outlinewidth": 0,
              "ticks": ""
             }
            },
            "type": "scattermapbox"
           }
          ],
          "scatterpolar": [
           {
            "marker": {
             "colorbar": {
              "outlinewidth": 0,
              "ticks": ""
             }
            },
            "type": "scatterpolar"
           }
          ],
          "scatterpolargl": [
           {
            "marker": {
             "colorbar": {
              "outlinewidth": 0,
              "ticks": ""
             }
            },
            "type": "scatterpolargl"
           }
          ],
          "scatterternary": [
           {
            "marker": {
             "colorbar": {
              "outlinewidth": 0,
              "ticks": ""
             }
            },
            "type": "scatterternary"
           }
          ],
          "surface": [
           {
            "colorbar": {
             "outlinewidth": 0,
             "ticks": ""
            },
            "colorscale": [
             [
              0,
              "#0d0887"
             ],
             [
              0.1111111111111111,
              "#46039f"
             ],
             [
              0.2222222222222222,
              "#7201a8"
             ],
             [
              0.3333333333333333,
              "#9c179e"
             ],
             [
              0.4444444444444444,
              "#bd3786"
             ],
             [
              0.5555555555555556,
              "#d8576b"
             ],
             [
              0.6666666666666666,
              "#ed7953"
             ],
             [
              0.7777777777777778,
              "#fb9f3a"
             ],
             [
              0.8888888888888888,
              "#fdca26"
             ],
             [
              1,
              "#f0f921"
             ]
            ],
            "type": "surface"
           }
          ],
          "table": [
           {
            "cells": {
             "fill": {
              "color": "#EBF0F8"
             },
             "line": {
              "color": "white"
             }
            },
            "header": {
             "fill": {
              "color": "#C8D4E3"
             },
             "line": {
              "color": "white"
             }
            },
            "type": "table"
           }
          ]
         },
         "layout": {
          "annotationdefaults": {
           "arrowcolor": "#2a3f5f",
           "arrowhead": 0,
           "arrowwidth": 1
          },
          "autotypenumbers": "strict",
          "coloraxis": {
           "colorbar": {
            "outlinewidth": 0,
            "ticks": ""
           }
          },
          "colorscale": {
           "diverging": [
            [
             0,
             "#8e0152"
            ],
            [
             0.1,
             "#c51b7d"
            ],
            [
             0.2,
             "#de77ae"
            ],
            [
             0.3,
             "#f1b6da"
            ],
            [
             0.4,
             "#fde0ef"
            ],
            [
             0.5,
             "#f7f7f7"
            ],
            [
             0.6,
             "#e6f5d0"
            ],
            [
             0.7,
             "#b8e186"
            ],
            [
             0.8,
             "#7fbc41"
            ],
            [
             0.9,
             "#4d9221"
            ],
            [
             1,
             "#276419"
            ]
           ],
           "sequential": [
            [
             0,
             "#0d0887"
            ],
            [
             0.1111111111111111,
             "#46039f"
            ],
            [
             0.2222222222222222,
             "#7201a8"
            ],
            [
             0.3333333333333333,
             "#9c179e"
            ],
            [
             0.4444444444444444,
             "#bd3786"
            ],
            [
             0.5555555555555556,
             "#d8576b"
            ],
            [
             0.6666666666666666,
             "#ed7953"
            ],
            [
             0.7777777777777778,
             "#fb9f3a"
            ],
            [
             0.8888888888888888,
             "#fdca26"
            ],
            [
             1,
             "#f0f921"
            ]
           ],
           "sequentialminus": [
            [
             0,
             "#0d0887"
            ],
            [
             0.1111111111111111,
             "#46039f"
            ],
            [
             0.2222222222222222,
             "#7201a8"
            ],
            [
             0.3333333333333333,
             "#9c179e"
            ],
            [
             0.4444444444444444,
             "#bd3786"
            ],
            [
             0.5555555555555556,
             "#d8576b"
            ],
            [
             0.6666666666666666,
             "#ed7953"
            ],
            [
             0.7777777777777778,
             "#fb9f3a"
            ],
            [
             0.8888888888888888,
             "#fdca26"
            ],
            [
             1,
             "#f0f921"
            ]
           ]
          },
          "colorway": [
           "#636efa",
           "#EF553B",
           "#00cc96",
           "#ab63fa",
           "#FFA15A",
           "#19d3f3",
           "#FF6692",
           "#B6E880",
           "#FF97FF",
           "#FECB52"
          ],
          "font": {
           "color": "#2a3f5f"
          },
          "geo": {
           "bgcolor": "white",
           "lakecolor": "white",
           "landcolor": "#E5ECF6",
           "showlakes": true,
           "showland": true,
           "subunitcolor": "white"
          },
          "hoverlabel": {
           "align": "left"
          },
          "hovermode": "closest",
          "mapbox": {
           "style": "light"
          },
          "paper_bgcolor": "white",
          "plot_bgcolor": "#E5ECF6",
          "polar": {
           "angularaxis": {
            "gridcolor": "white",
            "linecolor": "white",
            "ticks": ""
           },
           "bgcolor": "#E5ECF6",
           "radialaxis": {
            "gridcolor": "white",
            "linecolor": "white",
            "ticks": ""
           }
          },
          "scene": {
           "xaxis": {
            "backgroundcolor": "#E5ECF6",
            "gridcolor": "white",
            "gridwidth": 2,
            "linecolor": "white",
            "showbackground": true,
            "ticks": "",
            "zerolinecolor": "white"
           },
           "yaxis": {
            "backgroundcolor": "#E5ECF6",
            "gridcolor": "white",
            "gridwidth": 2,
            "linecolor": "white",
            "showbackground": true,
            "ticks": "",
            "zerolinecolor": "white"
           },
           "zaxis": {
            "backgroundcolor": "#E5ECF6",
            "gridcolor": "white",
            "gridwidth": 2,
            "linecolor": "white",
            "showbackground": true,
            "ticks": "",
            "zerolinecolor": "white"
           }
          },
          "shapedefaults": {
           "line": {
            "color": "#2a3f5f"
           }
          },
          "ternary": {
           "aaxis": {
            "gridcolor": "white",
            "linecolor": "white",
            "ticks": ""
           },
           "baxis": {
            "gridcolor": "white",
            "linecolor": "white",
            "ticks": ""
           },
           "bgcolor": "#E5ECF6",
           "caxis": {
            "gridcolor": "white",
            "linecolor": "white",
            "ticks": ""
           }
          },
          "title": {
           "x": 0.05
          },
          "xaxis": {
           "automargin": true,
           "gridcolor": "white",
           "linecolor": "white",
           "ticks": "",
           "title": {
            "standoff": 15
           },
           "zerolinecolor": "white",
           "zerolinewidth": 2
          },
          "yaxis": {
           "automargin": true,
           "gridcolor": "white",
           "linecolor": "white",
           "ticks": "",
           "title": {
            "standoff": 15
           },
           "zerolinecolor": "white",
           "zerolinewidth": 2
          }
         }
        }
       }
      }
     },
     "metadata": {},
     "output_type": "display_data"
    }
   ],
   "source": [
    "fig = px.sunburst(\n",
    "    data_zone_counts[0:20],\n",
    "    path=[\"PUBorough\",\"PUZone\"],\n",
    "    values='count',\n",
    ")\n",
    "fig.show()"
   ]
  },
  {
   "cell_type": "markdown",
   "metadata": {},
   "source": [
    "## Días de la semana con más viajes"
   ]
  },
  {
   "cell_type": "code",
   "execution_count": 319,
   "metadata": {},
   "outputs": [
    {
     "data": {
      "text/html": [
       "<div>\n",
       "<style scoped>\n",
       "    .dataframe tbody tr th:only-of-type {\n",
       "        vertical-align: middle;\n",
       "    }\n",
       "\n",
       "    .dataframe tbody tr th {\n",
       "        vertical-align: top;\n",
       "    }\n",
       "\n",
       "    .dataframe thead th {\n",
       "        text-align: right;\n",
       "    }\n",
       "</style>\n",
       "<table border=\"1\" class=\"dataframe\">\n",
       "  <thead>\n",
       "    <tr style=\"text-align: right;\">\n",
       "      <th></th>\n",
       "      <th>VendorID</th>\n",
       "      <th>tpep_pickup_datetime</th>\n",
       "      <th>tpep_dropoff_datetime</th>\n",
       "      <th>passenger_count</th>\n",
       "      <th>trip_distance</th>\n",
       "      <th>RatecodeID</th>\n",
       "      <th>store_and_fwd_flag</th>\n",
       "      <th>PULocationID</th>\n",
       "      <th>DOLocationID</th>\n",
       "      <th>payment_type</th>\n",
       "      <th>fare_amount</th>\n",
       "      <th>extra</th>\n",
       "      <th>mta_tax</th>\n",
       "      <th>tip_amount</th>\n",
       "      <th>tolls_amount</th>\n",
       "      <th>improvement_surcharge</th>\n",
       "      <th>total_amount</th>\n",
       "      <th>congestion_surcharge</th>\n",
       "      <th>Tiempo_Viaje_s</th>\n",
       "    </tr>\n",
       "  </thead>\n",
       "  <tbody>\n",
       "    <tr>\n",
       "      <th>0</th>\n",
       "      <td>1</td>\n",
       "      <td>2018-01-01 00:21:05</td>\n",
       "      <td>2018-01-01 00:24:23</td>\n",
       "      <td>1</td>\n",
       "      <td>0.5</td>\n",
       "      <td>1</td>\n",
       "      <td>N</td>\n",
       "      <td>41</td>\n",
       "      <td>24</td>\n",
       "      <td>2</td>\n",
       "      <td>4.5</td>\n",
       "      <td>0.5</td>\n",
       "      <td>0.5</td>\n",
       "      <td>0.00</td>\n",
       "      <td>0.0</td>\n",
       "      <td>0.3</td>\n",
       "      <td>5.80</td>\n",
       "      <td>0.0</td>\n",
       "      <td>198.0</td>\n",
       "    </tr>\n",
       "    <tr>\n",
       "      <th>1</th>\n",
       "      <td>1</td>\n",
       "      <td>2018-01-01 00:44:55</td>\n",
       "      <td>2018-01-01 01:03:05</td>\n",
       "      <td>1</td>\n",
       "      <td>2.7</td>\n",
       "      <td>1</td>\n",
       "      <td>N</td>\n",
       "      <td>239</td>\n",
       "      <td>140</td>\n",
       "      <td>2</td>\n",
       "      <td>14.0</td>\n",
       "      <td>0.5</td>\n",
       "      <td>0.5</td>\n",
       "      <td>0.00</td>\n",
       "      <td>0.0</td>\n",
       "      <td>0.3</td>\n",
       "      <td>15.30</td>\n",
       "      <td>0.0</td>\n",
       "      <td>1090.0</td>\n",
       "    </tr>\n",
       "    <tr>\n",
       "      <th>2</th>\n",
       "      <td>1</td>\n",
       "      <td>2018-01-01 00:08:26</td>\n",
       "      <td>2018-01-01 00:14:21</td>\n",
       "      <td>2</td>\n",
       "      <td>0.8</td>\n",
       "      <td>1</td>\n",
       "      <td>N</td>\n",
       "      <td>262</td>\n",
       "      <td>141</td>\n",
       "      <td>1</td>\n",
       "      <td>6.0</td>\n",
       "      <td>0.5</td>\n",
       "      <td>0.5</td>\n",
       "      <td>1.00</td>\n",
       "      <td>0.0</td>\n",
       "      <td>0.3</td>\n",
       "      <td>8.30</td>\n",
       "      <td>0.0</td>\n",
       "      <td>355.0</td>\n",
       "    </tr>\n",
       "    <tr>\n",
       "      <th>3</th>\n",
       "      <td>1</td>\n",
       "      <td>2018-01-01 00:20:22</td>\n",
       "      <td>2018-01-01 00:52:51</td>\n",
       "      <td>1</td>\n",
       "      <td>10.2</td>\n",
       "      <td>1</td>\n",
       "      <td>N</td>\n",
       "      <td>140</td>\n",
       "      <td>257</td>\n",
       "      <td>2</td>\n",
       "      <td>33.5</td>\n",
       "      <td>0.5</td>\n",
       "      <td>0.5</td>\n",
       "      <td>0.00</td>\n",
       "      <td>0.0</td>\n",
       "      <td>0.3</td>\n",
       "      <td>34.80</td>\n",
       "      <td>0.0</td>\n",
       "      <td>1949.0</td>\n",
       "    </tr>\n",
       "    <tr>\n",
       "      <th>4</th>\n",
       "      <td>1</td>\n",
       "      <td>2018-01-01 00:09:18</td>\n",
       "      <td>2018-01-01 00:27:06</td>\n",
       "      <td>2</td>\n",
       "      <td>2.5</td>\n",
       "      <td>1</td>\n",
       "      <td>N</td>\n",
       "      <td>246</td>\n",
       "      <td>239</td>\n",
       "      <td>1</td>\n",
       "      <td>12.5</td>\n",
       "      <td>0.5</td>\n",
       "      <td>0.5</td>\n",
       "      <td>2.75</td>\n",
       "      <td>0.0</td>\n",
       "      <td>0.3</td>\n",
       "      <td>16.55</td>\n",
       "      <td>0.0</td>\n",
       "      <td>1068.0</td>\n",
       "    </tr>\n",
       "  </tbody>\n",
       "</table>\n",
       "</div>"
      ],
      "text/plain": [
       "   VendorID tpep_pickup_datetime tpep_dropoff_datetime  passenger_count  \\\n",
       "0         1  2018-01-01 00:21:05   2018-01-01 00:24:23                1   \n",
       "1         1  2018-01-01 00:44:55   2018-01-01 01:03:05                1   \n",
       "2         1  2018-01-01 00:08:26   2018-01-01 00:14:21                2   \n",
       "3         1  2018-01-01 00:20:22   2018-01-01 00:52:51                1   \n",
       "4         1  2018-01-01 00:09:18   2018-01-01 00:27:06                2   \n",
       "\n",
       "   trip_distance  RatecodeID store_and_fwd_flag  PULocationID  DOLocationID  \\\n",
       "0            0.5           1                  N            41            24   \n",
       "1            2.7           1                  N           239           140   \n",
       "2            0.8           1                  N           262           141   \n",
       "3           10.2           1                  N           140           257   \n",
       "4            2.5           1                  N           246           239   \n",
       "\n",
       "   payment_type  fare_amount  extra  mta_tax  tip_amount  tolls_amount  \\\n",
       "0             2          4.5    0.5      0.5        0.00           0.0   \n",
       "1             2         14.0    0.5      0.5        0.00           0.0   \n",
       "2             1          6.0    0.5      0.5        1.00           0.0   \n",
       "3             2         33.5    0.5      0.5        0.00           0.0   \n",
       "4             1         12.5    0.5      0.5        2.75           0.0   \n",
       "\n",
       "   improvement_surcharge  total_amount  congestion_surcharge  Tiempo_Viaje_s  \n",
       "0                    0.3          5.80                   0.0           198.0  \n",
       "1                    0.3         15.30                   0.0          1090.0  \n",
       "2                    0.3          8.30                   0.0           355.0  \n",
       "3                    0.3         34.80                   0.0          1949.0  \n",
       "4                    0.3         16.55                   0.0          1068.0  "
      ]
     },
     "execution_count": 319,
     "metadata": {},
     "output_type": "execute_result"
    }
   ],
   "source": [
    "data.head()"
   ]
  },
  {
   "cell_type": "code",
   "execution_count": 320,
   "metadata": {},
   "outputs": [],
   "source": [
    "dayofweek=data[\"tpep_pickup_datetime\"].dt.dayofweek.rename(\"Day\")\n",
    "gby_dayofweek=data.groupby(dayofweek)"
   ]
  },
  {
   "cell_type": "code",
   "execution_count": 321,
   "metadata": {},
   "outputs": [],
   "source": [
    "dayofweek_counts=gby_dayofweek[\"trip_distance\"].count().rename(\"trips_count\").sort_values(ascending=False)\n",
    "dayofweek_counts=dayofweek_counts.reset_index()\n",
    "dayofweek_counts[\"Day_name\"]=dayofweek_counts[\"Day\"].map({0:\"Lunes\",1:\"Martes\",2:\"Miercoles\",3:\"Jueves\",4:\"Viernes\",5:\"Sabado\",6:\"Domingo\"})"
   ]
  },
  {
   "cell_type": "code",
   "execution_count": 322,
   "metadata": {},
   "outputs": [
    {
     "data": {
      "application/vnd.plotly.v1+json": {
       "config": {
        "plotlyServerURL": "https://plot.ly"
       },
       "data": [
        {
         "alignmentgroup": "True",
         "hovertemplate": "Día=%{x}<br>Cantidad de viajes=%{y}<extra></extra>",
         "legendgroup": "",
         "marker": {
          "color": "#636efa",
          "pattern": {
           "shape": ""
          }
         },
         "name": "",
         "offsetgroup": "",
         "orientation": "v",
         "showlegend": false,
         "textposition": "auto",
         "type": "bar",
         "x": [
          "Miercoles",
          "Martes",
          "Lunes",
          "Viernes",
          "Sabado",
          "Jueves",
          "Domingo"
         ],
         "xaxis": "x",
         "y": [
          1497106,
          1409047,
          1272211,
          1243954,
          1207731,
          1089978,
          1040660
         ],
         "yaxis": "y"
        }
       ],
       "layout": {
        "barmode": "relative",
        "legend": {
         "tracegroupgap": 0
        },
        "template": {
         "data": {
          "bar": [
           {
            "error_x": {
             "color": "#2a3f5f"
            },
            "error_y": {
             "color": "#2a3f5f"
            },
            "marker": {
             "line": {
              "color": "#E5ECF6",
              "width": 0.5
             },
             "pattern": {
              "fillmode": "overlay",
              "size": 10,
              "solidity": 0.2
             }
            },
            "type": "bar"
           }
          ],
          "barpolar": [
           {
            "marker": {
             "line": {
              "color": "#E5ECF6",
              "width": 0.5
             },
             "pattern": {
              "fillmode": "overlay",
              "size": 10,
              "solidity": 0.2
             }
            },
            "type": "barpolar"
           }
          ],
          "carpet": [
           {
            "aaxis": {
             "endlinecolor": "#2a3f5f",
             "gridcolor": "white",
             "linecolor": "white",
             "minorgridcolor": "white",
             "startlinecolor": "#2a3f5f"
            },
            "baxis": {
             "endlinecolor": "#2a3f5f",
             "gridcolor": "white",
             "linecolor": "white",
             "minorgridcolor": "white",
             "startlinecolor": "#2a3f5f"
            },
            "type": "carpet"
           }
          ],
          "choropleth": [
           {
            "colorbar": {
             "outlinewidth": 0,
             "ticks": ""
            },
            "type": "choropleth"
           }
          ],
          "contour": [
           {
            "colorbar": {
             "outlinewidth": 0,
             "ticks": ""
            },
            "colorscale": [
             [
              0,
              "#0d0887"
             ],
             [
              0.1111111111111111,
              "#46039f"
             ],
             [
              0.2222222222222222,
              "#7201a8"
             ],
             [
              0.3333333333333333,
              "#9c179e"
             ],
             [
              0.4444444444444444,
              "#bd3786"
             ],
             [
              0.5555555555555556,
              "#d8576b"
             ],
             [
              0.6666666666666666,
              "#ed7953"
             ],
             [
              0.7777777777777778,
              "#fb9f3a"
             ],
             [
              0.8888888888888888,
              "#fdca26"
             ],
             [
              1,
              "#f0f921"
             ]
            ],
            "type": "contour"
           }
          ],
          "contourcarpet": [
           {
            "colorbar": {
             "outlinewidth": 0,
             "ticks": ""
            },
            "type": "contourcarpet"
           }
          ],
          "heatmap": [
           {
            "colorbar": {
             "outlinewidth": 0,
             "ticks": ""
            },
            "colorscale": [
             [
              0,
              "#0d0887"
             ],
             [
              0.1111111111111111,
              "#46039f"
             ],
             [
              0.2222222222222222,
              "#7201a8"
             ],
             [
              0.3333333333333333,
              "#9c179e"
             ],
             [
              0.4444444444444444,
              "#bd3786"
             ],
             [
              0.5555555555555556,
              "#d8576b"
             ],
             [
              0.6666666666666666,
              "#ed7953"
             ],
             [
              0.7777777777777778,
              "#fb9f3a"
             ],
             [
              0.8888888888888888,
              "#fdca26"
             ],
             [
              1,
              "#f0f921"
             ]
            ],
            "type": "heatmap"
           }
          ],
          "heatmapgl": [
           {
            "colorbar": {
             "outlinewidth": 0,
             "ticks": ""
            },
            "colorscale": [
             [
              0,
              "#0d0887"
             ],
             [
              0.1111111111111111,
              "#46039f"
             ],
             [
              0.2222222222222222,
              "#7201a8"
             ],
             [
              0.3333333333333333,
              "#9c179e"
             ],
             [
              0.4444444444444444,
              "#bd3786"
             ],
             [
              0.5555555555555556,
              "#d8576b"
             ],
             [
              0.6666666666666666,
              "#ed7953"
             ],
             [
              0.7777777777777778,
              "#fb9f3a"
             ],
             [
              0.8888888888888888,
              "#fdca26"
             ],
             [
              1,
              "#f0f921"
             ]
            ],
            "type": "heatmapgl"
           }
          ],
          "histogram": [
           {
            "marker": {
             "pattern": {
              "fillmode": "overlay",
              "size": 10,
              "solidity": 0.2
             }
            },
            "type": "histogram"
           }
          ],
          "histogram2d": [
           {
            "colorbar": {
             "outlinewidth": 0,
             "ticks": ""
            },
            "colorscale": [
             [
              0,
              "#0d0887"
             ],
             [
              0.1111111111111111,
              "#46039f"
             ],
             [
              0.2222222222222222,
              "#7201a8"
             ],
             [
              0.3333333333333333,
              "#9c179e"
             ],
             [
              0.4444444444444444,
              "#bd3786"
             ],
             [
              0.5555555555555556,
              "#d8576b"
             ],
             [
              0.6666666666666666,
              "#ed7953"
             ],
             [
              0.7777777777777778,
              "#fb9f3a"
             ],
             [
              0.8888888888888888,
              "#fdca26"
             ],
             [
              1,
              "#f0f921"
             ]
            ],
            "type": "histogram2d"
           }
          ],
          "histogram2dcontour": [
           {
            "colorbar": {
             "outlinewidth": 0,
             "ticks": ""
            },
            "colorscale": [
             [
              0,
              "#0d0887"
             ],
             [
              0.1111111111111111,
              "#46039f"
             ],
             [
              0.2222222222222222,
              "#7201a8"
             ],
             [
              0.3333333333333333,
              "#9c179e"
             ],
             [
              0.4444444444444444,
              "#bd3786"
             ],
             [
              0.5555555555555556,
              "#d8576b"
             ],
             [
              0.6666666666666666,
              "#ed7953"
             ],
             [
              0.7777777777777778,
              "#fb9f3a"
             ],
             [
              0.8888888888888888,
              "#fdca26"
             ],
             [
              1,
              "#f0f921"
             ]
            ],
            "type": "histogram2dcontour"
           }
          ],
          "mesh3d": [
           {
            "colorbar": {
             "outlinewidth": 0,
             "ticks": ""
            },
            "type": "mesh3d"
           }
          ],
          "parcoords": [
           {
            "line": {
             "colorbar": {
              "outlinewidth": 0,
              "ticks": ""
             }
            },
            "type": "parcoords"
           }
          ],
          "pie": [
           {
            "automargin": true,
            "type": "pie"
           }
          ],
          "scatter": [
           {
            "marker": {
             "colorbar": {
              "outlinewidth": 0,
              "ticks": ""
             }
            },
            "type": "scatter"
           }
          ],
          "scatter3d": [
           {
            "line": {
             "colorbar": {
              "outlinewidth": 0,
              "ticks": ""
             }
            },
            "marker": {
             "colorbar": {
              "outlinewidth": 0,
              "ticks": ""
             }
            },
            "type": "scatter3d"
           }
          ],
          "scattercarpet": [
           {
            "marker": {
             "colorbar": {
              "outlinewidth": 0,
              "ticks": ""
             }
            },
            "type": "scattercarpet"
           }
          ],
          "scattergeo": [
           {
            "marker": {
             "colorbar": {
              "outlinewidth": 0,
              "ticks": ""
             }
            },
            "type": "scattergeo"
           }
          ],
          "scattergl": [
           {
            "marker": {
             "colorbar": {
              "outlinewidth": 0,
              "ticks": ""
             }
            },
            "type": "scattergl"
           }
          ],
          "scattermapbox": [
           {
            "marker": {
             "colorbar": {
              "outlinewidth": 0,
              "ticks": ""
             }
            },
            "type": "scattermapbox"
           }
          ],
          "scatterpolar": [
           {
            "marker": {
             "colorbar": {
              "outlinewidth": 0,
              "ticks": ""
             }
            },
            "type": "scatterpolar"
           }
          ],
          "scatterpolargl": [
           {
            "marker": {
             "colorbar": {
              "outlinewidth": 0,
              "ticks": ""
             }
            },
            "type": "scatterpolargl"
           }
          ],
          "scatterternary": [
           {
            "marker": {
             "colorbar": {
              "outlinewidth": 0,
              "ticks": ""
             }
            },
            "type": "scatterternary"
           }
          ],
          "surface": [
           {
            "colorbar": {
             "outlinewidth": 0,
             "ticks": ""
            },
            "colorscale": [
             [
              0,
              "#0d0887"
             ],
             [
              0.1111111111111111,
              "#46039f"
             ],
             [
              0.2222222222222222,
              "#7201a8"
             ],
             [
              0.3333333333333333,
              "#9c179e"
             ],
             [
              0.4444444444444444,
              "#bd3786"
             ],
             [
              0.5555555555555556,
              "#d8576b"
             ],
             [
              0.6666666666666666,
              "#ed7953"
             ],
             [
              0.7777777777777778,
              "#fb9f3a"
             ],
             [
              0.8888888888888888,
              "#fdca26"
             ],
             [
              1,
              "#f0f921"
             ]
            ],
            "type": "surface"
           }
          ],
          "table": [
           {
            "cells": {
             "fill": {
              "color": "#EBF0F8"
             },
             "line": {
              "color": "white"
             }
            },
            "header": {
             "fill": {
              "color": "#C8D4E3"
             },
             "line": {
              "color": "white"
             }
            },
            "type": "table"
           }
          ]
         },
         "layout": {
          "annotationdefaults": {
           "arrowcolor": "#2a3f5f",
           "arrowhead": 0,
           "arrowwidth": 1
          },
          "autotypenumbers": "strict",
          "coloraxis": {
           "colorbar": {
            "outlinewidth": 0,
            "ticks": ""
           }
          },
          "colorscale": {
           "diverging": [
            [
             0,
             "#8e0152"
            ],
            [
             0.1,
             "#c51b7d"
            ],
            [
             0.2,
             "#de77ae"
            ],
            [
             0.3,
             "#f1b6da"
            ],
            [
             0.4,
             "#fde0ef"
            ],
            [
             0.5,
             "#f7f7f7"
            ],
            [
             0.6,
             "#e6f5d0"
            ],
            [
             0.7,
             "#b8e186"
            ],
            [
             0.8,
             "#7fbc41"
            ],
            [
             0.9,
             "#4d9221"
            ],
            [
             1,
             "#276419"
            ]
           ],
           "sequential": [
            [
             0,
             "#0d0887"
            ],
            [
             0.1111111111111111,
             "#46039f"
            ],
            [
             0.2222222222222222,
             "#7201a8"
            ],
            [
             0.3333333333333333,
             "#9c179e"
            ],
            [
             0.4444444444444444,
             "#bd3786"
            ],
            [
             0.5555555555555556,
             "#d8576b"
            ],
            [
             0.6666666666666666,
             "#ed7953"
            ],
            [
             0.7777777777777778,
             "#fb9f3a"
            ],
            [
             0.8888888888888888,
             "#fdca26"
            ],
            [
             1,
             "#f0f921"
            ]
           ],
           "sequentialminus": [
            [
             0,
             "#0d0887"
            ],
            [
             0.1111111111111111,
             "#46039f"
            ],
            [
             0.2222222222222222,
             "#7201a8"
            ],
            [
             0.3333333333333333,
             "#9c179e"
            ],
            [
             0.4444444444444444,
             "#bd3786"
            ],
            [
             0.5555555555555556,
             "#d8576b"
            ],
            [
             0.6666666666666666,
             "#ed7953"
            ],
            [
             0.7777777777777778,
             "#fb9f3a"
            ],
            [
             0.8888888888888888,
             "#fdca26"
            ],
            [
             1,
             "#f0f921"
            ]
           ]
          },
          "colorway": [
           "#636efa",
           "#EF553B",
           "#00cc96",
           "#ab63fa",
           "#FFA15A",
           "#19d3f3",
           "#FF6692",
           "#B6E880",
           "#FF97FF",
           "#FECB52"
          ],
          "font": {
           "color": "#2a3f5f"
          },
          "geo": {
           "bgcolor": "white",
           "lakecolor": "white",
           "landcolor": "#E5ECF6",
           "showlakes": true,
           "showland": true,
           "subunitcolor": "white"
          },
          "hoverlabel": {
           "align": "left"
          },
          "hovermode": "closest",
          "mapbox": {
           "style": "light"
          },
          "paper_bgcolor": "white",
          "plot_bgcolor": "#E5ECF6",
          "polar": {
           "angularaxis": {
            "gridcolor": "white",
            "linecolor": "white",
            "ticks": ""
           },
           "bgcolor": "#E5ECF6",
           "radialaxis": {
            "gridcolor": "white",
            "linecolor": "white",
            "ticks": ""
           }
          },
          "scene": {
           "xaxis": {
            "backgroundcolor": "#E5ECF6",
            "gridcolor": "white",
            "gridwidth": 2,
            "linecolor": "white",
            "showbackground": true,
            "ticks": "",
            "zerolinecolor": "white"
           },
           "yaxis": {
            "backgroundcolor": "#E5ECF6",
            "gridcolor": "white",
            "gridwidth": 2,
            "linecolor": "white",
            "showbackground": true,
            "ticks": "",
            "zerolinecolor": "white"
           },
           "zaxis": {
            "backgroundcolor": "#E5ECF6",
            "gridcolor": "white",
            "gridwidth": 2,
            "linecolor": "white",
            "showbackground": true,
            "ticks": "",
            "zerolinecolor": "white"
           }
          },
          "shapedefaults": {
           "line": {
            "color": "#2a3f5f"
           }
          },
          "ternary": {
           "aaxis": {
            "gridcolor": "white",
            "linecolor": "white",
            "ticks": ""
           },
           "baxis": {
            "gridcolor": "white",
            "linecolor": "white",
            "ticks": ""
           },
           "bgcolor": "#E5ECF6",
           "caxis": {
            "gridcolor": "white",
            "linecolor": "white",
            "ticks": ""
           }
          },
          "title": {
           "x": 0.05
          },
          "xaxis": {
           "automargin": true,
           "gridcolor": "white",
           "linecolor": "white",
           "ticks": "",
           "title": {
            "standoff": 15
           },
           "zerolinecolor": "white",
           "zerolinewidth": 2
          },
          "yaxis": {
           "automargin": true,
           "gridcolor": "white",
           "linecolor": "white",
           "ticks": "",
           "title": {
            "standoff": 15
           },
           "zerolinecolor": "white",
           "zerolinewidth": 2
          }
         }
        },
        "title": {
         "text": "Cantidad de viajes por Día de la semana"
        },
        "xaxis": {
         "anchor": "y",
         "domain": [
          0,
          1
         ],
         "title": {
          "text": "Día"
         }
        },
        "yaxis": {
         "anchor": "x",
         "domain": [
          0,
          1
         ],
         "title": {
          "text": "Cantidad de viajes"
         }
        }
       }
      }
     },
     "metadata": {},
     "output_type": "display_data"
    }
   ],
   "source": [
    "fig = px.bar(dayofweek_counts,x=\"Day_name\",y=\"trips_count\",\n",
    "            labels={'Day_name':'Día', 'trips_count':'Cantidad de viajes'}, title='Cantidad de viajes por Día de la semana')\n",
    "fig.show() "
   ]
  },
  {
   "cell_type": "code",
   "execution_count": null,
   "metadata": {},
   "outputs": [],
   "source": []
  }
 ],
 "metadata": {
  "kernelspec": {
   "display_name": "Python 3.9.7 ('base')",
   "language": "python",
   "name": "python3"
  },
  "language_info": {
   "codemirror_mode": {
    "name": "ipython",
    "version": 3
   },
   "file_extension": ".py",
   "mimetype": "text/x-python",
   "name": "python",
   "nbconvert_exporter": "python",
   "pygments_lexer": "ipython3",
   "version": "3.9.7"
  },
  "orig_nbformat": 4,
  "vscode": {
   "interpreter": {
    "hash": "d769fb3200fc277f8ee95a9cc724831c284e91c864b33f0c557335d16a82712c"
   }
  }
 },
 "nbformat": 4,
 "nbformat_minor": 2
}
