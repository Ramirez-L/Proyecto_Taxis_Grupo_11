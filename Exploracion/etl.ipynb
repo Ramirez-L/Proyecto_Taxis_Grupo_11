{
 "cells": [
  {
   "cell_type": "code",
   "execution_count": 1,
   "metadata": {},
   "outputs": [],
   "source": [
    "from pyspark.sql import SparkSession\n",
    "from pyspark.sql.types import StructType, StructField, StringType, DateType, DecimalType, IntegerType\n",
    "\n",
    "# Build SparkSession\n",
    "#spark = SparkSession.builder.master(\"local[*]\").appName(\"ETL Pipeline\").getOrCreate()\n",
    "\n",
    "# Set Logging Level to WARN\n",
    "#spark.sparkContext.setLogLevel(\"WARN\")"
   ]
  },
  {
   "cell_type": "code",
   "execution_count": 12,
   "metadata": {},
   "outputs": [],
   "source": [
    "spark = SparkSession.builder.appName('taxis').getOrCreate()\n",
    "df=spark.read.option(\"header\", \"true\").csv(\"../Data/Taxis.csv\")"
   ]
  },
  {
   "cell_type": "code",
   "execution_count": 16,
   "metadata": {},
   "outputs": [
    {
     "name": "stderr",
     "output_type": "stream",
     "text": [
      "[Stage 15:===========================================>              (3 + 1) / 4]\r"
     ]
    },
    {
     "name": "stdout",
     "output_type": "stream",
     "text": [
      "+---------+--------------------+\n",
      "|Id_Vendor|         Vendor_Name|\n",
      "+---------+--------------------+\n",
      "|        1|Creative Mobiles ...|\n",
      "|        2|       VeriFone Inc.|\n",
      "+---------+--------------------+\n",
      "\n"
     ]
    },
    {
     "name": "stderr",
     "output_type": "stream",
     "text": [
      "                                                                                \r"
     ]
    }
   ],
   "source": [
    "Vendor_columns=[\"Id_Vendor\",\"Vendor_Name\"]\n",
    "Vendor=[(1,\"Creative Mobiles Technologies\"),(2,\"VeriFone Inc.\")]\n",
    "df_vendor=spark.createDataFrame(Vendor,Vendor_columns)\n",
    "df_vendor.show()"
   ]
  },
  {
   "cell_type": "code",
   "execution_count": 19,
   "metadata": {},
   "outputs": [
    {
     "name": "stdout",
     "output_type": "stream",
     "text": [
      "+-------+--------------------+\n",
      "|Id_Rate|           Rate_Name|\n",
      "+-------+--------------------+\n",
      "|      1|       Standard rate|\n",
      "|      2|                 JFK|\n",
      "|      3|              Newark|\n",
      "|      4|Nassau or Westche...|\n",
      "|      5|     Negotiated fare|\n",
      "|      6|          Group ride|\n",
      "+-------+--------------------+\n",
      "\n"
     ]
    }
   ],
   "source": [
    "Rate_columns=['Id_Rate', 'Rate_Name']\n",
    "Rate=[\n",
    "    (1,\"Standard rate\"),\n",
    "    (2,\"JFK\"),\n",
    "    (3,\"Newark\"),\n",
    "    (4,\"Nassau or Westchester\"),\n",
    "    (5,\"Negotiated fare\"),\n",
    "    (6,\"Group ride\")]\n",
    "\n",
    "df_rate=spark.createDataFrame(Rate,Rate_columns)\n",
    "df_rate.show()"
   ]
  },
  {
   "cell_type": "code",
   "execution_count": null,
   "metadata": {},
   "outputs": [],
   "source": []
  }
 ],
 "metadata": {
  "kernelspec": {
   "display_name": "Python 3.8.10 64-bit",
   "language": "python",
   "name": "python3"
  },
  "language_info": {
   "codemirror_mode": {
    "name": "ipython",
    "version": 3
   },
   "file_extension": ".py",
   "mimetype": "text/x-python",
   "name": "python",
   "nbconvert_exporter": "python",
   "pygments_lexer": "ipython3",
   "version": "3.8.10"
  },
  "orig_nbformat": 4,
  "vscode": {
   "interpreter": {
    "hash": "916dbcbb3f70747c44a77c7bcd40155683ae19c65e1c03b4aa3499c5328201f1"
   }
  }
 },
 "nbformat": 4,
 "nbformat_minor": 2
}
